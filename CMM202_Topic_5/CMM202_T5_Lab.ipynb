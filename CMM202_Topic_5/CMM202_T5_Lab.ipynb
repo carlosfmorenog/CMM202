{
  "cells": [
    {
      "cell_type": "markdown",
      "metadata": {
        "id": "view-in-github",
        "colab_type": "text"
      },
      "source": [
        "<a href=\"https://colab.research.google.com/github/carlosfmorenog/CMM202/blob/master/CMM202_Topic_5/CMM202_T5_Lab.ipynb\" target=\"_parent\"><img src=\"https://colab.research.google.com/assets/colab-badge.svg\" alt=\"Open In Colab\"/></a>"
      ]
    },
    {
      "cell_type": "markdown",
      "metadata": {
        "id": "gOhK29-sooTO"
      },
      "source": [
        "# CMM202 Topic 5 Lab"
      ]
    },
    {
      "cell_type": "code",
      "execution_count": null,
      "metadata": {
        "id": "Q09y-G36ooTT"
      },
      "outputs": [],
      "source": [
        "import pandas as pd"
      ]
    },
    {
      "cell_type": "markdown",
      "metadata": {
        "id": "19TO5dt9ooTu"
      },
      "source": [
        "## Part 1: Melting"
      ]
    },
    {
      "cell_type": "markdown",
      "metadata": {
        "id": "nCwvM6DQooT1"
      },
      "source": [
        "Load the datasets `treatment1.csv` and `treatment2.csv` into variables `treatment1` and `treatment2`"
      ]
    },
    {
      "cell_type": "markdown",
      "metadata": {
        "id": "455zermwooUA"
      },
      "source": [
        "On both cases, use `index_col=0`"
      ]
    },
    {
      "cell_type": "code",
      "execution_count": null,
      "metadata": {
        "id": "jVpZ6h06ooUD"
      },
      "outputs": [],
      "source": [
        "url = 'https://www.dropbox.com/s/2jwaazsff3o2wv7/treatment1.csv?raw=1'\n",
        "# Your code here"
      ]
    },
    {
      "cell_type": "code",
      "execution_count": null,
      "metadata": {
        "id": "GmTesvoeooUV"
      },
      "outputs": [],
      "source": [
        "url = 'https://www.dropbox.com/s/e0g6ocqbdb73czu/treatment2.csv?raw=1'\n",
        "# Your code here"
      ]
    },
    {
      "cell_type": "markdown",
      "metadata": {
        "id": "QuVD-afNooUg"
      },
      "source": [
        "**Q. What do you notice is the same between these two datasets?**"
      ]
    },
    {
      "cell_type": "markdown",
      "metadata": {
        "id": "zoxqSUuBooUi"
      },
      "source": [
        "Answer:"
      ]
    },
    {
      "cell_type": "markdown",
      "metadata": {
        "id": "a8Cg59PJooUk"
      },
      "source": [
        "**Q. How many observations are there in these datasets?**"
      ]
    },
    {
      "cell_type": "markdown",
      "metadata": {
        "id": "LIZWDj66ooUl"
      },
      "source": [
        "Answer:"
      ]
    },
    {
      "cell_type": "markdown",
      "metadata": {
        "id": "BjWlR4gnooUn"
      },
      "source": [
        "Reset the index on `treatment1` so that it now has default indexing, keeping the old index as a column called `patient`"
      ]
    },
    {
      "cell_type": "code",
      "execution_count": null,
      "metadata": {
        "id": "ZpbJ5lP1ooUr"
      },
      "outputs": [],
      "source": [
        "# Your code here"
      ]
    },
    {
      "cell_type": "markdown",
      "metadata": {
        "id": "joYX3TaoooU1"
      },
      "source": [
        "Melt the `treatment1` dataset, and remove the null entry"
      ]
    },
    {
      "cell_type": "markdown",
      "metadata": {
        "id": "UvPCrpaBooU2"
      },
      "source": [
        "Make sure you have a table which looks like this (check column headings and data types):\n",
        "\n",
        "|    | patient      | treatment  | reading |\n",
        "| -: | :----------- | :--------- | ------: |\n",
        "|  0 | Jane Doe     | treatmenta |      16 |\n",
        "|  1 | Mary Johnson | treatmenta |       3 |\n",
        "|  2 | John Smith   | treatmentb |       2 |\n",
        "|  3 | Jane Doe     | treatmentb |      11 |\n",
        "|  4 | Mary Johnson | treatmentb |       1 |"
      ]
    },
    {
      "cell_type": "code",
      "execution_count": null,
      "metadata": {
        "id": "vr2KXrIzooU4"
      },
      "outputs": [],
      "source": [
        "# Your code here"
      ]
    },
    {
      "cell_type": "markdown",
      "metadata": {
        "id": "0AA1MWMCooU_"
      },
      "source": [
        "**Q. If we had done the same transformation to `treatment2`, how would the result differ?**"
      ]
    },
    {
      "cell_type": "markdown",
      "metadata": {
        "id": "1lT3aP7tooVA"
      },
      "source": [
        "Answer:"
      ]
    },
    {
      "cell_type": "markdown",
      "metadata": {
        "id": "QWvSwSYmooVC"
      },
      "source": [
        "## Part 2: Pivoting"
      ]
    },
    {
      "cell_type": "markdown",
      "metadata": {
        "id": "33vWQo8jooVC"
      },
      "source": [
        "The `gdp.csv` dataset shows the gross domestic product (GDP) of counties over time"
      ]
    },
    {
      "cell_type": "markdown",
      "metadata": {
        "id": "yHoiGcMjooVD"
      },
      "source": [
        "Load this dataset, use default indexing"
      ]
    },
    {
      "cell_type": "code",
      "execution_count": null,
      "metadata": {
        "id": "Z4QhmSe0ooVF"
      },
      "outputs": [],
      "source": [
        "url = 'https://www.dropbox.com/s/hzj430f7b0s094y/gdp.csv?raw=1'\n",
        "# Your code here"
      ]
    },
    {
      "cell_type": "markdown",
      "metadata": {
        "id": "FpB__p82ooVO"
      },
      "source": [
        "Note that this is a very wide data set with 65 columns"
      ]
    },
    {
      "cell_type": "markdown",
      "metadata": {
        "id": "ETLswIpCooVR"
      },
      "source": [
        "The year of the data is stored in each column"
      ]
    },
    {
      "cell_type": "markdown",
      "metadata": {
        "id": "q-xxz2Y6ooVS"
      },
      "source": [
        "Where data is unavailable for the year and country, the entry is missing (`NaN`)"
      ]
    },
    {
      "cell_type": "markdown",
      "metadata": {
        "id": "Mn2v1J1vooVU"
      },
      "source": [
        "For this exercise, we don't need `'Country Code'`, `'Indicator Name'`, `'Indicator Code'`, or the unnamed column `'Unnamed: 64'`"
      ]
    },
    {
      "cell_type": "markdown",
      "metadata": {
        "id": "KLn6e-hdooVW"
      },
      "source": [
        "Remove these from the dataset, so that only the GDP are shown"
      ]
    },
    {
      "cell_type": "markdown",
      "metadata": {
        "id": "_ElEvU5CooVc"
      },
      "source": [
        "We only need to keep `'Country name'` and the year-numbered columns"
      ]
    },
    {
      "cell_type": "code",
      "execution_count": null,
      "metadata": {
        "id": "yUK__cGSooVf"
      },
      "outputs": [],
      "source": [
        "# Your code here"
      ]
    },
    {
      "cell_type": "markdown",
      "metadata": {
        "id": "_j6616ByooVo"
      },
      "source": [
        "Convert the data set to long format with columns `'Country Name'`, `'Year'`, and `'GDP'`"
      ]
    },
    {
      "cell_type": "markdown",
      "metadata": {
        "id": "kxMhaDPqooVo"
      },
      "source": [
        "Here is an example of the first three rows of the data\n",
        "\n",
        "|    | Country Name | Year |          GDP |\n",
        "| -: | :----------- | ---: | -----------: |\n",
        "| 0  | Aruba        | 1960 |          NaN |\n",
        "| 1  | Afghanistan  | 1960 | 5.377778e+08 |\n",
        "| 2  | Angola       | 1960 |          NaN |"
      ]
    },
    {
      "cell_type": "code",
      "execution_count": null,
      "metadata": {
        "id": "tXtqYkkdooVs"
      },
      "outputs": [],
      "source": [
        "# Your code here"
      ]
    },
    {
      "cell_type": "markdown",
      "metadata": {
        "id": "VJ4-rCQqooV9"
      },
      "source": [
        "Remove the null entries in the dataset"
      ]
    },
    {
      "cell_type": "code",
      "execution_count": null,
      "metadata": {
        "id": "W37yDlWmooWA"
      },
      "outputs": [],
      "source": [
        "# Your code here"
      ]
    },
    {
      "cell_type": "markdown",
      "metadata": {
        "id": "XtEUgOLIooWG"
      },
      "source": [
        "**Q. How many observations do we have in the data set?**"
      ]
    },
    {
      "cell_type": "markdown",
      "metadata": {
        "id": "YOHj9tT9ooWH"
      },
      "source": [
        "Answer:"
      ]
    },
    {
      "cell_type": "markdown",
      "metadata": {
        "id": "Btyp8YXGooWI"
      },
      "source": [
        "Create a new dataframe in a variable `uk`, which contains the GDP for only the United Kingdom, with `'Year'` as the index"
      ]
    },
    {
      "cell_type": "markdown",
      "metadata": {
        "id": "XfjV-CpCooWK"
      },
      "source": [
        "Since the numbers are quite large, divide by `1_000_000_000_000` (one trillion), and round to 3 decimal places"
      ]
    },
    {
      "cell_type": "markdown",
      "metadata": {
        "id": "ABS-IcsdooWL"
      },
      "source": [
        "Display the most recent $5$ years available in the data, as follows:\n",
        "\n",
        "|     Year | GDP (Trillion USD) |\n",
        "| -------: | -----------------: |\n",
        "| **2014** |              3.035 |\n",
        "| **2015** |              2.896 |\n",
        "| **2016** |              2.659 |\n",
        "| **2017** |              2.638 |\n",
        "| **2018** |              2.825 |"
      ]
    },
    {
      "cell_type": "code",
      "execution_count": null,
      "metadata": {
        "id": "yjekaVRbooWN"
      },
      "outputs": [],
      "source": [
        "# Your code here"
      ]
    },
    {
      "cell_type": "markdown",
      "metadata": {
        "id": "v-iB-yyqooWX"
      },
      "source": [
        "Let's go back to the original dataframe `gdp`"
      ]
    },
    {
      "cell_type": "markdown",
      "metadata": {
        "id": "M0tCcLuSooWZ"
      },
      "source": [
        "You should have this data set now in the \"long\" format"
      ]
    },
    {
      "cell_type": "markdown",
      "metadata": {
        "id": "ASTGzlxeooWa"
      },
      "source": [
        "Change the table back to the wide format using `pivot`, this time instead of having a column for each `Year`, have a column for each `Country`, the `Year` will be the rows"
      ]
    },
    {
      "cell_type": "code",
      "execution_count": null,
      "metadata": {
        "id": "WLoLhDx1ooWb"
      },
      "outputs": [],
      "source": [
        "# Your code here"
      ]
    },
    {
      "cell_type": "markdown",
      "metadata": {
        "id": "gGcdb1kNooWi"
      },
      "source": [
        "**Q. What is the shape of this dataframe?**"
      ]
    },
    {
      "cell_type": "markdown",
      "metadata": {
        "id": "XVk8eOtYooWj"
      },
      "source": [
        "Answer:"
      ]
    },
    {
      "cell_type": "markdown",
      "metadata": {
        "id": "qyufyk8CooWk"
      },
      "source": [
        "Returning again to the long version of the dataset, use `pivot_table` to find the maximum (`max`) GDP for each country (the highest the GDP has ever been in the recorded data)"
      ]
    },
    {
      "cell_type": "markdown",
      "metadata": {
        "id": "A-G2kPSSooWk"
      },
      "source": [
        "Store this in a variable called `highest_ever`"
      ]
    },
    {
      "cell_type": "markdown",
      "metadata": {
        "id": "0qWoN2mxooWm"
      },
      "source": [
        "Should look something like this\n",
        "\n",
        "\n",
        "| Country Name |          GDP |\n",
        "| :----------- | -----------: |\n",
        "| Afghanistan  | 2.056105e+10 |\n",
        "| Albania      | 1.505888e+10 |\n",
        "| Algeria      | 2.138100e+11 |"
      ]
    },
    {
      "cell_type": "markdown",
      "metadata": {
        "id": "DcBOom9zooWn"
      },
      "source": [
        "*Hint: Do not specify a `columns=` parameter, since we want only a single column.*"
      ]
    },
    {
      "cell_type": "code",
      "execution_count": null,
      "metadata": {
        "id": "kwp2wTh3ooWo"
      },
      "outputs": [],
      "source": [
        "# Your code here"
      ]
    },
    {
      "cell_type": "markdown",
      "metadata": {
        "id": "aisEhXN5ooWt"
      },
      "source": [
        "**Q. Which country has had the highest ever GDP?**\n",
        "\n",
        "*Hint: The dataset contains entries which are not countries, e.g. `World` or `High income`. If you display the first 20 rows after sorting, you should be able to find the answer.*"
      ]
    },
    {
      "cell_type": "code",
      "execution_count": null,
      "metadata": {
        "id": "FeXFvjQdooWw"
      },
      "outputs": [],
      "source": [
        "# Your code here"
      ]
    },
    {
      "cell_type": "markdown",
      "metadata": {
        "id": "hYKFL88booW1"
      },
      "source": [
        "Answer:"
      ]
    },
    {
      "cell_type": "markdown",
      "metadata": {
        "id": "UFsNIMdGooW2"
      },
      "source": [
        "**Extra Question: Is there any way in which we can better filter this dataset to look for countries instead of regions?**"
      ]
    },
    {
      "cell_type": "markdown",
      "metadata": {
        "id": "A14bAFPWooW3"
      },
      "source": [
        "Answer:"
      ]
    }
  ],
  "metadata": {
    "colab": {
      "name": "CMM202_T5_Lab.ipynb",
      "provenance": [],
      "include_colab_link": true
    },
    "kernelspec": {
      "display_name": "Python 3",
      "language": "python",
      "name": "python3"
    },
    "language_info": {
      "codemirror_mode": {
        "name": "ipython",
        "version": 3
      },
      "file_extension": ".py",
      "mimetype": "text/x-python",
      "name": "python",
      "nbconvert_exporter": "python",
      "pygments_lexer": "ipython3",
      "version": "3.7.3"
    },
    "varInspector": {
      "cols": {
        "lenName": 16,
        "lenType": 16,
        "lenVar": 40
      },
      "kernels_config": {
        "python": {
          "delete_cmd_postfix": "",
          "delete_cmd_prefix": "del ",
          "library": "var_list.py",
          "varRefreshCmd": "print(var_dic_list())"
        },
        "r": {
          "delete_cmd_postfix": ") ",
          "delete_cmd_prefix": "rm(",
          "library": "var_list.r",
          "varRefreshCmd": "cat(var_dic_list()) "
        }
      },
      "types_to_exclude": [
        "module",
        "function",
        "builtin_function_or_method",
        "instance",
        "_Feature"
      ],
      "window_display": false
    }
  },
  "nbformat": 4,
  "nbformat_minor": 0
}