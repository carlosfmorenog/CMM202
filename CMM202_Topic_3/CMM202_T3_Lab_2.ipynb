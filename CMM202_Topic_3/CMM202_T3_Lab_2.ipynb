{
  "cells": [
    {
      "cell_type": "markdown",
      "metadata": {
        "id": "view-in-github",
        "colab_type": "text"
      },
      "source": [
        "<a href=\"https://colab.research.google.com/github/carlosfmorenog/CMM202/blob/master/CMM202_Topic_3/CMM202_T3_Lab_2.ipynb\" target=\"_parent\"><img src=\"https://colab.research.google.com/assets/colab-badge.svg\" alt=\"Open In Colab\"/></a>"
      ]
    },
    {
      "cell_type": "markdown",
      "metadata": {
        "id": "LoerwK_UokGg"
      },
      "source": [
        "# CMM202 Topic 3 Lab 2, Missing Data"
      ]
    },
    {
      "cell_type": "code",
      "execution_count": null,
      "metadata": {
        "id": "yNgGrKoAokGl"
      },
      "outputs": [],
      "source": [
        "import pandas as pd"
      ]
    },
    {
      "cell_type": "markdown",
      "metadata": {
        "id": "tZA-DySXokHS"
      },
      "source": [
        "Load the `twitter.csv` dataset into a variable called `twitter`"
      ]
    },
    {
      "cell_type": "markdown",
      "metadata": {
        "id": "VSR8qVYXokHf"
      },
      "source": [
        "Do not specify an `index_col`"
      ]
    },
    {
      "cell_type": "markdown",
      "metadata": {
        "id": "0KqSSeisokHk"
      },
      "source": [
        "This dataset is a collection of tweets mentioning Apple, and an analysis of whether the tweet was positive, negative, or neutral"
      ]
    },
    {
      "cell_type": "code",
      "execution_count": null,
      "metadata": {
        "id": "jeX6V2UwokHo"
      },
      "outputs": [],
      "source": [
        "url = 'https://www.dropbox.com/s/dpai1vg98s7mo56/twitter.csv?raw=1'\n",
        "twitter = pd.read_csv(url)\n",
        "twitter"
      ]
    },
    {
      "cell_type": "markdown",
      "metadata": {
        "id": "AzXnFhAvokH5"
      },
      "source": [
        "The column `sentiment` contains integer values for how positive the tweet is, however, some tweets do not have a rating"
      ]
    },
    {
      "cell_type": "markdown",
      "metadata": {
        "id": "tRjj4ZEiokIA"
      },
      "source": [
        "**Q. We want the `sentiment` column to be of type `int`; what type is it currently?**"
      ]
    },
    {
      "cell_type": "code",
      "execution_count": null,
      "metadata": {
        "id": "2ahLprc-okIR"
      },
      "outputs": [],
      "source": [
        "## Your code here"
      ]
    },
    {
      "cell_type": "markdown",
      "metadata": {
        "id": "Jl1_o1ISokI4"
      },
      "source": [
        "Answer:"
      ]
    },
    {
      "cell_type": "markdown",
      "metadata": {
        "id": "5L3Z7ulFokI8"
      },
      "source": [
        "Retrieve and display the value for `sentiment` from the first row (the sentiment should be `3` for this row)"
      ]
    },
    {
      "cell_type": "code",
      "execution_count": null,
      "metadata": {
        "id": "672D3fqOokJC"
      },
      "outputs": [],
      "source": [
        "## Your code here"
      ]
    },
    {
      "cell_type": "markdown",
      "metadata": {
        "id": "8tZb9GmSokJf"
      },
      "source": [
        "**Q. We want the value you just retrieve to be an `int`; what type is it currently?**"
      ]
    },
    {
      "cell_type": "code",
      "execution_count": null,
      "metadata": {
        "id": "rQ3czqbDokJm"
      },
      "outputs": [],
      "source": [
        "## Your code here"
      ]
    },
    {
      "cell_type": "markdown",
      "metadata": {
        "id": "Q9bOuhfsokKH"
      },
      "source": [
        "Answer:"
      ]
    },
    {
      "cell_type": "markdown",
      "metadata": {
        "id": "0EVFOP9-okKL"
      },
      "source": [
        "Check the values in the column `sentiment`"
      ]
    },
    {
      "cell_type": "markdown",
      "metadata": {
        "id": "HfbwSCMaokKN"
      },
      "source": [
        "**Q. Other that integers, what text value is stored in this column?**"
      ]
    },
    {
      "cell_type": "code",
      "execution_count": null,
      "metadata": {
        "id": "BEytQIXDokKQ"
      },
      "outputs": [],
      "source": [
        "## Your code here"
      ]
    },
    {
      "cell_type": "markdown",
      "metadata": {
        "id": "fef0vWHOokKi"
      },
      "source": [
        "Answer:"
      ]
    },
    {
      "cell_type": "markdown",
      "metadata": {
        "id": "VJMqZJyZokKm"
      },
      "source": [
        "Re-load the `CSV` file, treating this text as a missing value"
      ]
    },
    {
      "cell_type": "code",
      "execution_count": null,
      "metadata": {
        "id": "Bl6i6_r2okKq"
      },
      "outputs": [],
      "source": [
        "## Your code here"
      ]
    },
    {
      "cell_type": "markdown",
      "metadata": {
        "id": "e6Gptue8okK_"
      },
      "source": [
        "**Q. What is the type of `sentiment` now?**"
      ]
    },
    {
      "cell_type": "code",
      "execution_count": null,
      "metadata": {
        "id": "aa34OUvookLE"
      },
      "outputs": [],
      "source": [
        "## Your code here"
      ]
    },
    {
      "cell_type": "markdown",
      "metadata": {
        "id": "YYi8AcZVokLg"
      },
      "source": [
        "Answer:"
      ]
    },
    {
      "cell_type": "markdown",
      "metadata": {
        "id": "bB7IivjzokLj"
      },
      "source": [
        "**Q. Why can `sentiment` not be `int64` now?**"
      ]
    },
    {
      "cell_type": "markdown",
      "metadata": {
        "id": "KV33RKcxokLm"
      },
      "source": [
        "Answer:"
      ]
    },
    {
      "cell_type": "markdown",
      "metadata": {
        "id": "pgivVPU9okLw"
      },
      "source": [
        "**Q.** How many rows contain `NaN` for `sentiment`?"
      ]
    },
    {
      "cell_type": "code",
      "execution_count": null,
      "metadata": {
        "id": "D7ci2pI-okL0"
      },
      "outputs": [],
      "source": [
        "## Your code here"
      ]
    },
    {
      "cell_type": "markdown",
      "metadata": {
        "id": "3XKX3JOWokMT"
      },
      "source": [
        "Answer:"
      ]
    },
    {
      "cell_type": "markdown",
      "metadata": {
        "id": "ll_E15XDokMV"
      },
      "source": [
        "**Q.** How many rows are *not* `NaN` for `sentiment`?"
      ]
    },
    {
      "cell_type": "code",
      "execution_count": null,
      "metadata": {
        "id": "2uYB2kJ1okMe"
      },
      "outputs": [],
      "source": [
        "## Your code here"
      ]
    },
    {
      "cell_type": "markdown",
      "metadata": {
        "id": "LnkTfa60okM3"
      },
      "source": [
        "Remove the rows containing `NaN` for `sentiment` (in other words, have your DataFrame contain only rows with integers in the `sentiment` column)"
      ]
    },
    {
      "cell_type": "code",
      "execution_count": null,
      "metadata": {
        "id": "8uIBPF7yokM-"
      },
      "outputs": [],
      "source": [
        "## Your code here"
      ]
    },
    {
      "cell_type": "markdown",
      "metadata": {
        "id": "eZ2DR2MaokNZ"
      },
      "source": [
        "Since there are no missing values in `sentiment`, convert the column to `int64`"
      ]
    },
    {
      "cell_type": "code",
      "execution_count": null,
      "metadata": {
        "id": "BPlAa7PvokNf"
      },
      "outputs": [],
      "source": [
        "## Your code here"
      ]
    },
    {
      "cell_type": "markdown",
      "metadata": {
        "id": "1Y8NwgQookNu"
      },
      "source": [
        "We only want to keep the columns `_unit_id`, `sentiment`, and `sentiment:confidence`"
      ]
    },
    {
      "cell_type": "markdown",
      "metadata": {
        "id": "P9SwDrb4okNx"
      },
      "source": [
        "Remove all other columns from your data set"
      ]
    },
    {
      "cell_type": "code",
      "execution_count": null,
      "metadata": {
        "id": "sBykurqkokN0"
      },
      "outputs": [],
      "source": [
        "## Your code here"
      ]
    },
    {
      "cell_type": "markdown",
      "metadata": {
        "id": "usQR-X6AokOA"
      },
      "source": [
        "Rename the columns as `ID`, `Sentiment`, and `Confidence`"
      ]
    },
    {
      "cell_type": "code",
      "execution_count": null,
      "metadata": {
        "id": "z93Cb_AxokOC"
      },
      "outputs": [],
      "source": [
        "## Your code here"
      ]
    },
    {
      "cell_type": "markdown",
      "metadata": {
        "id": "HETWiWJCokOK"
      },
      "source": [
        "Set the `ID` column as the index"
      ]
    },
    {
      "cell_type": "code",
      "execution_count": null,
      "metadata": {
        "id": "FPXwDmPiokOL"
      },
      "outputs": [],
      "source": [
        "## Your code here"
      ]
    },
    {
      "cell_type": "markdown",
      "metadata": {
        "id": "y8JnA_mCokOa"
      },
      "source": [
        "Create a Dataframe in a variable called `positive`, which contains all columns from `twitter` where `Sentiment == 5`"
      ]
    },
    {
      "cell_type": "markdown",
      "metadata": {
        "id": "7GTZxbJZokOd"
      },
      "source": [
        "Remove the `Sentiment` column from `positive` (since it's the same for every row anyway)"
      ]
    },
    {
      "cell_type": "code",
      "execution_count": null,
      "metadata": {
        "id": "ASlVLLaQokOg"
      },
      "outputs": [],
      "source": [
        "## Your code here"
      ]
    },
    {
      "cell_type": "markdown",
      "metadata": {
        "id": "IQz2ELEUokOs"
      },
      "source": [
        "Do the same for a variable called `negative` where `Sentiment == 1`"
      ]
    },
    {
      "cell_type": "code",
      "execution_count": null,
      "metadata": {
        "id": "DP852Vt0okOw"
      },
      "outputs": [],
      "source": [
        "## Your code here"
      ]
    },
    {
      "cell_type": "markdown",
      "metadata": {
        "id": "vlsQa7liokPP"
      },
      "source": [
        "**Q. Which data set, `positive` or `negative` contains more rows?**"
      ]
    },
    {
      "cell_type": "markdown",
      "metadata": {
        "id": "fjc5cZAIokPV"
      },
      "source": [
        "Answer:"
      ]
    }
  ],
  "metadata": {
    "colab": {
      "name": "CMM202_T3_Lab_2.ipynb",
      "provenance": [],
      "include_colab_link": true
    },
    "hide_input": false,
    "kernelspec": {
      "display_name": "Python 3",
      "language": "python",
      "name": "python3"
    },
    "language_info": {
      "codemirror_mode": {
        "name": "ipython",
        "version": 3
      },
      "file_extension": ".py",
      "mimetype": "text/x-python",
      "name": "python",
      "nbconvert_exporter": "python",
      "pygments_lexer": "ipython3",
      "version": "3.7.3"
    },
    "varInspector": {
      "cols": {
        "lenName": 16,
        "lenType": 16,
        "lenVar": 40
      },
      "kernels_config": {
        "python": {
          "delete_cmd_postfix": "",
          "delete_cmd_prefix": "del ",
          "library": "var_list.py",
          "varRefreshCmd": "print(var_dic_list())"
        },
        "r": {
          "delete_cmd_postfix": ") ",
          "delete_cmd_prefix": "rm(",
          "library": "var_list.r",
          "varRefreshCmd": "cat(var_dic_list()) "
        }
      },
      "types_to_exclude": [
        "module",
        "function",
        "builtin_function_or_method",
        "instance",
        "_Feature"
      ],
      "window_display": false
    }
  },
  "nbformat": 4,
  "nbformat_minor": 0
}