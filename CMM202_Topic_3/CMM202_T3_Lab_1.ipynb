{
  "cells": [
    {
      "cell_type": "markdown",
      "metadata": {
        "id": "view-in-github",
        "colab_type": "text"
      },
      "source": [
        "<a href=\"https://colab.research.google.com/github/carlosfmorenog/CMM202/blob/master/CMM202_Topic_3/CMM202_T3_Lab_1.ipynb\" target=\"_parent\"><img src=\"https://colab.research.google.com/assets/colab-badge.svg\" alt=\"Open In Colab\"/></a>"
      ]
    },
    {
      "cell_type": "markdown",
      "metadata": {
        "id": "lLtskor7oewP"
      },
      "source": [
        "# CMM202 Topic 3 Lab 1, Manipulating Columns"
      ]
    },
    {
      "cell_type": "code",
      "execution_count": null,
      "metadata": {
        "id": "Z_52cJ2_oewS"
      },
      "outputs": [],
      "source": [
        "import pandas as pd"
      ]
    },
    {
      "cell_type": "markdown",
      "metadata": {
        "id": "i7ptXhgIoewg"
      },
      "source": [
        "Load the `states.csv` dataset"
      ]
    },
    {
      "cell_type": "markdown",
      "metadata": {
        "id": "UxSD2l7ioewk"
      },
      "source": [
        "For this data set, we want to use the 1st column (Abbr) as the index"
      ]
    },
    {
      "cell_type": "code",
      "execution_count": null,
      "metadata": {
        "id": "t5bUw6Q0oewr"
      },
      "outputs": [],
      "source": [
        "url = 'https://www.dropbox.com/s/lh35bodcsdefme6/states.csv?raw=1'\n",
        "## Your code here"
      ]
    },
    {
      "cell_type": "markdown",
      "metadata": {
        "id": "P2J8V6O-oew1"
      },
      "source": [
        "Here is a mapping of census region codes (stored in the column `census_region`) to the names"
      ]
    },
    {
      "cell_type": "code",
      "execution_count": null,
      "metadata": {
        "id": "715RwcwLoew4"
      },
      "outputs": [],
      "source": [
        "region_name_map = {1 : 'Northeast',\n",
        "                   2 : 'Midwest',\n",
        "                   3 : 'South',\n",
        "                   4 : 'West'}"
      ]
    },
    {
      "cell_type": "markdown",
      "metadata": {
        "id": "nNWd4rY_oexD"
      },
      "source": [
        "Use `map` to create a new column named `census_region_name`"
      ]
    },
    {
      "cell_type": "code",
      "execution_count": null,
      "metadata": {
        "id": "fMZ9FPTboexF"
      },
      "outputs": [],
      "source": [
        "## Your code here"
      ]
    },
    {
      "cell_type": "markdown",
      "metadata": {
        "id": "yEI4gxfloexS"
      },
      "source": [
        "The column `standard_federal_region` is stored as roman numerals from `'I'` (1) to `'X'` (10)"
      ]
    },
    {
      "cell_type": "markdown",
      "metadata": {
        "id": "U3GT45mdoexV"
      },
      "source": [
        "Create a `dict` which maps these to the integer `1` to `10` and convert this column into a new column `region_int` with standard integers"
      ]
    },
    {
      "cell_type": "code",
      "execution_count": null,
      "metadata": {
        "id": "VRan89KBoexW"
      },
      "outputs": [],
      "source": [
        "## Your code here"
      ]
    },
    {
      "cell_type": "markdown",
      "metadata": {
        "id": "14HUHXwioexj"
      },
      "source": [
        "Create two new columns called `Density 2000` and `Density 2010` which stores the population density in 2000 and 2010\n",
        "\n",
        "    Hint: Density = Population/Area"
      ]
    },
    {
      "cell_type": "code",
      "execution_count": null,
      "metadata": {
        "id": "Z4DKbQpsoexk"
      },
      "outputs": [],
      "source": [
        "## Your code here"
      ]
    },
    {
      "cell_type": "markdown",
      "metadata": {
        "id": "zK14HdRboexv"
      },
      "source": [
        "Create a new column called `Density Change` which stores the difference between the 2010 density and the 2000 density"
      ]
    },
    {
      "cell_type": "code",
      "execution_count": null,
      "metadata": {
        "id": "Ol5t-9r4oexw"
      },
      "outputs": [],
      "source": [
        "## Your code here"
      ]
    },
    {
      "cell_type": "markdown",
      "metadata": {
        "id": "zkMtH3mQoex3"
      },
      "source": [
        "Select the rows in which the `Density Change` change was *positive* (meaning that there is a *greater* population in 2010 than in 2000)"
      ]
    },
    {
      "cell_type": "markdown",
      "metadata": {
        "id": "CpFkCbNQoex4"
      },
      "source": [
        "Store this in a variable called `increased_states`"
      ]
    },
    {
      "cell_type": "code",
      "execution_count": null,
      "metadata": {
        "id": "eZl6tdYOoex9"
      },
      "outputs": [],
      "source": [
        "## Your code here"
      ]
    },
    {
      "cell_type": "markdown",
      "metadata": {
        "id": "C90M5CQMoeyO"
      },
      "source": [
        "Update the `increased_states` dataframe to only include the following columns:\n",
        "\n",
        "* `Abbr` (the index)\n",
        "* `State`\n",
        "* `Density Change`"
      ]
    },
    {
      "cell_type": "markdown",
      "metadata": {
        "id": "j8Y8beUooeyP"
      },
      "source": [
        "Hint: The index will be automatically included, you do no need specify it."
      ]
    },
    {
      "cell_type": "code",
      "execution_count": null,
      "metadata": {
        "id": "lNnJAO3soeyR"
      },
      "outputs": [],
      "source": [
        "## Your code here"
      ]
    },
    {
      "cell_type": "markdown",
      "metadata": {
        "id": "2MVyzwa0oeya"
      },
      "source": [
        "Create a `Log Density Change` column with the logarithm of `Density Change`"
      ]
    },
    {
      "cell_type": "markdown",
      "metadata": {
        "id": "ssXP-X7voeyd"
      },
      "source": [
        "Hint: You can use a module called [NumPy](https://numpy.org/doc/stable/reference/generated/numpy.log.html) instead of `map` or `apply`!"
      ]
    },
    {
      "cell_type": "code",
      "execution_count": null,
      "metadata": {
        "id": "V1-qj2Nroeyg"
      },
      "outputs": [],
      "source": [
        "## Your code here"
      ]
    },
    {
      "cell_type": "markdown",
      "metadata": {
        "id": "2rMtP4ddoeyr"
      },
      "source": [
        "**Q. What is the Log Density Change of Vermont (`VT`)?**"
      ]
    },
    {
      "cell_type": "code",
      "execution_count": null,
      "metadata": {
        "id": "ROAC0u0Moeyx"
      },
      "outputs": [],
      "source": [
        "## Your code here"
      ]
    },
    {
      "cell_type": "markdown",
      "metadata": {
        "id": "NztRGxCQoey2"
      },
      "source": [
        "Answer: "
      ]
    },
    {
      "cell_type": "markdown",
      "metadata": {
        "id": "9NYQLMKDoey4"
      },
      "source": [
        "**Q. Can you find the `Log Density Change` of Michigan ('MI')?**"
      ]
    },
    {
      "cell_type": "code",
      "execution_count": null,
      "metadata": {
        "id": "mSj-LjSvoey6"
      },
      "outputs": [],
      "source": [
        "## Your code here"
      ]
    },
    {
      "cell_type": "markdown",
      "metadata": {
        "id": "KL24G8mZoezH"
      },
      "source": [
        "Answer: "
      ]
    },
    {
      "cell_type": "markdown",
      "metadata": {
        "id": "MMytozyloezJ"
      },
      "source": [
        "Create a function called `first_letter` which takes a string as an argument, and returns the first letter of the string"
      ]
    },
    {
      "cell_type": "code",
      "execution_count": null,
      "metadata": {
        "id": "PapZYF3PoezL"
      },
      "outputs": [],
      "source": [
        "## Your code here"
      ]
    },
    {
      "cell_type": "markdown",
      "metadata": {
        "id": "r7qCyO4LoezY"
      },
      "source": [
        "Test your function on the string `'Hello World'`, to ensure it returns `'H'`"
      ]
    },
    {
      "cell_type": "code",
      "execution_count": null,
      "metadata": {
        "id": "-aMMvvnWoezd"
      },
      "outputs": [],
      "source": [
        "## Your code here"
      ]
    },
    {
      "cell_type": "markdown",
      "metadata": {
        "id": "YCsttQhyoezp"
      },
      "source": [
        "Apply your `first_letter` function to the `states` data set on the `State` and store the result in the new column `State Initial`"
      ]
    },
    {
      "cell_type": "code",
      "execution_count": null,
      "metadata": {
        "id": "9sBwAI6zoezq"
      },
      "outputs": [],
      "source": [
        "## Your code here"
      ]
    },
    {
      "cell_type": "markdown",
      "metadata": {
        "id": "dslVasjgoez0"
      },
      "source": [
        "Display a random sampling of 10 states, showing only the index, `State` and `State Initial`"
      ]
    },
    {
      "cell_type": "code",
      "execution_count": null,
      "metadata": {
        "id": "SuEoG5Cmoez1"
      },
      "outputs": [],
      "source": [
        "## Your code here"
      ]
    }
  ],
  "metadata": {
    "colab": {
      "name": "CMM202_T3_Lab_1.ipynb",
      "provenance": [],
      "include_colab_link": true
    },
    "hide_input": false,
    "kernelspec": {
      "display_name": "Python 3",
      "language": "python",
      "name": "python3"
    },
    "language_info": {
      "codemirror_mode": {
        "name": "ipython",
        "version": 3
      },
      "file_extension": ".py",
      "mimetype": "text/x-python",
      "name": "python",
      "nbconvert_exporter": "python",
      "pygments_lexer": "ipython3",
      "version": "3.7.3"
    },
    "varInspector": {
      "cols": {
        "lenName": 16,
        "lenType": 16,
        "lenVar": 40
      },
      "kernels_config": {
        "python": {
          "delete_cmd_postfix": "",
          "delete_cmd_prefix": "del ",
          "library": "var_list.py",
          "varRefreshCmd": "print(var_dic_list())"
        },
        "r": {
          "delete_cmd_postfix": ") ",
          "delete_cmd_prefix": "rm(",
          "library": "var_list.r",
          "varRefreshCmd": "cat(var_dic_list()) "
        }
      },
      "types_to_exclude": [
        "module",
        "function",
        "builtin_function_or_method",
        "instance",
        "_Feature"
      ],
      "window_display": false
    }
  },
  "nbformat": 4,
  "nbformat_minor": 0
}