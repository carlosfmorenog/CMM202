{
  "cells": [
    {
      "cell_type": "markdown",
      "metadata": {
        "id": "view-in-github",
        "colab_type": "text"
      },
      "source": [
        "<a href=\"https://colab.research.google.com/github/carlosfmorenog/CMM202/blob/master/CMM202_Topic_3/CMM202_T3_Lec.ipynb\" target=\"_parent\"><img src=\"https://colab.research.google.com/assets/colab-badge.svg\" alt=\"Open In Colab\"/></a>"
      ]
    },
    {
      "cell_type": "markdown",
      "metadata": {
        "hide_input": true,
        "id": "x1sqsZLSMNe7"
      },
      "source": [
        "# CMM202 Topic 3: Manipulating Columns & Missing Data"
      ]
    },
    {
      "cell_type": "markdown",
      "metadata": {
        "id": "CX2LHZx_MNe_"
      },
      "source": [
        "## Data by Columns"
      ]
    },
    {
      "cell_type": "code",
      "execution_count": null,
      "metadata": {
        "id": "v0KqFBn1MNfB",
        "outputId": "08d59b56-b4f9-4a7b-b449-65cf11eac231"
      },
      "outputs": [
        {
          "data": {
            "text/html": [
              "<div>\n",
              "<style scoped>\n",
              "    .dataframe tbody tr th:only-of-type {\n",
              "        vertical-align: middle;\n",
              "    }\n",
              "\n",
              "    .dataframe tbody tr th {\n",
              "        vertical-align: top;\n",
              "    }\n",
              "\n",
              "    .dataframe thead th {\n",
              "        text-align: right;\n",
              "    }\n",
              "</style>\n",
              "<table border=\"1\" class=\"dataframe\">\n",
              "  <thead>\n",
              "    <tr style=\"text-align: right;\">\n",
              "      <th></th>\n",
              "      <th>Year</th>\n",
              "      <th>Honor</th>\n",
              "      <th>Name</th>\n",
              "      <th>Country</th>\n",
              "      <th>Birth Year</th>\n",
              "      <th>Death Year</th>\n",
              "      <th>Title</th>\n",
              "      <th>Category</th>\n",
              "      <th>Context</th>\n",
              "    </tr>\n",
              "  </thead>\n",
              "  <tbody>\n",
              "    <tr>\n",
              "      <th>0</th>\n",
              "      <td>1927</td>\n",
              "      <td>Man of the Year</td>\n",
              "      <td>Charles Lindbergh</td>\n",
              "      <td>United States</td>\n",
              "      <td>1902.0</td>\n",
              "      <td>1974.0</td>\n",
              "      <td>US Air Mail Pilot</td>\n",
              "      <td>NaN</td>\n",
              "      <td>First Solo Transatlantic Flight</td>\n",
              "    </tr>\n",
              "    <tr>\n",
              "      <th>1</th>\n",
              "      <td>1928</td>\n",
              "      <td>Man of the Year</td>\n",
              "      <td>Walter Chrysler</td>\n",
              "      <td>United States</td>\n",
              "      <td>1875.0</td>\n",
              "      <td>1940.0</td>\n",
              "      <td>Founder of Chrysler</td>\n",
              "      <td>Economics</td>\n",
              "      <td>Chrysler/Dodge Merger</td>\n",
              "    </tr>\n",
              "    <tr>\n",
              "      <th>2</th>\n",
              "      <td>1929</td>\n",
              "      <td>Man of the Year</td>\n",
              "      <td>Owen D. Young</td>\n",
              "      <td>United States</td>\n",
              "      <td>1874.0</td>\n",
              "      <td>1962.0</td>\n",
              "      <td>Member of the German Reparations International...</td>\n",
              "      <td>Diplomacy</td>\n",
              "      <td>Young Plan</td>\n",
              "    </tr>\n",
              "    <tr>\n",
              "      <th>3</th>\n",
              "      <td>1930</td>\n",
              "      <td>Man of the Year</td>\n",
              "      <td>Mahatma Gandhi</td>\n",
              "      <td>India</td>\n",
              "      <td>1869.0</td>\n",
              "      <td>1948.0</td>\n",
              "      <td>NaN</td>\n",
              "      <td>Revolution</td>\n",
              "      <td>Salt March</td>\n",
              "    </tr>\n",
              "    <tr>\n",
              "      <th>4</th>\n",
              "      <td>1931</td>\n",
              "      <td>Man of the Year</td>\n",
              "      <td>Pierre Laval</td>\n",
              "      <td>France</td>\n",
              "      <td>1883.0</td>\n",
              "      <td>1945.0</td>\n",
              "      <td>Prime Minister of France</td>\n",
              "      <td>Politics</td>\n",
              "      <td>NaN</td>\n",
              "    </tr>\n",
              "    <tr>\n",
              "      <th>...</th>\n",
              "      <td>...</td>\n",
              "      <td>...</td>\n",
              "      <td>...</td>\n",
              "      <td>...</td>\n",
              "      <td>...</td>\n",
              "      <td>...</td>\n",
              "      <td>...</td>\n",
              "      <td>...</td>\n",
              "      <td>...</td>\n",
              "    </tr>\n",
              "    <tr>\n",
              "      <th>86</th>\n",
              "      <td>2012</td>\n",
              "      <td>Person of the Year</td>\n",
              "      <td>Barack Obama</td>\n",
              "      <td>United States</td>\n",
              "      <td>1961.0</td>\n",
              "      <td>NaN</td>\n",
              "      <td>President of the United States</td>\n",
              "      <td>Politics</td>\n",
              "      <td>Presidential Election</td>\n",
              "    </tr>\n",
              "    <tr>\n",
              "      <th>87</th>\n",
              "      <td>2013</td>\n",
              "      <td>Person of the Year</td>\n",
              "      <td>Pope Francis</td>\n",
              "      <td>Vatican City</td>\n",
              "      <td>1936.0</td>\n",
              "      <td>NaN</td>\n",
              "      <td>Pope of the Roman Catholic Church</td>\n",
              "      <td>Religion</td>\n",
              "      <td>Papal Conclave</td>\n",
              "    </tr>\n",
              "    <tr>\n",
              "      <th>88</th>\n",
              "      <td>2014</td>\n",
              "      <td>Person of the Year</td>\n",
              "      <td>The Ebola Fighters</td>\n",
              "      <td>NaN</td>\n",
              "      <td>NaN</td>\n",
              "      <td>NaN</td>\n",
              "      <td>NaN</td>\n",
              "      <td>Science</td>\n",
              "      <td>Ebola Epidemic</td>\n",
              "    </tr>\n",
              "    <tr>\n",
              "      <th>89</th>\n",
              "      <td>2015</td>\n",
              "      <td>Person of the Year</td>\n",
              "      <td>Angela Merkel</td>\n",
              "      <td>Germany</td>\n",
              "      <td>1954.0</td>\n",
              "      <td>NaN</td>\n",
              "      <td>Chancellor of Germany</td>\n",
              "      <td>Politics</td>\n",
              "      <td>Debt Crisis; Refugee Crisis; Paris Terrorist A...</td>\n",
              "    </tr>\n",
              "    <tr>\n",
              "      <th>90</th>\n",
              "      <td>2016</td>\n",
              "      <td>Person of the Year</td>\n",
              "      <td>Donald Trump</td>\n",
              "      <td>United States</td>\n",
              "      <td>1946.0</td>\n",
              "      <td>NaN</td>\n",
              "      <td>President of the United States</td>\n",
              "      <td>Politics</td>\n",
              "      <td>Presidential Election</td>\n",
              "    </tr>\n",
              "  </tbody>\n",
              "</table>\n",
              "<p>91 rows × 9 columns</p>\n",
              "</div>"
            ],
            "text/plain": [
              "    Year               Honor                Name        Country  Birth Year  \\\n",
              "0   1927     Man of the Year   Charles Lindbergh  United States      1902.0   \n",
              "1   1928     Man of the Year     Walter Chrysler  United States      1875.0   \n",
              "2   1929     Man of the Year       Owen D. Young  United States      1874.0   \n",
              "3   1930     Man of the Year      Mahatma Gandhi          India      1869.0   \n",
              "4   1931     Man of the Year        Pierre Laval         France      1883.0   \n",
              "..   ...                 ...                 ...            ...         ...   \n",
              "86  2012  Person of the Year        Barack Obama  United States      1961.0   \n",
              "87  2013  Person of the Year        Pope Francis   Vatican City      1936.0   \n",
              "88  2014  Person of the Year  The Ebola Fighters            NaN         NaN   \n",
              "89  2015  Person of the Year       Angela Merkel        Germany      1954.0   \n",
              "90  2016  Person of the Year        Donald Trump  United States      1946.0   \n",
              "\n",
              "    Death Year                                              Title    Category  \\\n",
              "0       1974.0                                  US Air Mail Pilot         NaN   \n",
              "1       1940.0                                Founder of Chrysler   Economics   \n",
              "2       1962.0  Member of the German Reparations International...   Diplomacy   \n",
              "3       1948.0                                                NaN  Revolution   \n",
              "4       1945.0                           Prime Minister of France    Politics   \n",
              "..         ...                                                ...         ...   \n",
              "86         NaN                     President of the United States    Politics   \n",
              "87         NaN                  Pope of the Roman Catholic Church    Religion   \n",
              "88         NaN                                                NaN     Science   \n",
              "89         NaN                              Chancellor of Germany    Politics   \n",
              "90         NaN                     President of the United States    Politics   \n",
              "\n",
              "                                              Context  \n",
              "0                     First Solo Transatlantic Flight  \n",
              "1                               Chrysler/Dodge Merger  \n",
              "2                                          Young Plan  \n",
              "3                                          Salt March  \n",
              "4                                                 NaN  \n",
              "..                                                ...  \n",
              "86                              Presidential Election  \n",
              "87                                     Papal Conclave  \n",
              "88                                     Ebola Epidemic  \n",
              "89  Debt Crisis; Refugee Crisis; Paris Terrorist A...  \n",
              "90                              Presidential Election  \n",
              "\n",
              "[91 rows x 9 columns]"
            ]
          },
          "execution_count": 1,
          "metadata": {},
          "output_type": "execute_result"
        }
      ],
      "source": [
        "# Importing a dataset that I have in dropbox\n",
        "import pandas as pd\n",
        "url = 'https://www.dropbox.com/s/ju1iemc8k1wp0p5/time.csv?raw=1'\n",
        "time = pd.read_csv(url)\n",
        "time "
      ]
    },
    {
      "cell_type": "markdown",
      "metadata": {
        "id": "G-ULaeCfMNfE"
      },
      "source": [
        "This dataset contains the list of people named Man/Person of the Year by Times magazine"
      ]
    },
    {
      "cell_type": "markdown",
      "metadata": {
        "id": "JkFrJCc0MNfG"
      },
      "source": [
        "Last week we added new columns to data frames (the \"watched\" column at the end of the Netflix dataset)"
      ]
    },
    {
      "cell_type": "markdown",
      "metadata": {
        "id": "InV0zxN3MNfI"
      },
      "source": [
        "Today, we will learn other ways in which we can manipulate, add or relate data from columns"
      ]
    },
    {
      "cell_type": "markdown",
      "metadata": {
        "id": "WLZlF9hEMNfK"
      },
      "source": [
        "### Mapping Columns"
      ]
    },
    {
      "cell_type": "markdown",
      "metadata": {
        "id": "cuMz_XmoMNfM"
      },
      "source": [
        "Sometimes we want to convert a column of categorical data from strings (text) to integers (numbers)"
      ]
    },
    {
      "cell_type": "markdown",
      "metadata": {
        "id": "DCWsImCQMNfP"
      },
      "source": [
        "We can define a `dictionary` which maps the strings (as keys) to integers (as values) using the `map` method"
      ]
    },
    {
      "cell_type": "markdown",
      "metadata": {
        "id": "i5COxfb3MNfQ"
      },
      "source": [
        "Another option is to define a `set` of the unique categories as follows."
      ]
    },
    {
      "cell_type": "code",
      "execution_count": null,
      "metadata": {
        "id": "UIOW9ryZMNfS",
        "outputId": "f83b9aa5-f047-4d9c-cb6c-f8200c91f356"
      },
      "outputs": [
        {
          "data": {
            "text/plain": [
              "{'Diplomacy',\n",
              " 'Economics',\n",
              " 'Environment',\n",
              " 'Media',\n",
              " 'Philanthropy',\n",
              " 'Politics',\n",
              " 'Religion',\n",
              " 'Revolution',\n",
              " 'Science',\n",
              " 'Space',\n",
              " 'Technology',\n",
              " 'War',\n",
              " nan}"
            ]
          },
          "execution_count": 2,
          "metadata": {},
          "output_type": "execute_result"
        }
      ],
      "source": [
        "categories = set(time['Category'])\n",
        "categories"
      ]
    },
    {
      "cell_type": "markdown",
      "metadata": {
        "id": "YxTfDlF9MNfV"
      },
      "source": [
        "Then, we can then assign unique numbers to this `set` as a `dictionary` (defined in Python using the `{}`)"
      ]
    },
    {
      "cell_type": "code",
      "execution_count": null,
      "metadata": {
        "id": "6xYp08gLMNfW",
        "outputId": "08bcc100-ac7c-4c6e-dbd4-9820d507952a"
      },
      "outputs": [
        {
          "data": {
            "text/plain": [
              "{nan: 0,\n",
              " 'Space': 1,\n",
              " 'War': 2,\n",
              " 'Technology': 3,\n",
              " 'Environment': 4,\n",
              " 'Media': 5,\n",
              " 'Politics': 6,\n",
              " 'Philanthropy': 7,\n",
              " 'Revolution': 8,\n",
              " 'Economics': 9,\n",
              " 'Science': 10,\n",
              " 'Diplomacy': 11,\n",
              " 'Religion': 12}"
            ]
          },
          "execution_count": 3,
          "metadata": {},
          "output_type": "execute_result"
        }
      ],
      "source": [
        "mapping = {category : index for index, category in enumerate(categories)}\n",
        "mapping"
      ]
    },
    {
      "cell_type": "markdown",
      "metadata": {
        "id": "-nD3EGsmMNfX"
      },
      "source": [
        "We now have a `map` which allows us to convert from a category string to an `int`. For example:"
      ]
    },
    {
      "cell_type": "code",
      "execution_count": null,
      "metadata": {
        "cell_style": "split",
        "id": "BFiWUtwAMNfY",
        "outputId": "1f8b42cd-3306-4d1b-921e-7ec69e74a874"
      },
      "outputs": [
        {
          "data": {
            "text/plain": [
              "11"
            ]
          },
          "execution_count": 4,
          "metadata": {},
          "output_type": "execute_result"
        }
      ],
      "source": [
        "mapping['Diplomacy']"
      ]
    },
    {
      "cell_type": "code",
      "execution_count": null,
      "metadata": {
        "cell_style": "split",
        "id": "SnRBagLWMNfa",
        "outputId": "877b1d59-8ca3-4b4a-de62-2d5654cc9933"
      },
      "outputs": [
        {
          "data": {
            "text/plain": [
              "5"
            ]
          },
          "execution_count": 5,
          "metadata": {},
          "output_type": "execute_result"
        }
      ],
      "source": [
        "mapping['Media']"
      ]
    },
    {
      "cell_type": "markdown",
      "metadata": {
        "id": "CFpqcZO3MNfc"
      },
      "source": [
        "We can use the `map` method on the chosen column to do the conversion"
      ]
    },
    {
      "cell_type": "markdown",
      "metadata": {
        "id": "N7SEGVlSMNfe"
      },
      "source": [
        "The `map` method takes our `dictionary` as an argument and returns a new column with the mapping applied"
      ]
    },
    {
      "cell_type": "code",
      "execution_count": null,
      "metadata": {
        "id": "l9oYXel8MNff",
        "outputId": "124162ca-ef1f-448e-f657-2f35041785c1"
      },
      "outputs": [
        {
          "data": {
            "text/plain": [
              "0      0\n",
              "1      9\n",
              "2     11\n",
              "3      8\n",
              "4      6\n",
              "      ..\n",
              "86     6\n",
              "87    12\n",
              "88    10\n",
              "89     6\n",
              "90     6\n",
              "Name: Category, Length: 91, dtype: int64"
            ]
          },
          "execution_count": 6,
          "metadata": {},
          "output_type": "execute_result"
        }
      ],
      "source": [
        "time['Category'].map(mapping)"
      ]
    },
    {
      "cell_type": "markdown",
      "metadata": {
        "id": "_TVvLezoMNfg"
      },
      "source": [
        "If we wanted to overwrite the `Category` column with our new mapped values, we could do:\n",
        "\n",
        "    time['Category'] = time['Category'].map(mapping)"
      ]
    },
    {
      "cell_type": "markdown",
      "metadata": {
        "id": "Nd43tB7aMNfh"
      },
      "source": [
        "However, it may be best to keep both. So we can instead assign it a different column name"
      ]
    },
    {
      "cell_type": "code",
      "execution_count": null,
      "metadata": {
        "id": "2engocKSMNfi",
        "outputId": "cb0a8e22-fbcb-4128-8ba9-64a96a224c57"
      },
      "outputs": [
        {
          "data": {
            "text/html": [
              "<div>\n",
              "<style scoped>\n",
              "    .dataframe tbody tr th:only-of-type {\n",
              "        vertical-align: middle;\n",
              "    }\n",
              "\n",
              "    .dataframe tbody tr th {\n",
              "        vertical-align: top;\n",
              "    }\n",
              "\n",
              "    .dataframe thead th {\n",
              "        text-align: right;\n",
              "    }\n",
              "</style>\n",
              "<table border=\"1\" class=\"dataframe\">\n",
              "  <thead>\n",
              "    <tr style=\"text-align: right;\">\n",
              "      <th></th>\n",
              "      <th>Year</th>\n",
              "      <th>Honor</th>\n",
              "      <th>Name</th>\n",
              "      <th>Country</th>\n",
              "      <th>Birth Year</th>\n",
              "      <th>Death Year</th>\n",
              "      <th>Title</th>\n",
              "      <th>Category</th>\n",
              "      <th>Context</th>\n",
              "      <th>Category Ordinal</th>\n",
              "    </tr>\n",
              "  </thead>\n",
              "  <tbody>\n",
              "    <tr>\n",
              "      <th>0</th>\n",
              "      <td>1927</td>\n",
              "      <td>Man of the Year</td>\n",
              "      <td>Charles Lindbergh</td>\n",
              "      <td>United States</td>\n",
              "      <td>1902.0</td>\n",
              "      <td>1974.0</td>\n",
              "      <td>US Air Mail Pilot</td>\n",
              "      <td>NaN</td>\n",
              "      <td>First Solo Transatlantic Flight</td>\n",
              "      <td>0</td>\n",
              "    </tr>\n",
              "    <tr>\n",
              "      <th>1</th>\n",
              "      <td>1928</td>\n",
              "      <td>Man of the Year</td>\n",
              "      <td>Walter Chrysler</td>\n",
              "      <td>United States</td>\n",
              "      <td>1875.0</td>\n",
              "      <td>1940.0</td>\n",
              "      <td>Founder of Chrysler</td>\n",
              "      <td>Economics</td>\n",
              "      <td>Chrysler/Dodge Merger</td>\n",
              "      <td>9</td>\n",
              "    </tr>\n",
              "    <tr>\n",
              "      <th>2</th>\n",
              "      <td>1929</td>\n",
              "      <td>Man of the Year</td>\n",
              "      <td>Owen D. Young</td>\n",
              "      <td>United States</td>\n",
              "      <td>1874.0</td>\n",
              "      <td>1962.0</td>\n",
              "      <td>Member of the German Reparations International...</td>\n",
              "      <td>Diplomacy</td>\n",
              "      <td>Young Plan</td>\n",
              "      <td>11</td>\n",
              "    </tr>\n",
              "    <tr>\n",
              "      <th>3</th>\n",
              "      <td>1930</td>\n",
              "      <td>Man of the Year</td>\n",
              "      <td>Mahatma Gandhi</td>\n",
              "      <td>India</td>\n",
              "      <td>1869.0</td>\n",
              "      <td>1948.0</td>\n",
              "      <td>NaN</td>\n",
              "      <td>Revolution</td>\n",
              "      <td>Salt March</td>\n",
              "      <td>8</td>\n",
              "    </tr>\n",
              "    <tr>\n",
              "      <th>4</th>\n",
              "      <td>1931</td>\n",
              "      <td>Man of the Year</td>\n",
              "      <td>Pierre Laval</td>\n",
              "      <td>France</td>\n",
              "      <td>1883.0</td>\n",
              "      <td>1945.0</td>\n",
              "      <td>Prime Minister of France</td>\n",
              "      <td>Politics</td>\n",
              "      <td>NaN</td>\n",
              "      <td>6</td>\n",
              "    </tr>\n",
              "    <tr>\n",
              "      <th>...</th>\n",
              "      <td>...</td>\n",
              "      <td>...</td>\n",
              "      <td>...</td>\n",
              "      <td>...</td>\n",
              "      <td>...</td>\n",
              "      <td>...</td>\n",
              "      <td>...</td>\n",
              "      <td>...</td>\n",
              "      <td>...</td>\n",
              "      <td>...</td>\n",
              "    </tr>\n",
              "    <tr>\n",
              "      <th>86</th>\n",
              "      <td>2012</td>\n",
              "      <td>Person of the Year</td>\n",
              "      <td>Barack Obama</td>\n",
              "      <td>United States</td>\n",
              "      <td>1961.0</td>\n",
              "      <td>NaN</td>\n",
              "      <td>President of the United States</td>\n",
              "      <td>Politics</td>\n",
              "      <td>Presidential Election</td>\n",
              "      <td>6</td>\n",
              "    </tr>\n",
              "    <tr>\n",
              "      <th>87</th>\n",
              "      <td>2013</td>\n",
              "      <td>Person of the Year</td>\n",
              "      <td>Pope Francis</td>\n",
              "      <td>Vatican City</td>\n",
              "      <td>1936.0</td>\n",
              "      <td>NaN</td>\n",
              "      <td>Pope of the Roman Catholic Church</td>\n",
              "      <td>Religion</td>\n",
              "      <td>Papal Conclave</td>\n",
              "      <td>12</td>\n",
              "    </tr>\n",
              "    <tr>\n",
              "      <th>88</th>\n",
              "      <td>2014</td>\n",
              "      <td>Person of the Year</td>\n",
              "      <td>The Ebola Fighters</td>\n",
              "      <td>NaN</td>\n",
              "      <td>NaN</td>\n",
              "      <td>NaN</td>\n",
              "      <td>NaN</td>\n",
              "      <td>Science</td>\n",
              "      <td>Ebola Epidemic</td>\n",
              "      <td>10</td>\n",
              "    </tr>\n",
              "    <tr>\n",
              "      <th>89</th>\n",
              "      <td>2015</td>\n",
              "      <td>Person of the Year</td>\n",
              "      <td>Angela Merkel</td>\n",
              "      <td>Germany</td>\n",
              "      <td>1954.0</td>\n",
              "      <td>NaN</td>\n",
              "      <td>Chancellor of Germany</td>\n",
              "      <td>Politics</td>\n",
              "      <td>Debt Crisis; Refugee Crisis; Paris Terrorist A...</td>\n",
              "      <td>6</td>\n",
              "    </tr>\n",
              "    <tr>\n",
              "      <th>90</th>\n",
              "      <td>2016</td>\n",
              "      <td>Person of the Year</td>\n",
              "      <td>Donald Trump</td>\n",
              "      <td>United States</td>\n",
              "      <td>1946.0</td>\n",
              "      <td>NaN</td>\n",
              "      <td>President of the United States</td>\n",
              "      <td>Politics</td>\n",
              "      <td>Presidential Election</td>\n",
              "      <td>6</td>\n",
              "    </tr>\n",
              "  </tbody>\n",
              "</table>\n",
              "<p>91 rows × 10 columns</p>\n",
              "</div>"
            ],
            "text/plain": [
              "    Year               Honor                Name        Country  Birth Year  \\\n",
              "0   1927     Man of the Year   Charles Lindbergh  United States      1902.0   \n",
              "1   1928     Man of the Year     Walter Chrysler  United States      1875.0   \n",
              "2   1929     Man of the Year       Owen D. Young  United States      1874.0   \n",
              "3   1930     Man of the Year      Mahatma Gandhi          India      1869.0   \n",
              "4   1931     Man of the Year        Pierre Laval         France      1883.0   \n",
              "..   ...                 ...                 ...            ...         ...   \n",
              "86  2012  Person of the Year        Barack Obama  United States      1961.0   \n",
              "87  2013  Person of the Year        Pope Francis   Vatican City      1936.0   \n",
              "88  2014  Person of the Year  The Ebola Fighters            NaN         NaN   \n",
              "89  2015  Person of the Year       Angela Merkel        Germany      1954.0   \n",
              "90  2016  Person of the Year        Donald Trump  United States      1946.0   \n",
              "\n",
              "    Death Year                                              Title    Category  \\\n",
              "0       1974.0                                  US Air Mail Pilot         NaN   \n",
              "1       1940.0                                Founder of Chrysler   Economics   \n",
              "2       1962.0  Member of the German Reparations International...   Diplomacy   \n",
              "3       1948.0                                                NaN  Revolution   \n",
              "4       1945.0                           Prime Minister of France    Politics   \n",
              "..         ...                                                ...         ...   \n",
              "86         NaN                     President of the United States    Politics   \n",
              "87         NaN                  Pope of the Roman Catholic Church    Religion   \n",
              "88         NaN                                                NaN     Science   \n",
              "89         NaN                              Chancellor of Germany    Politics   \n",
              "90         NaN                     President of the United States    Politics   \n",
              "\n",
              "                                              Context  Category Ordinal  \n",
              "0                     First Solo Transatlantic Flight                 0  \n",
              "1                               Chrysler/Dodge Merger                 9  \n",
              "2                                          Young Plan                11  \n",
              "3                                          Salt March                 8  \n",
              "4                                                 NaN                 6  \n",
              "..                                                ...               ...  \n",
              "86                              Presidential Election                 6  \n",
              "87                                     Papal Conclave                12  \n",
              "88                                     Ebola Epidemic                10  \n",
              "89  Debt Crisis; Refugee Crisis; Paris Terrorist A...                 6  \n",
              "90                              Presidential Election                 6  \n",
              "\n",
              "[91 rows x 10 columns]"
            ]
          },
          "execution_count": 7,
          "metadata": {},
          "output_type": "execute_result"
        }
      ],
      "source": [
        "time['Category Ordinal'] = time['Category'].map(mapping)\n",
        "time"
      ]
    },
    {
      "cell_type": "markdown",
      "metadata": {
        "id": "xw0VRqiUMNfk"
      },
      "source": [
        "### Manipulating Numerical Columns"
      ]
    },
    {
      "cell_type": "markdown",
      "metadata": {
        "id": "H88bQI8ZMNfl"
      },
      "source": [
        "We can perform arithmetic between columns as if they were simply numbers"
      ]
    },
    {
      "cell_type": "markdown",
      "metadata": {
        "id": "o0gOU9L3MNfm"
      },
      "source": [
        "We will take the column `Death Year`, subtract the column `Birth Year`, and storing the result in a (new) column called `Lifespan`"
      ]
    },
    {
      "cell_type": "code",
      "execution_count": null,
      "metadata": {
        "id": "jSbCUFIJMNfn",
        "outputId": "855403ac-cd25-41f8-9a80-71e76bcbf880"
      },
      "outputs": [
        {
          "data": {
            "text/html": [
              "<div>\n",
              "<style scoped>\n",
              "    .dataframe tbody tr th:only-of-type {\n",
              "        vertical-align: middle;\n",
              "    }\n",
              "\n",
              "    .dataframe tbody tr th {\n",
              "        vertical-align: top;\n",
              "    }\n",
              "\n",
              "    .dataframe thead th {\n",
              "        text-align: right;\n",
              "    }\n",
              "</style>\n",
              "<table border=\"1\" class=\"dataframe\">\n",
              "  <thead>\n",
              "    <tr style=\"text-align: right;\">\n",
              "      <th></th>\n",
              "      <th>Year</th>\n",
              "      <th>Honor</th>\n",
              "      <th>Name</th>\n",
              "      <th>Country</th>\n",
              "      <th>Birth Year</th>\n",
              "      <th>Death Year</th>\n",
              "      <th>Title</th>\n",
              "      <th>Category</th>\n",
              "      <th>Context</th>\n",
              "      <th>Category Ordinal</th>\n",
              "      <th>Lifespan</th>\n",
              "    </tr>\n",
              "  </thead>\n",
              "  <tbody>\n",
              "    <tr>\n",
              "      <th>0</th>\n",
              "      <td>1927</td>\n",
              "      <td>Man of the Year</td>\n",
              "      <td>Charles Lindbergh</td>\n",
              "      <td>United States</td>\n",
              "      <td>1902.0</td>\n",
              "      <td>1974.0</td>\n",
              "      <td>US Air Mail Pilot</td>\n",
              "      <td>NaN</td>\n",
              "      <td>First Solo Transatlantic Flight</td>\n",
              "      <td>0</td>\n",
              "      <td>72.0</td>\n",
              "    </tr>\n",
              "    <tr>\n",
              "      <th>1</th>\n",
              "      <td>1928</td>\n",
              "      <td>Man of the Year</td>\n",
              "      <td>Walter Chrysler</td>\n",
              "      <td>United States</td>\n",
              "      <td>1875.0</td>\n",
              "      <td>1940.0</td>\n",
              "      <td>Founder of Chrysler</td>\n",
              "      <td>Economics</td>\n",
              "      <td>Chrysler/Dodge Merger</td>\n",
              "      <td>9</td>\n",
              "      <td>65.0</td>\n",
              "    </tr>\n",
              "    <tr>\n",
              "      <th>2</th>\n",
              "      <td>1929</td>\n",
              "      <td>Man of the Year</td>\n",
              "      <td>Owen D. Young</td>\n",
              "      <td>United States</td>\n",
              "      <td>1874.0</td>\n",
              "      <td>1962.0</td>\n",
              "      <td>Member of the German Reparations International...</td>\n",
              "      <td>Diplomacy</td>\n",
              "      <td>Young Plan</td>\n",
              "      <td>11</td>\n",
              "      <td>88.0</td>\n",
              "    </tr>\n",
              "    <tr>\n",
              "      <th>3</th>\n",
              "      <td>1930</td>\n",
              "      <td>Man of the Year</td>\n",
              "      <td>Mahatma Gandhi</td>\n",
              "      <td>India</td>\n",
              "      <td>1869.0</td>\n",
              "      <td>1948.0</td>\n",
              "      <td>NaN</td>\n",
              "      <td>Revolution</td>\n",
              "      <td>Salt March</td>\n",
              "      <td>8</td>\n",
              "      <td>79.0</td>\n",
              "    </tr>\n",
              "    <tr>\n",
              "      <th>4</th>\n",
              "      <td>1931</td>\n",
              "      <td>Man of the Year</td>\n",
              "      <td>Pierre Laval</td>\n",
              "      <td>France</td>\n",
              "      <td>1883.0</td>\n",
              "      <td>1945.0</td>\n",
              "      <td>Prime Minister of France</td>\n",
              "      <td>Politics</td>\n",
              "      <td>NaN</td>\n",
              "      <td>6</td>\n",
              "      <td>62.0</td>\n",
              "    </tr>\n",
              "    <tr>\n",
              "      <th>...</th>\n",
              "      <td>...</td>\n",
              "      <td>...</td>\n",
              "      <td>...</td>\n",
              "      <td>...</td>\n",
              "      <td>...</td>\n",
              "      <td>...</td>\n",
              "      <td>...</td>\n",
              "      <td>...</td>\n",
              "      <td>...</td>\n",
              "      <td>...</td>\n",
              "      <td>...</td>\n",
              "    </tr>\n",
              "    <tr>\n",
              "      <th>86</th>\n",
              "      <td>2012</td>\n",
              "      <td>Person of the Year</td>\n",
              "      <td>Barack Obama</td>\n",
              "      <td>United States</td>\n",
              "      <td>1961.0</td>\n",
              "      <td>NaN</td>\n",
              "      <td>President of the United States</td>\n",
              "      <td>Politics</td>\n",
              "      <td>Presidential Election</td>\n",
              "      <td>6</td>\n",
              "      <td>NaN</td>\n",
              "    </tr>\n",
              "    <tr>\n",
              "      <th>87</th>\n",
              "      <td>2013</td>\n",
              "      <td>Person of the Year</td>\n",
              "      <td>Pope Francis</td>\n",
              "      <td>Vatican City</td>\n",
              "      <td>1936.0</td>\n",
              "      <td>NaN</td>\n",
              "      <td>Pope of the Roman Catholic Church</td>\n",
              "      <td>Religion</td>\n",
              "      <td>Papal Conclave</td>\n",
              "      <td>12</td>\n",
              "      <td>NaN</td>\n",
              "    </tr>\n",
              "    <tr>\n",
              "      <th>88</th>\n",
              "      <td>2014</td>\n",
              "      <td>Person of the Year</td>\n",
              "      <td>The Ebola Fighters</td>\n",
              "      <td>NaN</td>\n",
              "      <td>NaN</td>\n",
              "      <td>NaN</td>\n",
              "      <td>NaN</td>\n",
              "      <td>Science</td>\n",
              "      <td>Ebola Epidemic</td>\n",
              "      <td>10</td>\n",
              "      <td>NaN</td>\n",
              "    </tr>\n",
              "    <tr>\n",
              "      <th>89</th>\n",
              "      <td>2015</td>\n",
              "      <td>Person of the Year</td>\n",
              "      <td>Angela Merkel</td>\n",
              "      <td>Germany</td>\n",
              "      <td>1954.0</td>\n",
              "      <td>NaN</td>\n",
              "      <td>Chancellor of Germany</td>\n",
              "      <td>Politics</td>\n",
              "      <td>Debt Crisis; Refugee Crisis; Paris Terrorist A...</td>\n",
              "      <td>6</td>\n",
              "      <td>NaN</td>\n",
              "    </tr>\n",
              "    <tr>\n",
              "      <th>90</th>\n",
              "      <td>2016</td>\n",
              "      <td>Person of the Year</td>\n",
              "      <td>Donald Trump</td>\n",
              "      <td>United States</td>\n",
              "      <td>1946.0</td>\n",
              "      <td>NaN</td>\n",
              "      <td>President of the United States</td>\n",
              "      <td>Politics</td>\n",
              "      <td>Presidential Election</td>\n",
              "      <td>6</td>\n",
              "      <td>NaN</td>\n",
              "    </tr>\n",
              "  </tbody>\n",
              "</table>\n",
              "<p>91 rows × 11 columns</p>\n",
              "</div>"
            ],
            "text/plain": [
              "    Year               Honor                Name        Country  Birth Year  \\\n",
              "0   1927     Man of the Year   Charles Lindbergh  United States      1902.0   \n",
              "1   1928     Man of the Year     Walter Chrysler  United States      1875.0   \n",
              "2   1929     Man of the Year       Owen D. Young  United States      1874.0   \n",
              "3   1930     Man of the Year      Mahatma Gandhi          India      1869.0   \n",
              "4   1931     Man of the Year        Pierre Laval         France      1883.0   \n",
              "..   ...                 ...                 ...            ...         ...   \n",
              "86  2012  Person of the Year        Barack Obama  United States      1961.0   \n",
              "87  2013  Person of the Year        Pope Francis   Vatican City      1936.0   \n",
              "88  2014  Person of the Year  The Ebola Fighters            NaN         NaN   \n",
              "89  2015  Person of the Year       Angela Merkel        Germany      1954.0   \n",
              "90  2016  Person of the Year        Donald Trump  United States      1946.0   \n",
              "\n",
              "    Death Year                                              Title    Category  \\\n",
              "0       1974.0                                  US Air Mail Pilot         NaN   \n",
              "1       1940.0                                Founder of Chrysler   Economics   \n",
              "2       1962.0  Member of the German Reparations International...   Diplomacy   \n",
              "3       1948.0                                                NaN  Revolution   \n",
              "4       1945.0                           Prime Minister of France    Politics   \n",
              "..         ...                                                ...         ...   \n",
              "86         NaN                     President of the United States    Politics   \n",
              "87         NaN                  Pope of the Roman Catholic Church    Religion   \n",
              "88         NaN                                                NaN     Science   \n",
              "89         NaN                              Chancellor of Germany    Politics   \n",
              "90         NaN                     President of the United States    Politics   \n",
              "\n",
              "                                              Context  Category Ordinal  \\\n",
              "0                     First Solo Transatlantic Flight                 0   \n",
              "1                               Chrysler/Dodge Merger                 9   \n",
              "2                                          Young Plan                11   \n",
              "3                                          Salt March                 8   \n",
              "4                                                 NaN                 6   \n",
              "..                                                ...               ...   \n",
              "86                              Presidential Election                 6   \n",
              "87                                     Papal Conclave                12   \n",
              "88                                     Ebola Epidemic                10   \n",
              "89  Debt Crisis; Refugee Crisis; Paris Terrorist A...                 6   \n",
              "90                              Presidential Election                 6   \n",
              "\n",
              "    Lifespan  \n",
              "0       72.0  \n",
              "1       65.0  \n",
              "2       88.0  \n",
              "3       79.0  \n",
              "4       62.0  \n",
              "..       ...  \n",
              "86       NaN  \n",
              "87       NaN  \n",
              "88       NaN  \n",
              "89       NaN  \n",
              "90       NaN  \n",
              "\n",
              "[91 rows x 11 columns]"
            ]
          },
          "execution_count": 8,
          "metadata": {},
          "output_type": "execute_result"
        }
      ],
      "source": [
        "time['Lifespan'] = time['Death Year'] - time['Birth Year']\n",
        "time"
      ]
    },
    {
      "cell_type": "markdown",
      "metadata": {
        "id": "fXpuZspvMNfo"
      },
      "source": [
        "Notice that the method acknowledged that some columns were `NaN` (since the person is still alive) and thus put a `NaN` as a result in the lifespan column."
      ]
    },
    {
      "cell_type": "markdown",
      "metadata": {
        "id": "2g_FB2MqMNfp"
      },
      "source": [
        "Sometimes you want to do \"more difficult\" numerical conversions"
      ]
    },
    {
      "cell_type": "markdown",
      "metadata": {
        "id": "MPw1_Z-HMNfq"
      },
      "source": [
        "In those cases it is more convenient to define a **function** and then use the `apply` method"
      ]
    },
    {
      "cell_type": "markdown",
      "metadata": {
        "id": "FUZ59Kb3MNfq"
      },
      "source": [
        "In this example, we will define a function to convert years to decades to be applied in the different columns that contain years"
      ]
    },
    {
      "cell_type": "code",
      "execution_count": null,
      "metadata": {
        "id": "Jjgg7FbUMNfs",
        "outputId": "177282ec-5f0a-4d90-b9ef-c075b60fb1a7"
      },
      "outputs": [
        {
          "data": {
            "text/plain": [
              "1950"
            ]
          },
          "execution_count": 10,
          "metadata": {},
          "output_type": "execute_result"
        }
      ],
      "source": [
        "# How the // operation works?\n",
        "10*(1956//10)"
      ]
    },
    {
      "cell_type": "code",
      "execution_count": null,
      "metadata": {
        "id": "yLPg1hJWMNft"
      },
      "outputs": [],
      "source": [
        "def to_decade(value):\n",
        "    return 10 * (value // 10)"
      ]
    },
    {
      "cell_type": "markdown",
      "metadata": {
        "id": "Og5CsjmdMNfv"
      },
      "source": [
        "First we should test our function on some examples to ensure the function is correct."
      ]
    },
    {
      "cell_type": "code",
      "execution_count": null,
      "metadata": {
        "id": "QWANHmh1MNfw",
        "outputId": "cac59dd7-7e3a-4e40-9429-eff3eccf423e"
      },
      "outputs": [
        {
          "data": {
            "text/plain": [
              "1970"
            ]
          },
          "execution_count": 11,
          "metadata": {},
          "output_type": "execute_result"
        }
      ],
      "source": [
        "to_decade(1971)"
      ]
    },
    {
      "cell_type": "markdown",
      "metadata": {
        "id": "4tIZcZzvMNfx"
      },
      "source": [
        "Now we can use `apply` to transform the entire column `Birth Year` into the corresponding decade"
      ]
    },
    {
      "cell_type": "code",
      "execution_count": null,
      "metadata": {
        "id": "ewVJSRl-MNfz",
        "outputId": "ac835d32-9404-41af-c7cb-8e39c8e4500c"
      },
      "outputs": [
        {
          "data": {
            "text/html": [
              "<div>\n",
              "<style scoped>\n",
              "    .dataframe tbody tr th:only-of-type {\n",
              "        vertical-align: middle;\n",
              "    }\n",
              "\n",
              "    .dataframe tbody tr th {\n",
              "        vertical-align: top;\n",
              "    }\n",
              "\n",
              "    .dataframe thead th {\n",
              "        text-align: right;\n",
              "    }\n",
              "</style>\n",
              "<table border=\"1\" class=\"dataframe\">\n",
              "  <thead>\n",
              "    <tr style=\"text-align: right;\">\n",
              "      <th></th>\n",
              "      <th>Year</th>\n",
              "      <th>Honor</th>\n",
              "      <th>Name</th>\n",
              "      <th>Country</th>\n",
              "      <th>Birth Year</th>\n",
              "      <th>Death Year</th>\n",
              "      <th>Title</th>\n",
              "      <th>Category</th>\n",
              "      <th>Context</th>\n",
              "      <th>Category Ordinal</th>\n",
              "      <th>Lifespan</th>\n",
              "      <th>Birth Decade</th>\n",
              "    </tr>\n",
              "  </thead>\n",
              "  <tbody>\n",
              "    <tr>\n",
              "      <th>0</th>\n",
              "      <td>1927</td>\n",
              "      <td>Man of the Year</td>\n",
              "      <td>Charles Lindbergh</td>\n",
              "      <td>United States</td>\n",
              "      <td>1902.0</td>\n",
              "      <td>1974.0</td>\n",
              "      <td>US Air Mail Pilot</td>\n",
              "      <td>NaN</td>\n",
              "      <td>First Solo Transatlantic Flight</td>\n",
              "      <td>0</td>\n",
              "      <td>72.0</td>\n",
              "      <td>1900.0</td>\n",
              "    </tr>\n",
              "    <tr>\n",
              "      <th>1</th>\n",
              "      <td>1928</td>\n",
              "      <td>Man of the Year</td>\n",
              "      <td>Walter Chrysler</td>\n",
              "      <td>United States</td>\n",
              "      <td>1875.0</td>\n",
              "      <td>1940.0</td>\n",
              "      <td>Founder of Chrysler</td>\n",
              "      <td>Economics</td>\n",
              "      <td>Chrysler/Dodge Merger</td>\n",
              "      <td>9</td>\n",
              "      <td>65.0</td>\n",
              "      <td>1870.0</td>\n",
              "    </tr>\n",
              "    <tr>\n",
              "      <th>2</th>\n",
              "      <td>1929</td>\n",
              "      <td>Man of the Year</td>\n",
              "      <td>Owen D. Young</td>\n",
              "      <td>United States</td>\n",
              "      <td>1874.0</td>\n",
              "      <td>1962.0</td>\n",
              "      <td>Member of the German Reparations International...</td>\n",
              "      <td>Diplomacy</td>\n",
              "      <td>Young Plan</td>\n",
              "      <td>11</td>\n",
              "      <td>88.0</td>\n",
              "      <td>1870.0</td>\n",
              "    </tr>\n",
              "    <tr>\n",
              "      <th>3</th>\n",
              "      <td>1930</td>\n",
              "      <td>Man of the Year</td>\n",
              "      <td>Mahatma Gandhi</td>\n",
              "      <td>India</td>\n",
              "      <td>1869.0</td>\n",
              "      <td>1948.0</td>\n",
              "      <td>NaN</td>\n",
              "      <td>Revolution</td>\n",
              "      <td>Salt March</td>\n",
              "      <td>8</td>\n",
              "      <td>79.0</td>\n",
              "      <td>1860.0</td>\n",
              "    </tr>\n",
              "    <tr>\n",
              "      <th>4</th>\n",
              "      <td>1931</td>\n",
              "      <td>Man of the Year</td>\n",
              "      <td>Pierre Laval</td>\n",
              "      <td>France</td>\n",
              "      <td>1883.0</td>\n",
              "      <td>1945.0</td>\n",
              "      <td>Prime Minister of France</td>\n",
              "      <td>Politics</td>\n",
              "      <td>NaN</td>\n",
              "      <td>6</td>\n",
              "      <td>62.0</td>\n",
              "      <td>1880.0</td>\n",
              "    </tr>\n",
              "    <tr>\n",
              "      <th>...</th>\n",
              "      <td>...</td>\n",
              "      <td>...</td>\n",
              "      <td>...</td>\n",
              "      <td>...</td>\n",
              "      <td>...</td>\n",
              "      <td>...</td>\n",
              "      <td>...</td>\n",
              "      <td>...</td>\n",
              "      <td>...</td>\n",
              "      <td>...</td>\n",
              "      <td>...</td>\n",
              "      <td>...</td>\n",
              "    </tr>\n",
              "    <tr>\n",
              "      <th>86</th>\n",
              "      <td>2012</td>\n",
              "      <td>Person of the Year</td>\n",
              "      <td>Barack Obama</td>\n",
              "      <td>United States</td>\n",
              "      <td>1961.0</td>\n",
              "      <td>NaN</td>\n",
              "      <td>President of the United States</td>\n",
              "      <td>Politics</td>\n",
              "      <td>Presidential Election</td>\n",
              "      <td>6</td>\n",
              "      <td>NaN</td>\n",
              "      <td>1960.0</td>\n",
              "    </tr>\n",
              "    <tr>\n",
              "      <th>87</th>\n",
              "      <td>2013</td>\n",
              "      <td>Person of the Year</td>\n",
              "      <td>Pope Francis</td>\n",
              "      <td>Vatican City</td>\n",
              "      <td>1936.0</td>\n",
              "      <td>NaN</td>\n",
              "      <td>Pope of the Roman Catholic Church</td>\n",
              "      <td>Religion</td>\n",
              "      <td>Papal Conclave</td>\n",
              "      <td>12</td>\n",
              "      <td>NaN</td>\n",
              "      <td>1930.0</td>\n",
              "    </tr>\n",
              "    <tr>\n",
              "      <th>88</th>\n",
              "      <td>2014</td>\n",
              "      <td>Person of the Year</td>\n",
              "      <td>The Ebola Fighters</td>\n",
              "      <td>NaN</td>\n",
              "      <td>NaN</td>\n",
              "      <td>NaN</td>\n",
              "      <td>NaN</td>\n",
              "      <td>Science</td>\n",
              "      <td>Ebola Epidemic</td>\n",
              "      <td>10</td>\n",
              "      <td>NaN</td>\n",
              "      <td>NaN</td>\n",
              "    </tr>\n",
              "    <tr>\n",
              "      <th>89</th>\n",
              "      <td>2015</td>\n",
              "      <td>Person of the Year</td>\n",
              "      <td>Angela Merkel</td>\n",
              "      <td>Germany</td>\n",
              "      <td>1954.0</td>\n",
              "      <td>NaN</td>\n",
              "      <td>Chancellor of Germany</td>\n",
              "      <td>Politics</td>\n",
              "      <td>Debt Crisis; Refugee Crisis; Paris Terrorist A...</td>\n",
              "      <td>6</td>\n",
              "      <td>NaN</td>\n",
              "      <td>1950.0</td>\n",
              "    </tr>\n",
              "    <tr>\n",
              "      <th>90</th>\n",
              "      <td>2016</td>\n",
              "      <td>Person of the Year</td>\n",
              "      <td>Donald Trump</td>\n",
              "      <td>United States</td>\n",
              "      <td>1946.0</td>\n",
              "      <td>NaN</td>\n",
              "      <td>President of the United States</td>\n",
              "      <td>Politics</td>\n",
              "      <td>Presidential Election</td>\n",
              "      <td>6</td>\n",
              "      <td>NaN</td>\n",
              "      <td>1940.0</td>\n",
              "    </tr>\n",
              "  </tbody>\n",
              "</table>\n",
              "<p>91 rows × 12 columns</p>\n",
              "</div>"
            ],
            "text/plain": [
              "    Year               Honor                Name        Country  Birth Year  \\\n",
              "0   1927     Man of the Year   Charles Lindbergh  United States      1902.0   \n",
              "1   1928     Man of the Year     Walter Chrysler  United States      1875.0   \n",
              "2   1929     Man of the Year       Owen D. Young  United States      1874.0   \n",
              "3   1930     Man of the Year      Mahatma Gandhi          India      1869.0   \n",
              "4   1931     Man of the Year        Pierre Laval         France      1883.0   \n",
              "..   ...                 ...                 ...            ...         ...   \n",
              "86  2012  Person of the Year        Barack Obama  United States      1961.0   \n",
              "87  2013  Person of the Year        Pope Francis   Vatican City      1936.0   \n",
              "88  2014  Person of the Year  The Ebola Fighters            NaN         NaN   \n",
              "89  2015  Person of the Year       Angela Merkel        Germany      1954.0   \n",
              "90  2016  Person of the Year        Donald Trump  United States      1946.0   \n",
              "\n",
              "    Death Year                                              Title    Category  \\\n",
              "0       1974.0                                  US Air Mail Pilot         NaN   \n",
              "1       1940.0                                Founder of Chrysler   Economics   \n",
              "2       1962.0  Member of the German Reparations International...   Diplomacy   \n",
              "3       1948.0                                                NaN  Revolution   \n",
              "4       1945.0                           Prime Minister of France    Politics   \n",
              "..         ...                                                ...         ...   \n",
              "86         NaN                     President of the United States    Politics   \n",
              "87         NaN                  Pope of the Roman Catholic Church    Religion   \n",
              "88         NaN                                                NaN     Science   \n",
              "89         NaN                              Chancellor of Germany    Politics   \n",
              "90         NaN                     President of the United States    Politics   \n",
              "\n",
              "                                              Context  Category Ordinal  \\\n",
              "0                     First Solo Transatlantic Flight                 0   \n",
              "1                               Chrysler/Dodge Merger                 9   \n",
              "2                                          Young Plan                11   \n",
              "3                                          Salt March                 8   \n",
              "4                                                 NaN                 6   \n",
              "..                                                ...               ...   \n",
              "86                              Presidential Election                 6   \n",
              "87                                     Papal Conclave                12   \n",
              "88                                     Ebola Epidemic                10   \n",
              "89  Debt Crisis; Refugee Crisis; Paris Terrorist A...                 6   \n",
              "90                              Presidential Election                 6   \n",
              "\n",
              "    Lifespan  Birth Decade  \n",
              "0       72.0        1900.0  \n",
              "1       65.0        1870.0  \n",
              "2       88.0        1870.0  \n",
              "3       79.0        1860.0  \n",
              "4       62.0        1880.0  \n",
              "..       ...           ...  \n",
              "86       NaN        1960.0  \n",
              "87       NaN        1930.0  \n",
              "88       NaN           NaN  \n",
              "89       NaN        1950.0  \n",
              "90       NaN        1940.0  \n",
              "\n",
              "[91 rows x 12 columns]"
            ]
          },
          "execution_count": 12,
          "metadata": {},
          "output_type": "execute_result"
        }
      ],
      "source": [
        "time['Birth Decade'] = time['Birth Year'].apply(to_decade)\n",
        "time"
      ]
    },
    {
      "cell_type": "markdown",
      "metadata": {
        "id": "0RutXBijMNf0"
      },
      "source": [
        "### Manipulating String Columns"
      ]
    },
    {
      "cell_type": "markdown",
      "metadata": {
        "id": "cvAufG-KMNf2"
      },
      "source": [
        "`apply` can also be used on strings"
      ]
    },
    {
      "cell_type": "markdown",
      "metadata": {
        "id": "BTkO6F6eMNf2"
      },
      "source": [
        "For example, we can apply the `len` function to `Name` to get the number of characters in each name."
      ]
    },
    {
      "cell_type": "code",
      "execution_count": null,
      "metadata": {
        "id": "oWYyTuHWMNf3",
        "outputId": "ab5672b9-f994-40df-bc40-b0e2228fb339"
      },
      "outputs": [
        {
          "data": {
            "text/html": [
              "<div>\n",
              "<style scoped>\n",
              "    .dataframe tbody tr th:only-of-type {\n",
              "        vertical-align: middle;\n",
              "    }\n",
              "\n",
              "    .dataframe tbody tr th {\n",
              "        vertical-align: top;\n",
              "    }\n",
              "\n",
              "    .dataframe thead th {\n",
              "        text-align: right;\n",
              "    }\n",
              "</style>\n",
              "<table border=\"1\" class=\"dataframe\">\n",
              "  <thead>\n",
              "    <tr style=\"text-align: right;\">\n",
              "      <th></th>\n",
              "      <th>Year</th>\n",
              "      <th>Honor</th>\n",
              "      <th>Name</th>\n",
              "      <th>Country</th>\n",
              "      <th>Birth Year</th>\n",
              "      <th>Death Year</th>\n",
              "      <th>Title</th>\n",
              "      <th>Category</th>\n",
              "      <th>Context</th>\n",
              "      <th>Category Ordinal</th>\n",
              "      <th>Lifespan</th>\n",
              "      <th>Birth Decade</th>\n",
              "      <th>Name Length</th>\n",
              "    </tr>\n",
              "  </thead>\n",
              "  <tbody>\n",
              "    <tr>\n",
              "      <th>0</th>\n",
              "      <td>1927</td>\n",
              "      <td>Man of the Year</td>\n",
              "      <td>Charles Lindbergh</td>\n",
              "      <td>United States</td>\n",
              "      <td>1902.0</td>\n",
              "      <td>1974.0</td>\n",
              "      <td>US Air Mail Pilot</td>\n",
              "      <td>NaN</td>\n",
              "      <td>First Solo Transatlantic Flight</td>\n",
              "      <td>0</td>\n",
              "      <td>72.0</td>\n",
              "      <td>1900.0</td>\n",
              "      <td>17</td>\n",
              "    </tr>\n",
              "    <tr>\n",
              "      <th>1</th>\n",
              "      <td>1928</td>\n",
              "      <td>Man of the Year</td>\n",
              "      <td>Walter Chrysler</td>\n",
              "      <td>United States</td>\n",
              "      <td>1875.0</td>\n",
              "      <td>1940.0</td>\n",
              "      <td>Founder of Chrysler</td>\n",
              "      <td>Economics</td>\n",
              "      <td>Chrysler/Dodge Merger</td>\n",
              "      <td>9</td>\n",
              "      <td>65.0</td>\n",
              "      <td>1870.0</td>\n",
              "      <td>15</td>\n",
              "    </tr>\n",
              "    <tr>\n",
              "      <th>2</th>\n",
              "      <td>1929</td>\n",
              "      <td>Man of the Year</td>\n",
              "      <td>Owen D. Young</td>\n",
              "      <td>United States</td>\n",
              "      <td>1874.0</td>\n",
              "      <td>1962.0</td>\n",
              "      <td>Member of the German Reparations International...</td>\n",
              "      <td>Diplomacy</td>\n",
              "      <td>Young Plan</td>\n",
              "      <td>11</td>\n",
              "      <td>88.0</td>\n",
              "      <td>1870.0</td>\n",
              "      <td>13</td>\n",
              "    </tr>\n",
              "    <tr>\n",
              "      <th>3</th>\n",
              "      <td>1930</td>\n",
              "      <td>Man of the Year</td>\n",
              "      <td>Mahatma Gandhi</td>\n",
              "      <td>India</td>\n",
              "      <td>1869.0</td>\n",
              "      <td>1948.0</td>\n",
              "      <td>NaN</td>\n",
              "      <td>Revolution</td>\n",
              "      <td>Salt March</td>\n",
              "      <td>8</td>\n",
              "      <td>79.0</td>\n",
              "      <td>1860.0</td>\n",
              "      <td>14</td>\n",
              "    </tr>\n",
              "    <tr>\n",
              "      <th>4</th>\n",
              "      <td>1931</td>\n",
              "      <td>Man of the Year</td>\n",
              "      <td>Pierre Laval</td>\n",
              "      <td>France</td>\n",
              "      <td>1883.0</td>\n",
              "      <td>1945.0</td>\n",
              "      <td>Prime Minister of France</td>\n",
              "      <td>Politics</td>\n",
              "      <td>NaN</td>\n",
              "      <td>6</td>\n",
              "      <td>62.0</td>\n",
              "      <td>1880.0</td>\n",
              "      <td>12</td>\n",
              "    </tr>\n",
              "    <tr>\n",
              "      <th>...</th>\n",
              "      <td>...</td>\n",
              "      <td>...</td>\n",
              "      <td>...</td>\n",
              "      <td>...</td>\n",
              "      <td>...</td>\n",
              "      <td>...</td>\n",
              "      <td>...</td>\n",
              "      <td>...</td>\n",
              "      <td>...</td>\n",
              "      <td>...</td>\n",
              "      <td>...</td>\n",
              "      <td>...</td>\n",
              "      <td>...</td>\n",
              "    </tr>\n",
              "    <tr>\n",
              "      <th>86</th>\n",
              "      <td>2012</td>\n",
              "      <td>Person of the Year</td>\n",
              "      <td>Barack Obama</td>\n",
              "      <td>United States</td>\n",
              "      <td>1961.0</td>\n",
              "      <td>NaN</td>\n",
              "      <td>President of the United States</td>\n",
              "      <td>Politics</td>\n",
              "      <td>Presidential Election</td>\n",
              "      <td>6</td>\n",
              "      <td>NaN</td>\n",
              "      <td>1960.0</td>\n",
              "      <td>12</td>\n",
              "    </tr>\n",
              "    <tr>\n",
              "      <th>87</th>\n",
              "      <td>2013</td>\n",
              "      <td>Person of the Year</td>\n",
              "      <td>Pope Francis</td>\n",
              "      <td>Vatican City</td>\n",
              "      <td>1936.0</td>\n",
              "      <td>NaN</td>\n",
              "      <td>Pope of the Roman Catholic Church</td>\n",
              "      <td>Religion</td>\n",
              "      <td>Papal Conclave</td>\n",
              "      <td>12</td>\n",
              "      <td>NaN</td>\n",
              "      <td>1930.0</td>\n",
              "      <td>12</td>\n",
              "    </tr>\n",
              "    <tr>\n",
              "      <th>88</th>\n",
              "      <td>2014</td>\n",
              "      <td>Person of the Year</td>\n",
              "      <td>The Ebola Fighters</td>\n",
              "      <td>NaN</td>\n",
              "      <td>NaN</td>\n",
              "      <td>NaN</td>\n",
              "      <td>NaN</td>\n",
              "      <td>Science</td>\n",
              "      <td>Ebola Epidemic</td>\n",
              "      <td>10</td>\n",
              "      <td>NaN</td>\n",
              "      <td>NaN</td>\n",
              "      <td>18</td>\n",
              "    </tr>\n",
              "    <tr>\n",
              "      <th>89</th>\n",
              "      <td>2015</td>\n",
              "      <td>Person of the Year</td>\n",
              "      <td>Angela Merkel</td>\n",
              "      <td>Germany</td>\n",
              "      <td>1954.0</td>\n",
              "      <td>NaN</td>\n",
              "      <td>Chancellor of Germany</td>\n",
              "      <td>Politics</td>\n",
              "      <td>Debt Crisis; Refugee Crisis; Paris Terrorist A...</td>\n",
              "      <td>6</td>\n",
              "      <td>NaN</td>\n",
              "      <td>1950.0</td>\n",
              "      <td>13</td>\n",
              "    </tr>\n",
              "    <tr>\n",
              "      <th>90</th>\n",
              "      <td>2016</td>\n",
              "      <td>Person of the Year</td>\n",
              "      <td>Donald Trump</td>\n",
              "      <td>United States</td>\n",
              "      <td>1946.0</td>\n",
              "      <td>NaN</td>\n",
              "      <td>President of the United States</td>\n",
              "      <td>Politics</td>\n",
              "      <td>Presidential Election</td>\n",
              "      <td>6</td>\n",
              "      <td>NaN</td>\n",
              "      <td>1940.0</td>\n",
              "      <td>12</td>\n",
              "    </tr>\n",
              "  </tbody>\n",
              "</table>\n",
              "<p>91 rows × 13 columns</p>\n",
              "</div>"
            ],
            "text/plain": [
              "    Year               Honor                Name        Country  Birth Year  \\\n",
              "0   1927     Man of the Year   Charles Lindbergh  United States      1902.0   \n",
              "1   1928     Man of the Year     Walter Chrysler  United States      1875.0   \n",
              "2   1929     Man of the Year       Owen D. Young  United States      1874.0   \n",
              "3   1930     Man of the Year      Mahatma Gandhi          India      1869.0   \n",
              "4   1931     Man of the Year        Pierre Laval         France      1883.0   \n",
              "..   ...                 ...                 ...            ...         ...   \n",
              "86  2012  Person of the Year        Barack Obama  United States      1961.0   \n",
              "87  2013  Person of the Year        Pope Francis   Vatican City      1936.0   \n",
              "88  2014  Person of the Year  The Ebola Fighters            NaN         NaN   \n",
              "89  2015  Person of the Year       Angela Merkel        Germany      1954.0   \n",
              "90  2016  Person of the Year        Donald Trump  United States      1946.0   \n",
              "\n",
              "    Death Year                                              Title    Category  \\\n",
              "0       1974.0                                  US Air Mail Pilot         NaN   \n",
              "1       1940.0                                Founder of Chrysler   Economics   \n",
              "2       1962.0  Member of the German Reparations International...   Diplomacy   \n",
              "3       1948.0                                                NaN  Revolution   \n",
              "4       1945.0                           Prime Minister of France    Politics   \n",
              "..         ...                                                ...         ...   \n",
              "86         NaN                     President of the United States    Politics   \n",
              "87         NaN                  Pope of the Roman Catholic Church    Religion   \n",
              "88         NaN                                                NaN     Science   \n",
              "89         NaN                              Chancellor of Germany    Politics   \n",
              "90         NaN                     President of the United States    Politics   \n",
              "\n",
              "                                              Context  Category Ordinal  \\\n",
              "0                     First Solo Transatlantic Flight                 0   \n",
              "1                               Chrysler/Dodge Merger                 9   \n",
              "2                                          Young Plan                11   \n",
              "3                                          Salt March                 8   \n",
              "4                                                 NaN                 6   \n",
              "..                                                ...               ...   \n",
              "86                              Presidential Election                 6   \n",
              "87                                     Papal Conclave                12   \n",
              "88                                     Ebola Epidemic                10   \n",
              "89  Debt Crisis; Refugee Crisis; Paris Terrorist A...                 6   \n",
              "90                              Presidential Election                 6   \n",
              "\n",
              "    Lifespan  Birth Decade  Name Length  \n",
              "0       72.0        1900.0           17  \n",
              "1       65.0        1870.0           15  \n",
              "2       88.0        1870.0           13  \n",
              "3       79.0        1860.0           14  \n",
              "4       62.0        1880.0           12  \n",
              "..       ...           ...          ...  \n",
              "86       NaN        1960.0           12  \n",
              "87       NaN        1930.0           12  \n",
              "88       NaN           NaN           18  \n",
              "89       NaN        1950.0           13  \n",
              "90       NaN        1940.0           12  \n",
              "\n",
              "[91 rows x 13 columns]"
            ]
          },
          "execution_count": 13,
          "metadata": {},
          "output_type": "execute_result"
        }
      ],
      "source": [
        "time['Name Length'] = time['Name'].apply(len)\n",
        "time"
      ]
    },
    {
      "cell_type": "markdown",
      "metadata": {
        "id": "agUCn31oMNf4"
      },
      "source": [
        "Another example, we can create a function to get the initials from a name."
      ]
    },
    {
      "cell_type": "code",
      "execution_count": null,
      "metadata": {
        "id": "5vHG3k__MNf5",
        "outputId": "e7a475e2-0f9e-4ae6-914e-9497dfa2ade9"
      },
      "outputs": [
        {
          "data": {
            "text/plain": [
              "'BO'"
            ]
          },
          "execution_count": 14,
          "metadata": {},
          "output_type": "execute_result"
        }
      ],
      "source": [
        "# First we define the function\n",
        "def to_initials(name):\n",
        "    import numpy as np # we need this for Python to know what NaN is!\n",
        "    if name == np.NaN:\n",
        "        return np.NaN\n",
        "    else:\n",
        "        initials = \"\"\n",
        "        for word in name.split(' '):\n",
        "            first_letter = word[0]\n",
        "            initials += first_letter\n",
        "        return initials\n",
        "    # Then, we try it\n",
        "to_initials(\"Barack Obama\")"
      ]
    },
    {
      "cell_type": "markdown",
      "metadata": {
        "id": "qbkwzSqKMNf6"
      },
      "source": [
        "Applying this gives us a name column with the person's initials."
      ]
    },
    {
      "cell_type": "code",
      "execution_count": null,
      "metadata": {
        "id": "S7wD9qvoMNf7",
        "outputId": "8d8c28d3-0a89-4881-ae1b-194e9827861c"
      },
      "outputs": [
        {
          "data": {
            "text/html": [
              "<div>\n",
              "<style scoped>\n",
              "    .dataframe tbody tr th:only-of-type {\n",
              "        vertical-align: middle;\n",
              "    }\n",
              "\n",
              "    .dataframe tbody tr th {\n",
              "        vertical-align: top;\n",
              "    }\n",
              "\n",
              "    .dataframe thead th {\n",
              "        text-align: right;\n",
              "    }\n",
              "</style>\n",
              "<table border=\"1\" class=\"dataframe\">\n",
              "  <thead>\n",
              "    <tr style=\"text-align: right;\">\n",
              "      <th></th>\n",
              "      <th>Year</th>\n",
              "      <th>Honor</th>\n",
              "      <th>Name</th>\n",
              "      <th>Country</th>\n",
              "      <th>Birth Year</th>\n",
              "      <th>Death Year</th>\n",
              "      <th>Title</th>\n",
              "      <th>Category</th>\n",
              "      <th>Context</th>\n",
              "      <th>Category Ordinal</th>\n",
              "      <th>Lifespan</th>\n",
              "      <th>Birth Decade</th>\n",
              "      <th>Name Length</th>\n",
              "      <th>Initials</th>\n",
              "    </tr>\n",
              "  </thead>\n",
              "  <tbody>\n",
              "    <tr>\n",
              "      <th>0</th>\n",
              "      <td>1927</td>\n",
              "      <td>Man of the Year</td>\n",
              "      <td>Charles Lindbergh</td>\n",
              "      <td>United States</td>\n",
              "      <td>1902.0</td>\n",
              "      <td>1974.0</td>\n",
              "      <td>US Air Mail Pilot</td>\n",
              "      <td>NaN</td>\n",
              "      <td>First Solo Transatlantic Flight</td>\n",
              "      <td>0</td>\n",
              "      <td>72.0</td>\n",
              "      <td>1900.0</td>\n",
              "      <td>17</td>\n",
              "      <td>CL</td>\n",
              "    </tr>\n",
              "    <tr>\n",
              "      <th>1</th>\n",
              "      <td>1928</td>\n",
              "      <td>Man of the Year</td>\n",
              "      <td>Walter Chrysler</td>\n",
              "      <td>United States</td>\n",
              "      <td>1875.0</td>\n",
              "      <td>1940.0</td>\n",
              "      <td>Founder of Chrysler</td>\n",
              "      <td>Economics</td>\n",
              "      <td>Chrysler/Dodge Merger</td>\n",
              "      <td>9</td>\n",
              "      <td>65.0</td>\n",
              "      <td>1870.0</td>\n",
              "      <td>15</td>\n",
              "      <td>WC</td>\n",
              "    </tr>\n",
              "    <tr>\n",
              "      <th>2</th>\n",
              "      <td>1929</td>\n",
              "      <td>Man of the Year</td>\n",
              "      <td>Owen D. Young</td>\n",
              "      <td>United States</td>\n",
              "      <td>1874.0</td>\n",
              "      <td>1962.0</td>\n",
              "      <td>Member of the German Reparations International...</td>\n",
              "      <td>Diplomacy</td>\n",
              "      <td>Young Plan</td>\n",
              "      <td>11</td>\n",
              "      <td>88.0</td>\n",
              "      <td>1870.0</td>\n",
              "      <td>13</td>\n",
              "      <td>ODY</td>\n",
              "    </tr>\n",
              "    <tr>\n",
              "      <th>3</th>\n",
              "      <td>1930</td>\n",
              "      <td>Man of the Year</td>\n",
              "      <td>Mahatma Gandhi</td>\n",
              "      <td>India</td>\n",
              "      <td>1869.0</td>\n",
              "      <td>1948.0</td>\n",
              "      <td>NaN</td>\n",
              "      <td>Revolution</td>\n",
              "      <td>Salt March</td>\n",
              "      <td>8</td>\n",
              "      <td>79.0</td>\n",
              "      <td>1860.0</td>\n",
              "      <td>14</td>\n",
              "      <td>MG</td>\n",
              "    </tr>\n",
              "    <tr>\n",
              "      <th>4</th>\n",
              "      <td>1931</td>\n",
              "      <td>Man of the Year</td>\n",
              "      <td>Pierre Laval</td>\n",
              "      <td>France</td>\n",
              "      <td>1883.0</td>\n",
              "      <td>1945.0</td>\n",
              "      <td>Prime Minister of France</td>\n",
              "      <td>Politics</td>\n",
              "      <td>NaN</td>\n",
              "      <td>6</td>\n",
              "      <td>62.0</td>\n",
              "      <td>1880.0</td>\n",
              "      <td>12</td>\n",
              "      <td>PL</td>\n",
              "    </tr>\n",
              "    <tr>\n",
              "      <th>...</th>\n",
              "      <td>...</td>\n",
              "      <td>...</td>\n",
              "      <td>...</td>\n",
              "      <td>...</td>\n",
              "      <td>...</td>\n",
              "      <td>...</td>\n",
              "      <td>...</td>\n",
              "      <td>...</td>\n",
              "      <td>...</td>\n",
              "      <td>...</td>\n",
              "      <td>...</td>\n",
              "      <td>...</td>\n",
              "      <td>...</td>\n",
              "      <td>...</td>\n",
              "    </tr>\n",
              "    <tr>\n",
              "      <th>86</th>\n",
              "      <td>2012</td>\n",
              "      <td>Person of the Year</td>\n",
              "      <td>Barack Obama</td>\n",
              "      <td>United States</td>\n",
              "      <td>1961.0</td>\n",
              "      <td>NaN</td>\n",
              "      <td>President of the United States</td>\n",
              "      <td>Politics</td>\n",
              "      <td>Presidential Election</td>\n",
              "      <td>6</td>\n",
              "      <td>NaN</td>\n",
              "      <td>1960.0</td>\n",
              "      <td>12</td>\n",
              "      <td>BO</td>\n",
              "    </tr>\n",
              "    <tr>\n",
              "      <th>87</th>\n",
              "      <td>2013</td>\n",
              "      <td>Person of the Year</td>\n",
              "      <td>Pope Francis</td>\n",
              "      <td>Vatican City</td>\n",
              "      <td>1936.0</td>\n",
              "      <td>NaN</td>\n",
              "      <td>Pope of the Roman Catholic Church</td>\n",
              "      <td>Religion</td>\n",
              "      <td>Papal Conclave</td>\n",
              "      <td>12</td>\n",
              "      <td>NaN</td>\n",
              "      <td>1930.0</td>\n",
              "      <td>12</td>\n",
              "      <td>PF</td>\n",
              "    </tr>\n",
              "    <tr>\n",
              "      <th>88</th>\n",
              "      <td>2014</td>\n",
              "      <td>Person of the Year</td>\n",
              "      <td>The Ebola Fighters</td>\n",
              "      <td>NaN</td>\n",
              "      <td>NaN</td>\n",
              "      <td>NaN</td>\n",
              "      <td>NaN</td>\n",
              "      <td>Science</td>\n",
              "      <td>Ebola Epidemic</td>\n",
              "      <td>10</td>\n",
              "      <td>NaN</td>\n",
              "      <td>NaN</td>\n",
              "      <td>18</td>\n",
              "      <td>TE</td>\n",
              "    </tr>\n",
              "    <tr>\n",
              "      <th>89</th>\n",
              "      <td>2015</td>\n",
              "      <td>Person of the Year</td>\n",
              "      <td>Angela Merkel</td>\n",
              "      <td>Germany</td>\n",
              "      <td>1954.0</td>\n",
              "      <td>NaN</td>\n",
              "      <td>Chancellor of Germany</td>\n",
              "      <td>Politics</td>\n",
              "      <td>Debt Crisis; Refugee Crisis; Paris Terrorist A...</td>\n",
              "      <td>6</td>\n",
              "      <td>NaN</td>\n",
              "      <td>1950.0</td>\n",
              "      <td>13</td>\n",
              "      <td>AM</td>\n",
              "    </tr>\n",
              "    <tr>\n",
              "      <th>90</th>\n",
              "      <td>2016</td>\n",
              "      <td>Person of the Year</td>\n",
              "      <td>Donald Trump</td>\n",
              "      <td>United States</td>\n",
              "      <td>1946.0</td>\n",
              "      <td>NaN</td>\n",
              "      <td>President of the United States</td>\n",
              "      <td>Politics</td>\n",
              "      <td>Presidential Election</td>\n",
              "      <td>6</td>\n",
              "      <td>NaN</td>\n",
              "      <td>1940.0</td>\n",
              "      <td>12</td>\n",
              "      <td>DT</td>\n",
              "    </tr>\n",
              "  </tbody>\n",
              "</table>\n",
              "<p>91 rows × 14 columns</p>\n",
              "</div>"
            ],
            "text/plain": [
              "    Year               Honor                Name        Country  Birth Year  \\\n",
              "0   1927     Man of the Year   Charles Lindbergh  United States      1902.0   \n",
              "1   1928     Man of the Year     Walter Chrysler  United States      1875.0   \n",
              "2   1929     Man of the Year       Owen D. Young  United States      1874.0   \n",
              "3   1930     Man of the Year      Mahatma Gandhi          India      1869.0   \n",
              "4   1931     Man of the Year        Pierre Laval         France      1883.0   \n",
              "..   ...                 ...                 ...            ...         ...   \n",
              "86  2012  Person of the Year        Barack Obama  United States      1961.0   \n",
              "87  2013  Person of the Year        Pope Francis   Vatican City      1936.0   \n",
              "88  2014  Person of the Year  The Ebola Fighters            NaN         NaN   \n",
              "89  2015  Person of the Year       Angela Merkel        Germany      1954.0   \n",
              "90  2016  Person of the Year        Donald Trump  United States      1946.0   \n",
              "\n",
              "    Death Year                                              Title    Category  \\\n",
              "0       1974.0                                  US Air Mail Pilot         NaN   \n",
              "1       1940.0                                Founder of Chrysler   Economics   \n",
              "2       1962.0  Member of the German Reparations International...   Diplomacy   \n",
              "3       1948.0                                                NaN  Revolution   \n",
              "4       1945.0                           Prime Minister of France    Politics   \n",
              "..         ...                                                ...         ...   \n",
              "86         NaN                     President of the United States    Politics   \n",
              "87         NaN                  Pope of the Roman Catholic Church    Religion   \n",
              "88         NaN                                                NaN     Science   \n",
              "89         NaN                              Chancellor of Germany    Politics   \n",
              "90         NaN                     President of the United States    Politics   \n",
              "\n",
              "                                              Context  Category Ordinal  \\\n",
              "0                     First Solo Transatlantic Flight                 0   \n",
              "1                               Chrysler/Dodge Merger                 9   \n",
              "2                                          Young Plan                11   \n",
              "3                                          Salt March                 8   \n",
              "4                                                 NaN                 6   \n",
              "..                                                ...               ...   \n",
              "86                              Presidential Election                 6   \n",
              "87                                     Papal Conclave                12   \n",
              "88                                     Ebola Epidemic                10   \n",
              "89  Debt Crisis; Refugee Crisis; Paris Terrorist A...                 6   \n",
              "90                              Presidential Election                 6   \n",
              "\n",
              "    Lifespan  Birth Decade  Name Length Initials  \n",
              "0       72.0        1900.0           17       CL  \n",
              "1       65.0        1870.0           15       WC  \n",
              "2       88.0        1870.0           13      ODY  \n",
              "3       79.0        1860.0           14       MG  \n",
              "4       62.0        1880.0           12       PL  \n",
              "..       ...           ...          ...      ...  \n",
              "86       NaN        1960.0           12       BO  \n",
              "87       NaN        1930.0           12       PF  \n",
              "88       NaN           NaN           18       TE  \n",
              "89       NaN        1950.0           13       AM  \n",
              "90       NaN        1940.0           12       DT  \n",
              "\n",
              "[91 rows x 14 columns]"
            ]
          },
          "execution_count": 15,
          "metadata": {},
          "output_type": "execute_result"
        }
      ],
      "source": [
        "time['Initials'] = time['Name'].apply(to_initials)\n",
        "time"
      ]
    },
    {
      "cell_type": "markdown",
      "metadata": {
        "id": "u1S441PsMNf8"
      },
      "source": [
        "What happens if we want to get rid of the \".0\" in the years?"
      ]
    },
    {
      "cell_type": "code",
      "execution_count": null,
      "metadata": {
        "id": "T1PAETjBMNf9",
        "outputId": "8e42fd3a-96dd-4e23-d574-a2f557039b13"
      },
      "outputs": [
        {
          "data": {
            "text/plain": [
              "True"
            ]
          },
          "execution_count": 16,
          "metadata": {},
          "output_type": "execute_result"
        }
      ],
      "source": [
        "# Check that some entries have nan in the year\n",
        "import numpy as np\n",
        "np.isnan(time.at[90,'Death Year'])"
      ]
    },
    {
      "cell_type": "code",
      "execution_count": null,
      "metadata": {
        "id": "uPUfZnHoMNf-",
        "outputId": "48f47076-41d5-46a2-ec2e-c6c3dc8d39e4"
      },
      "outputs": [
        {
          "data": {
            "text/html": [
              "<div>\n",
              "<style scoped>\n",
              "    .dataframe tbody tr th:only-of-type {\n",
              "        vertical-align: middle;\n",
              "    }\n",
              "\n",
              "    .dataframe tbody tr th {\n",
              "        vertical-align: top;\n",
              "    }\n",
              "\n",
              "    .dataframe thead th {\n",
              "        text-align: right;\n",
              "    }\n",
              "</style>\n",
              "<table border=\"1\" class=\"dataframe\">\n",
              "  <thead>\n",
              "    <tr style=\"text-align: right;\">\n",
              "      <th></th>\n",
              "      <th>Year</th>\n",
              "      <th>Honor</th>\n",
              "      <th>Name</th>\n",
              "      <th>Country</th>\n",
              "      <th>Birth Year</th>\n",
              "      <th>Death Year</th>\n",
              "      <th>Title</th>\n",
              "      <th>Category</th>\n",
              "      <th>Context</th>\n",
              "      <th>Category Ordinal</th>\n",
              "      <th>Lifespan</th>\n",
              "      <th>Birth Decade</th>\n",
              "      <th>Name Length</th>\n",
              "      <th>Initials</th>\n",
              "    </tr>\n",
              "  </thead>\n",
              "  <tbody>\n",
              "    <tr>\n",
              "      <th>0</th>\n",
              "      <td>1927</td>\n",
              "      <td>Man of the Year</td>\n",
              "      <td>Charles Lindbergh</td>\n",
              "      <td>United States</td>\n",
              "      <td>1902.0</td>\n",
              "      <td>1974.0</td>\n",
              "      <td>US Air Mail Pilot</td>\n",
              "      <td>NaN</td>\n",
              "      <td>First Solo Transatlantic Flight</td>\n",
              "      <td>0</td>\n",
              "      <td>72.0</td>\n",
              "      <td>1900.0</td>\n",
              "      <td>17</td>\n",
              "      <td>CL</td>\n",
              "    </tr>\n",
              "    <tr>\n",
              "      <th>1</th>\n",
              "      <td>1928</td>\n",
              "      <td>Man of the Year</td>\n",
              "      <td>Walter Chrysler</td>\n",
              "      <td>United States</td>\n",
              "      <td>1875.0</td>\n",
              "      <td>1940.0</td>\n",
              "      <td>Founder of Chrysler</td>\n",
              "      <td>Economics</td>\n",
              "      <td>Chrysler/Dodge Merger</td>\n",
              "      <td>9</td>\n",
              "      <td>65.0</td>\n",
              "      <td>1870.0</td>\n",
              "      <td>15</td>\n",
              "      <td>WC</td>\n",
              "    </tr>\n",
              "    <tr>\n",
              "      <th>2</th>\n",
              "      <td>1929</td>\n",
              "      <td>Man of the Year</td>\n",
              "      <td>Owen D. Young</td>\n",
              "      <td>United States</td>\n",
              "      <td>1874.0</td>\n",
              "      <td>1962.0</td>\n",
              "      <td>Member of the German Reparations International...</td>\n",
              "      <td>Diplomacy</td>\n",
              "      <td>Young Plan</td>\n",
              "      <td>11</td>\n",
              "      <td>88.0</td>\n",
              "      <td>1870.0</td>\n",
              "      <td>13</td>\n",
              "      <td>ODY</td>\n",
              "    </tr>\n",
              "    <tr>\n",
              "      <th>3</th>\n",
              "      <td>1930</td>\n",
              "      <td>Man of the Year</td>\n",
              "      <td>Mahatma Gandhi</td>\n",
              "      <td>India</td>\n",
              "      <td>1869.0</td>\n",
              "      <td>1948.0</td>\n",
              "      <td>NaN</td>\n",
              "      <td>Revolution</td>\n",
              "      <td>Salt March</td>\n",
              "      <td>8</td>\n",
              "      <td>79.0</td>\n",
              "      <td>1860.0</td>\n",
              "      <td>14</td>\n",
              "      <td>MG</td>\n",
              "    </tr>\n",
              "    <tr>\n",
              "      <th>4</th>\n",
              "      <td>1931</td>\n",
              "      <td>Man of the Year</td>\n",
              "      <td>Pierre Laval</td>\n",
              "      <td>France</td>\n",
              "      <td>1883.0</td>\n",
              "      <td>1945.0</td>\n",
              "      <td>Prime Minister of France</td>\n",
              "      <td>Politics</td>\n",
              "      <td>NaN</td>\n",
              "      <td>6</td>\n",
              "      <td>62.0</td>\n",
              "      <td>1880.0</td>\n",
              "      <td>12</td>\n",
              "      <td>PL</td>\n",
              "    </tr>\n",
              "    <tr>\n",
              "      <th>...</th>\n",
              "      <td>...</td>\n",
              "      <td>...</td>\n",
              "      <td>...</td>\n",
              "      <td>...</td>\n",
              "      <td>...</td>\n",
              "      <td>...</td>\n",
              "      <td>...</td>\n",
              "      <td>...</td>\n",
              "      <td>...</td>\n",
              "      <td>...</td>\n",
              "      <td>...</td>\n",
              "      <td>...</td>\n",
              "      <td>...</td>\n",
              "      <td>...</td>\n",
              "    </tr>\n",
              "    <tr>\n",
              "      <th>86</th>\n",
              "      <td>2012</td>\n",
              "      <td>Person of the Year</td>\n",
              "      <td>Barack Obama</td>\n",
              "      <td>United States</td>\n",
              "      <td>1961.0</td>\n",
              "      <td>NaN</td>\n",
              "      <td>President of the United States</td>\n",
              "      <td>Politics</td>\n",
              "      <td>Presidential Election</td>\n",
              "      <td>6</td>\n",
              "      <td>NaN</td>\n",
              "      <td>1960.0</td>\n",
              "      <td>12</td>\n",
              "      <td>BO</td>\n",
              "    </tr>\n",
              "    <tr>\n",
              "      <th>87</th>\n",
              "      <td>2013</td>\n",
              "      <td>Person of the Year</td>\n",
              "      <td>Pope Francis</td>\n",
              "      <td>Vatican City</td>\n",
              "      <td>1936.0</td>\n",
              "      <td>NaN</td>\n",
              "      <td>Pope of the Roman Catholic Church</td>\n",
              "      <td>Religion</td>\n",
              "      <td>Papal Conclave</td>\n",
              "      <td>12</td>\n",
              "      <td>NaN</td>\n",
              "      <td>1930.0</td>\n",
              "      <td>12</td>\n",
              "      <td>PF</td>\n",
              "    </tr>\n",
              "    <tr>\n",
              "      <th>88</th>\n",
              "      <td>2014</td>\n",
              "      <td>Person of the Year</td>\n",
              "      <td>The Ebola Fighters</td>\n",
              "      <td>NaN</td>\n",
              "      <td>NaN</td>\n",
              "      <td>NaN</td>\n",
              "      <td>NaN</td>\n",
              "      <td>Science</td>\n",
              "      <td>Ebola Epidemic</td>\n",
              "      <td>10</td>\n",
              "      <td>NaN</td>\n",
              "      <td>NaN</td>\n",
              "      <td>18</td>\n",
              "      <td>TE</td>\n",
              "    </tr>\n",
              "    <tr>\n",
              "      <th>89</th>\n",
              "      <td>2015</td>\n",
              "      <td>Person of the Year</td>\n",
              "      <td>Angela Merkel</td>\n",
              "      <td>Germany</td>\n",
              "      <td>1954.0</td>\n",
              "      <td>NaN</td>\n",
              "      <td>Chancellor of Germany</td>\n",
              "      <td>Politics</td>\n",
              "      <td>Debt Crisis; Refugee Crisis; Paris Terrorist A...</td>\n",
              "      <td>6</td>\n",
              "      <td>NaN</td>\n",
              "      <td>1950.0</td>\n",
              "      <td>13</td>\n",
              "      <td>AM</td>\n",
              "    </tr>\n",
              "    <tr>\n",
              "      <th>90</th>\n",
              "      <td>2016</td>\n",
              "      <td>Person of the Year</td>\n",
              "      <td>Donald Trump</td>\n",
              "      <td>United States</td>\n",
              "      <td>1946.0</td>\n",
              "      <td>NaN</td>\n",
              "      <td>President of the United States</td>\n",
              "      <td>Politics</td>\n",
              "      <td>Presidential Election</td>\n",
              "      <td>6</td>\n",
              "      <td>NaN</td>\n",
              "      <td>1940.0</td>\n",
              "      <td>12</td>\n",
              "      <td>DT</td>\n",
              "    </tr>\n",
              "  </tbody>\n",
              "</table>\n",
              "<p>91 rows × 14 columns</p>\n",
              "</div>"
            ],
            "text/plain": [
              "    Year               Honor                Name        Country  Birth Year  \\\n",
              "0   1927     Man of the Year   Charles Lindbergh  United States      1902.0   \n",
              "1   1928     Man of the Year     Walter Chrysler  United States      1875.0   \n",
              "2   1929     Man of the Year       Owen D. Young  United States      1874.0   \n",
              "3   1930     Man of the Year      Mahatma Gandhi          India      1869.0   \n",
              "4   1931     Man of the Year        Pierre Laval         France      1883.0   \n",
              "..   ...                 ...                 ...            ...         ...   \n",
              "86  2012  Person of the Year        Barack Obama  United States      1961.0   \n",
              "87  2013  Person of the Year        Pope Francis   Vatican City      1936.0   \n",
              "88  2014  Person of the Year  The Ebola Fighters            NaN         NaN   \n",
              "89  2015  Person of the Year       Angela Merkel        Germany      1954.0   \n",
              "90  2016  Person of the Year        Donald Trump  United States      1946.0   \n",
              "\n",
              "    Death Year                                              Title    Category  \\\n",
              "0       1974.0                                  US Air Mail Pilot         NaN   \n",
              "1       1940.0                                Founder of Chrysler   Economics   \n",
              "2       1962.0  Member of the German Reparations International...   Diplomacy   \n",
              "3       1948.0                                                NaN  Revolution   \n",
              "4       1945.0                           Prime Minister of France    Politics   \n",
              "..         ...                                                ...         ...   \n",
              "86         NaN                     President of the United States    Politics   \n",
              "87         NaN                  Pope of the Roman Catholic Church    Religion   \n",
              "88         NaN                                                NaN     Science   \n",
              "89         NaN                              Chancellor of Germany    Politics   \n",
              "90         NaN                     President of the United States    Politics   \n",
              "\n",
              "                                              Context  Category Ordinal  \\\n",
              "0                     First Solo Transatlantic Flight                 0   \n",
              "1                               Chrysler/Dodge Merger                 9   \n",
              "2                                          Young Plan                11   \n",
              "3                                          Salt March                 8   \n",
              "4                                                 NaN                 6   \n",
              "..                                                ...               ...   \n",
              "86                              Presidential Election                 6   \n",
              "87                                     Papal Conclave                12   \n",
              "88                                     Ebola Epidemic                10   \n",
              "89  Debt Crisis; Refugee Crisis; Paris Terrorist A...                 6   \n",
              "90                              Presidential Election                 6   \n",
              "\n",
              "    Lifespan  Birth Decade  Name Length Initials  \n",
              "0       72.0        1900.0           17       CL  \n",
              "1       65.0        1870.0           15       WC  \n",
              "2       88.0        1870.0           13      ODY  \n",
              "3       79.0        1860.0           14       MG  \n",
              "4       62.0        1880.0           12       PL  \n",
              "..       ...           ...          ...      ...  \n",
              "86       NaN        1960.0           12       BO  \n",
              "87       NaN        1930.0           12       PF  \n",
              "88       NaN           NaN           18       TE  \n",
              "89       NaN        1950.0           13       AM  \n",
              "90       NaN        1940.0           12       DT  \n",
              "\n",
              "[91 rows x 14 columns]"
            ]
          },
          "execution_count": 17,
          "metadata": {},
          "output_type": "execute_result"
        }
      ],
      "source": [
        "# Create the function\n",
        "def to_int(value):\n",
        "    if np.isnan(value)==False:\n",
        "        value = int(value)\n",
        "    return value\n",
        "# Apply it. Won't make a difference because NaN makes all column float!\n",
        "time['Death Year'] = time['Death Year'].apply(to_int)\n",
        "time"
      ]
    },
    {
      "cell_type": "markdown",
      "metadata": {
        "id": "Mp7oARefMNf_"
      },
      "source": [
        "### Removing Columns (Unwanted Variables)"
      ]
    },
    {
      "cell_type": "markdown",
      "metadata": {
        "id": "AroX9suZMNgA"
      },
      "source": [
        "There are two main ways to remove them, either we specify which columns we want to **keep** or we specify which we want to **remove**"
      ]
    },
    {
      "cell_type": "markdown",
      "metadata": {
        "id": "Ctnl-h2EMNgB"
      },
      "source": [
        "Here is the version where we specify, by name, which columns to **keep**. You saw this in an earlier lecture as selecting columns."
      ]
    },
    {
      "cell_type": "code",
      "execution_count": null,
      "metadata": {
        "id": "5Ie0JBIXMNgB",
        "outputId": "a14ca0a0-5318-4122-a028-f5b57e803793"
      },
      "outputs": [
        {
          "data": {
            "text/html": [
              "<div>\n",
              "<style scoped>\n",
              "    .dataframe tbody tr th:only-of-type {\n",
              "        vertical-align: middle;\n",
              "    }\n",
              "\n",
              "    .dataframe tbody tr th {\n",
              "        vertical-align: top;\n",
              "    }\n",
              "\n",
              "    .dataframe thead th {\n",
              "        text-align: right;\n",
              "    }\n",
              "</style>\n",
              "<table border=\"1\" class=\"dataframe\">\n",
              "  <thead>\n",
              "    <tr style=\"text-align: right;\">\n",
              "      <th></th>\n",
              "      <th>Honor</th>\n",
              "      <th>Year</th>\n",
              "      <th>Name</th>\n",
              "    </tr>\n",
              "  </thead>\n",
              "  <tbody>\n",
              "    <tr>\n",
              "      <th>0</th>\n",
              "      <td>Man of the Year</td>\n",
              "      <td>1927</td>\n",
              "      <td>Charles Lindbergh</td>\n",
              "    </tr>\n",
              "    <tr>\n",
              "      <th>1</th>\n",
              "      <td>Man of the Year</td>\n",
              "      <td>1928</td>\n",
              "      <td>Walter Chrysler</td>\n",
              "    </tr>\n",
              "    <tr>\n",
              "      <th>2</th>\n",
              "      <td>Man of the Year</td>\n",
              "      <td>1929</td>\n",
              "      <td>Owen D. Young</td>\n",
              "    </tr>\n",
              "    <tr>\n",
              "      <th>3</th>\n",
              "      <td>Man of the Year</td>\n",
              "      <td>1930</td>\n",
              "      <td>Mahatma Gandhi</td>\n",
              "    </tr>\n",
              "    <tr>\n",
              "      <th>4</th>\n",
              "      <td>Man of the Year</td>\n",
              "      <td>1931</td>\n",
              "      <td>Pierre Laval</td>\n",
              "    </tr>\n",
              "    <tr>\n",
              "      <th>...</th>\n",
              "      <td>...</td>\n",
              "      <td>...</td>\n",
              "      <td>...</td>\n",
              "    </tr>\n",
              "    <tr>\n",
              "      <th>86</th>\n",
              "      <td>Person of the Year</td>\n",
              "      <td>2012</td>\n",
              "      <td>Barack Obama</td>\n",
              "    </tr>\n",
              "    <tr>\n",
              "      <th>87</th>\n",
              "      <td>Person of the Year</td>\n",
              "      <td>2013</td>\n",
              "      <td>Pope Francis</td>\n",
              "    </tr>\n",
              "    <tr>\n",
              "      <th>88</th>\n",
              "      <td>Person of the Year</td>\n",
              "      <td>2014</td>\n",
              "      <td>The Ebola Fighters</td>\n",
              "    </tr>\n",
              "    <tr>\n",
              "      <th>89</th>\n",
              "      <td>Person of the Year</td>\n",
              "      <td>2015</td>\n",
              "      <td>Angela Merkel</td>\n",
              "    </tr>\n",
              "    <tr>\n",
              "      <th>90</th>\n",
              "      <td>Person of the Year</td>\n",
              "      <td>2016</td>\n",
              "      <td>Donald Trump</td>\n",
              "    </tr>\n",
              "  </tbody>\n",
              "</table>\n",
              "<p>91 rows × 3 columns</p>\n",
              "</div>"
            ],
            "text/plain": [
              "                 Honor  Year                Name\n",
              "0      Man of the Year  1927   Charles Lindbergh\n",
              "1      Man of the Year  1928     Walter Chrysler\n",
              "2      Man of the Year  1929       Owen D. Young\n",
              "3      Man of the Year  1930      Mahatma Gandhi\n",
              "4      Man of the Year  1931        Pierre Laval\n",
              "..                 ...   ...                 ...\n",
              "86  Person of the Year  2012        Barack Obama\n",
              "87  Person of the Year  2013        Pope Francis\n",
              "88  Person of the Year  2014  The Ebola Fighters\n",
              "89  Person of the Year  2015       Angela Merkel\n",
              "90  Person of the Year  2016        Donald Trump\n",
              "\n",
              "[91 rows x 3 columns]"
            ]
          },
          "execution_count": 18,
          "metadata": {},
          "output_type": "execute_result"
        }
      ],
      "source": [
        "time[['Honor', 'Year', 'Name']] # specify order"
      ]
    },
    {
      "cell_type": "markdown",
      "metadata": {
        "id": "M62UVNvxMNgC"
      },
      "source": [
        "Here is the version where we specify, by name, which columns to **remove**"
      ]
    },
    {
      "cell_type": "code",
      "execution_count": null,
      "metadata": {
        "id": "A7X_hWlnMNgC",
        "outputId": "b4719654-86b5-4e25-f2eb-46a27cf8b60e"
      },
      "outputs": [
        {
          "data": {
            "text/html": [
              "<div>\n",
              "<style scoped>\n",
              "    .dataframe tbody tr th:only-of-type {\n",
              "        vertical-align: middle;\n",
              "    }\n",
              "\n",
              "    .dataframe tbody tr th {\n",
              "        vertical-align: top;\n",
              "    }\n",
              "\n",
              "    .dataframe thead th {\n",
              "        text-align: right;\n",
              "    }\n",
              "</style>\n",
              "<table border=\"1\" class=\"dataframe\">\n",
              "  <thead>\n",
              "    <tr style=\"text-align: right;\">\n",
              "      <th></th>\n",
              "      <th>Country</th>\n",
              "      <th>Birth Year</th>\n",
              "      <th>Death Year</th>\n",
              "      <th>Title</th>\n",
              "      <th>Category</th>\n",
              "      <th>Context</th>\n",
              "      <th>Category Ordinal</th>\n",
              "      <th>Lifespan</th>\n",
              "      <th>Birth Decade</th>\n",
              "      <th>Name Length</th>\n",
              "      <th>Initials</th>\n",
              "    </tr>\n",
              "  </thead>\n",
              "  <tbody>\n",
              "    <tr>\n",
              "      <th>0</th>\n",
              "      <td>United States</td>\n",
              "      <td>1902.0</td>\n",
              "      <td>1974.0</td>\n",
              "      <td>US Air Mail Pilot</td>\n",
              "      <td>NaN</td>\n",
              "      <td>First Solo Transatlantic Flight</td>\n",
              "      <td>0</td>\n",
              "      <td>72.0</td>\n",
              "      <td>1900.0</td>\n",
              "      <td>17</td>\n",
              "      <td>CL</td>\n",
              "    </tr>\n",
              "    <tr>\n",
              "      <th>1</th>\n",
              "      <td>United States</td>\n",
              "      <td>1875.0</td>\n",
              "      <td>1940.0</td>\n",
              "      <td>Founder of Chrysler</td>\n",
              "      <td>Economics</td>\n",
              "      <td>Chrysler/Dodge Merger</td>\n",
              "      <td>9</td>\n",
              "      <td>65.0</td>\n",
              "      <td>1870.0</td>\n",
              "      <td>15</td>\n",
              "      <td>WC</td>\n",
              "    </tr>\n",
              "    <tr>\n",
              "      <th>2</th>\n",
              "      <td>United States</td>\n",
              "      <td>1874.0</td>\n",
              "      <td>1962.0</td>\n",
              "      <td>Member of the German Reparations International...</td>\n",
              "      <td>Diplomacy</td>\n",
              "      <td>Young Plan</td>\n",
              "      <td>11</td>\n",
              "      <td>88.0</td>\n",
              "      <td>1870.0</td>\n",
              "      <td>13</td>\n",
              "      <td>ODY</td>\n",
              "    </tr>\n",
              "    <tr>\n",
              "      <th>3</th>\n",
              "      <td>India</td>\n",
              "      <td>1869.0</td>\n",
              "      <td>1948.0</td>\n",
              "      <td>NaN</td>\n",
              "      <td>Revolution</td>\n",
              "      <td>Salt March</td>\n",
              "      <td>8</td>\n",
              "      <td>79.0</td>\n",
              "      <td>1860.0</td>\n",
              "      <td>14</td>\n",
              "      <td>MG</td>\n",
              "    </tr>\n",
              "    <tr>\n",
              "      <th>4</th>\n",
              "      <td>France</td>\n",
              "      <td>1883.0</td>\n",
              "      <td>1945.0</td>\n",
              "      <td>Prime Minister of France</td>\n",
              "      <td>Politics</td>\n",
              "      <td>NaN</td>\n",
              "      <td>6</td>\n",
              "      <td>62.0</td>\n",
              "      <td>1880.0</td>\n",
              "      <td>12</td>\n",
              "      <td>PL</td>\n",
              "    </tr>\n",
              "    <tr>\n",
              "      <th>...</th>\n",
              "      <td>...</td>\n",
              "      <td>...</td>\n",
              "      <td>...</td>\n",
              "      <td>...</td>\n",
              "      <td>...</td>\n",
              "      <td>...</td>\n",
              "      <td>...</td>\n",
              "      <td>...</td>\n",
              "      <td>...</td>\n",
              "      <td>...</td>\n",
              "      <td>...</td>\n",
              "    </tr>\n",
              "    <tr>\n",
              "      <th>86</th>\n",
              "      <td>United States</td>\n",
              "      <td>1961.0</td>\n",
              "      <td>NaN</td>\n",
              "      <td>President of the United States</td>\n",
              "      <td>Politics</td>\n",
              "      <td>Presidential Election</td>\n",
              "      <td>6</td>\n",
              "      <td>NaN</td>\n",
              "      <td>1960.0</td>\n",
              "      <td>12</td>\n",
              "      <td>BO</td>\n",
              "    </tr>\n",
              "    <tr>\n",
              "      <th>87</th>\n",
              "      <td>Vatican City</td>\n",
              "      <td>1936.0</td>\n",
              "      <td>NaN</td>\n",
              "      <td>Pope of the Roman Catholic Church</td>\n",
              "      <td>Religion</td>\n",
              "      <td>Papal Conclave</td>\n",
              "      <td>12</td>\n",
              "      <td>NaN</td>\n",
              "      <td>1930.0</td>\n",
              "      <td>12</td>\n",
              "      <td>PF</td>\n",
              "    </tr>\n",
              "    <tr>\n",
              "      <th>88</th>\n",
              "      <td>NaN</td>\n",
              "      <td>NaN</td>\n",
              "      <td>NaN</td>\n",
              "      <td>NaN</td>\n",
              "      <td>Science</td>\n",
              "      <td>Ebola Epidemic</td>\n",
              "      <td>10</td>\n",
              "      <td>NaN</td>\n",
              "      <td>NaN</td>\n",
              "      <td>18</td>\n",
              "      <td>TE</td>\n",
              "    </tr>\n",
              "    <tr>\n",
              "      <th>89</th>\n",
              "      <td>Germany</td>\n",
              "      <td>1954.0</td>\n",
              "      <td>NaN</td>\n",
              "      <td>Chancellor of Germany</td>\n",
              "      <td>Politics</td>\n",
              "      <td>Debt Crisis; Refugee Crisis; Paris Terrorist A...</td>\n",
              "      <td>6</td>\n",
              "      <td>NaN</td>\n",
              "      <td>1950.0</td>\n",
              "      <td>13</td>\n",
              "      <td>AM</td>\n",
              "    </tr>\n",
              "    <tr>\n",
              "      <th>90</th>\n",
              "      <td>United States</td>\n",
              "      <td>1946.0</td>\n",
              "      <td>NaN</td>\n",
              "      <td>President of the United States</td>\n",
              "      <td>Politics</td>\n",
              "      <td>Presidential Election</td>\n",
              "      <td>6</td>\n",
              "      <td>NaN</td>\n",
              "      <td>1940.0</td>\n",
              "      <td>12</td>\n",
              "      <td>DT</td>\n",
              "    </tr>\n",
              "  </tbody>\n",
              "</table>\n",
              "<p>91 rows × 11 columns</p>\n",
              "</div>"
            ],
            "text/plain": [
              "          Country  Birth Year  Death Year  \\\n",
              "0   United States      1902.0      1974.0   \n",
              "1   United States      1875.0      1940.0   \n",
              "2   United States      1874.0      1962.0   \n",
              "3           India      1869.0      1948.0   \n",
              "4          France      1883.0      1945.0   \n",
              "..            ...         ...         ...   \n",
              "86  United States      1961.0         NaN   \n",
              "87   Vatican City      1936.0         NaN   \n",
              "88            NaN         NaN         NaN   \n",
              "89        Germany      1954.0         NaN   \n",
              "90  United States      1946.0         NaN   \n",
              "\n",
              "                                                Title    Category  \\\n",
              "0                                   US Air Mail Pilot         NaN   \n",
              "1                                 Founder of Chrysler   Economics   \n",
              "2   Member of the German Reparations International...   Diplomacy   \n",
              "3                                                 NaN  Revolution   \n",
              "4                            Prime Minister of France    Politics   \n",
              "..                                                ...         ...   \n",
              "86                     President of the United States    Politics   \n",
              "87                  Pope of the Roman Catholic Church    Religion   \n",
              "88                                                NaN     Science   \n",
              "89                              Chancellor of Germany    Politics   \n",
              "90                     President of the United States    Politics   \n",
              "\n",
              "                                              Context  Category Ordinal  \\\n",
              "0                     First Solo Transatlantic Flight                 0   \n",
              "1                               Chrysler/Dodge Merger                 9   \n",
              "2                                          Young Plan                11   \n",
              "3                                          Salt March                 8   \n",
              "4                                                 NaN                 6   \n",
              "..                                                ...               ...   \n",
              "86                              Presidential Election                 6   \n",
              "87                                     Papal Conclave                12   \n",
              "88                                     Ebola Epidemic                10   \n",
              "89  Debt Crisis; Refugee Crisis; Paris Terrorist A...                 6   \n",
              "90                              Presidential Election                 6   \n",
              "\n",
              "    Lifespan  Birth Decade  Name Length Initials  \n",
              "0       72.0        1900.0           17       CL  \n",
              "1       65.0        1870.0           15       WC  \n",
              "2       88.0        1870.0           13      ODY  \n",
              "3       79.0        1860.0           14       MG  \n",
              "4       62.0        1880.0           12       PL  \n",
              "..       ...           ...          ...      ...  \n",
              "86       NaN        1960.0           12       BO  \n",
              "87       NaN        1930.0           12       PF  \n",
              "88       NaN           NaN           18       TE  \n",
              "89       NaN        1950.0           13       AM  \n",
              "90       NaN        1940.0           12       DT  \n",
              "\n",
              "[91 rows x 11 columns]"
            ]
          },
          "execution_count": 19,
          "metadata": {},
          "output_type": "execute_result"
        }
      ],
      "source": [
        "time.drop(columns=['Year', 'Honor', 'Name'])"
      ]
    },
    {
      "cell_type": "markdown",
      "metadata": {
        "id": "TS3Dqg6-MNgD"
      },
      "source": [
        "To apply the changes, assign the result back to the same variable `time`"
      ]
    },
    {
      "cell_type": "code",
      "execution_count": null,
      "metadata": {
        "id": "0lRNbPhHMNgD",
        "outputId": "fcd10b98-f072-4f33-fea4-789aaec843b8"
      },
      "outputs": [
        {
          "data": {
            "text/html": [
              "<div>\n",
              "<style scoped>\n",
              "    .dataframe tbody tr th:only-of-type {\n",
              "        vertical-align: middle;\n",
              "    }\n",
              "\n",
              "    .dataframe tbody tr th {\n",
              "        vertical-align: top;\n",
              "    }\n",
              "\n",
              "    .dataframe thead th {\n",
              "        text-align: right;\n",
              "    }\n",
              "</style>\n",
              "<table border=\"1\" class=\"dataframe\">\n",
              "  <thead>\n",
              "    <tr style=\"text-align: right;\">\n",
              "      <th></th>\n",
              "      <th>Country</th>\n",
              "      <th>Birth Year</th>\n",
              "      <th>Death Year</th>\n",
              "      <th>Title</th>\n",
              "      <th>Category</th>\n",
              "      <th>Context</th>\n",
              "      <th>Category Ordinal</th>\n",
              "      <th>Lifespan</th>\n",
              "      <th>Birth Decade</th>\n",
              "      <th>Name Length</th>\n",
              "      <th>Initials</th>\n",
              "    </tr>\n",
              "  </thead>\n",
              "  <tbody>\n",
              "    <tr>\n",
              "      <th>0</th>\n",
              "      <td>United States</td>\n",
              "      <td>1902.0</td>\n",
              "      <td>1974.0</td>\n",
              "      <td>US Air Mail Pilot</td>\n",
              "      <td>NaN</td>\n",
              "      <td>First Solo Transatlantic Flight</td>\n",
              "      <td>0</td>\n",
              "      <td>72.0</td>\n",
              "      <td>1900.0</td>\n",
              "      <td>17</td>\n",
              "      <td>CL</td>\n",
              "    </tr>\n",
              "    <tr>\n",
              "      <th>1</th>\n",
              "      <td>United States</td>\n",
              "      <td>1875.0</td>\n",
              "      <td>1940.0</td>\n",
              "      <td>Founder of Chrysler</td>\n",
              "      <td>Economics</td>\n",
              "      <td>Chrysler/Dodge Merger</td>\n",
              "      <td>9</td>\n",
              "      <td>65.0</td>\n",
              "      <td>1870.0</td>\n",
              "      <td>15</td>\n",
              "      <td>WC</td>\n",
              "    </tr>\n",
              "    <tr>\n",
              "      <th>2</th>\n",
              "      <td>United States</td>\n",
              "      <td>1874.0</td>\n",
              "      <td>1962.0</td>\n",
              "      <td>Member of the German Reparations International...</td>\n",
              "      <td>Diplomacy</td>\n",
              "      <td>Young Plan</td>\n",
              "      <td>11</td>\n",
              "      <td>88.0</td>\n",
              "      <td>1870.0</td>\n",
              "      <td>13</td>\n",
              "      <td>ODY</td>\n",
              "    </tr>\n",
              "    <tr>\n",
              "      <th>3</th>\n",
              "      <td>India</td>\n",
              "      <td>1869.0</td>\n",
              "      <td>1948.0</td>\n",
              "      <td>NaN</td>\n",
              "      <td>Revolution</td>\n",
              "      <td>Salt March</td>\n",
              "      <td>8</td>\n",
              "      <td>79.0</td>\n",
              "      <td>1860.0</td>\n",
              "      <td>14</td>\n",
              "      <td>MG</td>\n",
              "    </tr>\n",
              "    <tr>\n",
              "      <th>4</th>\n",
              "      <td>France</td>\n",
              "      <td>1883.0</td>\n",
              "      <td>1945.0</td>\n",
              "      <td>Prime Minister of France</td>\n",
              "      <td>Politics</td>\n",
              "      <td>NaN</td>\n",
              "      <td>6</td>\n",
              "      <td>62.0</td>\n",
              "      <td>1880.0</td>\n",
              "      <td>12</td>\n",
              "      <td>PL</td>\n",
              "    </tr>\n",
              "    <tr>\n",
              "      <th>...</th>\n",
              "      <td>...</td>\n",
              "      <td>...</td>\n",
              "      <td>...</td>\n",
              "      <td>...</td>\n",
              "      <td>...</td>\n",
              "      <td>...</td>\n",
              "      <td>...</td>\n",
              "      <td>...</td>\n",
              "      <td>...</td>\n",
              "      <td>...</td>\n",
              "      <td>...</td>\n",
              "    </tr>\n",
              "    <tr>\n",
              "      <th>86</th>\n",
              "      <td>United States</td>\n",
              "      <td>1961.0</td>\n",
              "      <td>NaN</td>\n",
              "      <td>President of the United States</td>\n",
              "      <td>Politics</td>\n",
              "      <td>Presidential Election</td>\n",
              "      <td>6</td>\n",
              "      <td>NaN</td>\n",
              "      <td>1960.0</td>\n",
              "      <td>12</td>\n",
              "      <td>BO</td>\n",
              "    </tr>\n",
              "    <tr>\n",
              "      <th>87</th>\n",
              "      <td>Vatican City</td>\n",
              "      <td>1936.0</td>\n",
              "      <td>NaN</td>\n",
              "      <td>Pope of the Roman Catholic Church</td>\n",
              "      <td>Religion</td>\n",
              "      <td>Papal Conclave</td>\n",
              "      <td>12</td>\n",
              "      <td>NaN</td>\n",
              "      <td>1930.0</td>\n",
              "      <td>12</td>\n",
              "      <td>PF</td>\n",
              "    </tr>\n",
              "    <tr>\n",
              "      <th>88</th>\n",
              "      <td>NaN</td>\n",
              "      <td>NaN</td>\n",
              "      <td>NaN</td>\n",
              "      <td>NaN</td>\n",
              "      <td>Science</td>\n",
              "      <td>Ebola Epidemic</td>\n",
              "      <td>10</td>\n",
              "      <td>NaN</td>\n",
              "      <td>NaN</td>\n",
              "      <td>18</td>\n",
              "      <td>TE</td>\n",
              "    </tr>\n",
              "    <tr>\n",
              "      <th>89</th>\n",
              "      <td>Germany</td>\n",
              "      <td>1954.0</td>\n",
              "      <td>NaN</td>\n",
              "      <td>Chancellor of Germany</td>\n",
              "      <td>Politics</td>\n",
              "      <td>Debt Crisis; Refugee Crisis; Paris Terrorist A...</td>\n",
              "      <td>6</td>\n",
              "      <td>NaN</td>\n",
              "      <td>1950.0</td>\n",
              "      <td>13</td>\n",
              "      <td>AM</td>\n",
              "    </tr>\n",
              "    <tr>\n",
              "      <th>90</th>\n",
              "      <td>United States</td>\n",
              "      <td>1946.0</td>\n",
              "      <td>NaN</td>\n",
              "      <td>President of the United States</td>\n",
              "      <td>Politics</td>\n",
              "      <td>Presidential Election</td>\n",
              "      <td>6</td>\n",
              "      <td>NaN</td>\n",
              "      <td>1940.0</td>\n",
              "      <td>12</td>\n",
              "      <td>DT</td>\n",
              "    </tr>\n",
              "  </tbody>\n",
              "</table>\n",
              "<p>91 rows × 11 columns</p>\n",
              "</div>"
            ],
            "text/plain": [
              "          Country  Birth Year  Death Year  \\\n",
              "0   United States      1902.0      1974.0   \n",
              "1   United States      1875.0      1940.0   \n",
              "2   United States      1874.0      1962.0   \n",
              "3           India      1869.0      1948.0   \n",
              "4          France      1883.0      1945.0   \n",
              "..            ...         ...         ...   \n",
              "86  United States      1961.0         NaN   \n",
              "87   Vatican City      1936.0         NaN   \n",
              "88            NaN         NaN         NaN   \n",
              "89        Germany      1954.0         NaN   \n",
              "90  United States      1946.0         NaN   \n",
              "\n",
              "                                                Title    Category  \\\n",
              "0                                   US Air Mail Pilot         NaN   \n",
              "1                                 Founder of Chrysler   Economics   \n",
              "2   Member of the German Reparations International...   Diplomacy   \n",
              "3                                                 NaN  Revolution   \n",
              "4                            Prime Minister of France    Politics   \n",
              "..                                                ...         ...   \n",
              "86                     President of the United States    Politics   \n",
              "87                  Pope of the Roman Catholic Church    Religion   \n",
              "88                                                NaN     Science   \n",
              "89                              Chancellor of Germany    Politics   \n",
              "90                     President of the United States    Politics   \n",
              "\n",
              "                                              Context  Category Ordinal  \\\n",
              "0                     First Solo Transatlantic Flight                 0   \n",
              "1                               Chrysler/Dodge Merger                 9   \n",
              "2                                          Young Plan                11   \n",
              "3                                          Salt March                 8   \n",
              "4                                                 NaN                 6   \n",
              "..                                                ...               ...   \n",
              "86                              Presidential Election                 6   \n",
              "87                                     Papal Conclave                12   \n",
              "88                                     Ebola Epidemic                10   \n",
              "89  Debt Crisis; Refugee Crisis; Paris Terrorist A...                 6   \n",
              "90                              Presidential Election                 6   \n",
              "\n",
              "    Lifespan  Birth Decade  Name Length Initials  \n",
              "0       72.0        1900.0           17       CL  \n",
              "1       65.0        1870.0           15       WC  \n",
              "2       88.0        1870.0           13      ODY  \n",
              "3       79.0        1860.0           14       MG  \n",
              "4       62.0        1880.0           12       PL  \n",
              "..       ...           ...          ...      ...  \n",
              "86       NaN        1960.0           12       BO  \n",
              "87       NaN        1930.0           12       PF  \n",
              "88       NaN           NaN           18       TE  \n",
              "89       NaN        1950.0           13       AM  \n",
              "90       NaN        1940.0           12       DT  \n",
              "\n",
              "[91 rows x 11 columns]"
            ]
          },
          "execution_count": 20,
          "metadata": {},
          "output_type": "execute_result"
        }
      ],
      "source": [
        "time = time.drop(columns=['Year', 'Honor', 'Name'])\n",
        "time"
      ]
    },
    {
      "cell_type": "markdown",
      "metadata": {
        "id": "mNqmmkI-MNgE"
      },
      "source": [
        "### Renaming Columns"
      ]
    },
    {
      "cell_type": "markdown",
      "metadata": {
        "id": "U9cE0aPiMNgF"
      },
      "source": [
        "You can do this using a `dictionary`"
      ]
    },
    {
      "cell_type": "code",
      "execution_count": null,
      "metadata": {
        "id": "DWyXp4qdMNgF",
        "outputId": "3510b5b3-0c59-4a67-9f8d-2ac92532de0e"
      },
      "outputs": [
        {
          "data": {
            "text/html": [
              "<div>\n",
              "<style scoped>\n",
              "    .dataframe tbody tr th:only-of-type {\n",
              "        vertical-align: middle;\n",
              "    }\n",
              "\n",
              "    .dataframe tbody tr th {\n",
              "        vertical-align: top;\n",
              "    }\n",
              "\n",
              "    .dataframe thead th {\n",
              "        text-align: right;\n",
              "    }\n",
              "</style>\n",
              "<table border=\"1\" class=\"dataframe\">\n",
              "  <thead>\n",
              "    <tr style=\"text-align: right;\">\n",
              "      <th></th>\n",
              "      <th>Country</th>\n",
              "      <th>Born</th>\n",
              "      <th>Died</th>\n",
              "      <th>Title</th>\n",
              "      <th>Category</th>\n",
              "      <th>Context</th>\n",
              "      <th>Category Ordinal</th>\n",
              "      <th>Lifespan</th>\n",
              "      <th>Birth Decade</th>\n",
              "      <th>Name Length</th>\n",
              "      <th>Initials</th>\n",
              "    </tr>\n",
              "  </thead>\n",
              "  <tbody>\n",
              "    <tr>\n",
              "      <th>0</th>\n",
              "      <td>United States</td>\n",
              "      <td>1902.0</td>\n",
              "      <td>1974.0</td>\n",
              "      <td>US Air Mail Pilot</td>\n",
              "      <td>NaN</td>\n",
              "      <td>First Solo Transatlantic Flight</td>\n",
              "      <td>0</td>\n",
              "      <td>72.0</td>\n",
              "      <td>1900.0</td>\n",
              "      <td>17</td>\n",
              "      <td>CL</td>\n",
              "    </tr>\n",
              "    <tr>\n",
              "      <th>1</th>\n",
              "      <td>United States</td>\n",
              "      <td>1875.0</td>\n",
              "      <td>1940.0</td>\n",
              "      <td>Founder of Chrysler</td>\n",
              "      <td>Economics</td>\n",
              "      <td>Chrysler/Dodge Merger</td>\n",
              "      <td>9</td>\n",
              "      <td>65.0</td>\n",
              "      <td>1870.0</td>\n",
              "      <td>15</td>\n",
              "      <td>WC</td>\n",
              "    </tr>\n",
              "    <tr>\n",
              "      <th>2</th>\n",
              "      <td>United States</td>\n",
              "      <td>1874.0</td>\n",
              "      <td>1962.0</td>\n",
              "      <td>Member of the German Reparations International...</td>\n",
              "      <td>Diplomacy</td>\n",
              "      <td>Young Plan</td>\n",
              "      <td>11</td>\n",
              "      <td>88.0</td>\n",
              "      <td>1870.0</td>\n",
              "      <td>13</td>\n",
              "      <td>ODY</td>\n",
              "    </tr>\n",
              "    <tr>\n",
              "      <th>3</th>\n",
              "      <td>India</td>\n",
              "      <td>1869.0</td>\n",
              "      <td>1948.0</td>\n",
              "      <td>NaN</td>\n",
              "      <td>Revolution</td>\n",
              "      <td>Salt March</td>\n",
              "      <td>8</td>\n",
              "      <td>79.0</td>\n",
              "      <td>1860.0</td>\n",
              "      <td>14</td>\n",
              "      <td>MG</td>\n",
              "    </tr>\n",
              "    <tr>\n",
              "      <th>4</th>\n",
              "      <td>France</td>\n",
              "      <td>1883.0</td>\n",
              "      <td>1945.0</td>\n",
              "      <td>Prime Minister of France</td>\n",
              "      <td>Politics</td>\n",
              "      <td>NaN</td>\n",
              "      <td>6</td>\n",
              "      <td>62.0</td>\n",
              "      <td>1880.0</td>\n",
              "      <td>12</td>\n",
              "      <td>PL</td>\n",
              "    </tr>\n",
              "    <tr>\n",
              "      <th>...</th>\n",
              "      <td>...</td>\n",
              "      <td>...</td>\n",
              "      <td>...</td>\n",
              "      <td>...</td>\n",
              "      <td>...</td>\n",
              "      <td>...</td>\n",
              "      <td>...</td>\n",
              "      <td>...</td>\n",
              "      <td>...</td>\n",
              "      <td>...</td>\n",
              "      <td>...</td>\n",
              "    </tr>\n",
              "    <tr>\n",
              "      <th>86</th>\n",
              "      <td>United States</td>\n",
              "      <td>1961.0</td>\n",
              "      <td>NaN</td>\n",
              "      <td>President of the United States</td>\n",
              "      <td>Politics</td>\n",
              "      <td>Presidential Election</td>\n",
              "      <td>6</td>\n",
              "      <td>NaN</td>\n",
              "      <td>1960.0</td>\n",
              "      <td>12</td>\n",
              "      <td>BO</td>\n",
              "    </tr>\n",
              "    <tr>\n",
              "      <th>87</th>\n",
              "      <td>Vatican City</td>\n",
              "      <td>1936.0</td>\n",
              "      <td>NaN</td>\n",
              "      <td>Pope of the Roman Catholic Church</td>\n",
              "      <td>Religion</td>\n",
              "      <td>Papal Conclave</td>\n",
              "      <td>12</td>\n",
              "      <td>NaN</td>\n",
              "      <td>1930.0</td>\n",
              "      <td>12</td>\n",
              "      <td>PF</td>\n",
              "    </tr>\n",
              "    <tr>\n",
              "      <th>88</th>\n",
              "      <td>NaN</td>\n",
              "      <td>NaN</td>\n",
              "      <td>NaN</td>\n",
              "      <td>NaN</td>\n",
              "      <td>Science</td>\n",
              "      <td>Ebola Epidemic</td>\n",
              "      <td>10</td>\n",
              "      <td>NaN</td>\n",
              "      <td>NaN</td>\n",
              "      <td>18</td>\n",
              "      <td>TE</td>\n",
              "    </tr>\n",
              "    <tr>\n",
              "      <th>89</th>\n",
              "      <td>Germany</td>\n",
              "      <td>1954.0</td>\n",
              "      <td>NaN</td>\n",
              "      <td>Chancellor of Germany</td>\n",
              "      <td>Politics</td>\n",
              "      <td>Debt Crisis; Refugee Crisis; Paris Terrorist A...</td>\n",
              "      <td>6</td>\n",
              "      <td>NaN</td>\n",
              "      <td>1950.0</td>\n",
              "      <td>13</td>\n",
              "      <td>AM</td>\n",
              "    </tr>\n",
              "    <tr>\n",
              "      <th>90</th>\n",
              "      <td>United States</td>\n",
              "      <td>1946.0</td>\n",
              "      <td>NaN</td>\n",
              "      <td>President of the United States</td>\n",
              "      <td>Politics</td>\n",
              "      <td>Presidential Election</td>\n",
              "      <td>6</td>\n",
              "      <td>NaN</td>\n",
              "      <td>1940.0</td>\n",
              "      <td>12</td>\n",
              "      <td>DT</td>\n",
              "    </tr>\n",
              "  </tbody>\n",
              "</table>\n",
              "<p>91 rows × 11 columns</p>\n",
              "</div>"
            ],
            "text/plain": [
              "          Country    Born    Died  \\\n",
              "0   United States  1902.0  1974.0   \n",
              "1   United States  1875.0  1940.0   \n",
              "2   United States  1874.0  1962.0   \n",
              "3           India  1869.0  1948.0   \n",
              "4          France  1883.0  1945.0   \n",
              "..            ...     ...     ...   \n",
              "86  United States  1961.0     NaN   \n",
              "87   Vatican City  1936.0     NaN   \n",
              "88            NaN     NaN     NaN   \n",
              "89        Germany  1954.0     NaN   \n",
              "90  United States  1946.0     NaN   \n",
              "\n",
              "                                                Title    Category  \\\n",
              "0                                   US Air Mail Pilot         NaN   \n",
              "1                                 Founder of Chrysler   Economics   \n",
              "2   Member of the German Reparations International...   Diplomacy   \n",
              "3                                                 NaN  Revolution   \n",
              "4                            Prime Minister of France    Politics   \n",
              "..                                                ...         ...   \n",
              "86                     President of the United States    Politics   \n",
              "87                  Pope of the Roman Catholic Church    Religion   \n",
              "88                                                NaN     Science   \n",
              "89                              Chancellor of Germany    Politics   \n",
              "90                     President of the United States    Politics   \n",
              "\n",
              "                                              Context  Category Ordinal  \\\n",
              "0                     First Solo Transatlantic Flight                 0   \n",
              "1                               Chrysler/Dodge Merger                 9   \n",
              "2                                          Young Plan                11   \n",
              "3                                          Salt March                 8   \n",
              "4                                                 NaN                 6   \n",
              "..                                                ...               ...   \n",
              "86                              Presidential Election                 6   \n",
              "87                                     Papal Conclave                12   \n",
              "88                                     Ebola Epidemic                10   \n",
              "89  Debt Crisis; Refugee Crisis; Paris Terrorist A...                 6   \n",
              "90                              Presidential Election                 6   \n",
              "\n",
              "    Lifespan  Birth Decade  Name Length Initials  \n",
              "0       72.0        1900.0           17       CL  \n",
              "1       65.0        1870.0           15       WC  \n",
              "2       88.0        1870.0           13      ODY  \n",
              "3       79.0        1860.0           14       MG  \n",
              "4       62.0        1880.0           12       PL  \n",
              "..       ...           ...          ...      ...  \n",
              "86       NaN        1960.0           12       BO  \n",
              "87       NaN        1930.0           12       PF  \n",
              "88       NaN           NaN           18       TE  \n",
              "89       NaN        1950.0           13       AM  \n",
              "90       NaN        1940.0           12       DT  \n",
              "\n",
              "[91 rows x 11 columns]"
            ]
          },
          "execution_count": 21,
          "metadata": {},
          "output_type": "execute_result"
        }
      ],
      "source": [
        "time = time.rename(columns={'Birth Year' : 'Born',\n",
        "                        'Death Year' : 'Died'})\n",
        "time"
      ]
    },
    {
      "cell_type": "code",
      "execution_count": null,
      "metadata": {
        "id": "0FOlXMNKMNgG",
        "outputId": "cf98930d-6c4b-487f-ce92-9e15b51e188b"
      },
      "outputs": [
        {
          "data": {
            "text/html": [
              "<div>\n",
              "<style scoped>\n",
              "    .dataframe tbody tr th:only-of-type {\n",
              "        vertical-align: middle;\n",
              "    }\n",
              "\n",
              "    .dataframe tbody tr th {\n",
              "        vertical-align: top;\n",
              "    }\n",
              "\n",
              "    .dataframe thead th {\n",
              "        text-align: right;\n",
              "    }\n",
              "</style>\n",
              "<table border=\"1\" class=\"dataframe\">\n",
              "  <thead>\n",
              "    <tr style=\"text-align: right;\">\n",
              "      <th></th>\n",
              "      <th>Country</th>\n",
              "      <th>B</th>\n",
              "      <th>D</th>\n",
              "      <th>Title</th>\n",
              "      <th>Category</th>\n",
              "      <th>Context</th>\n",
              "      <th>Category Ordinal</th>\n",
              "      <th>Lifespan</th>\n",
              "      <th>Birth Decade</th>\n",
              "      <th>Name Length</th>\n",
              "      <th>Initials</th>\n",
              "    </tr>\n",
              "  </thead>\n",
              "  <tbody>\n",
              "    <tr>\n",
              "      <th>0</th>\n",
              "      <td>United States</td>\n",
              "      <td>1902.0</td>\n",
              "      <td>1974.0</td>\n",
              "      <td>US Air Mail Pilot</td>\n",
              "      <td>NaN</td>\n",
              "      <td>First Solo Transatlantic Flight</td>\n",
              "      <td>0</td>\n",
              "      <td>72.0</td>\n",
              "      <td>1900.0</td>\n",
              "      <td>17</td>\n",
              "      <td>CL</td>\n",
              "    </tr>\n",
              "    <tr>\n",
              "      <th>1</th>\n",
              "      <td>United States</td>\n",
              "      <td>1875.0</td>\n",
              "      <td>1940.0</td>\n",
              "      <td>Founder of Chrysler</td>\n",
              "      <td>Economics</td>\n",
              "      <td>Chrysler/Dodge Merger</td>\n",
              "      <td>9</td>\n",
              "      <td>65.0</td>\n",
              "      <td>1870.0</td>\n",
              "      <td>15</td>\n",
              "      <td>WC</td>\n",
              "    </tr>\n",
              "    <tr>\n",
              "      <th>2</th>\n",
              "      <td>United States</td>\n",
              "      <td>1874.0</td>\n",
              "      <td>1962.0</td>\n",
              "      <td>Member of the German Reparations International...</td>\n",
              "      <td>Diplomacy</td>\n",
              "      <td>Young Plan</td>\n",
              "      <td>11</td>\n",
              "      <td>88.0</td>\n",
              "      <td>1870.0</td>\n",
              "      <td>13</td>\n",
              "      <td>ODY</td>\n",
              "    </tr>\n",
              "    <tr>\n",
              "      <th>3</th>\n",
              "      <td>India</td>\n",
              "      <td>1869.0</td>\n",
              "      <td>1948.0</td>\n",
              "      <td>NaN</td>\n",
              "      <td>Revolution</td>\n",
              "      <td>Salt March</td>\n",
              "      <td>8</td>\n",
              "      <td>79.0</td>\n",
              "      <td>1860.0</td>\n",
              "      <td>14</td>\n",
              "      <td>MG</td>\n",
              "    </tr>\n",
              "    <tr>\n",
              "      <th>4</th>\n",
              "      <td>France</td>\n",
              "      <td>1883.0</td>\n",
              "      <td>1945.0</td>\n",
              "      <td>Prime Minister of France</td>\n",
              "      <td>Politics</td>\n",
              "      <td>NaN</td>\n",
              "      <td>6</td>\n",
              "      <td>62.0</td>\n",
              "      <td>1880.0</td>\n",
              "      <td>12</td>\n",
              "      <td>PL</td>\n",
              "    </tr>\n",
              "    <tr>\n",
              "      <th>...</th>\n",
              "      <td>...</td>\n",
              "      <td>...</td>\n",
              "      <td>...</td>\n",
              "      <td>...</td>\n",
              "      <td>...</td>\n",
              "      <td>...</td>\n",
              "      <td>...</td>\n",
              "      <td>...</td>\n",
              "      <td>...</td>\n",
              "      <td>...</td>\n",
              "      <td>...</td>\n",
              "    </tr>\n",
              "    <tr>\n",
              "      <th>86</th>\n",
              "      <td>United States</td>\n",
              "      <td>1961.0</td>\n",
              "      <td>NaN</td>\n",
              "      <td>President of the United States</td>\n",
              "      <td>Politics</td>\n",
              "      <td>Presidential Election</td>\n",
              "      <td>6</td>\n",
              "      <td>NaN</td>\n",
              "      <td>1960.0</td>\n",
              "      <td>12</td>\n",
              "      <td>BO</td>\n",
              "    </tr>\n",
              "    <tr>\n",
              "      <th>87</th>\n",
              "      <td>Vatican City</td>\n",
              "      <td>1936.0</td>\n",
              "      <td>NaN</td>\n",
              "      <td>Pope of the Roman Catholic Church</td>\n",
              "      <td>Religion</td>\n",
              "      <td>Papal Conclave</td>\n",
              "      <td>12</td>\n",
              "      <td>NaN</td>\n",
              "      <td>1930.0</td>\n",
              "      <td>12</td>\n",
              "      <td>PF</td>\n",
              "    </tr>\n",
              "    <tr>\n",
              "      <th>88</th>\n",
              "      <td>NaN</td>\n",
              "      <td>NaN</td>\n",
              "      <td>NaN</td>\n",
              "      <td>NaN</td>\n",
              "      <td>Science</td>\n",
              "      <td>Ebola Epidemic</td>\n",
              "      <td>10</td>\n",
              "      <td>NaN</td>\n",
              "      <td>NaN</td>\n",
              "      <td>18</td>\n",
              "      <td>TE</td>\n",
              "    </tr>\n",
              "    <tr>\n",
              "      <th>89</th>\n",
              "      <td>Germany</td>\n",
              "      <td>1954.0</td>\n",
              "      <td>NaN</td>\n",
              "      <td>Chancellor of Germany</td>\n",
              "      <td>Politics</td>\n",
              "      <td>Debt Crisis; Refugee Crisis; Paris Terrorist A...</td>\n",
              "      <td>6</td>\n",
              "      <td>NaN</td>\n",
              "      <td>1950.0</td>\n",
              "      <td>13</td>\n",
              "      <td>AM</td>\n",
              "    </tr>\n",
              "    <tr>\n",
              "      <th>90</th>\n",
              "      <td>United States</td>\n",
              "      <td>1946.0</td>\n",
              "      <td>NaN</td>\n",
              "      <td>President of the United States</td>\n",
              "      <td>Politics</td>\n",
              "      <td>Presidential Election</td>\n",
              "      <td>6</td>\n",
              "      <td>NaN</td>\n",
              "      <td>1940.0</td>\n",
              "      <td>12</td>\n",
              "      <td>DT</td>\n",
              "    </tr>\n",
              "  </tbody>\n",
              "</table>\n",
              "<p>91 rows × 11 columns</p>\n",
              "</div>"
            ],
            "text/plain": [
              "          Country       B       D  \\\n",
              "0   United States  1902.0  1974.0   \n",
              "1   United States  1875.0  1940.0   \n",
              "2   United States  1874.0  1962.0   \n",
              "3           India  1869.0  1948.0   \n",
              "4          France  1883.0  1945.0   \n",
              "..            ...     ...     ...   \n",
              "86  United States  1961.0     NaN   \n",
              "87   Vatican City  1936.0     NaN   \n",
              "88            NaN     NaN     NaN   \n",
              "89        Germany  1954.0     NaN   \n",
              "90  United States  1946.0     NaN   \n",
              "\n",
              "                                                Title    Category  \\\n",
              "0                                   US Air Mail Pilot         NaN   \n",
              "1                                 Founder of Chrysler   Economics   \n",
              "2   Member of the German Reparations International...   Diplomacy   \n",
              "3                                                 NaN  Revolution   \n",
              "4                            Prime Minister of France    Politics   \n",
              "..                                                ...         ...   \n",
              "86                     President of the United States    Politics   \n",
              "87                  Pope of the Roman Catholic Church    Religion   \n",
              "88                                                NaN     Science   \n",
              "89                              Chancellor of Germany    Politics   \n",
              "90                     President of the United States    Politics   \n",
              "\n",
              "                                              Context  Category Ordinal  \\\n",
              "0                     First Solo Transatlantic Flight                 0   \n",
              "1                               Chrysler/Dodge Merger                 9   \n",
              "2                                          Young Plan                11   \n",
              "3                                          Salt March                 8   \n",
              "4                                                 NaN                 6   \n",
              "..                                                ...               ...   \n",
              "86                              Presidential Election                 6   \n",
              "87                                     Papal Conclave                12   \n",
              "88                                     Ebola Epidemic                10   \n",
              "89  Debt Crisis; Refugee Crisis; Paris Terrorist A...                 6   \n",
              "90                              Presidential Election                 6   \n",
              "\n",
              "    Lifespan  Birth Decade  Name Length Initials  \n",
              "0       72.0        1900.0           17       CL  \n",
              "1       65.0        1870.0           15       WC  \n",
              "2       88.0        1870.0           13      ODY  \n",
              "3       79.0        1860.0           14       MG  \n",
              "4       62.0        1880.0           12       PL  \n",
              "..       ...           ...          ...      ...  \n",
              "86       NaN        1960.0           12       BO  \n",
              "87       NaN        1930.0           12       PF  \n",
              "88       NaN           NaN           18       TE  \n",
              "89       NaN        1950.0           13       AM  \n",
              "90       NaN        1940.0           12       DT  \n",
              "\n",
              "[91 rows x 11 columns]"
            ]
          },
          "execution_count": 22,
          "metadata": {},
          "output_type": "execute_result"
        }
      ],
      "source": [
        "# inplace helps make changes without =\n",
        "time.rename(columns={'Born' : 'B',\n",
        "                        'Died' : 'D'}, inplace = True)\n",
        "time"
      ]
    },
    {
      "cell_type": "code",
      "execution_count": null,
      "metadata": {
        "id": "Q8Cev7p5MNgG",
        "outputId": "527c1016-4f3e-4ec1-ceb1-fdba424cfee2"
      },
      "outputs": [
        {
          "data": {
            "text/html": [
              "<div>\n",
              "<style scoped>\n",
              "    .dataframe tbody tr th:only-of-type {\n",
              "        vertical-align: middle;\n",
              "    }\n",
              "\n",
              "    .dataframe tbody tr th {\n",
              "        vertical-align: top;\n",
              "    }\n",
              "\n",
              "    .dataframe thead th {\n",
              "        text-align: right;\n",
              "    }\n",
              "</style>\n",
              "<table border=\"1\" class=\"dataframe\">\n",
              "  <thead>\n",
              "    <tr style=\"text-align: right;\">\n",
              "      <th></th>\n",
              "      <th>B</th>\n",
              "      <th>Birth Decade</th>\n",
              "      <th>Category</th>\n",
              "      <th>Category Ordinal</th>\n",
              "      <th>Context</th>\n",
              "      <th>Country</th>\n",
              "      <th>D</th>\n",
              "      <th>Initials</th>\n",
              "      <th>Lifespan</th>\n",
              "      <th>Name Length</th>\n",
              "      <th>Title</th>\n",
              "    </tr>\n",
              "  </thead>\n",
              "  <tbody>\n",
              "    <tr>\n",
              "      <th>0</th>\n",
              "      <td>1902.0</td>\n",
              "      <td>1900.0</td>\n",
              "      <td>NaN</td>\n",
              "      <td>0</td>\n",
              "      <td>First Solo Transatlantic Flight</td>\n",
              "      <td>United States</td>\n",
              "      <td>1974.0</td>\n",
              "      <td>CL</td>\n",
              "      <td>72.0</td>\n",
              "      <td>17</td>\n",
              "      <td>US Air Mail Pilot</td>\n",
              "    </tr>\n",
              "    <tr>\n",
              "      <th>1</th>\n",
              "      <td>1875.0</td>\n",
              "      <td>1870.0</td>\n",
              "      <td>Economics</td>\n",
              "      <td>9</td>\n",
              "      <td>Chrysler/Dodge Merger</td>\n",
              "      <td>United States</td>\n",
              "      <td>1940.0</td>\n",
              "      <td>WC</td>\n",
              "      <td>65.0</td>\n",
              "      <td>15</td>\n",
              "      <td>Founder of Chrysler</td>\n",
              "    </tr>\n",
              "    <tr>\n",
              "      <th>2</th>\n",
              "      <td>1874.0</td>\n",
              "      <td>1870.0</td>\n",
              "      <td>Diplomacy</td>\n",
              "      <td>11</td>\n",
              "      <td>Young Plan</td>\n",
              "      <td>United States</td>\n",
              "      <td>1962.0</td>\n",
              "      <td>ODY</td>\n",
              "      <td>88.0</td>\n",
              "      <td>13</td>\n",
              "      <td>Member of the German Reparations International...</td>\n",
              "    </tr>\n",
              "    <tr>\n",
              "      <th>3</th>\n",
              "      <td>1869.0</td>\n",
              "      <td>1860.0</td>\n",
              "      <td>Revolution</td>\n",
              "      <td>8</td>\n",
              "      <td>Salt March</td>\n",
              "      <td>India</td>\n",
              "      <td>1948.0</td>\n",
              "      <td>MG</td>\n",
              "      <td>79.0</td>\n",
              "      <td>14</td>\n",
              "      <td>NaN</td>\n",
              "    </tr>\n",
              "    <tr>\n",
              "      <th>4</th>\n",
              "      <td>1883.0</td>\n",
              "      <td>1880.0</td>\n",
              "      <td>Politics</td>\n",
              "      <td>6</td>\n",
              "      <td>NaN</td>\n",
              "      <td>France</td>\n",
              "      <td>1945.0</td>\n",
              "      <td>PL</td>\n",
              "      <td>62.0</td>\n",
              "      <td>12</td>\n",
              "      <td>Prime Minister of France</td>\n",
              "    </tr>\n",
              "    <tr>\n",
              "      <th>...</th>\n",
              "      <td>...</td>\n",
              "      <td>...</td>\n",
              "      <td>...</td>\n",
              "      <td>...</td>\n",
              "      <td>...</td>\n",
              "      <td>...</td>\n",
              "      <td>...</td>\n",
              "      <td>...</td>\n",
              "      <td>...</td>\n",
              "      <td>...</td>\n",
              "      <td>...</td>\n",
              "    </tr>\n",
              "    <tr>\n",
              "      <th>86</th>\n",
              "      <td>1961.0</td>\n",
              "      <td>1960.0</td>\n",
              "      <td>Politics</td>\n",
              "      <td>6</td>\n",
              "      <td>Presidential Election</td>\n",
              "      <td>United States</td>\n",
              "      <td>NaN</td>\n",
              "      <td>BO</td>\n",
              "      <td>NaN</td>\n",
              "      <td>12</td>\n",
              "      <td>President of the United States</td>\n",
              "    </tr>\n",
              "    <tr>\n",
              "      <th>87</th>\n",
              "      <td>1936.0</td>\n",
              "      <td>1930.0</td>\n",
              "      <td>Religion</td>\n",
              "      <td>12</td>\n",
              "      <td>Papal Conclave</td>\n",
              "      <td>Vatican City</td>\n",
              "      <td>NaN</td>\n",
              "      <td>PF</td>\n",
              "      <td>NaN</td>\n",
              "      <td>12</td>\n",
              "      <td>Pope of the Roman Catholic Church</td>\n",
              "    </tr>\n",
              "    <tr>\n",
              "      <th>88</th>\n",
              "      <td>NaN</td>\n",
              "      <td>NaN</td>\n",
              "      <td>Science</td>\n",
              "      <td>10</td>\n",
              "      <td>Ebola Epidemic</td>\n",
              "      <td>NaN</td>\n",
              "      <td>NaN</td>\n",
              "      <td>TE</td>\n",
              "      <td>NaN</td>\n",
              "      <td>18</td>\n",
              "      <td>NaN</td>\n",
              "    </tr>\n",
              "    <tr>\n",
              "      <th>89</th>\n",
              "      <td>1954.0</td>\n",
              "      <td>1950.0</td>\n",
              "      <td>Politics</td>\n",
              "      <td>6</td>\n",
              "      <td>Debt Crisis; Refugee Crisis; Paris Terrorist A...</td>\n",
              "      <td>Germany</td>\n",
              "      <td>NaN</td>\n",
              "      <td>AM</td>\n",
              "      <td>NaN</td>\n",
              "      <td>13</td>\n",
              "      <td>Chancellor of Germany</td>\n",
              "    </tr>\n",
              "    <tr>\n",
              "      <th>90</th>\n",
              "      <td>1946.0</td>\n",
              "      <td>1940.0</td>\n",
              "      <td>Politics</td>\n",
              "      <td>6</td>\n",
              "      <td>Presidential Election</td>\n",
              "      <td>United States</td>\n",
              "      <td>NaN</td>\n",
              "      <td>DT</td>\n",
              "      <td>NaN</td>\n",
              "      <td>12</td>\n",
              "      <td>President of the United States</td>\n",
              "    </tr>\n",
              "  </tbody>\n",
              "</table>\n",
              "<p>91 rows × 11 columns</p>\n",
              "</div>"
            ],
            "text/plain": [
              "         B  Birth Decade    Category  Category Ordinal  \\\n",
              "0   1902.0        1900.0         NaN                 0   \n",
              "1   1875.0        1870.0   Economics                 9   \n",
              "2   1874.0        1870.0   Diplomacy                11   \n",
              "3   1869.0        1860.0  Revolution                 8   \n",
              "4   1883.0        1880.0    Politics                 6   \n",
              "..     ...           ...         ...               ...   \n",
              "86  1961.0        1960.0    Politics                 6   \n",
              "87  1936.0        1930.0    Religion                12   \n",
              "88     NaN           NaN     Science                10   \n",
              "89  1954.0        1950.0    Politics                 6   \n",
              "90  1946.0        1940.0    Politics                 6   \n",
              "\n",
              "                                              Context        Country       D  \\\n",
              "0                     First Solo Transatlantic Flight  United States  1974.0   \n",
              "1                               Chrysler/Dodge Merger  United States  1940.0   \n",
              "2                                          Young Plan  United States  1962.0   \n",
              "3                                          Salt March          India  1948.0   \n",
              "4                                                 NaN         France  1945.0   \n",
              "..                                                ...            ...     ...   \n",
              "86                              Presidential Election  United States     NaN   \n",
              "87                                     Papal Conclave   Vatican City     NaN   \n",
              "88                                     Ebola Epidemic            NaN     NaN   \n",
              "89  Debt Crisis; Refugee Crisis; Paris Terrorist A...        Germany     NaN   \n",
              "90                              Presidential Election  United States     NaN   \n",
              "\n",
              "   Initials  Lifespan  Name Length  \\\n",
              "0        CL      72.0           17   \n",
              "1        WC      65.0           15   \n",
              "2       ODY      88.0           13   \n",
              "3        MG      79.0           14   \n",
              "4        PL      62.0           12   \n",
              "..      ...       ...          ...   \n",
              "86       BO       NaN           12   \n",
              "87       PF       NaN           12   \n",
              "88       TE       NaN           18   \n",
              "89       AM       NaN           13   \n",
              "90       DT       NaN           12   \n",
              "\n",
              "                                                Title  \n",
              "0                                   US Air Mail Pilot  \n",
              "1                                 Founder of Chrysler  \n",
              "2   Member of the German Reparations International...  \n",
              "3                                                 NaN  \n",
              "4                            Prime Minister of France  \n",
              "..                                                ...  \n",
              "86                     President of the United States  \n",
              "87                  Pope of the Roman Catholic Church  \n",
              "88                                                NaN  \n",
              "89                              Chancellor of Germany  \n",
              "90                     President of the United States  \n",
              "\n",
              "[91 rows x 11 columns]"
            ]
          },
          "execution_count": 23,
          "metadata": {},
          "output_type": "execute_result"
        }
      ],
      "source": [
        "# Sort columns\n",
        "time =time.reindex(sorted(time.columns), axis=1)\n",
        "time"
      ]
    },
    {
      "cell_type": "markdown",
      "metadata": {
        "id": "Tn3-6l0DMNgH"
      },
      "source": [
        "## Missing Data"
      ]
    },
    {
      "cell_type": "markdown",
      "metadata": {
        "id": "7pYPYWMMMNgI"
      },
      "source": [
        "### Fundamentals of missing data"
      ]
    },
    {
      "cell_type": "markdown",
      "metadata": {
        "id": "HcdPnUmhMNgI"
      },
      "source": [
        "In the previous example, you saw that some entries had `NaN` to fill in for **missing data**"
      ]
    },
    {
      "cell_type": "markdown",
      "metadata": {
        "id": "op9KqheQMNgI"
      },
      "source": [
        "Missing data is one of the most recurrent problems in data analysis"
      ]
    },
    {
      "cell_type": "markdown",
      "metadata": {
        "id": "sEqKclAdMNgJ"
      },
      "source": [
        "In fact, there are a lot of studies and methods on how to handle it!"
      ]
    },
    {
      "cell_type": "markdown",
      "metadata": {
        "id": "37XgPJs6MNgJ"
      },
      "source": [
        "We will work with a small dataset called [missing.csv](https://www.dropbox.com/s/5h4k4rszebd6p0n/missing.csv?raw=1) (it's the same as data.csv from last week, but now with missing values)"
      ]
    },
    {
      "cell_type": "code",
      "execution_count": null,
      "metadata": {
        "id": "PKjGW64TMNgK",
        "outputId": "95c5360c-1955-4391-d57b-8dae978b74b7"
      },
      "outputs": [
        {
          "data": {
            "text/html": [
              "<div>\n",
              "<style scoped>\n",
              "    .dataframe tbody tr th:only-of-type {\n",
              "        vertical-align: middle;\n",
              "    }\n",
              "\n",
              "    .dataframe tbody tr th {\n",
              "        vertical-align: top;\n",
              "    }\n",
              "\n",
              "    .dataframe thead th {\n",
              "        text-align: right;\n",
              "    }\n",
              "</style>\n",
              "<table border=\"1\" class=\"dataframe\">\n",
              "  <thead>\n",
              "    <tr style=\"text-align: right;\">\n",
              "      <th></th>\n",
              "      <th>Name</th>\n",
              "      <th>Age</th>\n",
              "      <th>Height</th>\n",
              "    </tr>\n",
              "  </thead>\n",
              "  <tbody>\n",
              "    <tr>\n",
              "      <th>0</th>\n",
              "      <td>Nick</td>\n",
              "      <td>21.0</td>\n",
              "      <td>1.85</td>\n",
              "    </tr>\n",
              "    <tr>\n",
              "      <th>1</th>\n",
              "      <td>Chris</td>\n",
              "      <td>29.0</td>\n",
              "      <td>Unknown</td>\n",
              "    </tr>\n",
              "    <tr>\n",
              "      <th>2</th>\n",
              "      <td>Tim</td>\n",
              "      <td>28.0</td>\n",
              "      <td>1.75</td>\n",
              "    </tr>\n",
              "    <tr>\n",
              "      <th>3</th>\n",
              "      <td>Ron</td>\n",
              "      <td>NaN</td>\n",
              "      <td>1.81</td>\n",
              "    </tr>\n",
              "    <tr>\n",
              "      <th>4</th>\n",
              "      <td>Monica</td>\n",
              "      <td>35.0</td>\n",
              "      <td>Unknown</td>\n",
              "    </tr>\n",
              "    <tr>\n",
              "      <th>5</th>\n",
              "      <td>Cassandra</td>\n",
              "      <td>21.0</td>\n",
              "      <td>1.66</td>\n",
              "    </tr>\n",
              "  </tbody>\n",
              "</table>\n",
              "</div>"
            ],
            "text/plain": [
              "        Name   Age   Height\n",
              "0       Nick  21.0     1.85\n",
              "1      Chris  29.0  Unknown\n",
              "2        Tim  28.0     1.75\n",
              "3        Ron   NaN     1.81\n",
              "4     Monica  35.0  Unknown\n",
              "5  Cassandra  21.0     1.66"
            ]
          },
          "execution_count": 24,
          "metadata": {},
          "output_type": "execute_result"
        }
      ],
      "source": [
        "df = pd.read_csv('https://www.dropbox.com/s/5h4k4rszebd6p0n/missing.csv?raw=1')\n",
        "df"
      ]
    },
    {
      "cell_type": "markdown",
      "metadata": {
        "id": "553WZsKVMNgK"
      },
      "source": [
        "The first thing to notice is that the second column is being shown with decimals, even though they were integers in the original file"
      ]
    },
    {
      "cell_type": "markdown",
      "metadata": {
        "id": "Bn4tVt51MNgL"
      },
      "source": [
        "Moreover, the blank entry is displayed as `NaN`"
      ]
    },
    {
      "cell_type": "markdown",
      "metadata": {
        "id": "WNuVQIcPMNgM"
      },
      "source": [
        "`NaN` stands for *Not A Number* as is part of the floating point specification, typically used when a calculation has no valid numerical result"
      ]
    },
    {
      "cell_type": "markdown",
      "metadata": {
        "id": "oH-3J8fzMNgM"
      },
      "source": [
        "In fact, Python considers `NaN` as a floating point (or `float64`)"
      ]
    },
    {
      "cell_type": "code",
      "execution_count": null,
      "metadata": {
        "cell_style": "split",
        "id": "Pmx2xaY1MNgN",
        "outputId": "4a5d495f-b88e-4bb6-d6c0-e604d8f68b3c"
      },
      "outputs": [
        {
          "data": {
            "text/html": [
              "<div>\n",
              "<style scoped>\n",
              "    .dataframe tbody tr th:only-of-type {\n",
              "        vertical-align: middle;\n",
              "    }\n",
              "\n",
              "    .dataframe tbody tr th {\n",
              "        vertical-align: top;\n",
              "    }\n",
              "\n",
              "    .dataframe thead th {\n",
              "        text-align: right;\n",
              "    }\n",
              "</style>\n",
              "<table border=\"1\" class=\"dataframe\">\n",
              "  <thead>\n",
              "    <tr style=\"text-align: right;\">\n",
              "      <th></th>\n",
              "      <th>Name</th>\n",
              "      <th>Age</th>\n",
              "      <th>Height</th>\n",
              "    </tr>\n",
              "  </thead>\n",
              "  <tbody>\n",
              "    <tr>\n",
              "      <th>0</th>\n",
              "      <td>Nick</td>\n",
              "      <td>21.0</td>\n",
              "      <td>1.85</td>\n",
              "    </tr>\n",
              "    <tr>\n",
              "      <th>1</th>\n",
              "      <td>Chris</td>\n",
              "      <td>29.0</td>\n",
              "      <td>Unknown</td>\n",
              "    </tr>\n",
              "    <tr>\n",
              "      <th>2</th>\n",
              "      <td>Tim</td>\n",
              "      <td>28.0</td>\n",
              "      <td>1.75</td>\n",
              "    </tr>\n",
              "    <tr>\n",
              "      <th>3</th>\n",
              "      <td>Ron</td>\n",
              "      <td>NaN</td>\n",
              "      <td>1.81</td>\n",
              "    </tr>\n",
              "    <tr>\n",
              "      <th>4</th>\n",
              "      <td>Monica</td>\n",
              "      <td>35.0</td>\n",
              "      <td>Unknown</td>\n",
              "    </tr>\n",
              "    <tr>\n",
              "      <th>5</th>\n",
              "      <td>Cassandra</td>\n",
              "      <td>21.0</td>\n",
              "      <td>1.66</td>\n",
              "    </tr>\n",
              "  </tbody>\n",
              "</table>\n",
              "</div>"
            ],
            "text/plain": [
              "        Name   Age   Height\n",
              "0       Nick  21.0     1.85\n",
              "1      Chris  29.0  Unknown\n",
              "2        Tim  28.0     1.75\n",
              "3        Ron   NaN     1.81\n",
              "4     Monica  35.0  Unknown\n",
              "5  Cassandra  21.0     1.66"
            ]
          },
          "execution_count": 25,
          "metadata": {},
          "output_type": "execute_result"
        }
      ],
      "source": [
        "df"
      ]
    },
    {
      "cell_type": "code",
      "execution_count": null,
      "metadata": {
        "cell_style": "split",
        "id": "U-JhwcnWMNgO",
        "outputId": "caf20683-6488-47d4-886d-eda84f5f8aca"
      },
      "outputs": [
        {
          "data": {
            "text/plain": [
              "numpy.float64"
            ]
          },
          "execution_count": 26,
          "metadata": {},
          "output_type": "execute_result"
        }
      ],
      "source": [
        "type(df.at[3, 'Age'])"
      ]
    },
    {
      "cell_type": "markdown",
      "metadata": {
        "id": "yNxqwcjoMNgP"
      },
      "source": [
        "As a result, the entire column has been turned into `float64`, instead of `int64`"
      ]
    },
    {
      "cell_type": "markdown",
      "metadata": {
        "id": "nt9hFkgkMNgP"
      },
      "source": [
        " This is why it was being shown as decimals!"
      ]
    },
    {
      "cell_type": "code",
      "execution_count": null,
      "metadata": {
        "id": "AHpPZHy0MNgQ",
        "outputId": "4b5624de-e9a2-4a14-da92-f2f4c186905c"
      },
      "outputs": [
        {
          "data": {
            "text/plain": [
              "0    21.0\n",
              "1    29.0\n",
              "2    28.0\n",
              "3     NaN\n",
              "4    35.0\n",
              "5    21.0\n",
              "Name: Age, dtype: float64"
            ]
          },
          "execution_count": 27,
          "metadata": {},
          "output_type": "execute_result"
        }
      ],
      "source": [
        "df['Age']"
      ]
    },
    {
      "cell_type": "markdown",
      "metadata": {
        "id": "wHpiPb9vMNgQ"
      },
      "source": [
        "### Incorrectly Imported Missing Data"
      ]
    },
    {
      "cell_type": "markdown",
      "metadata": {
        "id": "qHTFVvPlMNgQ"
      },
      "source": [
        "The missing value in the `Age` column was generated because the cell was blank"
      ]
    },
    {
      "cell_type": "markdown",
      "metadata": {
        "id": "kHSDV2sPMNgR"
      },
      "source": [
        "By default, `Pandas` will treat certain cell values, such as a *blank*, `NULL`, `NaN`, and `n/a` as missing values"
      ]
    },
    {
      "cell_type": "markdown",
      "metadata": {
        "id": "qbBbDPxUMNgS"
      },
      "source": [
        "The `Height` column contains some entries which we recognise as missing data (i.e. `Unknown`) but that Pandas did not"
      ]
    },
    {
      "cell_type": "markdown",
      "metadata": {
        "id": "a7PRhYDgMNgS"
      },
      "source": [
        "In fact, the entire column has been imported as strings, not numbers!"
      ]
    },
    {
      "cell_type": "code",
      "execution_count": null,
      "metadata": {
        "cell_style": "split",
        "id": "mjquFjowMNgT",
        "outputId": "a3ceb08e-715a-459d-e2e0-c85f2a031ae2"
      },
      "outputs": [
        {
          "data": {
            "text/html": [
              "<div>\n",
              "<style scoped>\n",
              "    .dataframe tbody tr th:only-of-type {\n",
              "        vertical-align: middle;\n",
              "    }\n",
              "\n",
              "    .dataframe tbody tr th {\n",
              "        vertical-align: top;\n",
              "    }\n",
              "\n",
              "    .dataframe thead th {\n",
              "        text-align: right;\n",
              "    }\n",
              "</style>\n",
              "<table border=\"1\" class=\"dataframe\">\n",
              "  <thead>\n",
              "    <tr style=\"text-align: right;\">\n",
              "      <th></th>\n",
              "      <th>Name</th>\n",
              "      <th>Age</th>\n",
              "      <th>Height</th>\n",
              "    </tr>\n",
              "  </thead>\n",
              "  <tbody>\n",
              "    <tr>\n",
              "      <th>0</th>\n",
              "      <td>Nick</td>\n",
              "      <td>21.0</td>\n",
              "      <td>1.85</td>\n",
              "    </tr>\n",
              "    <tr>\n",
              "      <th>1</th>\n",
              "      <td>Chris</td>\n",
              "      <td>29.0</td>\n",
              "      <td>Unknown</td>\n",
              "    </tr>\n",
              "    <tr>\n",
              "      <th>2</th>\n",
              "      <td>Tim</td>\n",
              "      <td>28.0</td>\n",
              "      <td>1.75</td>\n",
              "    </tr>\n",
              "    <tr>\n",
              "      <th>3</th>\n",
              "      <td>Ron</td>\n",
              "      <td>NaN</td>\n",
              "      <td>1.81</td>\n",
              "    </tr>\n",
              "    <tr>\n",
              "      <th>4</th>\n",
              "      <td>Monica</td>\n",
              "      <td>35.0</td>\n",
              "      <td>Unknown</td>\n",
              "    </tr>\n",
              "    <tr>\n",
              "      <th>5</th>\n",
              "      <td>Cassandra</td>\n",
              "      <td>21.0</td>\n",
              "      <td>1.66</td>\n",
              "    </tr>\n",
              "  </tbody>\n",
              "</table>\n",
              "</div>"
            ],
            "text/plain": [
              "        Name   Age   Height\n",
              "0       Nick  21.0     1.85\n",
              "1      Chris  29.0  Unknown\n",
              "2        Tim  28.0     1.75\n",
              "3        Ron   NaN     1.81\n",
              "4     Monica  35.0  Unknown\n",
              "5  Cassandra  21.0     1.66"
            ]
          },
          "execution_count": 28,
          "metadata": {},
          "output_type": "execute_result"
        }
      ],
      "source": [
        "df"
      ]
    },
    {
      "cell_type": "code",
      "execution_count": null,
      "metadata": {
        "cell_style": "split",
        "id": "PaiihzlHMNgU",
        "outputId": "32e617a4-a08d-47dd-d51f-765f59425459"
      },
      "outputs": [
        {
          "name": "stdout",
          "output_type": "stream",
          "text": [
            "Unknown\n",
            "<class 'str'>\n"
          ]
        }
      ],
      "source": [
        "print(df.at[1, 'Height'])\n",
        "print(type(df.at[1, 'Height']))"
      ]
    },
    {
      "cell_type": "markdown",
      "metadata": {
        "id": "zL6l_L_oMNgV"
      },
      "source": [
        "This in turn made `Pandas` believe that the whole column has strings!"
      ]
    },
    {
      "cell_type": "code",
      "execution_count": null,
      "metadata": {
        "id": "5JUH7Z-aMNgV",
        "outputId": "76639ed4-f0be-4f00-8a4c-cc4a0ea642e2"
      },
      "outputs": [
        {
          "name": "stdout",
          "output_type": "stream",
          "text": [
            "1.85\n",
            "<class 'str'>\n"
          ]
        }
      ],
      "source": [
        "print(df.at[0, 'Height'])\n",
        "print(type(df.at[0, 'Height']))"
      ]
    },
    {
      "cell_type": "markdown",
      "metadata": {
        "id": "2CcLwKfTMNgW"
      },
      "source": [
        "What happens if we multiply this column by `100`?"
      ]
    },
    {
      "cell_type": "code",
      "execution_count": null,
      "metadata": {
        "id": "h3Bd01oIMNgW",
        "outputId": "b16e0a6b-4006-4f06-8cd0-f1effeb65f2e"
      },
      "outputs": [
        {
          "data": {
            "text/html": [
              "<div>\n",
              "<style scoped>\n",
              "    .dataframe tbody tr th:only-of-type {\n",
              "        vertical-align: middle;\n",
              "    }\n",
              "\n",
              "    .dataframe tbody tr th {\n",
              "        vertical-align: top;\n",
              "    }\n",
              "\n",
              "    .dataframe thead th {\n",
              "        text-align: right;\n",
              "    }\n",
              "</style>\n",
              "<table border=\"1\" class=\"dataframe\">\n",
              "  <thead>\n",
              "    <tr style=\"text-align: right;\">\n",
              "      <th></th>\n",
              "      <th>Name</th>\n",
              "      <th>Age</th>\n",
              "      <th>Height</th>\n",
              "      <th>Height times 100</th>\n",
              "    </tr>\n",
              "  </thead>\n",
              "  <tbody>\n",
              "    <tr>\n",
              "      <th>0</th>\n",
              "      <td>Nick</td>\n",
              "      <td>21.0</td>\n",
              "      <td>1.85</td>\n",
              "      <td>1.851.851.851.851.851.851.851.851.851.851.851....</td>\n",
              "    </tr>\n",
              "    <tr>\n",
              "      <th>1</th>\n",
              "      <td>Chris</td>\n",
              "      <td>29.0</td>\n",
              "      <td>Unknown</td>\n",
              "      <td>UnknownUnknownUnknownUnknownUnknownUnknownUnkn...</td>\n",
              "    </tr>\n",
              "    <tr>\n",
              "      <th>2</th>\n",
              "      <td>Tim</td>\n",
              "      <td>28.0</td>\n",
              "      <td>1.75</td>\n",
              "      <td>1.751.751.751.751.751.751.751.751.751.751.751....</td>\n",
              "    </tr>\n",
              "    <tr>\n",
              "      <th>3</th>\n",
              "      <td>Ron</td>\n",
              "      <td>NaN</td>\n",
              "      <td>1.81</td>\n",
              "      <td>1.811.811.811.811.811.811.811.811.811.811.811....</td>\n",
              "    </tr>\n",
              "    <tr>\n",
              "      <th>4</th>\n",
              "      <td>Monica</td>\n",
              "      <td>35.0</td>\n",
              "      <td>Unknown</td>\n",
              "      <td>UnknownUnknownUnknownUnknownUnknownUnknownUnkn...</td>\n",
              "    </tr>\n",
              "    <tr>\n",
              "      <th>5</th>\n",
              "      <td>Cassandra</td>\n",
              "      <td>21.0</td>\n",
              "      <td>1.66</td>\n",
              "      <td>1.661.661.661.661.661.661.661.661.661.661.661....</td>\n",
              "    </tr>\n",
              "  </tbody>\n",
              "</table>\n",
              "</div>"
            ],
            "text/plain": [
              "        Name   Age   Height                                   Height times 100\n",
              "0       Nick  21.0     1.85  1.851.851.851.851.851.851.851.851.851.851.851....\n",
              "1      Chris  29.0  Unknown  UnknownUnknownUnknownUnknownUnknownUnknownUnkn...\n",
              "2        Tim  28.0     1.75  1.751.751.751.751.751.751.751.751.751.751.751....\n",
              "3        Ron   NaN     1.81  1.811.811.811.811.811.811.811.811.811.811.811....\n",
              "4     Monica  35.0  Unknown  UnknownUnknownUnknownUnknownUnknownUnknownUnkn...\n",
              "5  Cassandra  21.0     1.66  1.661.661.661.661.661.661.661.661.661.661.661...."
            ]
          },
          "execution_count": 31,
          "metadata": {},
          "output_type": "execute_result"
        }
      ],
      "source": [
        "df['Height times 100'] = df['Height'] * 100\n",
        "df"
      ]
    },
    {
      "cell_type": "markdown",
      "metadata": {
        "id": "2uWFMH7UMNgX"
      },
      "source": [
        "We need to tell Pandas in advance to treat `Unknown` not as a string, but as a missing value"
      ]
    },
    {
      "cell_type": "markdown",
      "metadata": {
        "id": "_uU223FMMNgX"
      },
      "source": [
        "Lets re-import the data set passing a list of values which represent missing values as the `na_values` parameter"
      ]
    },
    {
      "cell_type": "code",
      "execution_count": null,
      "metadata": {
        "id": "0djGoRejMNgY",
        "outputId": "d159242d-4a40-463f-8262-624e7d6e556b"
      },
      "outputs": [
        {
          "data": {
            "text/html": [
              "<div>\n",
              "<style scoped>\n",
              "    .dataframe tbody tr th:only-of-type {\n",
              "        vertical-align: middle;\n",
              "    }\n",
              "\n",
              "    .dataframe tbody tr th {\n",
              "        vertical-align: top;\n",
              "    }\n",
              "\n",
              "    .dataframe thead th {\n",
              "        text-align: right;\n",
              "    }\n",
              "</style>\n",
              "<table border=\"1\" class=\"dataframe\">\n",
              "  <thead>\n",
              "    <tr style=\"text-align: right;\">\n",
              "      <th></th>\n",
              "      <th>Name</th>\n",
              "      <th>Age</th>\n",
              "      <th>Height</th>\n",
              "    </tr>\n",
              "  </thead>\n",
              "  <tbody>\n",
              "    <tr>\n",
              "      <th>0</th>\n",
              "      <td>Nick</td>\n",
              "      <td>21.0</td>\n",
              "      <td>1.85</td>\n",
              "    </tr>\n",
              "    <tr>\n",
              "      <th>1</th>\n",
              "      <td>Chris</td>\n",
              "      <td>29.0</td>\n",
              "      <td>NaN</td>\n",
              "    </tr>\n",
              "    <tr>\n",
              "      <th>2</th>\n",
              "      <td>Tim</td>\n",
              "      <td>28.0</td>\n",
              "      <td>1.75</td>\n",
              "    </tr>\n",
              "    <tr>\n",
              "      <th>3</th>\n",
              "      <td>Ron</td>\n",
              "      <td>NaN</td>\n",
              "      <td>1.81</td>\n",
              "    </tr>\n",
              "    <tr>\n",
              "      <th>4</th>\n",
              "      <td>Monica</td>\n",
              "      <td>35.0</td>\n",
              "      <td>NaN</td>\n",
              "    </tr>\n",
              "    <tr>\n",
              "      <th>5</th>\n",
              "      <td>Cassandra</td>\n",
              "      <td>21.0</td>\n",
              "      <td>1.66</td>\n",
              "    </tr>\n",
              "  </tbody>\n",
              "</table>\n",
              "</div>"
            ],
            "text/plain": [
              "        Name   Age  Height\n",
              "0       Nick  21.0    1.85\n",
              "1      Chris  29.0     NaN\n",
              "2        Tim  28.0    1.75\n",
              "3        Ron   NaN    1.81\n",
              "4     Monica  35.0     NaN\n",
              "5  Cassandra  21.0    1.66"
            ]
          },
          "execution_count": 32,
          "metadata": {},
          "output_type": "execute_result"
        }
      ],
      "source": [
        "df = pd.read_csv('https://www.dropbox.com/s/5h4k4rszebd6p0n/missing.csv?raw=1', \n",
        "                 na_values=['Unknown'])\n",
        "df"
      ]
    },
    {
      "cell_type": "markdown",
      "metadata": {
        "id": "i2IlsM65MNgZ"
      },
      "source": [
        "Now the column is `float64`"
      ]
    },
    {
      "cell_type": "code",
      "execution_count": null,
      "metadata": {
        "id": "El0xWcFDMNga",
        "outputId": "6b809ccd-a06a-4daf-8e0c-8838110c358a"
      },
      "outputs": [
        {
          "data": {
            "text/plain": [
              "0    1.85\n",
              "1     NaN\n",
              "2    1.75\n",
              "3    1.81\n",
              "4     NaN\n",
              "5    1.66\n",
              "Name: Height, dtype: float64"
            ]
          },
          "execution_count": 33,
          "metadata": {},
          "output_type": "execute_result"
        }
      ],
      "source": [
        "df['Height']"
      ]
    },
    {
      "cell_type": "markdown",
      "metadata": {
        "id": "j8arG4SxMNgb"
      },
      "source": [
        "Multiplying `Height` now works as expected."
      ]
    },
    {
      "cell_type": "code",
      "execution_count": null,
      "metadata": {
        "cell_style": "split",
        "id": "i1Zpk_WGMNgb",
        "outputId": "24842a77-aba4-4b47-bb4b-1a34bf608596"
      },
      "outputs": [
        {
          "data": {
            "text/html": [
              "<div>\n",
              "<style scoped>\n",
              "    .dataframe tbody tr th:only-of-type {\n",
              "        vertical-align: middle;\n",
              "    }\n",
              "\n",
              "    .dataframe tbody tr th {\n",
              "        vertical-align: top;\n",
              "    }\n",
              "\n",
              "    .dataframe thead th {\n",
              "        text-align: right;\n",
              "    }\n",
              "</style>\n",
              "<table border=\"1\" class=\"dataframe\">\n",
              "  <thead>\n",
              "    <tr style=\"text-align: right;\">\n",
              "      <th></th>\n",
              "      <th>Name</th>\n",
              "      <th>Age</th>\n",
              "      <th>Height</th>\n",
              "      <th>Height times 100</th>\n",
              "    </tr>\n",
              "  </thead>\n",
              "  <tbody>\n",
              "    <tr>\n",
              "      <th>0</th>\n",
              "      <td>Nick</td>\n",
              "      <td>21.0</td>\n",
              "      <td>1.85</td>\n",
              "      <td>185.0</td>\n",
              "    </tr>\n",
              "    <tr>\n",
              "      <th>1</th>\n",
              "      <td>Chris</td>\n",
              "      <td>29.0</td>\n",
              "      <td>NaN</td>\n",
              "      <td>NaN</td>\n",
              "    </tr>\n",
              "    <tr>\n",
              "      <th>2</th>\n",
              "      <td>Tim</td>\n",
              "      <td>28.0</td>\n",
              "      <td>1.75</td>\n",
              "      <td>175.0</td>\n",
              "    </tr>\n",
              "    <tr>\n",
              "      <th>3</th>\n",
              "      <td>Ron</td>\n",
              "      <td>NaN</td>\n",
              "      <td>1.81</td>\n",
              "      <td>181.0</td>\n",
              "    </tr>\n",
              "    <tr>\n",
              "      <th>4</th>\n",
              "      <td>Monica</td>\n",
              "      <td>35.0</td>\n",
              "      <td>NaN</td>\n",
              "      <td>NaN</td>\n",
              "    </tr>\n",
              "    <tr>\n",
              "      <th>5</th>\n",
              "      <td>Cassandra</td>\n",
              "      <td>21.0</td>\n",
              "      <td>1.66</td>\n",
              "      <td>166.0</td>\n",
              "    </tr>\n",
              "  </tbody>\n",
              "</table>\n",
              "</div>"
            ],
            "text/plain": [
              "        Name   Age  Height  Height times 100\n",
              "0       Nick  21.0    1.85             185.0\n",
              "1      Chris  29.0     NaN               NaN\n",
              "2        Tim  28.0    1.75             175.0\n",
              "3        Ron   NaN    1.81             181.0\n",
              "4     Monica  35.0     NaN               NaN\n",
              "5  Cassandra  21.0    1.66             166.0"
            ]
          },
          "execution_count": 34,
          "metadata": {},
          "output_type": "execute_result"
        }
      ],
      "source": [
        "df['Height times 100'] = df['Height'] * 100\n",
        "df"
      ]
    },
    {
      "cell_type": "code",
      "execution_count": null,
      "metadata": {
        "cell_style": "split",
        "id": "YKo6UO_gMNgb",
        "outputId": "3c2fe681-f99d-421d-f1e7-53e43a8a3e68"
      },
      "outputs": [
        {
          "data": {
            "text/html": [
              "<div>\n",
              "<style scoped>\n",
              "    .dataframe tbody tr th:only-of-type {\n",
              "        vertical-align: middle;\n",
              "    }\n",
              "\n",
              "    .dataframe tbody tr th {\n",
              "        vertical-align: top;\n",
              "    }\n",
              "\n",
              "    .dataframe thead th {\n",
              "        text-align: right;\n",
              "    }\n",
              "</style>\n",
              "<table border=\"1\" class=\"dataframe\">\n",
              "  <thead>\n",
              "    <tr style=\"text-align: right;\">\n",
              "      <th></th>\n",
              "      <th>Name</th>\n",
              "      <th>Age</th>\n",
              "      <th>Height</th>\n",
              "      <th>Height times 100</th>\n",
              "      <th>Test</th>\n",
              "    </tr>\n",
              "  </thead>\n",
              "  <tbody>\n",
              "    <tr>\n",
              "      <th>0</th>\n",
              "      <td>Nick</td>\n",
              "      <td>21.0</td>\n",
              "      <td>1.85</td>\n",
              "      <td>185.0</td>\n",
              "      <td>22.85</td>\n",
              "    </tr>\n",
              "    <tr>\n",
              "      <th>1</th>\n",
              "      <td>Chris</td>\n",
              "      <td>29.0</td>\n",
              "      <td>NaN</td>\n",
              "      <td>NaN</td>\n",
              "      <td>NaN</td>\n",
              "    </tr>\n",
              "    <tr>\n",
              "      <th>2</th>\n",
              "      <td>Tim</td>\n",
              "      <td>28.0</td>\n",
              "      <td>1.75</td>\n",
              "      <td>175.0</td>\n",
              "      <td>29.75</td>\n",
              "    </tr>\n",
              "    <tr>\n",
              "      <th>3</th>\n",
              "      <td>Ron</td>\n",
              "      <td>NaN</td>\n",
              "      <td>1.81</td>\n",
              "      <td>181.0</td>\n",
              "      <td>NaN</td>\n",
              "    </tr>\n",
              "    <tr>\n",
              "      <th>4</th>\n",
              "      <td>Monica</td>\n",
              "      <td>35.0</td>\n",
              "      <td>NaN</td>\n",
              "      <td>NaN</td>\n",
              "      <td>NaN</td>\n",
              "    </tr>\n",
              "    <tr>\n",
              "      <th>5</th>\n",
              "      <td>Cassandra</td>\n",
              "      <td>21.0</td>\n",
              "      <td>1.66</td>\n",
              "      <td>166.0</td>\n",
              "      <td>22.66</td>\n",
              "    </tr>\n",
              "  </tbody>\n",
              "</table>\n",
              "</div>"
            ],
            "text/plain": [
              "        Name   Age  Height  Height times 100   Test\n",
              "0       Nick  21.0    1.85             185.0  22.85\n",
              "1      Chris  29.0     NaN               NaN    NaN\n",
              "2        Tim  28.0    1.75             175.0  29.75\n",
              "3        Ron   NaN    1.81             181.0    NaN\n",
              "4     Monica  35.0     NaN               NaN    NaN\n",
              "5  Cassandra  21.0    1.66             166.0  22.66"
            ]
          },
          "execution_count": 35,
          "metadata": {},
          "output_type": "execute_result"
        }
      ],
      "source": [
        "# Another example\n",
        "df['Test'] = df['Age'] + df['Height']\n",
        "df"
      ]
    },
    {
      "cell_type": "markdown",
      "metadata": {
        "id": "GupMgk4WMNgc"
      },
      "source": [
        "### Methods to address missing data"
      ]
    },
    {
      "cell_type": "markdown",
      "metadata": {
        "id": "xPovSspCMNgd"
      },
      "source": [
        "As mentioned before, there are different ways to deal with missing data"
      ]
    },
    {
      "cell_type": "markdown",
      "metadata": {
        "id": "mci7q7BaMNgf"
      },
      "source": [
        "The method you should use depends on your analysis, the application domain and what you want to achieve"
      ]
    },
    {
      "cell_type": "markdown",
      "metadata": {
        "id": "JEZk3gXNMNgg"
      },
      "source": [
        "Here are some common methods:\n",
        "\n",
        "    1. Leave the missing values as NaN\n",
        "    2. Lookup the values from another data source\n",
        "    3. Delete the rows / observations\n",
        "    4. Compute reasonable guesses about the values"
      ]
    },
    {
      "cell_type": "markdown",
      "metadata": {
        "id": "SnnuP5bzMNgh"
      },
      "source": [
        "In **option 1**, it is often reasonable to just leave the data as missing data"
      ]
    },
    {
      "cell_type": "markdown",
      "metadata": {
        "id": "ogZ9z_-CMNgh"
      },
      "source": [
        "For example, if we wanted to calculate average `Height`, it may not matter that we are missing `Age` for one row"
      ]
    },
    {
      "cell_type": "markdown",
      "metadata": {
        "id": "HlAPB1gxMNgh"
      },
      "source": [
        "As for **option 2**, if we have some other ways of going back and getting correct data, we could just update the values with `df.at[3, 'Age'] = ...`"
      ]
    },
    {
      "cell_type": "markdown",
      "metadata": {
        "id": "lJ7TuysPMNgh"
      },
      "source": [
        "Let's assume we are going for **option 3** and want to remove any rows where we do no have `Age`"
      ]
    },
    {
      "cell_type": "markdown",
      "metadata": {
        "id": "0oy1cktfMNgj"
      },
      "source": [
        "If we know the row we want to delete (number 3), we can use the `drop` method, only this time we specify rows, not columns. As in:\n",
        "\n",
        "    df.drop(3)"
      ]
    },
    {
      "cell_type": "markdown",
      "metadata": {
        "id": "vpnJT5u_MNgj"
      },
      "source": [
        "However, often there are many missing values, and we don't want to check on the index of each"
      ]
    },
    {
      "cell_type": "markdown",
      "metadata": {
        "id": "b1yXkOk2MNgj"
      },
      "source": [
        "A good way to remove rows with missing data is to specify which rows to **keep**"
      ]
    },
    {
      "cell_type": "markdown",
      "metadata": {
        "id": "cj437u5NMNgj"
      },
      "source": [
        "The `isnull` method will filter for rows which contains `NaN`."
      ]
    },
    {
      "cell_type": "code",
      "execution_count": null,
      "metadata": {
        "id": "KwkD9tU1MNgj",
        "outputId": "cdf94d4e-08a6-44dc-d74c-0cf1ed3b8d41"
      },
      "outputs": [
        {
          "data": {
            "text/html": [
              "<div>\n",
              "<style scoped>\n",
              "    .dataframe tbody tr th:only-of-type {\n",
              "        vertical-align: middle;\n",
              "    }\n",
              "\n",
              "    .dataframe tbody tr th {\n",
              "        vertical-align: top;\n",
              "    }\n",
              "\n",
              "    .dataframe thead th {\n",
              "        text-align: right;\n",
              "    }\n",
              "</style>\n",
              "<table border=\"1\" class=\"dataframe\">\n",
              "  <thead>\n",
              "    <tr style=\"text-align: right;\">\n",
              "      <th></th>\n",
              "      <th>Name</th>\n",
              "      <th>Age</th>\n",
              "      <th>Height</th>\n",
              "      <th>Height times 100</th>\n",
              "      <th>Test</th>\n",
              "    </tr>\n",
              "  </thead>\n",
              "  <tbody>\n",
              "    <tr>\n",
              "      <th>3</th>\n",
              "      <td>Ron</td>\n",
              "      <td>NaN</td>\n",
              "      <td>1.81</td>\n",
              "      <td>181.0</td>\n",
              "      <td>NaN</td>\n",
              "    </tr>\n",
              "  </tbody>\n",
              "</table>\n",
              "</div>"
            ],
            "text/plain": [
              "  Name  Age  Height  Height times 100  Test\n",
              "3  Ron  NaN    1.81             181.0   NaN"
            ]
          },
          "execution_count": 36,
          "metadata": {},
          "output_type": "execute_result"
        }
      ],
      "source": [
        "df[df['Age'].isnull()]"
      ]
    },
    {
      "cell_type": "markdown",
      "metadata": {
        "id": "CUJihrLyMNgj"
      },
      "source": [
        "Of course, this is the *opposite* of specifying which to keep"
      ]
    },
    {
      "cell_type": "markdown",
      "metadata": {
        "id": "2COp7BZ7MNgk"
      },
      "source": [
        "The **notnull** method will show us which rows do not contain `NaN` in the specified column."
      ]
    },
    {
      "cell_type": "code",
      "execution_count": null,
      "metadata": {
        "id": "68nuDSj1MNgk",
        "outputId": "491ab94a-1ddd-4e60-f08b-440ae12fa6cb"
      },
      "outputs": [
        {
          "data": {
            "text/html": [
              "<div>\n",
              "<style scoped>\n",
              "    .dataframe tbody tr th:only-of-type {\n",
              "        vertical-align: middle;\n",
              "    }\n",
              "\n",
              "    .dataframe tbody tr th {\n",
              "        vertical-align: top;\n",
              "    }\n",
              "\n",
              "    .dataframe thead th {\n",
              "        text-align: right;\n",
              "    }\n",
              "</style>\n",
              "<table border=\"1\" class=\"dataframe\">\n",
              "  <thead>\n",
              "    <tr style=\"text-align: right;\">\n",
              "      <th></th>\n",
              "      <th>Name</th>\n",
              "      <th>Age</th>\n",
              "      <th>Height</th>\n",
              "      <th>Height times 100</th>\n",
              "      <th>Test</th>\n",
              "    </tr>\n",
              "  </thead>\n",
              "  <tbody>\n",
              "    <tr>\n",
              "      <th>0</th>\n",
              "      <td>Nick</td>\n",
              "      <td>21.0</td>\n",
              "      <td>1.85</td>\n",
              "      <td>185.0</td>\n",
              "      <td>22.85</td>\n",
              "    </tr>\n",
              "    <tr>\n",
              "      <th>1</th>\n",
              "      <td>Chris</td>\n",
              "      <td>29.0</td>\n",
              "      <td>NaN</td>\n",
              "      <td>NaN</td>\n",
              "      <td>NaN</td>\n",
              "    </tr>\n",
              "    <tr>\n",
              "      <th>2</th>\n",
              "      <td>Tim</td>\n",
              "      <td>28.0</td>\n",
              "      <td>1.75</td>\n",
              "      <td>175.0</td>\n",
              "      <td>29.75</td>\n",
              "    </tr>\n",
              "    <tr>\n",
              "      <th>4</th>\n",
              "      <td>Monica</td>\n",
              "      <td>35.0</td>\n",
              "      <td>NaN</td>\n",
              "      <td>NaN</td>\n",
              "      <td>NaN</td>\n",
              "    </tr>\n",
              "    <tr>\n",
              "      <th>5</th>\n",
              "      <td>Cassandra</td>\n",
              "      <td>21.0</td>\n",
              "      <td>1.66</td>\n",
              "      <td>166.0</td>\n",
              "      <td>22.66</td>\n",
              "    </tr>\n",
              "  </tbody>\n",
              "</table>\n",
              "</div>"
            ],
            "text/plain": [
              "        Name   Age  Height  Height times 100   Test\n",
              "0       Nick  21.0    1.85             185.0  22.85\n",
              "1      Chris  29.0     NaN               NaN    NaN\n",
              "2        Tim  28.0    1.75             175.0  29.75\n",
              "4     Monica  35.0     NaN               NaN    NaN\n",
              "5  Cassandra  21.0    1.66             166.0  22.66"
            ]
          },
          "execution_count": 37,
          "metadata": {},
          "output_type": "execute_result"
        }
      ],
      "source": [
        "df[df['Age'].notnull()]"
      ]
    },
    {
      "cell_type": "markdown",
      "metadata": {
        "id": "590GLkCnMNgl"
      },
      "source": [
        "Notice that the filter is only checking the column we specified `Age`, not the other column with `NaN` values"
      ]
    },
    {
      "cell_type": "markdown",
      "metadata": {
        "id": "wsiJTSBcMNgl"
      },
      "source": [
        "We can apply the filter by assigning the result back to `df`"
      ]
    },
    {
      "cell_type": "code",
      "execution_count": null,
      "metadata": {
        "id": "S29nz7_4MNgm",
        "outputId": "5e75432a-fdd6-4e07-c3e4-fbc8b319ceb2"
      },
      "outputs": [
        {
          "data": {
            "text/html": [
              "<div>\n",
              "<style scoped>\n",
              "    .dataframe tbody tr th:only-of-type {\n",
              "        vertical-align: middle;\n",
              "    }\n",
              "\n",
              "    .dataframe tbody tr th {\n",
              "        vertical-align: top;\n",
              "    }\n",
              "\n",
              "    .dataframe thead th {\n",
              "        text-align: right;\n",
              "    }\n",
              "</style>\n",
              "<table border=\"1\" class=\"dataframe\">\n",
              "  <thead>\n",
              "    <tr style=\"text-align: right;\">\n",
              "      <th></th>\n",
              "      <th>Name</th>\n",
              "      <th>Age</th>\n",
              "      <th>Height</th>\n",
              "      <th>Height times 100</th>\n",
              "      <th>Test</th>\n",
              "    </tr>\n",
              "  </thead>\n",
              "  <tbody>\n",
              "    <tr>\n",
              "      <th>0</th>\n",
              "      <td>Nick</td>\n",
              "      <td>21.0</td>\n",
              "      <td>1.85</td>\n",
              "      <td>185.0</td>\n",
              "      <td>22.85</td>\n",
              "    </tr>\n",
              "    <tr>\n",
              "      <th>1</th>\n",
              "      <td>Chris</td>\n",
              "      <td>29.0</td>\n",
              "      <td>NaN</td>\n",
              "      <td>NaN</td>\n",
              "      <td>NaN</td>\n",
              "    </tr>\n",
              "    <tr>\n",
              "      <th>2</th>\n",
              "      <td>Tim</td>\n",
              "      <td>28.0</td>\n",
              "      <td>1.75</td>\n",
              "      <td>175.0</td>\n",
              "      <td>29.75</td>\n",
              "    </tr>\n",
              "    <tr>\n",
              "      <th>4</th>\n",
              "      <td>Monica</td>\n",
              "      <td>35.0</td>\n",
              "      <td>NaN</td>\n",
              "      <td>NaN</td>\n",
              "      <td>NaN</td>\n",
              "    </tr>\n",
              "    <tr>\n",
              "      <th>5</th>\n",
              "      <td>Cassandra</td>\n",
              "      <td>21.0</td>\n",
              "      <td>1.66</td>\n",
              "      <td>166.0</td>\n",
              "      <td>22.66</td>\n",
              "    </tr>\n",
              "  </tbody>\n",
              "</table>\n",
              "</div>"
            ],
            "text/plain": [
              "        Name   Age  Height  Height times 100   Test\n",
              "0       Nick  21.0    1.85             185.0  22.85\n",
              "1      Chris  29.0     NaN               NaN    NaN\n",
              "2        Tim  28.0    1.75             175.0  29.75\n",
              "4     Monica  35.0     NaN               NaN    NaN\n",
              "5  Cassandra  21.0    1.66             166.0  22.66"
            ]
          },
          "execution_count": 38,
          "metadata": {},
          "output_type": "execute_result"
        }
      ],
      "source": [
        "df = df[df['Age'].notnull()]\n",
        "df"
      ]
    },
    {
      "cell_type": "markdown",
      "metadata": {
        "id": "rqbcFJEOMNgn"
      },
      "source": [
        "Since the `Age` column no longer contains any non-integers, it is safe to convert the column to `int64` type"
      ]
    },
    {
      "cell_type": "markdown",
      "metadata": {
        "id": "6kCUzWe7MNgn"
      },
      "source": [
        "We can do this with the `astype` method"
      ]
    },
    {
      "cell_type": "code",
      "execution_count": null,
      "metadata": {
        "id": "7D7e2hfuMNgn",
        "outputId": "edd01085-3253-4f25-d9be-c2ba78e64b68"
      },
      "outputs": [
        {
          "data": {
            "text/html": [
              "<div>\n",
              "<style scoped>\n",
              "    .dataframe tbody tr th:only-of-type {\n",
              "        vertical-align: middle;\n",
              "    }\n",
              "\n",
              "    .dataframe tbody tr th {\n",
              "        vertical-align: top;\n",
              "    }\n",
              "\n",
              "    .dataframe thead th {\n",
              "        text-align: right;\n",
              "    }\n",
              "</style>\n",
              "<table border=\"1\" class=\"dataframe\">\n",
              "  <thead>\n",
              "    <tr style=\"text-align: right;\">\n",
              "      <th></th>\n",
              "      <th>Name</th>\n",
              "      <th>Age</th>\n",
              "      <th>Height</th>\n",
              "      <th>Height times 100</th>\n",
              "      <th>Test</th>\n",
              "    </tr>\n",
              "  </thead>\n",
              "  <tbody>\n",
              "    <tr>\n",
              "      <th>0</th>\n",
              "      <td>Nick</td>\n",
              "      <td>21</td>\n",
              "      <td>1.85</td>\n",
              "      <td>185.0</td>\n",
              "      <td>22.85</td>\n",
              "    </tr>\n",
              "    <tr>\n",
              "      <th>1</th>\n",
              "      <td>Chris</td>\n",
              "      <td>29</td>\n",
              "      <td>NaN</td>\n",
              "      <td>NaN</td>\n",
              "      <td>NaN</td>\n",
              "    </tr>\n",
              "    <tr>\n",
              "      <th>2</th>\n",
              "      <td>Tim</td>\n",
              "      <td>28</td>\n",
              "      <td>1.75</td>\n",
              "      <td>175.0</td>\n",
              "      <td>29.75</td>\n",
              "    </tr>\n",
              "    <tr>\n",
              "      <th>4</th>\n",
              "      <td>Monica</td>\n",
              "      <td>35</td>\n",
              "      <td>NaN</td>\n",
              "      <td>NaN</td>\n",
              "      <td>NaN</td>\n",
              "    </tr>\n",
              "    <tr>\n",
              "      <th>5</th>\n",
              "      <td>Cassandra</td>\n",
              "      <td>21</td>\n",
              "      <td>1.66</td>\n",
              "      <td>166.0</td>\n",
              "      <td>22.66</td>\n",
              "    </tr>\n",
              "  </tbody>\n",
              "</table>\n",
              "</div>"
            ],
            "text/plain": [
              "        Name  Age  Height  Height times 100   Test\n",
              "0       Nick   21    1.85             185.0  22.85\n",
              "1      Chris   29     NaN               NaN    NaN\n",
              "2        Tim   28    1.75             175.0  29.75\n",
              "4     Monica   35     NaN               NaN    NaN\n",
              "5  Cassandra   21    1.66             166.0  22.66"
            ]
          },
          "execution_count": 39,
          "metadata": {},
          "output_type": "execute_result"
        }
      ],
      "source": [
        "df = df.astype({'Age': 'int64'})\n",
        "df"
      ]
    },
    {
      "cell_type": "markdown",
      "metadata": {
        "id": "b4ZN41n2MNgp"
      },
      "source": [
        "### Updating Indices"
      ]
    },
    {
      "cell_type": "markdown",
      "metadata": {
        "id": "4igoaxq5MNgp"
      },
      "source": [
        "After these operations, the current data frame has the index 0, 1, 2, 4, 5"
      ]
    },
    {
      "cell_type": "markdown",
      "metadata": {
        "id": "mFX20uYkMNgq"
      },
      "source": [
        "We could leave it like this, being careful to select the correct rows with `loc`. However, we can also reset the index with `reset_index`"
      ]
    },
    {
      "cell_type": "markdown",
      "metadata": {
        "id": "YQz_9zMaMNgq"
      },
      "source": [
        "Note that we need to specify `drop=True`, without this we will end up with an extra column with the old index"
      ]
    },
    {
      "cell_type": "code",
      "execution_count": null,
      "metadata": {
        "id": "MRlij__bMNgr",
        "outputId": "ff8f8278-f3eb-4da8-8f2b-976d5e7478e1"
      },
      "outputs": [
        {
          "data": {
            "text/html": [
              "<div>\n",
              "<style scoped>\n",
              "    .dataframe tbody tr th:only-of-type {\n",
              "        vertical-align: middle;\n",
              "    }\n",
              "\n",
              "    .dataframe tbody tr th {\n",
              "        vertical-align: top;\n",
              "    }\n",
              "\n",
              "    .dataframe thead th {\n",
              "        text-align: right;\n",
              "    }\n",
              "</style>\n",
              "<table border=\"1\" class=\"dataframe\">\n",
              "  <thead>\n",
              "    <tr style=\"text-align: right;\">\n",
              "      <th></th>\n",
              "      <th>Name</th>\n",
              "      <th>Age</th>\n",
              "      <th>Height</th>\n",
              "      <th>Height times 100</th>\n",
              "      <th>Test</th>\n",
              "    </tr>\n",
              "  </thead>\n",
              "  <tbody>\n",
              "    <tr>\n",
              "      <th>0</th>\n",
              "      <td>Nick</td>\n",
              "      <td>21</td>\n",
              "      <td>1.85</td>\n",
              "      <td>185.0</td>\n",
              "      <td>22.85</td>\n",
              "    </tr>\n",
              "    <tr>\n",
              "      <th>1</th>\n",
              "      <td>Chris</td>\n",
              "      <td>29</td>\n",
              "      <td>NaN</td>\n",
              "      <td>NaN</td>\n",
              "      <td>NaN</td>\n",
              "    </tr>\n",
              "    <tr>\n",
              "      <th>2</th>\n",
              "      <td>Tim</td>\n",
              "      <td>28</td>\n",
              "      <td>1.75</td>\n",
              "      <td>175.0</td>\n",
              "      <td>29.75</td>\n",
              "    </tr>\n",
              "    <tr>\n",
              "      <th>3</th>\n",
              "      <td>Monica</td>\n",
              "      <td>35</td>\n",
              "      <td>NaN</td>\n",
              "      <td>NaN</td>\n",
              "      <td>NaN</td>\n",
              "    </tr>\n",
              "    <tr>\n",
              "      <th>4</th>\n",
              "      <td>Cassandra</td>\n",
              "      <td>21</td>\n",
              "      <td>1.66</td>\n",
              "      <td>166.0</td>\n",
              "      <td>22.66</td>\n",
              "    </tr>\n",
              "  </tbody>\n",
              "</table>\n",
              "</div>"
            ],
            "text/plain": [
              "        Name  Age  Height  Height times 100   Test\n",
              "0       Nick   21    1.85             185.0  22.85\n",
              "1      Chris   29     NaN               NaN    NaN\n",
              "2        Tim   28    1.75             175.0  29.75\n",
              "3     Monica   35     NaN               NaN    NaN\n",
              "4  Cassandra   21    1.66             166.0  22.66"
            ]
          },
          "execution_count": 40,
          "metadata": {},
          "output_type": "execute_result"
        }
      ],
      "source": [
        "df = df.reset_index(drop=True)\n",
        "df"
      ]
    },
    {
      "cell_type": "markdown",
      "metadata": {
        "id": "UEG9hj4IMNgt"
      },
      "source": [
        "Alternatively, we can set the index to a particular column if we don't want default indexing"
      ]
    },
    {
      "cell_type": "code",
      "execution_count": null,
      "metadata": {
        "id": "nkAA_LBzMNgt",
        "outputId": "2e778386-39d2-4f68-bee1-e282df7b1de3"
      },
      "outputs": [
        {
          "data": {
            "text/html": [
              "<div>\n",
              "<style scoped>\n",
              "    .dataframe tbody tr th:only-of-type {\n",
              "        vertical-align: middle;\n",
              "    }\n",
              "\n",
              "    .dataframe tbody tr th {\n",
              "        vertical-align: top;\n",
              "    }\n",
              "\n",
              "    .dataframe thead th {\n",
              "        text-align: right;\n",
              "    }\n",
              "</style>\n",
              "<table border=\"1\" class=\"dataframe\">\n",
              "  <thead>\n",
              "    <tr style=\"text-align: right;\">\n",
              "      <th></th>\n",
              "      <th>Age</th>\n",
              "      <th>Height</th>\n",
              "      <th>Height times 100</th>\n",
              "      <th>Test</th>\n",
              "    </tr>\n",
              "    <tr>\n",
              "      <th>Name</th>\n",
              "      <th></th>\n",
              "      <th></th>\n",
              "      <th></th>\n",
              "      <th></th>\n",
              "    </tr>\n",
              "  </thead>\n",
              "  <tbody>\n",
              "    <tr>\n",
              "      <th>Nick</th>\n",
              "      <td>21</td>\n",
              "      <td>1.85</td>\n",
              "      <td>185.0</td>\n",
              "      <td>22.85</td>\n",
              "    </tr>\n",
              "    <tr>\n",
              "      <th>Chris</th>\n",
              "      <td>29</td>\n",
              "      <td>NaN</td>\n",
              "      <td>NaN</td>\n",
              "      <td>NaN</td>\n",
              "    </tr>\n",
              "    <tr>\n",
              "      <th>Tim</th>\n",
              "      <td>28</td>\n",
              "      <td>1.75</td>\n",
              "      <td>175.0</td>\n",
              "      <td>29.75</td>\n",
              "    </tr>\n",
              "    <tr>\n",
              "      <th>Monica</th>\n",
              "      <td>35</td>\n",
              "      <td>NaN</td>\n",
              "      <td>NaN</td>\n",
              "      <td>NaN</td>\n",
              "    </tr>\n",
              "    <tr>\n",
              "      <th>Cassandra</th>\n",
              "      <td>21</td>\n",
              "      <td>1.66</td>\n",
              "      <td>166.0</td>\n",
              "      <td>22.66</td>\n",
              "    </tr>\n",
              "  </tbody>\n",
              "</table>\n",
              "</div>"
            ],
            "text/plain": [
              "           Age  Height  Height times 100   Test\n",
              "Name                                           \n",
              "Nick        21    1.85             185.0  22.85\n",
              "Chris       29     NaN               NaN    NaN\n",
              "Tim         28    1.75             175.0  29.75\n",
              "Monica      35     NaN               NaN    NaN\n",
              "Cassandra   21    1.66             166.0  22.66"
            ]
          },
          "execution_count": 41,
          "metadata": {},
          "output_type": "execute_result"
        }
      ],
      "source": [
        "df = df.set_index('Name')\n",
        "df"
      ]
    },
    {
      "cell_type": "markdown",
      "metadata": {
        "id": "9wDYLfv7MNgu"
      },
      "source": [
        "Say we want to go with **option 4** and replace missing `Height` with a computed value"
      ]
    },
    {
      "cell_type": "markdown",
      "metadata": {
        "id": "wxYwPPEaMNgv"
      },
      "source": [
        "In this example we simply calculate the mean height of other people in the data set (to the nearest cm)"
      ]
    },
    {
      "cell_type": "markdown",
      "metadata": {
        "id": "Craez5FcMNgv"
      },
      "source": [
        "**Note:** The `mean` method just ignores the missing data and gives us the average of the non-missing data, which is what we want"
      ]
    },
    {
      "cell_type": "code",
      "execution_count": null,
      "metadata": {
        "cell_style": "split",
        "id": "heXlQ4F_MNgw",
        "outputId": "7caf03fb-dd5d-4d9f-d365-4f411eaa4f7b"
      },
      "outputs": [
        {
          "data": {
            "text/plain": [
              "1.7533333333333332"
            ]
          },
          "execution_count": 42,
          "metadata": {},
          "output_type": "execute_result"
        }
      ],
      "source": [
        "mean_height = df['Height'].mean()\n",
        "mean_height"
      ]
    },
    {
      "cell_type": "code",
      "execution_count": null,
      "metadata": {
        "cell_style": "split",
        "id": "F91cFINXMNgw",
        "outputId": "4fdda139-d999-4eef-fc02-91959617792c"
      },
      "outputs": [
        {
          "data": {
            "text/plain": [
              "1.75"
            ]
          },
          "execution_count": 43,
          "metadata": {},
          "output_type": "execute_result"
        }
      ],
      "source": [
        "mean_height = round(mean_height, \n",
        "                    2)\n",
        "mean_height"
      ]
    },
    {
      "cell_type": "markdown",
      "metadata": {
        "id": "_83ZugPqMNgx"
      },
      "source": [
        "Of course there are many more sophisticated ways to predict a replacement value!"
      ]
    },
    {
      "cell_type": "markdown",
      "metadata": {
        "id": "WBam_WqdMNgx"
      },
      "source": [
        "For instance, could fit a regression with `Age`"
      ]
    },
    {
      "cell_type": "markdown",
      "metadata": {
        "id": "w71yvSVfMNgy"
      },
      "source": [
        "Or if we had categories such as `Gender` we could group by categories and do predictions for each"
      ]
    },
    {
      "cell_type": "markdown",
      "metadata": {
        "id": "JenQo9mzMNgz"
      },
      "source": [
        "In this example we will just use `1.75` for every missing value."
      ]
    },
    {
      "cell_type": "code",
      "execution_count": null,
      "metadata": {
        "id": "LK46YwnHMNgz",
        "outputId": "bd9bebb8-e895-4a58-a398-18e4f2c52412"
      },
      "outputs": [
        {
          "data": {
            "text/html": [
              "<div>\n",
              "<style scoped>\n",
              "    .dataframe tbody tr th:only-of-type {\n",
              "        vertical-align: middle;\n",
              "    }\n",
              "\n",
              "    .dataframe tbody tr th {\n",
              "        vertical-align: top;\n",
              "    }\n",
              "\n",
              "    .dataframe thead th {\n",
              "        text-align: right;\n",
              "    }\n",
              "</style>\n",
              "<table border=\"1\" class=\"dataframe\">\n",
              "  <thead>\n",
              "    <tr style=\"text-align: right;\">\n",
              "      <th></th>\n",
              "      <th>Age</th>\n",
              "      <th>Height</th>\n",
              "      <th>Height times 100</th>\n",
              "      <th>Test</th>\n",
              "    </tr>\n",
              "    <tr>\n",
              "      <th>Name</th>\n",
              "      <th></th>\n",
              "      <th></th>\n",
              "      <th></th>\n",
              "      <th></th>\n",
              "    </tr>\n",
              "  </thead>\n",
              "  <tbody>\n",
              "    <tr>\n",
              "      <th>Nick</th>\n",
              "      <td>21</td>\n",
              "      <td>1.85</td>\n",
              "      <td>185.0</td>\n",
              "      <td>22.85</td>\n",
              "    </tr>\n",
              "    <tr>\n",
              "      <th>Chris</th>\n",
              "      <td>29</td>\n",
              "      <td>1.75</td>\n",
              "      <td>NaN</td>\n",
              "      <td>NaN</td>\n",
              "    </tr>\n",
              "    <tr>\n",
              "      <th>Tim</th>\n",
              "      <td>28</td>\n",
              "      <td>1.75</td>\n",
              "      <td>175.0</td>\n",
              "      <td>29.75</td>\n",
              "    </tr>\n",
              "    <tr>\n",
              "      <th>Monica</th>\n",
              "      <td>35</td>\n",
              "      <td>1.75</td>\n",
              "      <td>NaN</td>\n",
              "      <td>NaN</td>\n",
              "    </tr>\n",
              "    <tr>\n",
              "      <th>Cassandra</th>\n",
              "      <td>21</td>\n",
              "      <td>1.66</td>\n",
              "      <td>166.0</td>\n",
              "      <td>22.66</td>\n",
              "    </tr>\n",
              "  </tbody>\n",
              "</table>\n",
              "</div>"
            ],
            "text/plain": [
              "           Age  Height  Height times 100   Test\n",
              "Name                                           \n",
              "Nick        21    1.85             185.0  22.85\n",
              "Chris       29    1.75               NaN    NaN\n",
              "Tim         28    1.75             175.0  29.75\n",
              "Monica      35    1.75               NaN    NaN\n",
              "Cassandra   21    1.66             166.0  22.66"
            ]
          },
          "execution_count": 44,
          "metadata": {},
          "output_type": "execute_result"
        }
      ],
      "source": [
        "df = df.fillna({'Height' : mean_height})\n",
        "df"
      ]
    },
    {
      "cell_type": "markdown",
      "metadata": {
        "id": "7YGHtdB3MNg0"
      },
      "source": [
        "# Lab"
      ]
    },
    {
      "cell_type": "markdown",
      "metadata": {
        "id": "cgWQCbSgMNg0"
      },
      "source": [
        "There are two notebooks, one for each topic\n",
        "\n",
        "    - Manipulating columns\n",
        "    - Missing data"
      ]
    },
    {
      "cell_type": "markdown",
      "metadata": {
        "id": "0pnfAKXRMNg1"
      },
      "source": [
        "In addition, you can do the DataCamp corresponding assessments/courses"
      ]
    }
  ],
  "metadata": {
    "celltoolbar": "Slideshow",
    "hide_input": false,
    "kernelspec": {
      "display_name": "Python 3",
      "language": "python",
      "name": "python3"
    },
    "language_info": {
      "codemirror_mode": {
        "name": "ipython",
        "version": 3
      },
      "file_extension": ".py",
      "mimetype": "text/x-python",
      "name": "python",
      "nbconvert_exporter": "python",
      "pygments_lexer": "ipython3",
      "version": "3.7.3"
    },
    "rise": {
      "enable_chalkboard": true
    },
    "varInspector": {
      "cols": {
        "lenName": 16,
        "lenType": 16,
        "lenVar": 40
      },
      "kernels_config": {
        "python": {
          "delete_cmd_postfix": "",
          "delete_cmd_prefix": "del ",
          "library": "var_list.py",
          "varRefreshCmd": "print(var_dic_list())"
        },
        "r": {
          "delete_cmd_postfix": ") ",
          "delete_cmd_prefix": "rm(",
          "library": "var_list.r",
          "varRefreshCmd": "cat(var_dic_list()) "
        }
      },
      "types_to_exclude": [
        "module",
        "function",
        "builtin_function_or_method",
        "instance",
        "_Feature"
      ],
      "window_display": false
    },
    "colab": {
      "name": "CMM202_T3_Lec.ipynb",
      "provenance": [],
      "include_colab_link": true
    }
  },
  "nbformat": 4,
  "nbformat_minor": 0
}