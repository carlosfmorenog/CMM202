{
  "nbformat": 4,
  "nbformat_minor": 0,
  "metadata": {
    "colab": {
      "name": "CMM202_T1_Lab_solved",
      "provenance": [],
      "collapsed_sections": [],
      "authorship_tag": "ABX9TyPSzse4uQtQYqlKLyOYVTxL",
      "include_colab_link": true
    },
    "kernelspec": {
      "name": "python3",
      "display_name": "Python 3"
    },
    "language_info": {
      "name": "python"
    }
  },
  "cells": [
    {
      "cell_type": "markdown",
      "metadata": {
        "id": "view-in-github",
        "colab_type": "text"
      },
      "source": [
        "<a href=\"https://colab.research.google.com/github/carlosfmorenog/CMM202/blob/master/CMM202_Topic_1/CMM202_T1_Lab_solved.ipynb\" target=\"_parent\"><img src=\"https://colab.research.google.com/assets/colab-badge.svg\" alt=\"Open In Colab\"/></a>"
      ]
    },
    {
      "cell_type": "code",
      "execution_count": null,
      "metadata": {
        "colab": {
          "base_uri": "https://localhost:8080/"
        },
        "id": "v66kjYTjVdm5",
        "outputId": "461eecf1-3676-4b28-cb81-ccd80ec444f4"
      },
      "outputs": [
        {
          "output_type": "stream",
          "name": "stdout",
          "text": [
            "\n",
            "Please select your option\n",
            "Option 1: Enter your name\n",
            "Option 2: Count a's in your name\n",
            "Option 3: Show history\n",
            "Option 0: Exit\n",
            ">>0\n",
            "bye!\n"
          ]
        }
      ],
      "source": [
        "counter = 0\n",
        "flag = 0\n",
        "memory = []\n",
        "list_names = []\n",
        "loop = True\n",
        "while loop == True and counter<3:    \n",
        "    print(\"\\nPlease select your option\")\n",
        "    print('Option 1: Enter your name')\n",
        "    print(\"Option 2: Count a's in your name\")\n",
        "    print(\"Option 3: Show history\")\n",
        "    print(\"Option 0: Exit\")\n",
        "    opt = input('>>')\n",
        "    try:\n",
        "        int(opt)\n",
        "        memory.append(opt)\n",
        "        if opt == \"1\":        \n",
        "            name = True\n",
        "            while name == True:\n",
        "                print('Please enter your name:')\n",
        "                name = input('>>')\n",
        "                if len(name)>2 and \"0\" not in name and \"1\" not in name and \"2\" not in name and \"3\" not in name and \"4\" not in name and \"5\" not in name and \"6\" not in name and \"7\" not in name and \"8\" not in name and \"9\" not in name: # the name must have more than 2 characters and not contain numbers\n",
        "                    print(\"Your name has been stored!\")\n",
        "                    flag = 1\n",
        "                else:\n",
        "                    print(\"Name must be larger than 2 characters and not contain numbers, please try again.\")\n",
        "                    name = True\n",
        "        elif opt == \"2\":\n",
        "            if \"1\" in memory and flag == 1:\n",
        "                print(\"The number of a's in your name is:\", name.count('a'))\n",
        "                list_names.append((name,name.count('a')))\n",
        "                flag = 0\n",
        "            else:\n",
        "                print(\"Please select option 1 first\")\n",
        "                memory = []\n",
        "        elif opt == \"3\":\n",
        "            if \"1\" in memory and \"2\" in memory:\n",
        "                if memory.index(\"1\")<memory.index(\"2\"):\n",
        "                    print(list_names)\n",
        "                else:\n",
        "                    print('Select option 1 first and then option 2!')\n",
        "            else:\n",
        "                print(\"Please select option 1 and 2 first\")\n",
        "        elif opt == \"0\":\n",
        "            print(\"bye!\")\n",
        "            loop = False\n",
        "        else:\n",
        "              print(\"Invalid option. Try again.\")\n",
        "              counter = counter+1            \n",
        "              print(\"Number of incorrect tries: \", counter)\n",
        "    except ValueError:\n",
        "        print(\"Invalid input. Try again\")\n",
        "        counter = counter+1            \n",
        "        print(\"Number of incorrect tries: \", counter)"
      ]
    }
  ]
}