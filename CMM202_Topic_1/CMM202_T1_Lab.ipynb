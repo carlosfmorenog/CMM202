{
  "nbformat": 4,
  "nbformat_minor": 0,
  "metadata": {
    "colab": {
      "name": "CMM202_T1_Lab",
      "provenance": [],
      "collapsed_sections": []
    },
    "kernelspec": {
      "name": "python3",
      "display_name": "Python 3"
    },
    "language_info": {
      "name": "python"
    }
  },
  "cells": [
    {
      "cell_type": "code",
      "execution_count": null,
      "metadata": {
        "id": "dAmcHyZDPuUS"
      },
      "outputs": [],
      "source": [
        "counter = 0\n",
        "memory = [] #create a memory list\n",
        "loop = True\n",
        "while loop == True and counter<3:    \n",
        "    print(\"Please select your option\")\n",
        "    print('Option 1: Enter your name')\n",
        "    print(\"Option 2: Count a's in your name\")\n",
        "    print(\"Option 0: Exit\")\n",
        "    opt = input('>>')\n",
        "    memory.append(opt)\n",
        "    if opt == \"1\":\n",
        "        print('Please enter your name:')\n",
        "        name = input('>>')\n",
        "        print(\"Your name has been stored!\")\n",
        "    elif opt == \"2\":\n",
        "        if \"1\" in memory:\n",
        "            print(\"The number of a's in your name is:\", name.count('a'))\n",
        "        else:\n",
        "            print(\"Please select option 1 first\")\n",
        "    elif opt == \"0\":\n",
        "        print(\"bye!\")\n",
        "        loop = False\n",
        "    else:\n",
        "        counter = counter+1\n",
        "        if counter==3:\n",
        "          print(\"Incorrect option. Program stops.\")\n",
        "        else:\n",
        "          print(\"Incorrect option. Try again. You have tried \"+str(counter)+' times!')"
      ]
    },
    {
      "cell_type": "markdown",
      "source": [
        "We can add some more complexity to our programme, such as...\n",
        "* the name must have more than 2 characters, otherwise try again / gets kicked out\n",
        "* if the user enters an invalid name (numbers, blank or has a space), try again / gets kicked out\n",
        "\n",
        "## More ideas\n",
        "  1. Add a fourth option that displays all the names that have been stored before, and their corresponding \"a\" letter count\n",
        "  2. if this option is selected before 1 and 2, print \"empty list\"\n",
        "  3. this option has to check that both 1 and 2 have been used before in that order\n",
        "\n",
        "Finally, give more robustness to our program.\n",
        "* Verify that the input in the main menu is a number:\n",
        "  * if an invalid number, print \"invalid option\"\n",
        "  * if not a number, print \"invalid input\""
      ],
      "metadata": {
        "id": "LQO-ZZFDQBvB"
      }
    }
  ]
}