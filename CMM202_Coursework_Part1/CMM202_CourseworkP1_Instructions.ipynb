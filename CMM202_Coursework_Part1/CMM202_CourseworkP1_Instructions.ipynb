{
  "nbformat": 4,
  "nbformat_minor": 0,
  "metadata": {
    "kernelspec": {
      "display_name": "Python 3",
      "language": "python",
      "name": "python3"
    },
    "language_info": {
      "codemirror_mode": {
        "name": "ipython",
        "version": 3
      },
      "file_extension": ".py",
      "mimetype": "text/x-python",
      "name": "python",
      "nbconvert_exporter": "python",
      "pygments_lexer": "ipython3",
      "version": "3.7.3"
    },
    "varInspector": {
      "cols": {
        "lenName": 16,
        "lenType": 16,
        "lenVar": 40
      },
      "kernels_config": {
        "python": {
          "delete_cmd_postfix": "",
          "delete_cmd_prefix": "del ",
          "library": "var_list.py",
          "varRefreshCmd": "print(var_dic_list())"
        },
        "r": {
          "delete_cmd_postfix": ") ",
          "delete_cmd_prefix": "rm(",
          "library": "var_list.r",
          "varRefreshCmd": "cat(var_dic_list()) "
        }
      },
      "types_to_exclude": [
        "module",
        "function",
        "builtin_function_or_method",
        "instance",
        "_Feature"
      ],
      "window_display": false
    },
    "colab": {
      "name": "CMM202_CourseworkP1_Instructions",
      "provenance": [],
      "collapsed_sections": []
    }
  },
  "cells": [
    {
      "cell_type": "markdown",
      "metadata": {
        "id": "01KKgK_KBvil"
      },
      "source": [
        "# Coursework Part 1: Instructions"
      ]
    },
    {
      "cell_type": "markdown",
      "metadata": {
        "id": "Pxb_cPI8B30c"
      },
      "source": [
        "The aim of this coursework is to manipulate two data files containing:\r\n",
        "1. The list of students from RGU's School of Computing 2020-2021 generation (also known as \"class\", not to be confused with a module).\r\n",
        "2. The attendance list of one of the modules to which some of these students attend online."
      ]
    },
    {
      "cell_type": "markdown",
      "metadata": {
        "id": "nJStP_OICGiG"
      },
      "source": [
        "Keep in mind that not all of the students in the class attend to the module for which the attendance has been collected!"
      ]
    },
    {
      "cell_type": "markdown",
      "metadata": {
        "id": "QNoS5N-BCTbw"
      },
      "source": [
        "By running the cell below, you will see a sample of the class list which is being imported from a .csv file stored in my Dropbox:"
      ]
    },
    {
      "cell_type": "code",
      "metadata": {
        "id": "047WTcPkibSl",
        "colab": {
          "base_uri": "https://localhost:8080/",
          "height": 424
        },
        "outputId": "11bda840-28a1-428c-b2c2-54d9f46444da"
      },
      "source": [
        "import pandas as pd\n",
        "import matplotlib.pyplot as plt\n",
        "\n",
        "# Load class data\n",
        "allstudents = pd.read_csv('https://www.dropbox.com/s/y3421z32slsohq0/classlist.csv?raw=1')\n",
        "allstudents"
      ],
      "execution_count": null,
      "outputs": [
        {
          "output_type": "execute_result",
          "data": {
            "text/html": [
              "<div>\n",
              "<style scoped>\n",
              "    .dataframe tbody tr th:only-of-type {\n",
              "        vertical-align: middle;\n",
              "    }\n",
              "\n",
              "    .dataframe tbody tr th {\n",
              "        vertical-align: top;\n",
              "    }\n",
              "\n",
              "    .dataframe thead th {\n",
              "        text-align: right;\n",
              "    }\n",
              "</style>\n",
              "<table border=\"1\" class=\"dataframe\">\n",
              "  <thead>\n",
              "    <tr style=\"text-align: right;\">\n",
              "      <th></th>\n",
              "      <th>MATRIC</th>\n",
              "      <th>SURNAME</th>\n",
              "      <th>FIRST NAME</th>\n",
              "      <th>COURSE</th>\n",
              "    </tr>\n",
              "  </thead>\n",
              "  <tbody>\n",
              "    <tr>\n",
              "      <th>0</th>\n",
              "      <td>A00001</td>\n",
              "      <td>AARSMA</td>\n",
              "      <td>SEBASTIAN</td>\n",
              "      <td>CS</td>\n",
              "    </tr>\n",
              "    <tr>\n",
              "      <th>1</th>\n",
              "      <td>A00002</td>\n",
              "      <td>ANDERSON</td>\n",
              "      <td>CAMERON</td>\n",
              "      <td>CS</td>\n",
              "    </tr>\n",
              "    <tr>\n",
              "      <th>2</th>\n",
              "      <td>A00003</td>\n",
              "      <td>ANDERSON</td>\n",
              "      <td>CRAIG</td>\n",
              "      <td>CS</td>\n",
              "    </tr>\n",
              "    <tr>\n",
              "      <th>3</th>\n",
              "      <td>A00004</td>\n",
              "      <td>ANDREWS</td>\n",
              "      <td>CHAD</td>\n",
              "      <td>CS</td>\n",
              "    </tr>\n",
              "    <tr>\n",
              "      <th>4</th>\n",
              "      <td>A00005</td>\n",
              "      <td>BARNEY</td>\n",
              "      <td>CHRISTINE</td>\n",
              "      <td>CS</td>\n",
              "    </tr>\n",
              "    <tr>\n",
              "      <th>...</th>\n",
              "      <td>...</td>\n",
              "      <td>...</td>\n",
              "      <td>...</td>\n",
              "      <td>...</td>\n",
              "    </tr>\n",
              "    <tr>\n",
              "      <th>144</th>\n",
              "      <td>A00145</td>\n",
              "      <td>WILSON</td>\n",
              "      <td>KIERAN</td>\n",
              "      <td>CNMD</td>\n",
              "    </tr>\n",
              "    <tr>\n",
              "      <th>145</th>\n",
              "      <td>A00146</td>\n",
              "      <td>WILSON</td>\n",
              "      <td>MARK</td>\n",
              "      <td>CNMD</td>\n",
              "    </tr>\n",
              "    <tr>\n",
              "      <th>146</th>\n",
              "      <td>A00147</td>\n",
              "      <td>WITKOWSKI</td>\n",
              "      <td>DOMINIK</td>\n",
              "      <td>CNMD</td>\n",
              "    </tr>\n",
              "    <tr>\n",
              "      <th>147</th>\n",
              "      <td>A00148</td>\n",
              "      <td>WOJCIK</td>\n",
              "      <td>ADRIANNE</td>\n",
              "      <td>CNMD</td>\n",
              "    </tr>\n",
              "    <tr>\n",
              "      <th>148</th>\n",
              "      <td>A00149</td>\n",
              "      <td>WOOD</td>\n",
              "      <td>BARRY</td>\n",
              "      <td>CNMD</td>\n",
              "    </tr>\n",
              "  </tbody>\n",
              "</table>\n",
              "<p>149 rows × 4 columns</p>\n",
              "</div>"
            ],
            "text/plain": [
              "     MATRIC    SURNAME FIRST NAME COURSE\n",
              "0    A00001     AARSMA  SEBASTIAN     CS\n",
              "1    A00002   ANDERSON    CAMERON     CS\n",
              "2    A00003   ANDERSON      CRAIG     CS\n",
              "3    A00004    ANDREWS       CHAD     CS\n",
              "4    A00005     BARNEY  CHRISTINE     CS\n",
              "..      ...        ...        ...    ...\n",
              "144  A00145     WILSON     KIERAN   CNMD\n",
              "145  A00146     WILSON       MARK   CNMD\n",
              "146  A00147  WITKOWSKI    DOMINIK   CNMD\n",
              "147  A00148     WOJCIK   ADRIANNE   CNMD\n",
              "148  A00149       WOOD      BARRY   CNMD\n",
              "\n",
              "[149 rows x 4 columns]"
            ]
          },
          "metadata": {
            "tags": []
          },
          "execution_count": 1
        }
      ]
    },
    {
      "cell_type": "markdown",
      "metadata": {
        "id": "qKo4s8i1DQv9"
      },
      "source": [
        "Notice that within the class, you can see students enrolled in different courses (CS, CNMD, etc.)"
      ]
    },
    {
      "cell_type": "markdown",
      "metadata": {
        "id": "B7Fx-SkvDZB3"
      },
      "source": [
        "**Q1: How would you show a list of the existing courses using one line of Python code?**"
      ]
    },
    {
      "cell_type": "code",
      "metadata": {
        "colab": {
          "base_uri": "https://localhost:8080/"
        },
        "id": "LHPaUbD7DgTp",
        "outputId": "b45758d5-7908-4c62-e730-72c2fdcd71e1"
      },
      "source": [
        "## Use this cell to show the SET (i.e. once each entry) of courses\r\n",
        "\r\n",
        "## Your output should look something like this"
      ],
      "execution_count": null,
      "outputs": [
        {
          "output_type": "execute_result",
          "data": {
            "text/plain": [
              "{'CASD', 'CNMD', 'CS', 'CY', 'DMc', 'DMd'}"
            ]
          },
          "metadata": {
            "tags": []
          },
          "execution_count": 2
        }
      ]
    },
    {
      "cell_type": "markdown",
      "metadata": {
        "id": "-QGBTzun3LdU"
      },
      "source": [
        "**Q2: How would you count the number of students enrolled in each course?**"
      ]
    },
    {
      "cell_type": "code",
      "metadata": {
        "colab": {
          "base_uri": "https://localhost:8080/"
        },
        "id": "hm4n31Ae3SNX",
        "outputId": "43ab094b-5718-479e-cda3-39138c6a89dc"
      },
      "source": [
        "## Use this cell to show the number of students enrolled to each course\r\n",
        "\r\n",
        "## Your output should look something like this"
      ],
      "execution_count": null,
      "outputs": [
        {
          "output_type": "execute_result",
          "data": {
            "text/plain": [
              "CS      50\n",
              "CASD    39\n",
              "DMc     25\n",
              "DMd     16\n",
              "CNMD    10\n",
              "CY       9\n",
              "Name: COURSE, dtype: int64"
            ]
          },
          "metadata": {
            "tags": []
          },
          "execution_count": 12
        }
      ]
    },
    {
      "cell_type": "markdown",
      "metadata": {
        "id": "pT0R8MLJD10G"
      },
      "source": [
        "The second file you will use in this coursework contains the log generated by BlackBoard Collaborative (BBC) once an online session finishes. It reports the name and matriculation number of the student, along with the first join, last leave, total time in the session and total joins to the session "
      ]
    },
    {
      "cell_type": "code",
      "metadata": {
        "colab": {
          "base_uri": "https://localhost:8080/",
          "height": 424
        },
        "id": "MV3HQI3jCs3S",
        "outputId": "11b45446-7249-4c6f-c3d0-9305ce719e30"
      },
      "source": [
        "# Load module data\n",
        "modulestudents = pd.read_csv('https://www.dropbox.com/s/t67izuewdjxplro/attendance.csv?raw=1')\n",
        "modulestudents"
      ],
      "execution_count": null,
      "outputs": [
        {
          "output_type": "execute_result",
          "data": {
            "text/html": [
              "<div>\n",
              "<style scoped>\n",
              "    .dataframe tbody tr th:only-of-type {\n",
              "        vertical-align: middle;\n",
              "    }\n",
              "\n",
              "    .dataframe tbody tr th {\n",
              "        vertical-align: top;\n",
              "    }\n",
              "\n",
              "    .dataframe thead th {\n",
              "        text-align: right;\n",
              "    }\n",
              "</style>\n",
              "<table border=\"1\" class=\"dataframe\">\n",
              "  <thead>\n",
              "    <tr style=\"text-align: right;\">\n",
              "      <th></th>\n",
              "      <th>Name</th>\n",
              "      <th>First join</th>\n",
              "      <th>Last leave</th>\n",
              "      <th>Total time</th>\n",
              "      <th>Joins</th>\n",
              "    </tr>\n",
              "  </thead>\n",
              "  <tbody>\n",
              "    <tr>\n",
              "      <th>0</th>\n",
              "      <td>SEBASTIAN AARSMA (A00001)</td>\n",
              "      <td>10/02/2020 13:47</td>\n",
              "      <td>10/02/2020 15:25</td>\n",
              "      <td>01:35:42</td>\n",
              "      <td>2</td>\n",
              "    </tr>\n",
              "    <tr>\n",
              "      <th>1</th>\n",
              "      <td>CAMERON ANDERSON (A00002)</td>\n",
              "      <td>10/02/2020 13:48</td>\n",
              "      <td>10/02/2020 15:42</td>\n",
              "      <td>01:53:30</td>\n",
              "      <td>1</td>\n",
              "    </tr>\n",
              "    <tr>\n",
              "      <th>2</th>\n",
              "      <td>CRAIG ANDERSON (A00003)</td>\n",
              "      <td>10/02/2020 13:48</td>\n",
              "      <td>10/02/2020 15:24</td>\n",
              "      <td>01:35:21</td>\n",
              "      <td>1</td>\n",
              "    </tr>\n",
              "    <tr>\n",
              "      <th>3</th>\n",
              "      <td>CHAD ANDREWS (A00004)</td>\n",
              "      <td>10/02/2020 13:48</td>\n",
              "      <td>10/02/2020 15:30</td>\n",
              "      <td>01:41:53</td>\n",
              "      <td>1</td>\n",
              "    </tr>\n",
              "    <tr>\n",
              "      <th>4</th>\n",
              "      <td>CHRISTINE BARNEY (A00005)</td>\n",
              "      <td>10/02/2020 13:49</td>\n",
              "      <td>10/02/2020 15:27</td>\n",
              "      <td>01:38:16</td>\n",
              "      <td>1</td>\n",
              "    </tr>\n",
              "    <tr>\n",
              "      <th>...</th>\n",
              "      <td>...</td>\n",
              "      <td>...</td>\n",
              "      <td>...</td>\n",
              "      <td>...</td>\n",
              "      <td>...</td>\n",
              "    </tr>\n",
              "    <tr>\n",
              "      <th>94</th>\n",
              "      <td>ROBERT WATSON (A00143)</td>\n",
              "      <td>10/02/2020 14:01</td>\n",
              "      <td>10/02/2020 16:44</td>\n",
              "      <td>02:43:03</td>\n",
              "      <td>1</td>\n",
              "    </tr>\n",
              "    <tr>\n",
              "      <th>95</th>\n",
              "      <td>KASEY WHIPPS (A00144)</td>\n",
              "      <td>10/02/2020 14:01</td>\n",
              "      <td>10/02/2020 15:44</td>\n",
              "      <td>01:42:55</td>\n",
              "      <td>1</td>\n",
              "    </tr>\n",
              "    <tr>\n",
              "      <th>96</th>\n",
              "      <td>KIERAN WILSON (A00145)</td>\n",
              "      <td>10/02/2020 14:01</td>\n",
              "      <td>10/02/2020 16:00</td>\n",
              "      <td>01:56:22</td>\n",
              "      <td>3</td>\n",
              "    </tr>\n",
              "    <tr>\n",
              "      <th>97</th>\n",
              "      <td>MARK WILSON (A00146)</td>\n",
              "      <td>10/02/2020 14:01</td>\n",
              "      <td>10/02/2020 15:25</td>\n",
              "      <td>01:23:35</td>\n",
              "      <td>1</td>\n",
              "    </tr>\n",
              "    <tr>\n",
              "      <th>98</th>\n",
              "      <td>DOMINIK WITKOWSKI (A00147)</td>\n",
              "      <td>10/02/2020 14:01</td>\n",
              "      <td>10/02/2020 16:03</td>\n",
              "      <td>02:01:10</td>\n",
              "      <td>1</td>\n",
              "    </tr>\n",
              "  </tbody>\n",
              "</table>\n",
              "<p>99 rows × 5 columns</p>\n",
              "</div>"
            ],
            "text/plain": [
              "                          Name        First join  ... Total time Joins\n",
              "0    SEBASTIAN AARSMA (A00001)  10/02/2020 13:47  ...   01:35:42     2\n",
              "1    CAMERON ANDERSON (A00002)  10/02/2020 13:48  ...   01:53:30     1\n",
              "2      CRAIG ANDERSON (A00003)  10/02/2020 13:48  ...   01:35:21     1\n",
              "3        CHAD ANDREWS (A00004)  10/02/2020 13:48  ...   01:41:53     1\n",
              "4    CHRISTINE BARNEY (A00005)  10/02/2020 13:49  ...   01:38:16     1\n",
              "..                         ...               ...  ...        ...   ...\n",
              "94      ROBERT WATSON (A00143)  10/02/2020 14:01  ...   02:43:03     1\n",
              "95       KASEY WHIPPS (A00144)  10/02/2020 14:01  ...   01:42:55     1\n",
              "96      KIERAN WILSON (A00145)  10/02/2020 14:01  ...   01:56:22     3\n",
              "97        MARK WILSON (A00146)  10/02/2020 14:01  ...   01:23:35     1\n",
              "98  DOMINIK WITKOWSKI (A00147)  10/02/2020 14:01  ...   02:01:10     1\n",
              "\n",
              "[99 rows x 5 columns]"
            ]
          },
          "metadata": {
            "tags": []
          },
          "execution_count": 3
        }
      ]
    },
    {
      "cell_type": "markdown",
      "metadata": {
        "id": "V417AW0TEVaS"
      },
      "source": [
        "The first thing you will notice is that the names of the students are not saved in the same way as in the class list. This means that in the list provided by BBC, instead of having the matric number in one column, the surname in a second one and the name in a third one, we have these three in the same column!"
      ]
    },
    {
      "cell_type": "markdown",
      "metadata": {
        "id": "iKxNiiOoFEip"
      },
      "source": [
        "Your aim now is to merge both tables into a single one where the course that the student is enrolled gets appended to the attendance table (the one stored in the variable called `modulestudents`)"
      ]
    },
    {
      "cell_type": "code",
      "metadata": {
        "id": "xFB5VfZSibS-"
      },
      "source": [
        "## Use this cell to create cofe that allows you to MERGE the class table into the module (attendance) so that we can know the course to which the students in the module are enrolled to\n"
      ],
      "execution_count": null,
      "outputs": []
    },
    {
      "cell_type": "markdown",
      "metadata": {
        "id": "H8bGNIVZIiw8"
      },
      "source": [
        "Your table should have 99 entries and look something like this:\t\r\n",
        "\r\n",
        "| Name | FIRST NAME | SURNAME | MATRIC | Firts Join | Last Leave | Total time | Joins | COURSE |\r\n",
        "| ------: | -------: | -----: | -----: | -----: | -----: | -----:| -----:| -----:\r\n",
        "| SEBASTIAN AARSMA (A00001) | SEBASTIAN | AARSMA | A00001| 10 /02/ 2020 13:47 | 10 /02/ 2020 15:25 | 01:35:42   | 2.0   | CS     |\r\n",
        "|     ... |      ... |    ... |     ... |      ... |    ... |     ... |      ... |..."
      ]
    },
    {
      "cell_type": "markdown",
      "metadata": {
        "id": "QTHrOOWaKHtn"
      },
      "source": [
        "The next step is to **create a new variable** with the total time in seconds. I recommend you to use the `datetime` module in Python, but any alternative is valid as long as the the new column is created. With `datetime`, you could first convert the `Total time` column into a timestamp so that then you can do the calculation:"
      ]
    },
    {
      "cell_type": "code",
      "metadata": {
        "id": "r_t0LxUZibUk"
      },
      "source": [
        "# Use this cell to create your two new columns\n"
      ],
      "execution_count": null,
      "outputs": []
    },
    {
      "cell_type": "markdown",
      "metadata": {
        "id": "3ZQ5tvd86ek8"
      },
      "source": [
        "Your table should have 99 entries and look something like this:\t\r\n",
        "\r\n",
        "| Name | FIRST NAME | SURNAME | MATRIC | Firts Join | Last Leave | Total time | Joins | COURSE | Time in seconds|\r\n",
        "| ------: | -------: | -----: | -----: | -----: | -----: | -----:| -----:| -----:| -----:\r\n",
        "| SEBASTIAN AARSMA (A00001) | SEBASTIAN | AARSMA | A00001| 10 /02/ 2020 13:47 | 10 /02/ 2020 15:25 | 01:35:42   | 2.0   | CS     | 5742|\r\n",
        "|     ... |      ... |    ... |     ... |      ... |    ... |     ... |      ... |      ...|      ..."
      ]
    },
    {
      "cell_type": "markdown",
      "metadata": {
        "id": "9Q-Azdh_NI1u"
      },
      "source": [
        "Now group the table by course and show the mean joins and the mean total time (in seconds) at which the students from each course were connected to the BBC session."
      ]
    },
    {
      "cell_type": "code",
      "metadata": {
        "id": "2LJ_PPuHibV_",
        "colab": {
          "base_uri": "https://localhost:8080/",
          "height": 300
        },
        "outputId": "2fb81eb5-5c40-4b4b-86ef-353fc0ea9d91"
      },
      "source": [
        "# Use this cell to implement the code that gets you the summary of the means of the numerical values (joins and time in seconds)\n",
        "\n",
        "## Your output should look something like this"
      ],
      "execution_count": null,
      "outputs": [
        {
          "output_type": "execute_result",
          "data": {
            "text/html": [
              "<div>\n",
              "<style scoped>\n",
              "    .dataframe tbody tr th:only-of-type {\n",
              "        vertical-align: middle;\n",
              "    }\n",
              "\n",
              "    .dataframe tbody tr th {\n",
              "        vertical-align: top;\n",
              "    }\n",
              "\n",
              "    .dataframe thead tr th {\n",
              "        text-align: left;\n",
              "    }\n",
              "\n",
              "    .dataframe thead tr:last-of-type th {\n",
              "        text-align: right;\n",
              "    }\n",
              "</style>\n",
              "<table border=\"1\" class=\"dataframe\">\n",
              "  <thead>\n",
              "    <tr>\n",
              "      <th></th>\n",
              "      <th>Joins</th>\n",
              "      <th>time in seconds</th>\n",
              "    </tr>\n",
              "    <tr>\n",
              "      <th></th>\n",
              "      <th>mean</th>\n",
              "      <th>mean</th>\n",
              "    </tr>\n",
              "    <tr>\n",
              "      <th>COURSE</th>\n",
              "      <th></th>\n",
              "      <th></th>\n",
              "    </tr>\n",
              "  </thead>\n",
              "  <tbody>\n",
              "    <tr>\n",
              "      <th>CASD</th>\n",
              "      <td>1.272727</td>\n",
              "      <td>6125.045455</td>\n",
              "    </tr>\n",
              "    <tr>\n",
              "      <th>CNMD</th>\n",
              "      <td>1.375000</td>\n",
              "      <td>7151.875000</td>\n",
              "    </tr>\n",
              "    <tr>\n",
              "      <th>CS</th>\n",
              "      <td>1.473684</td>\n",
              "      <td>7455.473684</td>\n",
              "    </tr>\n",
              "    <tr>\n",
              "      <th>CY</th>\n",
              "      <td>1.714286</td>\n",
              "      <td>7816.428571</td>\n",
              "    </tr>\n",
              "    <tr>\n",
              "      <th>DMc</th>\n",
              "      <td>1.312500</td>\n",
              "      <td>6497.625000</td>\n",
              "    </tr>\n",
              "    <tr>\n",
              "      <th>DMd</th>\n",
              "      <td>1.750000</td>\n",
              "      <td>6359.500000</td>\n",
              "    </tr>\n",
              "  </tbody>\n",
              "</table>\n",
              "</div>"
            ],
            "text/plain": [
              "           Joins time in seconds\n",
              "            mean            mean\n",
              "COURSE                          \n",
              "CASD    1.272727     6125.045455\n",
              "CNMD    1.375000     7151.875000\n",
              "CS      1.473684     7455.473684\n",
              "CY      1.714286     7816.428571\n",
              "DMc     1.312500     6497.625000\n",
              "DMd     1.750000     6359.500000"
            ]
          },
          "metadata": {
            "tags": []
          },
          "execution_count": 6
        }
      ]
    },
    {
      "cell_type": "markdown",
      "metadata": {
        "id": "2_wFfkWBdw6m"
      },
      "source": [
        "**Q3: From which course do students remained more seconds connected in average?**"
      ]
    },
    {
      "cell_type": "code",
      "metadata": {
        "id": "hBCw7_osezD1"
      },
      "source": [
        "# Use this cell to write the code that retrieves you the course that has the maximum time in seconds mean value\r\n"
      ],
      "execution_count": null,
      "outputs": []
    },
    {
      "cell_type": "markdown",
      "metadata": {
        "id": "RVzsibQ9eBL4"
      },
      "source": [
        "Your Answer:"
      ]
    },
    {
      "cell_type": "markdown",
      "metadata": {
        "id": "9IZaD61lONtd"
      },
      "source": [
        "Finally, your task is to create a small program that allows a user to input a name or surname and present the following stats of a student:\r\n",
        "- First join\r\n",
        "- Last leave\r\n",
        "- Total time\r\n",
        "- Joins\r\n",
        "- Course\r\n",
        "- Total Time (in seconds)\r\n"
      ]
    },
    {
      "cell_type": "markdown",
      "metadata": {
        "id": "zkwP41LVP1Qs"
      },
      "source": [
        "Keep in mind that this program has to consider the following conditions:\r\n",
        "1. The programme has to offer the user the option to look by first name or surname, and NOT be case sensitive (i.e. that you can input the first name/surname without the capitalisation and still get a valid response).\r\n",
        "2. If the user inputs a name or surname that is repeated throughout the list, you need to show all matching entries. \r\n",
        "3. If the user enters a name or surname that is not on the module list, you must check if that name/surname is on the class list (i.e. the one stored in the `allstudents` variable created at the very beginning of this notebook). If so, then print the message **Student in this class, but not in this module**. If not, then you print the message **Incorrect or invalid name/surname, please try again**.\r\n",
        "4. If the user enters an incorrect or invalid name/surname **3 times in a row**, then the program automatically stops!\r\n",
        "5. The program can be repeated any number of (valid) times until the user decides to exit."
      ]
    },
    {
      "cell_type": "code",
      "metadata": {
        "id": "l8bCbYY2mb76",
        "colab": {
          "base_uri": "https://localhost:8080/"
        },
        "outputId": "3fe2cece-daff-451e-c64a-111dc15ab544"
      },
      "source": [
        "## Use this cell to write a programme to lookup for the attendance stats of any student\n",
        "\n",
        "## The ouput should look something like this"
      ],
      "execution_count": null,
      "outputs": [
        {
          "output_type": "stream",
          "text": [
            "Select an option:\n",
            "1. Search by first name\n",
            "2. Search by surname\n",
            "0. exit\n",
            ">> 4\n",
            "invalid option please try again\n",
            "Select an option:\n",
            "1. Search by first name\n",
            "2. Search by surname\n",
            "0. exit\n",
            ">> 1\n",
            "Please enter a first name:\n",
            ">> isjaoisaj\n",
            "Incorrect or invalid name/surname, please try again\n",
            "Attempts: 1\n",
            "Please enter a first name:\n",
            ">> sebastian\n",
            "Name               SEBASTIAN AARSMA (A00001)\n",
            "SURNAME                               AARSMA\n",
            "MATRIC                                A00001\n",
            "First join                  10/02/2020 13:47\n",
            "Last leave                  10/02/2020 15:25\n",
            "Total time                          01:35:42\n",
            "Joins                                      2\n",
            "COURSE                                    CS\n",
            "Total time new               0 days 01:35:42\n",
            "time in seconds                         5742\n",
            "Name: SEBASTIAN, dtype: object\n",
            "Select an option:\n",
            "1. Search by first name\n",
            "2. Search by surname\n",
            "0. exit\n",
            ">> 2\n",
            "Please enter a surname:\n",
            ">> wood\n",
            "Student in this class, but not in this module\n",
            "Select an option:\n",
            "1. Search by first name\n",
            "2. Search by surname\n",
            "0. exit\n",
            ">> 2\n",
            "Please enter a surname:\n",
            ">> WiLson\n",
            "                           Name FIRST NAME  ...  Total time new time in seconds\n",
            "SURNAME                                     ...                                \n",
            "WILSON   KIERAN WILSON (A00145)     KIERAN  ... 0 days 01:56:22          6982.0\n",
            "WILSON     MARK WILSON (A00146)       MARK  ... 0 days 01:23:35          5015.0\n",
            "\n",
            "[2 rows x 10 columns]\n",
            "Select an option:\n",
            "1. Search by first name\n",
            "2. Search by surname\n",
            "0. exit\n",
            ">> 1\n",
            "Please enter a first name:\n",
            ">> psjdso\n",
            "Incorrect or invalid name/surname, please try again\n",
            "Attempts: 1\n",
            "Please enter a first name:\n",
            ">> osjdjosasjd\n",
            "Incorrect or invalid name/surname, please try again\n",
            "Attempts: 2\n",
            "Please enter a first name:\n",
            ">> osjpjsajd\n",
            "Incorrect or invalid name/surname, please try again\n",
            "Attempts: 3\n",
            "You have tried three unsuccessful times. Exiting program\n"
          ],
          "name": "stdout"
        }
      ]
    },
    {
      "cell_type": "markdown",
      "metadata": {
        "id": "lhi0Pa_3WdtT"
      },
      "source": [
        "Once you are finished, download the .ipynb notebook and submit it to the appropriate dropbox)."
      ]
    }
  ]
}