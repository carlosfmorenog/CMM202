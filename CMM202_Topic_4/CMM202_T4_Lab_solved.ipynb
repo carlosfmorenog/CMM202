{
  "cells": [
    {
      "cell_type": "markdown",
      "metadata": {
        "id": "view-in-github",
        "colab_type": "text"
      },
      "source": [
        "<a href=\"https://colab.research.google.com/github/carlosfmorenog/CMM202/blob/master/CMM202_Topic_4/CMM202_T4_Lab_solved.ipynb\" target=\"_parent\"><img src=\"https://colab.research.google.com/assets/colab-badge.svg\" alt=\"Open In Colab\"/></a>"
      ]
    },
    {
      "cell_type": "markdown",
      "metadata": {
        "id": "Dhf0NmOmCPII"
      },
      "source": [
        "# CMM202 Topic 4 Lab (Solved)"
      ]
    },
    {
      "cell_type": "code",
      "execution_count": null,
      "metadata": {
        "id": "lUk1UoysCPIM"
      },
      "outputs": [],
      "source": [
        "import pandas as pd"
      ]
    },
    {
      "cell_type": "markdown",
      "metadata": {
        "id": "6dcmtv5uCPIQ"
      },
      "source": [
        "The `rating.csv` dataset contains user ratings of anime"
      ]
    },
    {
      "cell_type": "markdown",
      "metadata": {
        "id": "zsTa0fv5CPIS"
      },
      "source": [
        "The data set is structed as follows:\n",
        "    \n",
        "| user_id | anime_id | rating |\n",
        "| ------: | -------: | -----: |\n",
        "|       1 |    11757 |     10 |\n",
        "|       2 |    11771 |     10 |\n",
        "|       3 |       20 |      8 |\n",
        "|       3 |      154 |      6 |\n",
        "|       3 |      170 |      9 |\n",
        "|     ... |      ... |    ... |"
      ]
    },
    {
      "cell_type": "markdown",
      "metadata": {
        "id": "--Ojh0PaCPIV"
      },
      "source": [
        "Notice that no column is a unique index"
      ]
    },
    {
      "cell_type": "markdown",
      "metadata": {
        "id": "fkJJ4kdWCPIX"
      },
      "source": [
        "In fact, `user_id` indicates the user doing the rating, `anime_id` indicates the anime, and `rating` is the user's rating of that anime from `1` to `10`"
      ]
    },
    {
      "cell_type": "markdown",
      "metadata": {
        "id": "IgwBwvdtCPIZ"
      },
      "source": [
        "Import this dataset using the following cell, removing in advance all rows with missing data (you should have $5484219$ rows of data)"
      ]
    },
    {
      "cell_type": "code",
      "execution_count": null,
      "metadata": {
        "id": "g7AVNz27CPIa",
        "outputId": "3c5bfb04-7d1c-4b61-b53b-a282a5bde4e6"
      },
      "outputs": [
        {
          "data": {
            "text/html": [
              "<div>\n",
              "<style scoped>\n",
              "    .dataframe tbody tr th:only-of-type {\n",
              "        vertical-align: middle;\n",
              "    }\n",
              "\n",
              "    .dataframe tbody tr th {\n",
              "        vertical-align: top;\n",
              "    }\n",
              "\n",
              "    .dataframe thead th {\n",
              "        text-align: right;\n",
              "    }\n",
              "</style>\n",
              "<table border=\"1\" class=\"dataframe\">\n",
              "  <thead>\n",
              "    <tr style=\"text-align: right;\">\n",
              "      <th></th>\n",
              "      <th>user_id</th>\n",
              "      <th>anime_id</th>\n",
              "      <th>rating</th>\n",
              "    </tr>\n",
              "  </thead>\n",
              "  <tbody>\n",
              "    <tr>\n",
              "      <th>0</th>\n",
              "      <td>1</td>\n",
              "      <td>11757</td>\n",
              "      <td>10</td>\n",
              "    </tr>\n",
              "    <tr>\n",
              "      <th>1</th>\n",
              "      <td>2</td>\n",
              "      <td>11771</td>\n",
              "      <td>10</td>\n",
              "    </tr>\n",
              "    <tr>\n",
              "      <th>2</th>\n",
              "      <td>3</td>\n",
              "      <td>20</td>\n",
              "      <td>8</td>\n",
              "    </tr>\n",
              "    <tr>\n",
              "      <th>3</th>\n",
              "      <td>3</td>\n",
              "      <td>154</td>\n",
              "      <td>6</td>\n",
              "    </tr>\n",
              "    <tr>\n",
              "      <th>4</th>\n",
              "      <td>3</td>\n",
              "      <td>170</td>\n",
              "      <td>9</td>\n",
              "    </tr>\n",
              "    <tr>\n",
              "      <th>...</th>\n",
              "      <td>...</td>\n",
              "      <td>...</td>\n",
              "      <td>...</td>\n",
              "    </tr>\n",
              "    <tr>\n",
              "      <th>5484214</th>\n",
              "      <td>73515</td>\n",
              "      <td>14345</td>\n",
              "      <td>7</td>\n",
              "    </tr>\n",
              "    <tr>\n",
              "      <th>5484215</th>\n",
              "      <td>73515</td>\n",
              "      <td>16512</td>\n",
              "      <td>7</td>\n",
              "    </tr>\n",
              "    <tr>\n",
              "      <th>5484216</th>\n",
              "      <td>73515</td>\n",
              "      <td>17187</td>\n",
              "      <td>9</td>\n",
              "    </tr>\n",
              "    <tr>\n",
              "      <th>5484217</th>\n",
              "      <td>73515</td>\n",
              "      <td>22145</td>\n",
              "      <td>10</td>\n",
              "    </tr>\n",
              "    <tr>\n",
              "      <th>5484218</th>\n",
              "      <td>73516</td>\n",
              "      <td>790</td>\n",
              "      <td>9</td>\n",
              "    </tr>\n",
              "  </tbody>\n",
              "</table>\n",
              "<p>5484219 rows × 3 columns</p>\n",
              "</div>"
            ],
            "text/plain": [
              "         user_id  anime_id  rating\n",
              "0              1     11757      10\n",
              "1              2     11771      10\n",
              "2              3        20       8\n",
              "3              3       154       6\n",
              "4              3       170       9\n",
              "...          ...       ...     ...\n",
              "5484214    73515     14345       7\n",
              "5484215    73515     16512       7\n",
              "5484216    73515     17187       9\n",
              "5484217    73515     22145      10\n",
              "5484218    73516       790       9\n",
              "\n",
              "[5484219 rows x 3 columns]"
            ]
          },
          "execution_count": 4,
          "metadata": {},
          "output_type": "execute_result"
        }
      ],
      "source": [
        "rating = pd.read_csv('https://www.dropbox.com/s/si72o36gnk4xdx5/rating.csv?raw=1')\n",
        "rating = rating[rating['rating'].notnull()]\n",
        "rating"
      ]
    },
    {
      "cell_type": "markdown",
      "metadata": {
        "id": "FhBpi8UnCPIb"
      },
      "source": [
        "Let's reorder the dataset as follows:\n",
        "\n",
        "1. Group the data by `user_id`\n",
        "2. Aggregate using the `count` operation\n",
        "3. Sort by count of rating (descending)"
      ]
    },
    {
      "cell_type": "code",
      "execution_count": null,
      "metadata": {
        "id": "wevNN9EZCPId",
        "outputId": "eac8e643-dee5-4a7f-962f-5ef77afee555"
      },
      "outputs": [
        {
          "data": {
            "text/html": [
              "<div>\n",
              "<style scoped>\n",
              "    .dataframe tbody tr th:only-of-type {\n",
              "        vertical-align: middle;\n",
              "    }\n",
              "\n",
              "    .dataframe tbody tr th {\n",
              "        vertical-align: top;\n",
              "    }\n",
              "\n",
              "    .dataframe thead th {\n",
              "        text-align: right;\n",
              "    }\n",
              "</style>\n",
              "<table border=\"1\" class=\"dataframe\">\n",
              "  <thead>\n",
              "    <tr style=\"text-align: right;\">\n",
              "      <th></th>\n",
              "      <th>count</th>\n",
              "    </tr>\n",
              "    <tr>\n",
              "      <th>user_id</th>\n",
              "      <th></th>\n",
              "    </tr>\n",
              "  </thead>\n",
              "  <tbody>\n",
              "    <tr>\n",
              "      <th>42635</th>\n",
              "      <td>3243</td>\n",
              "    </tr>\n",
              "    <tr>\n",
              "      <th>51693</th>\n",
              "      <td>2507</td>\n",
              "    </tr>\n",
              "    <tr>\n",
              "      <th>57620</th>\n",
              "      <td>2422</td>\n",
              "    </tr>\n",
              "    <tr>\n",
              "      <th>59643</th>\n",
              "      <td>2314</td>\n",
              "    </tr>\n",
              "    <tr>\n",
              "      <th>7345</th>\n",
              "      <td>2192</td>\n",
              "    </tr>\n",
              "    <tr>\n",
              "      <th>...</th>\n",
              "      <td>...</td>\n",
              "    </tr>\n",
              "    <tr>\n",
              "      <th>46799</th>\n",
              "      <td>1</td>\n",
              "    </tr>\n",
              "    <tr>\n",
              "      <th>46795</th>\n",
              "      <td>1</td>\n",
              "    </tr>\n",
              "    <tr>\n",
              "      <th>46794</th>\n",
              "      <td>1</td>\n",
              "    </tr>\n",
              "    <tr>\n",
              "      <th>46765</th>\n",
              "      <td>1</td>\n",
              "    </tr>\n",
              "    <tr>\n",
              "      <th>73516</th>\n",
              "      <td>1</td>\n",
              "    </tr>\n",
              "  </tbody>\n",
              "</table>\n",
              "<p>69180 rows × 1 columns</p>\n",
              "</div>"
            ],
            "text/plain": [
              "         count\n",
              "user_id       \n",
              "42635     3243\n",
              "51693     2507\n",
              "57620     2422\n",
              "59643     2314\n",
              "7345      2192\n",
              "...        ...\n",
              "46799        1\n",
              "46795        1\n",
              "46794        1\n",
              "46765        1\n",
              "73516        1\n",
              "\n",
              "[69180 rows x 1 columns]"
            ]
          },
          "execution_count": 5,
          "metadata": {},
          "output_type": "execute_result"
        }
      ],
      "source": [
        "user_group = rating.groupby('user_id')\n",
        "user_agg = user_group.agg({'count'})\n",
        "user_ratings = user_agg['rating']\n",
        "user_ratings = user_ratings.sort_values('count', ascending=False)\n",
        "user_ratings"
      ]
    },
    {
      "cell_type": "markdown",
      "metadata": {
        "id": "NfkKgeCQCPIe"
      },
      "source": [
        "If you did all of these steps correctly, now you should have a dataset that tells you how many animes each user has rated"
      ]
    },
    {
      "cell_type": "markdown",
      "metadata": {
        "id": "7EoywkpgCPIf"
      },
      "source": [
        "Moreover, your `user_id` column should be now the index!"
      ]
    },
    {
      "cell_type": "markdown",
      "metadata": {
        "id": "OKFzuEruCPIg"
      },
      "source": [
        "**Q. Which user (by ID) has rated the most anime?**"
      ]
    },
    {
      "cell_type": "raw",
      "metadata": {
        "id": "JG4-KyvkCPIh"
      },
      "source": [
        "Answer: User 42635 who rated 3243 anime"
      ]
    },
    {
      "cell_type": "markdown",
      "metadata": {
        "id": "fZsZ1p90CPIh"
      },
      "source": [
        "Now you will do the following:\n",
        "\n",
        "1. Create a new dataframe called `anime_ratings` which shows the number of times each anime was rated and it's mean rating\n",
        "2. Rename column `count` as `Number of Ratings` and `mean` to `Average Rating`\n",
        "3. Drop any anime which received fewer than $100$ ratings and sort by `Number of Ratings` (descending)\n",
        "4. Round the average ratings to 2 decimal places"
      ]
    },
    {
      "cell_type": "code",
      "execution_count": null,
      "metadata": {
        "id": "QpP9cRWDCPIi",
        "outputId": "234b3f49-511e-447b-c059-455b6e5f3b16"
      },
      "outputs": [
        {
          "data": {
            "text/html": [
              "<div>\n",
              "<style scoped>\n",
              "    .dataframe tbody tr th:only-of-type {\n",
              "        vertical-align: middle;\n",
              "    }\n",
              "\n",
              "    .dataframe tbody tr th {\n",
              "        vertical-align: top;\n",
              "    }\n",
              "\n",
              "    .dataframe thead th {\n",
              "        text-align: right;\n",
              "    }\n",
              "</style>\n",
              "<table border=\"1\" class=\"dataframe\">\n",
              "  <thead>\n",
              "    <tr style=\"text-align: right;\">\n",
              "      <th></th>\n",
              "      <th>Number of Ratings</th>\n",
              "      <th>Average Rating</th>\n",
              "    </tr>\n",
              "    <tr>\n",
              "      <th>anime_id</th>\n",
              "      <th></th>\n",
              "      <th></th>\n",
              "    </tr>\n",
              "  </thead>\n",
              "  <tbody>\n",
              "    <tr>\n",
              "      <th>1535</th>\n",
              "      <td>34226</td>\n",
              "      <td>8.83</td>\n",
              "    </tr>\n",
              "    <tr>\n",
              "      <th>11757</th>\n",
              "      <td>26310</td>\n",
              "      <td>8.14</td>\n",
              "    </tr>\n",
              "    <tr>\n",
              "      <th>16498</th>\n",
              "      <td>25290</td>\n",
              "      <td>8.73</td>\n",
              "    </tr>\n",
              "    <tr>\n",
              "      <th>1575</th>\n",
              "      <td>24126</td>\n",
              "      <td>8.93</td>\n",
              "    </tr>\n",
              "    <tr>\n",
              "      <th>6547</th>\n",
              "      <td>23565</td>\n",
              "      <td>8.55</td>\n",
              "    </tr>\n",
              "    <tr>\n",
              "      <th>...</th>\n",
              "      <td>...</td>\n",
              "      <td>...</td>\n",
              "    </tr>\n",
              "    <tr>\n",
              "      <th>2249</th>\n",
              "      <td>100</td>\n",
              "      <td>5.76</td>\n",
              "    </tr>\n",
              "    <tr>\n",
              "      <th>18771</th>\n",
              "      <td>100</td>\n",
              "      <td>6.97</td>\n",
              "    </tr>\n",
              "    <tr>\n",
              "      <th>360</th>\n",
              "      <td>100</td>\n",
              "      <td>6.49</td>\n",
              "    </tr>\n",
              "    <tr>\n",
              "      <th>23831</th>\n",
              "      <td>100</td>\n",
              "      <td>6.62</td>\n",
              "    </tr>\n",
              "    <tr>\n",
              "      <th>7550</th>\n",
              "      <td>100</td>\n",
              "      <td>6.63</td>\n",
              "    </tr>\n",
              "  </tbody>\n",
              "</table>\n",
              "<p>3513 rows × 2 columns</p>\n",
              "</div>"
            ],
            "text/plain": [
              "          Number of Ratings  Average Rating\n",
              "anime_id                                   \n",
              "1535                  34226            8.83\n",
              "11757                 26310            8.14\n",
              "16498                 25290            8.73\n",
              "1575                  24126            8.93\n",
              "6547                  23565            8.55\n",
              "...                     ...             ...\n",
              "2249                    100            5.76\n",
              "18771                   100            6.97\n",
              "360                     100            6.49\n",
              "23831                   100            6.62\n",
              "7550                    100            6.63\n",
              "\n",
              "[3513 rows x 2 columns]"
            ]
          },
          "execution_count": 6,
          "metadata": {},
          "output_type": "execute_result"
        }
      ],
      "source": [
        "anime_group = rating.groupby('anime_id')\n",
        "anime_agg = anime_group.agg({'count', 'mean'})\n",
        "anime_ratings = anime_agg['rating']\n",
        "anime_ratings = anime_ratings.sort_values('count', ascending=False)\n",
        "anime_ratings = anime_ratings.rename(columns={'count' : 'Number of Ratings', 'mean' : 'Average Rating'})\n",
        "anime_ratings = anime_ratings[anime_ratings['Number of Ratings'] >= 100]\n",
        "anime_ratings['Average Rating'] = anime_ratings['Average Rating'].round(2)\n",
        "anime_ratings"
      ]
    },
    {
      "cell_type": "markdown",
      "metadata": {
        "id": "ucNVSfntCPIj"
      },
      "source": [
        "You should have a total of $3513$ rated anime"
      ]
    },
    {
      "cell_type": "markdown",
      "metadata": {
        "id": "wfBuUiG4CPIk"
      },
      "source": [
        "**Q. Which Anime (by ID) was rated most often? How often? What was it's average rating?**"
      ]
    },
    {
      "cell_type": "raw",
      "metadata": {
        "id": "WGQSHj3gCPIk"
      },
      "source": [
        "Answer: Anime 1535 with 34226 ratings with an average of 8.83 out of 10."
      ]
    },
    {
      "cell_type": "markdown",
      "metadata": {
        "id": "nIjs44jECPIl"
      },
      "source": [
        "Now, we will import a second dataset called `anime.csv` to the variable `anime`. "
      ]
    },
    {
      "cell_type": "markdown",
      "metadata": {
        "id": "042uR8m5CPIl"
      },
      "source": [
        "In this one, the first column is the `anime_id` (which is unique)"
      ]
    },
    {
      "cell_type": "markdown",
      "metadata": {
        "id": "3xaGK8ZJCPIl"
      },
      "source": [
        "You should have $10228$ rows, each describing one anime"
      ]
    },
    {
      "cell_type": "code",
      "execution_count": null,
      "metadata": {
        "id": "S8_A1SsICPIm",
        "outputId": "d6c86de9-70ec-4e09-f017-2a12f122c496"
      },
      "outputs": [
        {
          "data": {
            "text/html": [
              "<div>\n",
              "<style scoped>\n",
              "    .dataframe tbody tr th:only-of-type {\n",
              "        vertical-align: middle;\n",
              "    }\n",
              "\n",
              "    .dataframe tbody tr th {\n",
              "        vertical-align: top;\n",
              "    }\n",
              "\n",
              "    .dataframe thead th {\n",
              "        text-align: right;\n",
              "    }\n",
              "</style>\n",
              "<table border=\"1\" class=\"dataframe\">\n",
              "  <thead>\n",
              "    <tr style=\"text-align: right;\">\n",
              "      <th></th>\n",
              "      <th>name</th>\n",
              "      <th>genre</th>\n",
              "      <th>type</th>\n",
              "      <th>episodes</th>\n",
              "    </tr>\n",
              "    <tr>\n",
              "      <th>anime_id</th>\n",
              "      <th></th>\n",
              "      <th></th>\n",
              "      <th></th>\n",
              "      <th></th>\n",
              "    </tr>\n",
              "  </thead>\n",
              "  <tbody>\n",
              "    <tr>\n",
              "      <th>32281</th>\n",
              "      <td>Kimi no Na wa.</td>\n",
              "      <td>Drama, Romance, School, Supernatural</td>\n",
              "      <td>Movie</td>\n",
              "      <td>1</td>\n",
              "    </tr>\n",
              "    <tr>\n",
              "      <th>5114</th>\n",
              "      <td>Fullmetal Alchemist: Brotherhood</td>\n",
              "      <td>Action, Adventure, Drama, Fantasy, Magic, Mili...</td>\n",
              "      <td>TV</td>\n",
              "      <td>64</td>\n",
              "    </tr>\n",
              "    <tr>\n",
              "      <th>28977</th>\n",
              "      <td>Gintama°</td>\n",
              "      <td>Action, Comedy, Historical, Parody, Samurai, S...</td>\n",
              "      <td>TV</td>\n",
              "      <td>51</td>\n",
              "    </tr>\n",
              "    <tr>\n",
              "      <th>9253</th>\n",
              "      <td>Steins;Gate</td>\n",
              "      <td>Sci-Fi, Thriller</td>\n",
              "      <td>TV</td>\n",
              "      <td>24</td>\n",
              "    </tr>\n",
              "    <tr>\n",
              "      <th>9969</th>\n",
              "      <td>Gintama&amp;#039;</td>\n",
              "      <td>Action, Comedy, Historical, Parody, Samurai, S...</td>\n",
              "      <td>TV</td>\n",
              "      <td>51</td>\n",
              "    </tr>\n",
              "    <tr>\n",
              "      <th>...</th>\n",
              "      <td>...</td>\n",
              "      <td>...</td>\n",
              "      <td>...</td>\n",
              "      <td>...</td>\n",
              "    </tr>\n",
              "    <tr>\n",
              "      <th>11095</th>\n",
              "      <td>Zouressha ga Yatte Kita</td>\n",
              "      <td>Adventure</td>\n",
              "      <td>Movie</td>\n",
              "      <td>1</td>\n",
              "    </tr>\n",
              "    <tr>\n",
              "      <th>7808</th>\n",
              "      <td>Zukkoke Knight: Don De La Mancha</td>\n",
              "      <td>Adventure, Comedy, Historical, Romance</td>\n",
              "      <td>TV</td>\n",
              "      <td>23</td>\n",
              "    </tr>\n",
              "    <tr>\n",
              "      <th>28543</th>\n",
              "      <td>Zukkoke Sannin-gumi no Hi Asobi Boushi Daisakusen</td>\n",
              "      <td>Drama, Kids</td>\n",
              "      <td>OVA</td>\n",
              "      <td>1</td>\n",
              "    </tr>\n",
              "    <tr>\n",
              "      <th>18967</th>\n",
              "      <td>Zukkoke Sannin-gumi: Zukkoke Jikuu Bouken</td>\n",
              "      <td>Comedy, Historical, Sci-Fi</td>\n",
              "      <td>OVA</td>\n",
              "      <td>1</td>\n",
              "    </tr>\n",
              "    <tr>\n",
              "      <th>13455</th>\n",
              "      <td>Zumomo to Nupepe</td>\n",
              "      <td>Comedy</td>\n",
              "      <td>TV</td>\n",
              "      <td>32</td>\n",
              "    </tr>\n",
              "  </tbody>\n",
              "</table>\n",
              "<p>10228 rows × 4 columns</p>\n",
              "</div>"
            ],
            "text/plain": [
              "                                                       name  \\\n",
              "anime_id                                                      \n",
              "32281                                        Kimi no Na wa.   \n",
              "5114                       Fullmetal Alchemist: Brotherhood   \n",
              "28977                                              Gintama°   \n",
              "9253                                            Steins;Gate   \n",
              "9969                                          Gintama&#039;   \n",
              "...                                                     ...   \n",
              "11095                               Zouressha ga Yatte Kita   \n",
              "7808                       Zukkoke Knight: Don De La Mancha   \n",
              "28543     Zukkoke Sannin-gumi no Hi Asobi Boushi Daisakusen   \n",
              "18967             Zukkoke Sannin-gumi: Zukkoke Jikuu Bouken   \n",
              "13455                                      Zumomo to Nupepe   \n",
              "\n",
              "                                                      genre   type episodes  \n",
              "anime_id                                                                     \n",
              "32281                  Drama, Romance, School, Supernatural  Movie        1  \n",
              "5114      Action, Adventure, Drama, Fantasy, Magic, Mili...     TV       64  \n",
              "28977     Action, Comedy, Historical, Parody, Samurai, S...     TV       51  \n",
              "9253                                       Sci-Fi, Thriller     TV       24  \n",
              "9969      Action, Comedy, Historical, Parody, Samurai, S...     TV       51  \n",
              "...                                                     ...    ...      ...  \n",
              "11095                                             Adventure  Movie        1  \n",
              "7808                 Adventure, Comedy, Historical, Romance     TV       23  \n",
              "28543                                           Drama, Kids    OVA        1  \n",
              "18967                            Comedy, Historical, Sci-Fi    OVA        1  \n",
              "13455                                                Comedy     TV       32  \n",
              "\n",
              "[10228 rows x 4 columns]"
            ]
          },
          "execution_count": 8,
          "metadata": {},
          "output_type": "execute_result"
        }
      ],
      "source": [
        "anime = pd.read_csv('https://www.dropbox.com/s/h9tcxvon85evu19/anime.csv?raw=1', index_col=0)\n",
        "anime"
      ]
    },
    {
      "cell_type": "markdown",
      "metadata": {
        "id": "sXnha8qyCPIm"
      },
      "source": [
        "We want to add the ratings from the `anime_ratings` dataframe onto the `anime` dataframe"
      ]
    },
    {
      "cell_type": "markdown",
      "metadata": {
        "id": "lCotSRIHCPIm"
      },
      "source": [
        "Every rating in `anime_ratings` has a corresponding entry in `anime`"
      ]
    },
    {
      "cell_type": "markdown",
      "metadata": {
        "id": "Ifoejpv9CPIm"
      },
      "source": [
        "However, since we removed the entries of lesser rated anime (in the `anime_ratings` dataset), there are anime in the `anime` dataframe without corresponding entries in `anime_ratings`"
      ]
    },
    {
      "cell_type": "markdown",
      "metadata": {
        "id": "hVMnbR5GCPIn"
      },
      "source": [
        "**Q. If we want to keep all of the information about anime (regardless of whether we have the rating or not), what type of join should we us, considering `anime` as the left and `anime_ratings` as the right dataset?**"
      ]
    },
    {
      "cell_type": "raw",
      "metadata": {
        "id": "w6FyGyA7CPIn"
      },
      "source": [
        "Answer: Left join, since we want to keep everything from the left dataset\n",
        "\n",
        "Note: Outer join will work too, since there are no right keys unmatched on the left"
      ]
    },
    {
      "cell_type": "markdown",
      "metadata": {
        "id": "52eeZ1JpCPIn"
      },
      "source": [
        "**Q. If we want to only keep anime which have ratings, what type of join should we use?**"
      ]
    },
    {
      "cell_type": "raw",
      "metadata": {
        "id": "v-YEH1KGCPIo"
      },
      "source": [
        "Answer: Inner join, we want to keep the overlap\n",
        "\n",
        "Note: Right join will work too since there are no right keys unmatched on the left"
      ]
    },
    {
      "cell_type": "markdown",
      "metadata": {
        "id": "Bc45XTDmCPIo"
      },
      "source": [
        "Perform a join to keep only anime which have ratings"
      ]
    },
    {
      "cell_type": "markdown",
      "metadata": {
        "id": "FzXI0k_XCPIp"
      },
      "source": [
        "You should have 3,513 rows"
      ]
    },
    {
      "cell_type": "code",
      "execution_count": null,
      "metadata": {
        "id": "TjlcQNLLCPIp",
        "outputId": "474ed1a7-5980-4a2a-c18b-46987e76e0ce"
      },
      "outputs": [
        {
          "data": {
            "text/html": [
              "<div>\n",
              "<style scoped>\n",
              "    .dataframe tbody tr th:only-of-type {\n",
              "        vertical-align: middle;\n",
              "    }\n",
              "\n",
              "    .dataframe tbody tr th {\n",
              "        vertical-align: top;\n",
              "    }\n",
              "\n",
              "    .dataframe thead th {\n",
              "        text-align: right;\n",
              "    }\n",
              "</style>\n",
              "<table border=\"1\" class=\"dataframe\">\n",
              "  <thead>\n",
              "    <tr style=\"text-align: right;\">\n",
              "      <th></th>\n",
              "      <th>name</th>\n",
              "      <th>genre</th>\n",
              "      <th>type</th>\n",
              "      <th>episodes</th>\n",
              "      <th>Number of Ratings</th>\n",
              "      <th>Average Rating</th>\n",
              "    </tr>\n",
              "    <tr>\n",
              "      <th>anime_id</th>\n",
              "      <th></th>\n",
              "      <th></th>\n",
              "      <th></th>\n",
              "      <th></th>\n",
              "      <th></th>\n",
              "      <th></th>\n",
              "    </tr>\n",
              "  </thead>\n",
              "  <tbody>\n",
              "    <tr>\n",
              "      <th>32281</th>\n",
              "      <td>Kimi no Na wa.</td>\n",
              "      <td>Drama, Romance, School, Supernatural</td>\n",
              "      <td>Movie</td>\n",
              "      <td>1</td>\n",
              "      <td>1961</td>\n",
              "      <td>9.43</td>\n",
              "    </tr>\n",
              "    <tr>\n",
              "      <th>5114</th>\n",
              "      <td>Fullmetal Alchemist: Brotherhood</td>\n",
              "      <td>Action, Adventure, Drama, Fantasy, Magic, Mili...</td>\n",
              "      <td>TV</td>\n",
              "      <td>64</td>\n",
              "      <td>21494</td>\n",
              "      <td>9.32</td>\n",
              "    </tr>\n",
              "    <tr>\n",
              "      <th>28977</th>\n",
              "      <td>Gintama°</td>\n",
              "      <td>Action, Comedy, Historical, Parody, Samurai, S...</td>\n",
              "      <td>TV</td>\n",
              "      <td>51</td>\n",
              "      <td>1188</td>\n",
              "      <td>9.45</td>\n",
              "    </tr>\n",
              "    <tr>\n",
              "      <th>9253</th>\n",
              "      <td>Steins;Gate</td>\n",
              "      <td>Sci-Fi, Thriller</td>\n",
              "      <td>TV</td>\n",
              "      <td>24</td>\n",
              "      <td>17151</td>\n",
              "      <td>9.26</td>\n",
              "    </tr>\n",
              "    <tr>\n",
              "      <th>9969</th>\n",
              "      <td>Gintama&amp;#039;</td>\n",
              "      <td>Action, Comedy, Historical, Parody, Samurai, S...</td>\n",
              "      <td>TV</td>\n",
              "      <td>51</td>\n",
              "      <td>3115</td>\n",
              "      <td>9.27</td>\n",
              "    </tr>\n",
              "    <tr>\n",
              "      <th>...</th>\n",
              "      <td>...</td>\n",
              "      <td>...</td>\n",
              "      <td>...</td>\n",
              "      <td>...</td>\n",
              "      <td>...</td>\n",
              "      <td>...</td>\n",
              "    </tr>\n",
              "    <tr>\n",
              "      <th>19315</th>\n",
              "      <td>Pupa</td>\n",
              "      <td>Fantasy, Horror, Psychological</td>\n",
              "      <td>TV</td>\n",
              "      <td>12</td>\n",
              "      <td>2135</td>\n",
              "      <td>4.22</td>\n",
              "    </tr>\n",
              "    <tr>\n",
              "      <th>28929</th>\n",
              "      <td>Vampire Holmes</td>\n",
              "      <td>Comedy, Mystery, Supernatural, Vampire</td>\n",
              "      <td>TV</td>\n",
              "      <td>12</td>\n",
              "      <td>133</td>\n",
              "      <td>4.19</td>\n",
              "    </tr>\n",
              "    <tr>\n",
              "      <th>16608</th>\n",
              "      <td>Shitcom</td>\n",
              "      <td>Comedy, Romance</td>\n",
              "      <td>ONA</td>\n",
              "      <td>1</td>\n",
              "      <td>192</td>\n",
              "      <td>3.21</td>\n",
              "    </tr>\n",
              "    <tr>\n",
              "      <th>413</th>\n",
              "      <td>Hametsu no Mars</td>\n",
              "      <td>Horror, Sci-Fi</td>\n",
              "      <td>OVA</td>\n",
              "      <td>1</td>\n",
              "      <td>1024</td>\n",
              "      <td>2.47</td>\n",
              "    </tr>\n",
              "    <tr>\n",
              "      <th>3287</th>\n",
              "      <td>Tenkuu Danzai Skelter+Heaven</td>\n",
              "      <td>Mecha, Sci-Fi</td>\n",
              "      <td>OVA</td>\n",
              "      <td>1</td>\n",
              "      <td>210</td>\n",
              "      <td>2.08</td>\n",
              "    </tr>\n",
              "  </tbody>\n",
              "</table>\n",
              "<p>3513 rows × 6 columns</p>\n",
              "</div>"
            ],
            "text/plain": [
              "                                      name  \\\n",
              "anime_id                                     \n",
              "32281                       Kimi no Na wa.   \n",
              "5114      Fullmetal Alchemist: Brotherhood   \n",
              "28977                             Gintama°   \n",
              "9253                           Steins;Gate   \n",
              "9969                         Gintama&#039;   \n",
              "...                                    ...   \n",
              "19315                                 Pupa   \n",
              "28929                       Vampire Holmes   \n",
              "16608                              Shitcom   \n",
              "413                        Hametsu no Mars   \n",
              "3287          Tenkuu Danzai Skelter+Heaven   \n",
              "\n",
              "                                                      genre   type episodes  \\\n",
              "anime_id                                                                      \n",
              "32281                  Drama, Romance, School, Supernatural  Movie        1   \n",
              "5114      Action, Adventure, Drama, Fantasy, Magic, Mili...     TV       64   \n",
              "28977     Action, Comedy, Historical, Parody, Samurai, S...     TV       51   \n",
              "9253                                       Sci-Fi, Thriller     TV       24   \n",
              "9969      Action, Comedy, Historical, Parody, Samurai, S...     TV       51   \n",
              "...                                                     ...    ...      ...   \n",
              "19315                        Fantasy, Horror, Psychological     TV       12   \n",
              "28929                Comedy, Mystery, Supernatural, Vampire     TV       12   \n",
              "16608                                       Comedy, Romance    ONA        1   \n",
              "413                                          Horror, Sci-Fi    OVA        1   \n",
              "3287                                          Mecha, Sci-Fi    OVA        1   \n",
              "\n",
              "          Number of Ratings  Average Rating  \n",
              "anime_id                                     \n",
              "32281                  1961            9.43  \n",
              "5114                  21494            9.32  \n",
              "28977                  1188            9.45  \n",
              "9253                  17151            9.26  \n",
              "9969                   3115            9.27  \n",
              "...                     ...             ...  \n",
              "19315                  2135            4.22  \n",
              "28929                   133            4.19  \n",
              "16608                   192            3.21  \n",
              "413                    1024            2.47  \n",
              "3287                    210            2.08  \n",
              "\n",
              "[3513 rows x 6 columns]"
            ]
          },
          "execution_count": 9,
          "metadata": {},
          "output_type": "execute_result"
        }
      ],
      "source": [
        "anime = anime.join(anime_ratings, how='inner')\n",
        "anime"
      ]
    },
    {
      "cell_type": "markdown",
      "metadata": {
        "id": "35SOLnXGCPIq"
      },
      "source": [
        "Sort the data frame by `Average Rating` (descending)"
      ]
    },
    {
      "cell_type": "markdown",
      "metadata": {
        "id": "PZdUw_IFCPIr"
      },
      "source": [
        "**Q. Which anime was most highly rated?**"
      ]
    },
    {
      "cell_type": "code",
      "execution_count": null,
      "metadata": {
        "id": "H7_kny6tCPIr",
        "outputId": "4bfa374a-567f-4fb8-fb52-4820dfe624f5"
      },
      "outputs": [
        {
          "data": {
            "text/html": [
              "<div>\n",
              "<style scoped>\n",
              "    .dataframe tbody tr th:only-of-type {\n",
              "        vertical-align: middle;\n",
              "    }\n",
              "\n",
              "    .dataframe tbody tr th {\n",
              "        vertical-align: top;\n",
              "    }\n",
              "\n",
              "    .dataframe thead th {\n",
              "        text-align: right;\n",
              "    }\n",
              "</style>\n",
              "<table border=\"1\" class=\"dataframe\">\n",
              "  <thead>\n",
              "    <tr style=\"text-align: right;\">\n",
              "      <th></th>\n",
              "      <th>name</th>\n",
              "      <th>genre</th>\n",
              "      <th>type</th>\n",
              "      <th>episodes</th>\n",
              "      <th>Number of Ratings</th>\n",
              "      <th>Average Rating</th>\n",
              "    </tr>\n",
              "    <tr>\n",
              "      <th>anime_id</th>\n",
              "      <th></th>\n",
              "      <th></th>\n",
              "      <th></th>\n",
              "      <th></th>\n",
              "      <th></th>\n",
              "      <th></th>\n",
              "    </tr>\n",
              "  </thead>\n",
              "  <tbody>\n",
              "    <tr>\n",
              "      <th>28977</th>\n",
              "      <td>Gintama°</td>\n",
              "      <td>Action, Comedy, Historical, Parody, Samurai, S...</td>\n",
              "      <td>TV</td>\n",
              "      <td>51</td>\n",
              "      <td>1188</td>\n",
              "      <td>9.45</td>\n",
              "    </tr>\n",
              "    <tr>\n",
              "      <th>32281</th>\n",
              "      <td>Kimi no Na wa.</td>\n",
              "      <td>Drama, Romance, School, Supernatural</td>\n",
              "      <td>Movie</td>\n",
              "      <td>1</td>\n",
              "      <td>1961</td>\n",
              "      <td>9.43</td>\n",
              "    </tr>\n",
              "    <tr>\n",
              "      <th>820</th>\n",
              "      <td>Ginga Eiyuu Densetsu</td>\n",
              "      <td>Drama, Military, Sci-Fi, Space</td>\n",
              "      <td>OVA</td>\n",
              "      <td>110</td>\n",
              "      <td>803</td>\n",
              "      <td>9.39</td>\n",
              "    </tr>\n",
              "    <tr>\n",
              "      <th>5114</th>\n",
              "      <td>Fullmetal Alchemist: Brotherhood</td>\n",
              "      <td>Action, Adventure, Drama, Fantasy, Magic, Mili...</td>\n",
              "      <td>TV</td>\n",
              "      <td>64</td>\n",
              "      <td>21494</td>\n",
              "      <td>9.32</td>\n",
              "    </tr>\n",
              "    <tr>\n",
              "      <th>9969</th>\n",
              "      <td>Gintama&amp;#039;</td>\n",
              "      <td>Action, Comedy, Historical, Parody, Samurai, S...</td>\n",
              "      <td>TV</td>\n",
              "      <td>51</td>\n",
              "      <td>3115</td>\n",
              "      <td>9.27</td>\n",
              "    </tr>\n",
              "    <tr>\n",
              "      <th>...</th>\n",
              "      <td>...</td>\n",
              "      <td>...</td>\n",
              "      <td>...</td>\n",
              "      <td>...</td>\n",
              "      <td>...</td>\n",
              "      <td>...</td>\n",
              "    </tr>\n",
              "    <tr>\n",
              "      <th>28929</th>\n",
              "      <td>Vampire Holmes</td>\n",
              "      <td>Comedy, Mystery, Supernatural, Vampire</td>\n",
              "      <td>TV</td>\n",
              "      <td>12</td>\n",
              "      <td>133</td>\n",
              "      <td>4.19</td>\n",
              "    </tr>\n",
              "    <tr>\n",
              "      <th>1657</th>\n",
              "      <td>Byston Well Monogatari: Garzey no Tsubasa</td>\n",
              "      <td>Fantasy</td>\n",
              "      <td>OVA</td>\n",
              "      <td>3</td>\n",
              "      <td>110</td>\n",
              "      <td>4.01</td>\n",
              "    </tr>\n",
              "    <tr>\n",
              "      <th>16608</th>\n",
              "      <td>Shitcom</td>\n",
              "      <td>Comedy, Romance</td>\n",
              "      <td>ONA</td>\n",
              "      <td>1</td>\n",
              "      <td>192</td>\n",
              "      <td>3.21</td>\n",
              "    </tr>\n",
              "    <tr>\n",
              "      <th>413</th>\n",
              "      <td>Hametsu no Mars</td>\n",
              "      <td>Horror, Sci-Fi</td>\n",
              "      <td>OVA</td>\n",
              "      <td>1</td>\n",
              "      <td>1024</td>\n",
              "      <td>2.47</td>\n",
              "    </tr>\n",
              "    <tr>\n",
              "      <th>3287</th>\n",
              "      <td>Tenkuu Danzai Skelter+Heaven</td>\n",
              "      <td>Mecha, Sci-Fi</td>\n",
              "      <td>OVA</td>\n",
              "      <td>1</td>\n",
              "      <td>210</td>\n",
              "      <td>2.08</td>\n",
              "    </tr>\n",
              "  </tbody>\n",
              "</table>\n",
              "<p>3513 rows × 6 columns</p>\n",
              "</div>"
            ],
            "text/plain": [
              "                                               name  \\\n",
              "anime_id                                              \n",
              "28977                                      Gintama°   \n",
              "32281                                Kimi no Na wa.   \n",
              "820                            Ginga Eiyuu Densetsu   \n",
              "5114               Fullmetal Alchemist: Brotherhood   \n",
              "9969                                  Gintama&#039;   \n",
              "...                                             ...   \n",
              "28929                                Vampire Holmes   \n",
              "1657      Byston Well Monogatari: Garzey no Tsubasa   \n",
              "16608                                       Shitcom   \n",
              "413                                 Hametsu no Mars   \n",
              "3287                   Tenkuu Danzai Skelter+Heaven   \n",
              "\n",
              "                                                      genre   type episodes  \\\n",
              "anime_id                                                                      \n",
              "28977     Action, Comedy, Historical, Parody, Samurai, S...     TV       51   \n",
              "32281                  Drama, Romance, School, Supernatural  Movie        1   \n",
              "820                          Drama, Military, Sci-Fi, Space    OVA      110   \n",
              "5114      Action, Adventure, Drama, Fantasy, Magic, Mili...     TV       64   \n",
              "9969      Action, Comedy, Historical, Parody, Samurai, S...     TV       51   \n",
              "...                                                     ...    ...      ...   \n",
              "28929                Comedy, Mystery, Supernatural, Vampire     TV       12   \n",
              "1657                                                Fantasy    OVA        3   \n",
              "16608                                       Comedy, Romance    ONA        1   \n",
              "413                                          Horror, Sci-Fi    OVA        1   \n",
              "3287                                          Mecha, Sci-Fi    OVA        1   \n",
              "\n",
              "          Number of Ratings  Average Rating  \n",
              "anime_id                                     \n",
              "28977                  1188            9.45  \n",
              "32281                  1961            9.43  \n",
              "820                     803            9.39  \n",
              "5114                  21494            9.32  \n",
              "9969                   3115            9.27  \n",
              "...                     ...             ...  \n",
              "28929                   133            4.19  \n",
              "1657                    110            4.01  \n",
              "16608                   192            3.21  \n",
              "413                    1024            2.47  \n",
              "3287                    210            2.08  \n",
              "\n",
              "[3513 rows x 6 columns]"
            ]
          },
          "execution_count": 10,
          "metadata": {},
          "output_type": "execute_result"
        }
      ],
      "source": [
        "anime = anime.sort_values('Average Rating', ascending=False)\n",
        "anime"
      ]
    },
    {
      "cell_type": "raw",
      "metadata": {
        "id": "Jx_YWr7DCPIr"
      },
      "source": [
        "Answer: Gintama° with a rating of 9.45 out of 10"
      ]
    },
    {
      "cell_type": "markdown",
      "metadata": {
        "id": "rGCBGyLsCPIr"
      },
      "source": [
        "**Q. Which anime had the most ratings?**"
      ]
    },
    {
      "cell_type": "code",
      "execution_count": null,
      "metadata": {
        "id": "FxIlNc7mCPIs",
        "outputId": "6f99cce9-bb6a-455b-9a31-0673c8d641e7"
      },
      "outputs": [
        {
          "data": {
            "text/html": [
              "<div>\n",
              "<style scoped>\n",
              "    .dataframe tbody tr th:only-of-type {\n",
              "        vertical-align: middle;\n",
              "    }\n",
              "\n",
              "    .dataframe tbody tr th {\n",
              "        vertical-align: top;\n",
              "    }\n",
              "\n",
              "    .dataframe thead th {\n",
              "        text-align: right;\n",
              "    }\n",
              "</style>\n",
              "<table border=\"1\" class=\"dataframe\">\n",
              "  <thead>\n",
              "    <tr style=\"text-align: right;\">\n",
              "      <th></th>\n",
              "      <th>name</th>\n",
              "      <th>genre</th>\n",
              "      <th>type</th>\n",
              "      <th>episodes</th>\n",
              "      <th>Number of Ratings</th>\n",
              "      <th>Average Rating</th>\n",
              "    </tr>\n",
              "    <tr>\n",
              "      <th>anime_id</th>\n",
              "      <th></th>\n",
              "      <th></th>\n",
              "      <th></th>\n",
              "      <th></th>\n",
              "      <th></th>\n",
              "      <th></th>\n",
              "    </tr>\n",
              "  </thead>\n",
              "  <tbody>\n",
              "    <tr>\n",
              "      <th>1535</th>\n",
              "      <td>Death Note</td>\n",
              "      <td>Mystery, Police, Psychological, Supernatural, ...</td>\n",
              "      <td>TV</td>\n",
              "      <td>37</td>\n",
              "      <td>34226</td>\n",
              "      <td>8.83</td>\n",
              "    </tr>\n",
              "    <tr>\n",
              "      <th>11757</th>\n",
              "      <td>Sword Art Online</td>\n",
              "      <td>Action, Adventure, Fantasy, Game, Romance</td>\n",
              "      <td>TV</td>\n",
              "      <td>25</td>\n",
              "      <td>26310</td>\n",
              "      <td>8.14</td>\n",
              "    </tr>\n",
              "    <tr>\n",
              "      <th>16498</th>\n",
              "      <td>Shingeki no Kyojin</td>\n",
              "      <td>Action, Drama, Fantasy, Shounen, Super Power</td>\n",
              "      <td>TV</td>\n",
              "      <td>25</td>\n",
              "      <td>25290</td>\n",
              "      <td>8.73</td>\n",
              "    </tr>\n",
              "    <tr>\n",
              "      <th>1575</th>\n",
              "      <td>Code Geass: Hangyaku no Lelouch</td>\n",
              "      <td>Action, Mecha, Military, School, Sci-Fi, Super...</td>\n",
              "      <td>TV</td>\n",
              "      <td>25</td>\n",
              "      <td>24126</td>\n",
              "      <td>8.93</td>\n",
              "    </tr>\n",
              "    <tr>\n",
              "      <th>6547</th>\n",
              "      <td>Angel Beats!</td>\n",
              "      <td>Action, Comedy, Drama, School, Supernatural</td>\n",
              "      <td>TV</td>\n",
              "      <td>13</td>\n",
              "      <td>23565</td>\n",
              "      <td>8.55</td>\n",
              "    </tr>\n",
              "    <tr>\n",
              "      <th>...</th>\n",
              "      <td>...</td>\n",
              "      <td>...</td>\n",
              "      <td>...</td>\n",
              "      <td>...</td>\n",
              "      <td>...</td>\n",
              "      <td>...</td>\n",
              "    </tr>\n",
              "    <tr>\n",
              "      <th>1081</th>\n",
              "      <td>Space Pirate Captain Herlock: Outside Legend -...</td>\n",
              "      <td>Action, Adventure, Drama, Sci-Fi, Seinen, Space</td>\n",
              "      <td>OVA</td>\n",
              "      <td>13</td>\n",
              "      <td>100</td>\n",
              "      <td>7.78</td>\n",
              "    </tr>\n",
              "    <tr>\n",
              "      <th>7550</th>\n",
              "      <td>Pokemon: Pikachu Tanken Club</td>\n",
              "      <td>Adventure, Comedy, Fantasy, Kids</td>\n",
              "      <td>Special</td>\n",
              "      <td>1</td>\n",
              "      <td>100</td>\n",
              "      <td>6.63</td>\n",
              "    </tr>\n",
              "    <tr>\n",
              "      <th>1932</th>\n",
              "      <td>Yes! Precure 5</td>\n",
              "      <td>Action, Fantasy, Magic, School, Shoujo</td>\n",
              "      <td>TV</td>\n",
              "      <td>49</td>\n",
              "      <td>100</td>\n",
              "      <td>7.38</td>\n",
              "    </tr>\n",
              "    <tr>\n",
              "      <th>2249</th>\n",
              "      <td>Amon Saga</td>\n",
              "      <td>Action, Adventure, Fantasy</td>\n",
              "      <td>OVA</td>\n",
              "      <td>1</td>\n",
              "      <td>100</td>\n",
              "      <td>5.76</td>\n",
              "    </tr>\n",
              "    <tr>\n",
              "      <th>503</th>\n",
              "      <td>Eien no Aselia</td>\n",
              "      <td>Adventure, Drama, Fantasy</td>\n",
              "      <td>OVA</td>\n",
              "      <td>2</td>\n",
              "      <td>100</td>\n",
              "      <td>5.78</td>\n",
              "    </tr>\n",
              "  </tbody>\n",
              "</table>\n",
              "<p>3513 rows × 6 columns</p>\n",
              "</div>"
            ],
            "text/plain": [
              "                                                       name  \\\n",
              "anime_id                                                      \n",
              "1535                                             Death Note   \n",
              "11757                                      Sword Art Online   \n",
              "16498                                    Shingeki no Kyojin   \n",
              "1575                        Code Geass: Hangyaku no Lelouch   \n",
              "6547                                           Angel Beats!   \n",
              "...                                                     ...   \n",
              "1081      Space Pirate Captain Herlock: Outside Legend -...   \n",
              "7550                           Pokemon: Pikachu Tanken Club   \n",
              "1932                                         Yes! Precure 5   \n",
              "2249                                              Amon Saga   \n",
              "503                                          Eien no Aselia   \n",
              "\n",
              "                                                      genre     type episodes  \\\n",
              "anime_id                                                                        \n",
              "1535      Mystery, Police, Psychological, Supernatural, ...       TV       37   \n",
              "11757             Action, Adventure, Fantasy, Game, Romance       TV       25   \n",
              "16498          Action, Drama, Fantasy, Shounen, Super Power       TV       25   \n",
              "1575      Action, Mecha, Military, School, Sci-Fi, Super...       TV       25   \n",
              "6547            Action, Comedy, Drama, School, Supernatural       TV       13   \n",
              "...                                                     ...      ...      ...   \n",
              "1081        Action, Adventure, Drama, Sci-Fi, Seinen, Space      OVA       13   \n",
              "7550                       Adventure, Comedy, Fantasy, Kids  Special        1   \n",
              "1932                 Action, Fantasy, Magic, School, Shoujo       TV       49   \n",
              "2249                             Action, Adventure, Fantasy      OVA        1   \n",
              "503                               Adventure, Drama, Fantasy      OVA        2   \n",
              "\n",
              "          Number of Ratings  Average Rating  \n",
              "anime_id                                     \n",
              "1535                  34226            8.83  \n",
              "11757                 26310            8.14  \n",
              "16498                 25290            8.73  \n",
              "1575                  24126            8.93  \n",
              "6547                  23565            8.55  \n",
              "...                     ...             ...  \n",
              "1081                    100            7.78  \n",
              "7550                    100            6.63  \n",
              "1932                    100            7.38  \n",
              "2249                    100            5.76  \n",
              "503                     100            5.78  \n",
              "\n",
              "[3513 rows x 6 columns]"
            ]
          },
          "execution_count": 11,
          "metadata": {},
          "output_type": "execute_result"
        }
      ],
      "source": [
        "anime = anime.sort_values('Number of Ratings', ascending=False)\n",
        "anime"
      ]
    },
    {
      "cell_type": "raw",
      "metadata": {
        "id": "3d2V1a9FCPIs"
      },
      "source": [
        "Answer: Death Note with 34,226 ratings"
      ]
    },
    {
      "cell_type": "markdown",
      "metadata": {
        "id": "1Wa2IIW0CPIt"
      },
      "source": [
        "The types of anime are `Movie`, `Music`, `ONA`, `OVA`, `Special` and `TV`"
      ]
    },
    {
      "cell_type": "markdown",
      "metadata": {
        "id": "RYTs-lNaCPIt"
      },
      "source": [
        "Use data aggregation to produce the following summary of the anime\n",
        "\n",
        "| type    | Number of Anime | Median Number of Ratings per Anime |\n",
        "| :------ | --------------: | ---------------------------------: |\n",
        "| TV      |            1713 |                              921.0 |\n",
        "| OVA     |             602 |                              349.5 |\n",
        "| Movie   |             555 |                              719.0 |\n",
        "| Special |             513 |                              350.0 |\n",
        "| ONA     |              93 |                              439.0 |\n",
        "| Music   |              37 |                              255.0 |"
      ]
    },
    {
      "cell_type": "code",
      "execution_count": null,
      "metadata": {
        "id": "OJzk7nHVCPIu",
        "outputId": "9cf47d62-8f85-461d-bb12-22e65f4212cd"
      },
      "outputs": [
        {
          "data": {
            "text/html": [
              "<div>\n",
              "<style scoped>\n",
              "    .dataframe tbody tr th:only-of-type {\n",
              "        vertical-align: middle;\n",
              "    }\n",
              "\n",
              "    .dataframe tbody tr th {\n",
              "        vertical-align: top;\n",
              "    }\n",
              "\n",
              "    .dataframe thead th {\n",
              "        text-align: right;\n",
              "    }\n",
              "</style>\n",
              "<table border=\"1\" class=\"dataframe\">\n",
              "  <thead>\n",
              "    <tr style=\"text-align: right;\">\n",
              "      <th></th>\n",
              "      <th>Number of Anime</th>\n",
              "      <th>Median Number of Ratings per Anime</th>\n",
              "    </tr>\n",
              "    <tr>\n",
              "      <th>type</th>\n",
              "      <th></th>\n",
              "      <th></th>\n",
              "    </tr>\n",
              "  </thead>\n",
              "  <tbody>\n",
              "    <tr>\n",
              "      <th>TV</th>\n",
              "      <td>1713</td>\n",
              "      <td>921.0</td>\n",
              "    </tr>\n",
              "    <tr>\n",
              "      <th>OVA</th>\n",
              "      <td>602</td>\n",
              "      <td>349.5</td>\n",
              "    </tr>\n",
              "    <tr>\n",
              "      <th>Movie</th>\n",
              "      <td>555</td>\n",
              "      <td>719.0</td>\n",
              "    </tr>\n",
              "    <tr>\n",
              "      <th>Special</th>\n",
              "      <td>513</td>\n",
              "      <td>350.0</td>\n",
              "    </tr>\n",
              "    <tr>\n",
              "      <th>ONA</th>\n",
              "      <td>93</td>\n",
              "      <td>439.0</td>\n",
              "    </tr>\n",
              "    <tr>\n",
              "      <th>Music</th>\n",
              "      <td>37</td>\n",
              "      <td>255.0</td>\n",
              "    </tr>\n",
              "  </tbody>\n",
              "</table>\n",
              "</div>"
            ],
            "text/plain": [
              "         Number of Anime  Median Number of Ratings per Anime\n",
              "type                                                        \n",
              "TV                  1713                               921.0\n",
              "OVA                  602                               349.5\n",
              "Movie                555                               719.0\n",
              "Special              513                               350.0\n",
              "ONA                   93                               439.0\n",
              "Music                 37                               255.0"
            ]
          },
          "execution_count": 12,
          "metadata": {},
          "output_type": "execute_result"
        }
      ],
      "source": [
        "group = anime.groupby('type')\n",
        "agg = group.agg({'count', 'median'})\n",
        "agg = agg['Number of Ratings']\n",
        "agg = agg.rename(columns={'count' : 'Number of Anime', 'median' : 'Median Number of Ratings per Anime'})\n",
        "agg = agg.sort_values('Number of Anime', ascending=False)\n",
        "agg"
      ]
    }
  ],
  "metadata": {
    "hide_input": false,
    "kernelspec": {
      "display_name": "Python 3",
      "language": "python",
      "name": "python3"
    },
    "language_info": {
      "codemirror_mode": {
        "name": "ipython",
        "version": 3
      },
      "file_extension": ".py",
      "mimetype": "text/x-python",
      "name": "python",
      "nbconvert_exporter": "python",
      "pygments_lexer": "ipython3",
      "version": "3.7.3"
    },
    "varInspector": {
      "cols": {
        "lenName": 16,
        "lenType": 16,
        "lenVar": 40
      },
      "kernels_config": {
        "python": {
          "delete_cmd_postfix": "",
          "delete_cmd_prefix": "del ",
          "library": "var_list.py",
          "varRefreshCmd": "print(var_dic_list())"
        },
        "r": {
          "delete_cmd_postfix": ") ",
          "delete_cmd_prefix": "rm(",
          "library": "var_list.r",
          "varRefreshCmd": "cat(var_dic_list()) "
        }
      },
      "types_to_exclude": [
        "module",
        "function",
        "builtin_function_or_method",
        "instance",
        "_Feature"
      ],
      "window_display": false
    },
    "colab": {
      "name": "CMM202_T4_Lab_solved.ipynb",
      "provenance": [],
      "include_colab_link": true
    }
  },
  "nbformat": 4,
  "nbformat_minor": 0
}