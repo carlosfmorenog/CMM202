{
  "cells": [
    {
      "cell_type": "markdown",
      "metadata": {
        "id": "view-in-github",
        "colab_type": "text"
      },
      "source": [
        "<a href=\"https://colab.research.google.com/github/carlosfmorenog/CMM202/blob/master/CMM202_Topic_4/CMM202_T4_Lab.ipynb\" target=\"_parent\"><img src=\"https://colab.research.google.com/assets/colab-badge.svg\" alt=\"Open In Colab\"/></a>"
      ]
    },
    {
      "cell_type": "markdown",
      "metadata": {
        "id": "D5G9MHyiom9p"
      },
      "source": [
        "# CMM202 Topic 4 Lab"
      ]
    },
    {
      "cell_type": "code",
      "execution_count": null,
      "metadata": {
        "id": "A3cMvA6Oom9v"
      },
      "outputs": [],
      "source": [
        "import pandas as pd"
      ]
    },
    {
      "cell_type": "markdown",
      "metadata": {
        "id": "52T0MyIsom-E"
      },
      "source": [
        "The `rating.csv` dataset contains user ratings of anime"
      ]
    },
    {
      "cell_type": "markdown",
      "metadata": {
        "id": "5nyjCZ8som-M"
      },
      "source": [
        "The data set is structed as follows:\n",
        "    \n",
        "| user_id | anime_id | rating |\n",
        "| ------: | -------: | -----: |\n",
        "|       1 |    11757 |     10 |\n",
        "|       2 |    11771 |     10 |\n",
        "|       3 |       20 |      8 |\n",
        "|       3 |      154 |      6 |\n",
        "|       3 |      170 |      9 |\n",
        "|     ... |      ... |    ... |"
      ]
    },
    {
      "cell_type": "markdown",
      "metadata": {
        "id": "zmYqjsBSom-S"
      },
      "source": [
        "Notice that no column is a unique index"
      ]
    },
    {
      "cell_type": "markdown",
      "metadata": {
        "id": "q8ZOVzldom-T"
      },
      "source": [
        "In fact, `user_id` indicates the user doing the rating, `anime_id` indicates the anime, and `rating` is the user's rating of that anime from `1` to `10`"
      ]
    },
    {
      "cell_type": "markdown",
      "metadata": {
        "id": "CbROtMIZom-V"
      },
      "source": [
        "Import this dataset using the following cell, removing in advance all rows with missing data (you should have $5484219$ rows of data)"
      ]
    },
    {
      "cell_type": "code",
      "execution_count": null,
      "metadata": {
        "id": "1SDKRx3lom-X"
      },
      "outputs": [],
      "source": [
        "rating = pd.read_csv('https://www.dropbox.com/s/si72o36gnk4xdx5/rating.csv?raw=1')\n",
        "# Your code here"
      ]
    },
    {
      "cell_type": "markdown",
      "metadata": {
        "id": "LIjyP3QXom-j"
      },
      "source": [
        "Let's reorder the dataset as follows:\n",
        "\n",
        "1. Group the data by `user_id`\n",
        "2. Aggregate using the `count` operation\n",
        "3. Sort by count of rating (descending)"
      ]
    },
    {
      "cell_type": "code",
      "execution_count": null,
      "metadata": {
        "id": "om9RXX6Hom-l"
      },
      "outputs": [],
      "source": [
        "# Your code here"
      ]
    },
    {
      "cell_type": "markdown",
      "metadata": {
        "id": "0AXvtwGgom-t"
      },
      "source": [
        "If you did all of these steps correctly, now you should have a dataset that tells you how many animes each user has rated"
      ]
    },
    {
      "cell_type": "markdown",
      "metadata": {
        "id": "isSKJdJcom-x"
      },
      "source": [
        "Moreover, your `user_id` column should be now the index!"
      ]
    },
    {
      "cell_type": "markdown",
      "metadata": {
        "id": "MzQsRDxCom-y"
      },
      "source": [
        "**Q. Which user (by ID) has rated the most anime?**"
      ]
    },
    {
      "cell_type": "markdown",
      "metadata": {
        "id": "ayNp01Laom-0"
      },
      "source": [
        "Answer:"
      ]
    },
    {
      "cell_type": "markdown",
      "metadata": {
        "id": "r2DWCMqVom-1"
      },
      "source": [
        "Now you will do the following:\n",
        "\n",
        "1. Create a new dataframe called `anime_ratings` which shows the number of times each anime was rated and it's mean rating\n",
        "2. Rename column `count` as `Number of Ratings` and `mean` to `Average Rating`\n",
        "3. Drop any anime which received fewer than $100$ ratings and sort by `Number of Ratings` (descending)\n",
        "4. Round the average ratings to 2 decimal places"
      ]
    },
    {
      "cell_type": "code",
      "execution_count": null,
      "metadata": {
        "id": "ntZvTECfom-4"
      },
      "outputs": [],
      "source": [
        "# Your code here"
      ]
    },
    {
      "cell_type": "markdown",
      "metadata": {
        "id": "DXgJzpt3om_C"
      },
      "source": [
        "You should have a total of $3513$ rated anime"
      ]
    },
    {
      "cell_type": "markdown",
      "metadata": {
        "id": "ibQiit_5om_D"
      },
      "source": [
        "**Q. Which Anime (by ID) was rated most often? How often? What was it's average rating?**"
      ]
    },
    {
      "cell_type": "markdown",
      "metadata": {
        "id": "2iX9p9bqom_F"
      },
      "source": [
        "Answer:"
      ]
    },
    {
      "cell_type": "markdown",
      "metadata": {
        "id": "KNz7SX1qom_G"
      },
      "source": [
        "Now, we will import a second dataset called `anime.csv` to the variable `anime`. "
      ]
    },
    {
      "cell_type": "markdown",
      "metadata": {
        "id": "u2tJZrlIom_H"
      },
      "source": [
        "In this one, the first column is the `anime_id` (which is unique)"
      ]
    },
    {
      "cell_type": "markdown",
      "metadata": {
        "id": "iYeIbg0Aom_J"
      },
      "source": [
        "You should have $10228$ rows, each describing one anime"
      ]
    },
    {
      "cell_type": "code",
      "execution_count": null,
      "metadata": {
        "id": "PxkfMPgpom_L"
      },
      "outputs": [],
      "source": [
        "anime = pd.read_csv('https://www.dropbox.com/s/h9tcxvon85evu19/anime.csv?raw=1', index_col=0)\n",
        "# Your code here"
      ]
    },
    {
      "cell_type": "markdown",
      "metadata": {
        "id": "U6BJ2kxJom_U"
      },
      "source": [
        "We want to add the ratings from the `anime_ratings` dataframe onto the `anime` dataframe"
      ]
    },
    {
      "cell_type": "markdown",
      "metadata": {
        "id": "93YL84v2om_V"
      },
      "source": [
        "Every rating in `anime_ratings` has a corresponding entry in `anime`"
      ]
    },
    {
      "cell_type": "markdown",
      "metadata": {
        "id": "PddsYWiWom_Z"
      },
      "source": [
        "However, since we removed the entries of lesser rated anime (in the `anime_ratings` dataset), there are anime in the `anime` dataframe without corresponding entries in `anime_ratings`"
      ]
    },
    {
      "cell_type": "markdown",
      "metadata": {
        "id": "Ieil40HRom_e"
      },
      "source": [
        "**Q. If we want to keep all of the information about anime (regardless of whether we have the rating or not), what type of join should we us, considering `anime` as the left and `anime_ratings` as the right dataset?**"
      ]
    },
    {
      "cell_type": "markdown",
      "metadata": {
        "id": "x7wFEjE_om_f"
      },
      "source": [
        "Answer:"
      ]
    },
    {
      "cell_type": "markdown",
      "metadata": {
        "id": "V82wFjUKom_j"
      },
      "source": [
        "**Q. If we want to only keep anime which have ratings, what type of join should we use?**"
      ]
    },
    {
      "cell_type": "markdown",
      "metadata": {
        "id": "1olQ5Gt_om_l"
      },
      "source": [
        "Answer:"
      ]
    },
    {
      "cell_type": "markdown",
      "metadata": {
        "id": "ZUu-YbxQom_m"
      },
      "source": [
        "Perform a join to keep only anime which have ratings"
      ]
    },
    {
      "cell_type": "markdown",
      "metadata": {
        "id": "hu7Fasffom_m"
      },
      "source": [
        "You should have 3,513 rows"
      ]
    },
    {
      "cell_type": "code",
      "execution_count": null,
      "metadata": {
        "id": "rze0KkNqom_o"
      },
      "outputs": [],
      "source": [
        "# Your code here"
      ]
    },
    {
      "cell_type": "markdown",
      "metadata": {
        "id": "zSqyHtJTom_v"
      },
      "source": [
        "Sort the data frame by `Average Rating` (descending)"
      ]
    },
    {
      "cell_type": "markdown",
      "metadata": {
        "id": "3iXzlHNoom_y"
      },
      "source": [
        "**Q. Which anime was most highly rated?**"
      ]
    },
    {
      "cell_type": "code",
      "execution_count": null,
      "metadata": {
        "id": "z0D5BDMGom_1"
      },
      "outputs": [],
      "source": [
        "# Your code here"
      ]
    },
    {
      "cell_type": "markdown",
      "metadata": {
        "id": "cRV3_YC7om_9"
      },
      "source": [
        "Answer:"
      ]
    },
    {
      "cell_type": "markdown",
      "metadata": {
        "id": "ejwPWPcQom_-"
      },
      "source": [
        "**Q. Which anime had the most ratings?**"
      ]
    },
    {
      "cell_type": "code",
      "execution_count": null,
      "metadata": {
        "id": "HOmPMetTonAA"
      },
      "outputs": [],
      "source": [
        "# Your code here"
      ]
    },
    {
      "cell_type": "markdown",
      "metadata": {
        "id": "BNR6PeZwonAH"
      },
      "source": [
        "Answer:"
      ]
    },
    {
      "cell_type": "markdown",
      "metadata": {
        "id": "1IJzZHTgonAJ"
      },
      "source": [
        "The types of anime are `Movie`, `Music`, `ONA`, `OVA`, `Special` and `TV`"
      ]
    },
    {
      "cell_type": "markdown",
      "metadata": {
        "id": "MxU-kgoEonAJ"
      },
      "source": [
        "Use data aggregation to produce the following summary of the anime\n",
        "\n",
        "| type    | Number of Anime | Median Number of Ratings per Anime |\n",
        "| :------ | --------------: | ---------------------------------: |\n",
        "| TV      |            1713 |                              921.0 |\n",
        "| OVA     |             602 |                              349.5 |\n",
        "| Movie   |             555 |                              719.0 |\n",
        "| Special |             513 |                              350.0 |\n",
        "| ONA     |              93 |                              439.0 |\n",
        "| Music   |              37 |                              255.0 |"
      ]
    },
    {
      "cell_type": "code",
      "execution_count": null,
      "metadata": {
        "id": "vre_cURqonAL"
      },
      "outputs": [],
      "source": [
        "# Your code here"
      ]
    }
  ],
  "metadata": {
    "colab": {
      "name": "CMM202_T4_Lab.ipynb",
      "provenance": [],
      "include_colab_link": true
    },
    "hide_input": false,
    "kernelspec": {
      "display_name": "Python 3",
      "language": "python",
      "name": "python3"
    },
    "language_info": {
      "codemirror_mode": {
        "name": "ipython",
        "version": 3
      },
      "file_extension": ".py",
      "mimetype": "text/x-python",
      "name": "python",
      "nbconvert_exporter": "python",
      "pygments_lexer": "ipython3",
      "version": "3.7.3"
    },
    "varInspector": {
      "cols": {
        "lenName": 16,
        "lenType": 16,
        "lenVar": 40
      },
      "kernels_config": {
        "python": {
          "delete_cmd_postfix": "",
          "delete_cmd_prefix": "del ",
          "library": "var_list.py",
          "varRefreshCmd": "print(var_dic_list())"
        },
        "r": {
          "delete_cmd_postfix": ") ",
          "delete_cmd_prefix": "rm(",
          "library": "var_list.r",
          "varRefreshCmd": "cat(var_dic_list()) "
        }
      },
      "types_to_exclude": [
        "module",
        "function",
        "builtin_function_or_method",
        "instance",
        "_Feature"
      ],
      "window_display": false
    }
  },
  "nbformat": 4,
  "nbformat_minor": 0
}