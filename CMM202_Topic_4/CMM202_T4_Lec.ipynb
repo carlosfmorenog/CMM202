{
  "cells": [
    {
      "cell_type": "markdown",
      "metadata": {
        "id": "view-in-github",
        "colab_type": "text"
      },
      "source": [
        "<a href=\"https://colab.research.google.com/github/carlosfmorenog/CMM202/blob/master/CMM202_Topic_4/CMM202_T4_Lec.ipynb\" target=\"_parent\"><img src=\"https://colab.research.google.com/assets/colab-badge.svg\" alt=\"Open In Colab\"/></a>"
      ]
    },
    {
      "cell_type": "markdown",
      "metadata": {
        "hide_input": true,
        "id": "Pqelv2_CB0LD"
      },
      "source": [
        "# CMM202 Topic 4: Joins & Aggregations"
      ]
    },
    {
      "cell_type": "markdown",
      "metadata": {
        "id": "WpLcXNibB0LF"
      },
      "source": [
        "Let's create two small dataset to use as example"
      ]
    },
    {
      "cell_type": "code",
      "execution_count": null,
      "metadata": {
        "id": "SN5TXRsVB0LH"
      },
      "outputs": [],
      "source": [
        "import pandas as pd"
      ]
    },
    {
      "cell_type": "code",
      "execution_count": null,
      "metadata": {
        "cell_style": "split",
        "id": "nUTcFXJ_B0LI",
        "outputId": "af7359ab-b1fb-41a0-c253-80da3a280cfa"
      },
      "outputs": [
        {
          "data": {
            "text/html": [
              "<div>\n",
              "<style scoped>\n",
              "    .dataframe tbody tr th:only-of-type {\n",
              "        vertical-align: middle;\n",
              "    }\n",
              "\n",
              "    .dataframe tbody tr th {\n",
              "        vertical-align: top;\n",
              "    }\n",
              "\n",
              "    .dataframe thead th {\n",
              "        text-align: right;\n",
              "    }\n",
              "</style>\n",
              "<table border=\"1\" class=\"dataframe\">\n",
              "  <thead>\n",
              "    <tr style=\"text-align: right;\">\n",
              "      <th></th>\n",
              "      <th>Author</th>\n",
              "    </tr>\n",
              "  </thead>\n",
              "  <tbody>\n",
              "    <tr>\n",
              "      <th>The Lord of the Rings</th>\n",
              "      <td>J. R. R. Tolkien</td>\n",
              "    </tr>\n",
              "    <tr>\n",
              "      <th>Game of Thrones</th>\n",
              "      <td>George R. R. Martin</td>\n",
              "    </tr>\n",
              "    <tr>\n",
              "      <th>Harry Potter</th>\n",
              "      <td>J. K. Rowling</td>\n",
              "    </tr>\n",
              "    <tr>\n",
              "      <th>The Hunger Games</th>\n",
              "      <td>Suzanne Collins</td>\n",
              "    </tr>\n",
              "  </tbody>\n",
              "</table>\n",
              "</div>"
            ],
            "text/plain": [
              "                                    Author\n",
              "The Lord of the Rings     J. R. R. Tolkien\n",
              "Game of Thrones        George R. R. Martin\n",
              "Harry Potter                 J. K. Rowling\n",
              "The Hunger Games           Suzanne Collins"
            ]
          },
          "execution_count": 2,
          "metadata": {},
          "output_type": "execute_result"
        }
      ],
      "source": [
        "books = pd.DataFrame({'Author' : ['J. R. R. Tolkien',\n",
        "                                  'George R. R. Martin',\n",
        "                                  'J. K. Rowling', \n",
        "                                  'Suzanne Collins']},\n",
        "                     index = ['The Lord of the Rings',\n",
        "                              'Game of Thrones',\n",
        "                              'Harry Potter',\n",
        "                              'The Hunger Games'])\n",
        "books"
      ]
    },
    {
      "cell_type": "code",
      "execution_count": null,
      "metadata": {
        "cell_style": "split",
        "id": "f7lPTxdDB0LJ",
        "outputId": "f7012862-626c-4185-c5b0-91b071836bb5"
      },
      "outputs": [
        {
          "data": {
            "text/html": [
              "<div>\n",
              "<style scoped>\n",
              "    .dataframe tbody tr th:only-of-type {\n",
              "        vertical-align: middle;\n",
              "    }\n",
              "\n",
              "    .dataframe tbody tr th {\n",
              "        vertical-align: top;\n",
              "    }\n",
              "\n",
              "    .dataframe thead th {\n",
              "        text-align: right;\n",
              "    }\n",
              "</style>\n",
              "<table border=\"1\" class=\"dataframe\">\n",
              "  <thead>\n",
              "    <tr style=\"text-align: right;\">\n",
              "      <th></th>\n",
              "      <th>Year of First Film</th>\n",
              "      <th>Number of Films</th>\n",
              "    </tr>\n",
              "  </thead>\n",
              "  <tbody>\n",
              "    <tr>\n",
              "      <th>The Matrix</th>\n",
              "      <td>1999</td>\n",
              "      <td>3</td>\n",
              "    </tr>\n",
              "    <tr>\n",
              "      <th>The Lord of the Rings</th>\n",
              "      <td>2001</td>\n",
              "      <td>2</td>\n",
              "    </tr>\n",
              "    <tr>\n",
              "      <th>Harry Potter</th>\n",
              "      <td>2001</td>\n",
              "      <td>8</td>\n",
              "    </tr>\n",
              "    <tr>\n",
              "      <th>The Hunger Games</th>\n",
              "      <td>2012</td>\n",
              "      <td>4</td>\n",
              "    </tr>\n",
              "  </tbody>\n",
              "</table>\n",
              "</div>"
            ],
            "text/plain": [
              "                       Year of First Film  Number of Films\n",
              "The Matrix                           1999                3\n",
              "The Lord of the Rings                2001                2\n",
              "Harry Potter                         2001                8\n",
              "The Hunger Games                     2012                4"
            ]
          },
          "execution_count": 3,
          "metadata": {},
          "output_type": "execute_result"
        }
      ],
      "source": [
        "films = pd.DataFrame({'Year of First Film' : [1999, 2001, 2001, 2012],\n",
        "                      'Number of Films' : [3, 2, 8, 4]},\n",
        "                     index = ['The Matrix',\n",
        "                              'The Lord of the Rings',\n",
        "                              'Harry Potter',\n",
        "                              'The Hunger Games'])\n",
        "\n",
        "\n",
        "films"
      ]
    },
    {
      "cell_type": "markdown",
      "metadata": {
        "id": "q161Du9PB0LL"
      },
      "source": [
        "The `.join` operation is used to join the columns of two different data sets based on matching index"
      ]
    },
    {
      "cell_type": "code",
      "execution_count": null,
      "metadata": {
        "id": "1CrhF2MMB0LL",
        "outputId": "1a20436e-ab3e-4e3a-cdfa-1149d477ce9f"
      },
      "outputs": [
        {
          "data": {
            "text/html": [
              "<div>\n",
              "<style scoped>\n",
              "    .dataframe tbody tr th:only-of-type {\n",
              "        vertical-align: middle;\n",
              "    }\n",
              "\n",
              "    .dataframe tbody tr th {\n",
              "        vertical-align: top;\n",
              "    }\n",
              "\n",
              "    .dataframe thead th {\n",
              "        text-align: right;\n",
              "    }\n",
              "</style>\n",
              "<table border=\"1\" class=\"dataframe\">\n",
              "  <thead>\n",
              "    <tr style=\"text-align: right;\">\n",
              "      <th></th>\n",
              "      <th>Author</th>\n",
              "      <th>Year of First Film</th>\n",
              "      <th>Number of Films</th>\n",
              "    </tr>\n",
              "  </thead>\n",
              "  <tbody>\n",
              "    <tr>\n",
              "      <th>The Lord of the Rings</th>\n",
              "      <td>J. R. R. Tolkien</td>\n",
              "      <td>2001.0</td>\n",
              "      <td>2.0</td>\n",
              "    </tr>\n",
              "    <tr>\n",
              "      <th>Game of Thrones</th>\n",
              "      <td>George R. R. Martin</td>\n",
              "      <td>NaN</td>\n",
              "      <td>NaN</td>\n",
              "    </tr>\n",
              "    <tr>\n",
              "      <th>Harry Potter</th>\n",
              "      <td>J. K. Rowling</td>\n",
              "      <td>2001.0</td>\n",
              "      <td>8.0</td>\n",
              "    </tr>\n",
              "    <tr>\n",
              "      <th>The Hunger Games</th>\n",
              "      <td>Suzanne Collins</td>\n",
              "      <td>2012.0</td>\n",
              "      <td>4.0</td>\n",
              "    </tr>\n",
              "  </tbody>\n",
              "</table>\n",
              "</div>"
            ],
            "text/plain": [
              "                                    Author  Year of First Film  \\\n",
              "The Lord of the Rings     J. R. R. Tolkien              2001.0   \n",
              "Game of Thrones        George R. R. Martin                 NaN   \n",
              "Harry Potter                 J. K. Rowling              2001.0   \n",
              "The Hunger Games           Suzanne Collins              2012.0   \n",
              "\n",
              "                       Number of Films  \n",
              "The Lord of the Rings              2.0  \n",
              "Game of Thrones                    NaN  \n",
              "Harry Potter                       8.0  \n",
              "The Hunger Games                   4.0  "
            ]
          },
          "execution_count": 4,
          "metadata": {},
          "output_type": "execute_result"
        }
      ],
      "source": [
        "books.join(films)"
      ]
    },
    {
      "cell_type": "markdown",
      "metadata": {
        "id": "wbFZVTCRB0LM"
      },
      "source": [
        "## Types of Join"
      ]
    },
    {
      "cell_type": "markdown",
      "metadata": {
        "id": "U3cyZXloB0LN"
      },
      "source": [
        "In the previous example, the `books` data set is the *'left'* dataset and `films` is the *'right'* dataset"
      ]
    },
    {
      "cell_type": "markdown",
      "metadata": {
        "id": "mtRqlmHuB0LO"
      },
      "source": [
        "A left join keeps all of the data from the *'left'* data set and adds in the applicable data from the *'right'* data set where the keys match up"
      ]
    },
    {
      "cell_type": "markdown",
      "metadata": {
        "id": "HjQEKaTPB0LP"
      },
      "source": [
        "If there is no film, the cells are populated with `NaN` (e.g. Game of Thrones)"
      ]
    },
    {
      "cell_type": "markdown",
      "metadata": {
        "id": "Dj_c-GH9B0LP"
      },
      "source": [
        "The above operations is equivalent to\n",
        "\n",
        "    books.join(films, how='left')"
      ]
    },
    {
      "cell_type": "markdown",
      "metadata": {
        "id": "azF8DEu-B0LQ"
      },
      "source": [
        "We can also do a right join. This keeps all of the films, adding the book data where applicable. If there is no book, the cells are populated with `NaN`."
      ]
    },
    {
      "cell_type": "code",
      "execution_count": null,
      "metadata": {
        "id": "aRi13MFtB0LR",
        "outputId": "6c5afd1c-d036-4ef0-d232-7447feeb695f"
      },
      "outputs": [
        {
          "data": {
            "text/html": [
              "<div>\n",
              "<style scoped>\n",
              "    .dataframe tbody tr th:only-of-type {\n",
              "        vertical-align: middle;\n",
              "    }\n",
              "\n",
              "    .dataframe tbody tr th {\n",
              "        vertical-align: top;\n",
              "    }\n",
              "\n",
              "    .dataframe thead th {\n",
              "        text-align: right;\n",
              "    }\n",
              "</style>\n",
              "<table border=\"1\" class=\"dataframe\">\n",
              "  <thead>\n",
              "    <tr style=\"text-align: right;\">\n",
              "      <th></th>\n",
              "      <th>Author</th>\n",
              "      <th>Year of First Film</th>\n",
              "      <th>Number of Films</th>\n",
              "    </tr>\n",
              "  </thead>\n",
              "  <tbody>\n",
              "    <tr>\n",
              "      <th>The Matrix</th>\n",
              "      <td>NaN</td>\n",
              "      <td>1999</td>\n",
              "      <td>3</td>\n",
              "    </tr>\n",
              "    <tr>\n",
              "      <th>The Lord of the Rings</th>\n",
              "      <td>J. R. R. Tolkien</td>\n",
              "      <td>2001</td>\n",
              "      <td>2</td>\n",
              "    </tr>\n",
              "    <tr>\n",
              "      <th>Harry Potter</th>\n",
              "      <td>J. K. Rowling</td>\n",
              "      <td>2001</td>\n",
              "      <td>8</td>\n",
              "    </tr>\n",
              "    <tr>\n",
              "      <th>The Hunger Games</th>\n",
              "      <td>Suzanne Collins</td>\n",
              "      <td>2012</td>\n",
              "      <td>4</td>\n",
              "    </tr>\n",
              "  </tbody>\n",
              "</table>\n",
              "</div>"
            ],
            "text/plain": [
              "                                 Author  Year of First Film  Number of Films\n",
              "The Matrix                          NaN                1999                3\n",
              "The Lord of the Rings  J. R. R. Tolkien                2001                2\n",
              "Harry Potter              J. K. Rowling                2001                8\n",
              "The Hunger Games        Suzanne Collins                2012                4"
            ]
          },
          "execution_count": 5,
          "metadata": {},
          "output_type": "execute_result"
        }
      ],
      "source": [
        "books.join(films, how='right')"
      ]
    },
    {
      "cell_type": "markdown",
      "metadata": {
        "id": "Y9jSb9hvB0LS"
      },
      "source": [
        "This is almost equivalent to `films.join(books)` (or `films.join(books, how='left')`), with the exception of the order in which the columns appear"
      ]
    },
    {
      "cell_type": "markdown",
      "metadata": {
        "id": "dlFlzHiIB0LS"
      },
      "source": [
        "If we want to keep all of the data (book **OR** film), we can use an outer join"
      ]
    },
    {
      "cell_type": "code",
      "execution_count": null,
      "metadata": {
        "id": "QdovBzE0B0LT",
        "outputId": "9987e2f8-c285-46ea-d0f9-5e4f0be92132"
      },
      "outputs": [
        {
          "data": {
            "text/html": [
              "<div>\n",
              "<style scoped>\n",
              "    .dataframe tbody tr th:only-of-type {\n",
              "        vertical-align: middle;\n",
              "    }\n",
              "\n",
              "    .dataframe tbody tr th {\n",
              "        vertical-align: top;\n",
              "    }\n",
              "\n",
              "    .dataframe thead th {\n",
              "        text-align: right;\n",
              "    }\n",
              "</style>\n",
              "<table border=\"1\" class=\"dataframe\">\n",
              "  <thead>\n",
              "    <tr style=\"text-align: right;\">\n",
              "      <th></th>\n",
              "      <th>Year of First Film</th>\n",
              "      <th>Number of Films</th>\n",
              "      <th>Author</th>\n",
              "    </tr>\n",
              "  </thead>\n",
              "  <tbody>\n",
              "    <tr>\n",
              "      <th>Game of Thrones</th>\n",
              "      <td>NaN</td>\n",
              "      <td>NaN</td>\n",
              "      <td>George R. R. Martin</td>\n",
              "    </tr>\n",
              "    <tr>\n",
              "      <th>Harry Potter</th>\n",
              "      <td>2001.0</td>\n",
              "      <td>8.0</td>\n",
              "      <td>J. K. Rowling</td>\n",
              "    </tr>\n",
              "    <tr>\n",
              "      <th>The Hunger Games</th>\n",
              "      <td>2012.0</td>\n",
              "      <td>4.0</td>\n",
              "      <td>Suzanne Collins</td>\n",
              "    </tr>\n",
              "    <tr>\n",
              "      <th>The Lord of the Rings</th>\n",
              "      <td>2001.0</td>\n",
              "      <td>2.0</td>\n",
              "      <td>J. R. R. Tolkien</td>\n",
              "    </tr>\n",
              "    <tr>\n",
              "      <th>The Matrix</th>\n",
              "      <td>1999.0</td>\n",
              "      <td>3.0</td>\n",
              "      <td>NaN</td>\n",
              "    </tr>\n",
              "  </tbody>\n",
              "</table>\n",
              "</div>"
            ],
            "text/plain": [
              "                       Year of First Film  Number of Films  \\\n",
              "Game of Thrones                       NaN              NaN   \n",
              "Harry Potter                       2001.0              8.0   \n",
              "The Hunger Games                   2012.0              4.0   \n",
              "The Lord of the Rings              2001.0              2.0   \n",
              "The Matrix                         1999.0              3.0   \n",
              "\n",
              "                                    Author  \n",
              "Game of Thrones        George R. R. Martin  \n",
              "Harry Potter                 J. K. Rowling  \n",
              "The Hunger Games           Suzanne Collins  \n",
              "The Lord of the Rings     J. R. R. Tolkien  \n",
              "The Matrix                             NaN  "
            ]
          },
          "execution_count": 6,
          "metadata": {},
          "output_type": "execute_result"
        }
      ],
      "source": [
        "films.join(books, how='outer')"
      ]
    },
    {
      "cell_type": "markdown",
      "metadata": {
        "id": "sS0NqYHZB0LT"
      },
      "source": [
        "And if we only want to keep the data (book **AND** film), we can use an inner join"
      ]
    },
    {
      "cell_type": "code",
      "execution_count": null,
      "metadata": {
        "id": "m_sMQnV9B0LU",
        "outputId": "a9c8bd96-3db6-4ba8-a201-a42163401b69"
      },
      "outputs": [
        {
          "data": {
            "text/html": [
              "<div>\n",
              "<style scoped>\n",
              "    .dataframe tbody tr th:only-of-type {\n",
              "        vertical-align: middle;\n",
              "    }\n",
              "\n",
              "    .dataframe tbody tr th {\n",
              "        vertical-align: top;\n",
              "    }\n",
              "\n",
              "    .dataframe thead th {\n",
              "        text-align: right;\n",
              "    }\n",
              "</style>\n",
              "<table border=\"1\" class=\"dataframe\">\n",
              "  <thead>\n",
              "    <tr style=\"text-align: right;\">\n",
              "      <th></th>\n",
              "      <th>Year of First Film</th>\n",
              "      <th>Number of Films</th>\n",
              "      <th>Author</th>\n",
              "    </tr>\n",
              "  </thead>\n",
              "  <tbody>\n",
              "    <tr>\n",
              "      <th>The Lord of the Rings</th>\n",
              "      <td>2001</td>\n",
              "      <td>2</td>\n",
              "      <td>J. R. R. Tolkien</td>\n",
              "    </tr>\n",
              "    <tr>\n",
              "      <th>Harry Potter</th>\n",
              "      <td>2001</td>\n",
              "      <td>8</td>\n",
              "      <td>J. K. Rowling</td>\n",
              "    </tr>\n",
              "    <tr>\n",
              "      <th>The Hunger Games</th>\n",
              "      <td>2012</td>\n",
              "      <td>4</td>\n",
              "      <td>Suzanne Collins</td>\n",
              "    </tr>\n",
              "  </tbody>\n",
              "</table>\n",
              "</div>"
            ],
            "text/plain": [
              "                       Year of First Film  Number of Films            Author\n",
              "The Lord of the Rings                2001                2  J. R. R. Tolkien\n",
              "Harry Potter                         2001                8     J. K. Rowling\n",
              "The Hunger Games                     2012                4   Suzanne Collins"
            ]
          },
          "execution_count": 7,
          "metadata": {},
          "output_type": "execute_result"
        }
      ],
      "source": [
        "films.join(books, how='inner')"
      ]
    },
    {
      "cell_type": "markdown",
      "metadata": {
        "id": "64T8K6qeB0LU"
      },
      "source": [
        "You should choose the join type based on what your resulting data table is intended to describe"
      ]
    },
    {
      "cell_type": "markdown",
      "metadata": {
        "id": "qZhMaMiBB0LU"
      },
      "source": [
        "For instance, the inner join gave us a table of films based on books"
      ]
    },
    {
      "cell_type": "markdown",
      "metadata": {
        "id": "OPP85M8wB0LU"
      },
      "source": [
        "Contrarily, the left join gave us a list of books with additional information on the film (if any)"
      ]
    },
    {
      "cell_type": "markdown",
      "metadata": {
        "id": "ihCNT66gB0LV"
      },
      "source": [
        "Once again, remember that `.join` is not modifying the dataframe, so if you want to save the result, assign it to either the same or a different variable with an appropriate name\n",
        "\n",
        "    films = films.join(books, how='left')\n",
        "\n",
        "    books = films.join(books, how='right')\n",
        "    \n",
        "    films_based_on_books = films.join(books, how='inner')\n",
        "    \n",
        "    favourite_series = films.join(books, how='outer')"
      ]
    },
    {
      "cell_type": "markdown",
      "metadata": {
        "id": "So7I7ZiOB0LV"
      },
      "source": [
        "This table may be used as a reminder of the difference between the joins"
      ]
    },
    {
      "cell_type": "markdown",
      "metadata": {
        "id": "z-zref31B0LV"
      },
      "source": [
        "\n",
        "| Type of Join   | Keeps Rows of Left Data | Keeps Rows of Right Data |\n",
        "| :------------- | ----------------------: | -----------------------: |\n",
        "| left (default) | yes                     | only if matching left    |\n",
        "| right          | only if matching right  | yes                      |\n",
        "| outer          | yes                     | yes                      |\n",
        "| inner          | only if matching right  | only if matching left    |"
      ]
    },
    {
      "cell_type": "markdown",
      "metadata": {
        "id": "5ZjLfRNgB0LW"
      },
      "source": [
        "## Joining Different Columns"
      ]
    },
    {
      "cell_type": "markdown",
      "metadata": {
        "id": "UIHjNjRdB0LX"
      },
      "source": [
        "`.join` joins by comparing indexes of each dataframe"
      ]
    },
    {
      "cell_type": "markdown",
      "metadata": {
        "id": "4FaK6O-CB0LX"
      },
      "source": [
        "Sometimes the key column(s) is not the index (particularly if you are using default indexing)"
      ]
    },
    {
      "cell_type": "markdown",
      "metadata": {
        "id": "L8ZNU-tOB0LX"
      },
      "source": [
        "If you need to join based on columns other than the index, you should use `merge`"
      ]
    },
    {
      "cell_type": "markdown",
      "metadata": {
        "id": "lrijcGFiB0LX"
      },
      "source": [
        "For example, it is possible that we would encounter data with default indexes as follows:"
      ]
    },
    {
      "cell_type": "code",
      "execution_count": null,
      "metadata": {
        "cell_style": "split",
        "id": "E56kBh1dB0LY",
        "outputId": "f8fa5650-e248-4245-d945-9c29f52e30a3"
      },
      "outputs": [
        {
          "data": {
            "text/html": [
              "<div>\n",
              "<style scoped>\n",
              "    .dataframe tbody tr th:only-of-type {\n",
              "        vertical-align: middle;\n",
              "    }\n",
              "\n",
              "    .dataframe tbody tr th {\n",
              "        vertical-align: top;\n",
              "    }\n",
              "\n",
              "    .dataframe thead th {\n",
              "        text-align: right;\n",
              "    }\n",
              "</style>\n",
              "<table border=\"1\" class=\"dataframe\">\n",
              "  <thead>\n",
              "    <tr style=\"text-align: right;\">\n",
              "      <th></th>\n",
              "      <th>Book Series Title</th>\n",
              "      <th>Author</th>\n",
              "    </tr>\n",
              "  </thead>\n",
              "  <tbody>\n",
              "    <tr>\n",
              "      <th>0</th>\n",
              "      <td>The Lord of the Rings</td>\n",
              "      <td>J. R. R. Tolkien</td>\n",
              "    </tr>\n",
              "    <tr>\n",
              "      <th>1</th>\n",
              "      <td>Game of Thrones</td>\n",
              "      <td>George R. R. Martin</td>\n",
              "    </tr>\n",
              "    <tr>\n",
              "      <th>2</th>\n",
              "      <td>Harry Potter</td>\n",
              "      <td>J. K. Rowling</td>\n",
              "    </tr>\n",
              "    <tr>\n",
              "      <th>3</th>\n",
              "      <td>The Hunger Games</td>\n",
              "      <td>Suzanne Collins</td>\n",
              "    </tr>\n",
              "  </tbody>\n",
              "</table>\n",
              "</div>"
            ],
            "text/plain": [
              "       Book Series Title               Author\n",
              "0  The Lord of the Rings     J. R. R. Tolkien\n",
              "1        Game of Thrones  George R. R. Martin\n",
              "2           Harry Potter        J. K. Rowling\n",
              "3       The Hunger Games      Suzanne Collins"
            ]
          },
          "execution_count": 8,
          "metadata": {},
          "output_type": "execute_result"
        }
      ],
      "source": [
        "books = books.reset_index()\n",
        "books = books.rename(columns={'index' : 'Book Series Title'})\n",
        "books"
      ]
    },
    {
      "cell_type": "code",
      "execution_count": null,
      "metadata": {
        "cell_style": "split",
        "id": "Hww6X_8lB0LY",
        "outputId": "6327691b-ebe3-4661-962d-3fef071599e5"
      },
      "outputs": [
        {
          "data": {
            "text/html": [
              "<div>\n",
              "<style scoped>\n",
              "    .dataframe tbody tr th:only-of-type {\n",
              "        vertical-align: middle;\n",
              "    }\n",
              "\n",
              "    .dataframe tbody tr th {\n",
              "        vertical-align: top;\n",
              "    }\n",
              "\n",
              "    .dataframe thead th {\n",
              "        text-align: right;\n",
              "    }\n",
              "</style>\n",
              "<table border=\"1\" class=\"dataframe\">\n",
              "  <thead>\n",
              "    <tr style=\"text-align: right;\">\n",
              "      <th></th>\n",
              "      <th>Film Series Title</th>\n",
              "      <th>Year of First Film</th>\n",
              "      <th>Number of Films</th>\n",
              "    </tr>\n",
              "  </thead>\n",
              "  <tbody>\n",
              "    <tr>\n",
              "      <th>0</th>\n",
              "      <td>The Matrix</td>\n",
              "      <td>1999</td>\n",
              "      <td>3</td>\n",
              "    </tr>\n",
              "    <tr>\n",
              "      <th>1</th>\n",
              "      <td>The Lord of the Rings</td>\n",
              "      <td>2001</td>\n",
              "      <td>2</td>\n",
              "    </tr>\n",
              "    <tr>\n",
              "      <th>2</th>\n",
              "      <td>Harry Potter</td>\n",
              "      <td>2001</td>\n",
              "      <td>8</td>\n",
              "    </tr>\n",
              "    <tr>\n",
              "      <th>3</th>\n",
              "      <td>The Hunger Games</td>\n",
              "      <td>2012</td>\n",
              "      <td>4</td>\n",
              "    </tr>\n",
              "  </tbody>\n",
              "</table>\n",
              "</div>"
            ],
            "text/plain": [
              "       Film Series Title  Year of First Film  Number of Films\n",
              "0             The Matrix                1999                3\n",
              "1  The Lord of the Rings                2001                2\n",
              "2           Harry Potter                2001                8\n",
              "3       The Hunger Games                2012                4"
            ]
          },
          "execution_count": 9,
          "metadata": {},
          "output_type": "execute_result"
        }
      ],
      "source": [
        "films = films.reset_index()\n",
        "films = films.rename(columns={'index' : 'Film Series Title'})\n",
        "films"
      ]
    },
    {
      "cell_type": "markdown",
      "metadata": {
        "id": "m9PLwSn-B0LZ"
      },
      "source": [
        "If we join on the index, the result is nonsense!"
      ]
    },
    {
      "cell_type": "code",
      "execution_count": null,
      "metadata": {
        "id": "JyTOpz39B0LZ",
        "outputId": "d0ae84e4-a51c-458d-ce8f-6143ee246983"
      },
      "outputs": [
        {
          "data": {
            "text/html": [
              "<div>\n",
              "<style scoped>\n",
              "    .dataframe tbody tr th:only-of-type {\n",
              "        vertical-align: middle;\n",
              "    }\n",
              "\n",
              "    .dataframe tbody tr th {\n",
              "        vertical-align: top;\n",
              "    }\n",
              "\n",
              "    .dataframe thead th {\n",
              "        text-align: right;\n",
              "    }\n",
              "</style>\n",
              "<table border=\"1\" class=\"dataframe\">\n",
              "  <thead>\n",
              "    <tr style=\"text-align: right;\">\n",
              "      <th></th>\n",
              "      <th>Book Series Title</th>\n",
              "      <th>Author</th>\n",
              "      <th>Film Series Title</th>\n",
              "      <th>Year of First Film</th>\n",
              "      <th>Number of Films</th>\n",
              "    </tr>\n",
              "  </thead>\n",
              "  <tbody>\n",
              "    <tr>\n",
              "      <th>0</th>\n",
              "      <td>The Lord of the Rings</td>\n",
              "      <td>J. R. R. Tolkien</td>\n",
              "      <td>The Matrix</td>\n",
              "      <td>1999</td>\n",
              "      <td>3</td>\n",
              "    </tr>\n",
              "    <tr>\n",
              "      <th>1</th>\n",
              "      <td>Game of Thrones</td>\n",
              "      <td>George R. R. Martin</td>\n",
              "      <td>The Lord of the Rings</td>\n",
              "      <td>2001</td>\n",
              "      <td>2</td>\n",
              "    </tr>\n",
              "    <tr>\n",
              "      <th>2</th>\n",
              "      <td>Harry Potter</td>\n",
              "      <td>J. K. Rowling</td>\n",
              "      <td>Harry Potter</td>\n",
              "      <td>2001</td>\n",
              "      <td>8</td>\n",
              "    </tr>\n",
              "    <tr>\n",
              "      <th>3</th>\n",
              "      <td>The Hunger Games</td>\n",
              "      <td>Suzanne Collins</td>\n",
              "      <td>The Hunger Games</td>\n",
              "      <td>2012</td>\n",
              "      <td>4</td>\n",
              "    </tr>\n",
              "  </tbody>\n",
              "</table>\n",
              "</div>"
            ],
            "text/plain": [
              "       Book Series Title               Author      Film Series Title  \\\n",
              "0  The Lord of the Rings     J. R. R. Tolkien             The Matrix   \n",
              "1        Game of Thrones  George R. R. Martin  The Lord of the Rings   \n",
              "2           Harry Potter        J. K. Rowling           Harry Potter   \n",
              "3       The Hunger Games      Suzanne Collins       The Hunger Games   \n",
              "\n",
              "   Year of First Film  Number of Films  \n",
              "0                1999                3  \n",
              "1                2001                2  \n",
              "2                2001                8  \n",
              "3                2012                4  "
            ]
          },
          "execution_count": 10,
          "metadata": {},
          "output_type": "execute_result"
        }
      ],
      "source": [
        "books.join(films) # WRONG"
      ]
    },
    {
      "cell_type": "markdown",
      "metadata": {
        "id": "SS-T5SnFB0La"
      },
      "source": [
        "We could change the `Book Series Title` and `Film Series Title` to indexes and join with `.join`"
      ]
    },
    {
      "cell_type": "markdown",
      "metadata": {
        "id": "PGYDb8vnB0La"
      },
      "source": [
        "Or we can use `.merge`, in which left, right, outer, and inner joins work the same way"
      ]
    },
    {
      "cell_type": "markdown",
      "metadata": {
        "id": "EGcpN2HBB0La"
      },
      "source": [
        "However, it is not the index we are comparing, it is the column specified with `left_on=` and `right_on=`"
      ]
    },
    {
      "cell_type": "code",
      "execution_count": null,
      "metadata": {
        "id": "DyFUibIEB0La",
        "outputId": "9fc644cf-0ed7-4a13-9e37-60988b05fa40"
      },
      "outputs": [
        {
          "data": {
            "text/html": [
              "<div>\n",
              "<style scoped>\n",
              "    .dataframe tbody tr th:only-of-type {\n",
              "        vertical-align: middle;\n",
              "    }\n",
              "\n",
              "    .dataframe tbody tr th {\n",
              "        vertical-align: top;\n",
              "    }\n",
              "\n",
              "    .dataframe thead th {\n",
              "        text-align: right;\n",
              "    }\n",
              "</style>\n",
              "<table border=\"1\" class=\"dataframe\">\n",
              "  <thead>\n",
              "    <tr style=\"text-align: right;\">\n",
              "      <th></th>\n",
              "      <th>Book Series Title</th>\n",
              "      <th>Author</th>\n",
              "      <th>Film Series Title</th>\n",
              "      <th>Year of First Film</th>\n",
              "      <th>Number of Films</th>\n",
              "    </tr>\n",
              "  </thead>\n",
              "  <tbody>\n",
              "    <tr>\n",
              "      <th>0</th>\n",
              "      <td>The Lord of the Rings</td>\n",
              "      <td>J. R. R. Tolkien</td>\n",
              "      <td>The Lord of the Rings</td>\n",
              "      <td>2001</td>\n",
              "      <td>2</td>\n",
              "    </tr>\n",
              "    <tr>\n",
              "      <th>1</th>\n",
              "      <td>Harry Potter</td>\n",
              "      <td>J. K. Rowling</td>\n",
              "      <td>Harry Potter</td>\n",
              "      <td>2001</td>\n",
              "      <td>8</td>\n",
              "    </tr>\n",
              "    <tr>\n",
              "      <th>2</th>\n",
              "      <td>The Hunger Games</td>\n",
              "      <td>Suzanne Collins</td>\n",
              "      <td>The Hunger Games</td>\n",
              "      <td>2012</td>\n",
              "      <td>4</td>\n",
              "    </tr>\n",
              "  </tbody>\n",
              "</table>\n",
              "</div>"
            ],
            "text/plain": [
              "       Book Series Title            Author      Film Series Title  \\\n",
              "0  The Lord of the Rings  J. R. R. Tolkien  The Lord of the Rings   \n",
              "1           Harry Potter     J. K. Rowling           Harry Potter   \n",
              "2       The Hunger Games   Suzanne Collins       The Hunger Games   \n",
              "\n",
              "   Year of First Film  Number of Films  \n",
              "0                2001                2  \n",
              "1                2001                8  \n",
              "2                2012                4  "
            ]
          },
          "execution_count": 11,
          "metadata": {},
          "output_type": "execute_result"
        }
      ],
      "source": [
        "books.merge(films,\n",
        "            how='inner',\n",
        "            left_on='Book Series Title',\n",
        "            right_on='Film Series Title')"
      ]
    },
    {
      "cell_type": "markdown",
      "metadata": {
        "id": "aFkWqox_B0Lb"
      },
      "source": [
        "You can use `on` instead of `left_on` & `right_on` as long as both columns have the same name!"
      ]
    },
    {
      "cell_type": "markdown",
      "metadata": {
        "id": "dOS15fYEB0Lb"
      },
      "source": [
        "## Data Aggregation"
      ]
    },
    {
      "cell_type": "markdown",
      "metadata": {
        "id": "3rPoZ2G-B0Lb"
      },
      "source": [
        "Before continuing, we will reset the index of the books"
      ]
    },
    {
      "cell_type": "code",
      "execution_count": null,
      "metadata": {
        "id": "iRMfNjwUB0Lc",
        "outputId": "035e40f7-1bed-4d6c-dccb-e3cd97b36f07"
      },
      "outputs": [
        {
          "data": {
            "text/html": [
              "<div>\n",
              "<style scoped>\n",
              "    .dataframe tbody tr th:only-of-type {\n",
              "        vertical-align: middle;\n",
              "    }\n",
              "\n",
              "    .dataframe tbody tr th {\n",
              "        vertical-align: top;\n",
              "    }\n",
              "\n",
              "    .dataframe thead th {\n",
              "        text-align: right;\n",
              "    }\n",
              "</style>\n",
              "<table border=\"1\" class=\"dataframe\">\n",
              "  <thead>\n",
              "    <tr style=\"text-align: right;\">\n",
              "      <th></th>\n",
              "      <th>Author</th>\n",
              "    </tr>\n",
              "    <tr>\n",
              "      <th>Book Series Title</th>\n",
              "      <th></th>\n",
              "    </tr>\n",
              "  </thead>\n",
              "  <tbody>\n",
              "    <tr>\n",
              "      <th>The Lord of the Rings</th>\n",
              "      <td>J. R. R. Tolkien</td>\n",
              "    </tr>\n",
              "    <tr>\n",
              "      <th>Game of Thrones</th>\n",
              "      <td>George R. R. Martin</td>\n",
              "    </tr>\n",
              "    <tr>\n",
              "      <th>Harry Potter</th>\n",
              "      <td>J. K. Rowling</td>\n",
              "    </tr>\n",
              "    <tr>\n",
              "      <th>The Hunger Games</th>\n",
              "      <td>Suzanne Collins</td>\n",
              "    </tr>\n",
              "  </tbody>\n",
              "</table>\n",
              "</div>"
            ],
            "text/plain": [
              "                                    Author\n",
              "Book Series Title                         \n",
              "The Lord of the Rings     J. R. R. Tolkien\n",
              "Game of Thrones        George R. R. Martin\n",
              "Harry Potter                 J. K. Rowling\n",
              "The Hunger Games           Suzanne Collins"
            ]
          },
          "execution_count": 12,
          "metadata": {},
          "output_type": "execute_result"
        }
      ],
      "source": [
        "books = books.set_index('Book Series Title', drop=True)\n",
        "books"
      ]
    },
    {
      "cell_type": "markdown",
      "metadata": {
        "id": "HvrkOIgdB0Ld"
      },
      "source": [
        "Let's import a dataset of a list of books"
      ]
    },
    {
      "cell_type": "code",
      "execution_count": null,
      "metadata": {
        "id": "aDastWeTB0Lf",
        "outputId": "0009b7d9-86f2-46a5-9bf2-881b5526bc98"
      },
      "outputs": [
        {
          "data": {
            "text/html": [
              "<div>\n",
              "<style scoped>\n",
              "    .dataframe tbody tr th:only-of-type {\n",
              "        vertical-align: middle;\n",
              "    }\n",
              "\n",
              "    .dataframe tbody tr th {\n",
              "        vertical-align: top;\n",
              "    }\n",
              "\n",
              "    .dataframe thead th {\n",
              "        text-align: right;\n",
              "    }\n",
              "</style>\n",
              "<table border=\"1\" class=\"dataframe\">\n",
              "  <thead>\n",
              "    <tr style=\"text-align: right;\">\n",
              "      <th></th>\n",
              "      <th>Series</th>\n",
              "      <th>Title</th>\n",
              "      <th>Rating</th>\n",
              "      <th>Year</th>\n",
              "    </tr>\n",
              "  </thead>\n",
              "  <tbody>\n",
              "    <tr>\n",
              "      <th>0</th>\n",
              "      <td>Harry Potter</td>\n",
              "      <td>Harry Potter and the Philosopher's Stone</td>\n",
              "      <td>4.47</td>\n",
              "      <td>1997</td>\n",
              "    </tr>\n",
              "    <tr>\n",
              "      <th>1</th>\n",
              "      <td>Harry Potter</td>\n",
              "      <td>Harry Potter and the Chamber of Secrets</td>\n",
              "      <td>4.42</td>\n",
              "      <td>1998</td>\n",
              "    </tr>\n",
              "    <tr>\n",
              "      <th>2</th>\n",
              "      <td>Harry Potter</td>\n",
              "      <td>Harry Potter and the Prisoner of Azkaban</td>\n",
              "      <td>4.56</td>\n",
              "      <td>1999</td>\n",
              "    </tr>\n",
              "    <tr>\n",
              "      <th>3</th>\n",
              "      <td>Harry Potter</td>\n",
              "      <td>Harry Potter and the Goblet of Fire</td>\n",
              "      <td>4.55</td>\n",
              "      <td>2000</td>\n",
              "    </tr>\n",
              "    <tr>\n",
              "      <th>4</th>\n",
              "      <td>Harry Potter</td>\n",
              "      <td>Harry Potter and the Order of the Phoenix</td>\n",
              "      <td>4.49</td>\n",
              "      <td>2003</td>\n",
              "    </tr>\n",
              "    <tr>\n",
              "      <th>5</th>\n",
              "      <td>Harry Potter</td>\n",
              "      <td>Harry Potter and the Half-Blood Prince</td>\n",
              "      <td>4.57</td>\n",
              "      <td>2005</td>\n",
              "    </tr>\n",
              "    <tr>\n",
              "      <th>6</th>\n",
              "      <td>Harry Potter</td>\n",
              "      <td>Harry Potter and the Deathly Hallows</td>\n",
              "      <td>4.61</td>\n",
              "      <td>2007</td>\n",
              "    </tr>\n",
              "    <tr>\n",
              "      <th>7</th>\n",
              "      <td>The Lord of the Rings</td>\n",
              "      <td>The Fellowship of the Ring</td>\n",
              "      <td>4.36</td>\n",
              "      <td>1954</td>\n",
              "    </tr>\n",
              "    <tr>\n",
              "      <th>8</th>\n",
              "      <td>The Lord of the Rings</td>\n",
              "      <td>The Two Towers</td>\n",
              "      <td>4.44</td>\n",
              "      <td>1954</td>\n",
              "    </tr>\n",
              "    <tr>\n",
              "      <th>9</th>\n",
              "      <td>The Lord of the Rings</td>\n",
              "      <td>The Return of the King</td>\n",
              "      <td>4.53</td>\n",
              "      <td>1955</td>\n",
              "    </tr>\n",
              "    <tr>\n",
              "      <th>10</th>\n",
              "      <td>Game of Thrones</td>\n",
              "      <td>A Game of Thrones</td>\n",
              "      <td>4.45</td>\n",
              "      <td>1996</td>\n",
              "    </tr>\n",
              "    <tr>\n",
              "      <th>11</th>\n",
              "      <td>Game of Thrones</td>\n",
              "      <td>A Clash of Kings</td>\n",
              "      <td>4.41</td>\n",
              "      <td>1998</td>\n",
              "    </tr>\n",
              "    <tr>\n",
              "      <th>12</th>\n",
              "      <td>Game of Thrones</td>\n",
              "      <td>A Storm of Swords</td>\n",
              "      <td>4.54</td>\n",
              "      <td>2000</td>\n",
              "    </tr>\n",
              "    <tr>\n",
              "      <th>13</th>\n",
              "      <td>Game of Thrones</td>\n",
              "      <td>A Feast for Crows</td>\n",
              "      <td>4.13</td>\n",
              "      <td>2005</td>\n",
              "    </tr>\n",
              "    <tr>\n",
              "      <th>14</th>\n",
              "      <td>Game of Thrones</td>\n",
              "      <td>A Dance with Dragons</td>\n",
              "      <td>4.33</td>\n",
              "      <td>2011</td>\n",
              "    </tr>\n",
              "    <tr>\n",
              "      <th>15</th>\n",
              "      <td>The Hunger Games</td>\n",
              "      <td>The Hunger Games</td>\n",
              "      <td>4.33</td>\n",
              "      <td>2008</td>\n",
              "    </tr>\n",
              "    <tr>\n",
              "      <th>16</th>\n",
              "      <td>The Hunger Games</td>\n",
              "      <td>Catching Fire</td>\n",
              "      <td>4.29</td>\n",
              "      <td>2009</td>\n",
              "    </tr>\n",
              "    <tr>\n",
              "      <th>17</th>\n",
              "      <td>The Hunger Games</td>\n",
              "      <td>Mockingjay</td>\n",
              "      <td>4.03</td>\n",
              "      <td>2010</td>\n",
              "    </tr>\n",
              "  </tbody>\n",
              "</table>\n",
              "</div>"
            ],
            "text/plain": [
              "                   Series                                      Title  Rating  \\\n",
              "0            Harry Potter   Harry Potter and the Philosopher's Stone    4.47   \n",
              "1            Harry Potter    Harry Potter and the Chamber of Secrets    4.42   \n",
              "2            Harry Potter   Harry Potter and the Prisoner of Azkaban    4.56   \n",
              "3            Harry Potter        Harry Potter and the Goblet of Fire    4.55   \n",
              "4            Harry Potter  Harry Potter and the Order of the Phoenix    4.49   \n",
              "5            Harry Potter     Harry Potter and the Half-Blood Prince    4.57   \n",
              "6            Harry Potter       Harry Potter and the Deathly Hallows    4.61   \n",
              "7   The Lord of the Rings                 The Fellowship of the Ring    4.36   \n",
              "8   The Lord of the Rings                             The Two Towers    4.44   \n",
              "9   The Lord of the Rings                     The Return of the King    4.53   \n",
              "10        Game of Thrones                          A Game of Thrones    4.45   \n",
              "11        Game of Thrones                           A Clash of Kings    4.41   \n",
              "12        Game of Thrones                          A Storm of Swords    4.54   \n",
              "13        Game of Thrones                          A Feast for Crows    4.13   \n",
              "14        Game of Thrones                       A Dance with Dragons    4.33   \n",
              "15       The Hunger Games                           The Hunger Games    4.33   \n",
              "16       The Hunger Games                              Catching Fire    4.29   \n",
              "17       The Hunger Games                                 Mockingjay    4.03   \n",
              "\n",
              "    Year  \n",
              "0   1997  \n",
              "1   1998  \n",
              "2   1999  \n",
              "3   2000  \n",
              "4   2003  \n",
              "5   2005  \n",
              "6   2007  \n",
              "7   1954  \n",
              "8   1954  \n",
              "9   1955  \n",
              "10  1996  \n",
              "11  1998  \n",
              "12  2000  \n",
              "13  2005  \n",
              "14  2011  \n",
              "15  2008  \n",
              "16  2009  \n",
              "17  2010  "
            ]
          },
          "execution_count": 13,
          "metadata": {},
          "output_type": "execute_result"
        }
      ],
      "source": [
        "volumes = pd.read_csv('https://www.dropbox.com/s/9flqjjvetgbex97/volumes.csv?raw=1')\n",
        "volumes"
      ]
    },
    {
      "cell_type": "markdown",
      "metadata": {
        "id": "g4o1_Y9JB0Lg"
      },
      "source": [
        "We want to summarise by series, the `.groupby` method gives you the name of the column which has the groups"
      ]
    },
    {
      "cell_type": "markdown",
      "metadata": {
        "id": "lp_XoAYOB0Lg"
      },
      "source": [
        "The result is a Python object which we will use for the next step"
      ]
    },
    {
      "cell_type": "code",
      "execution_count": null,
      "metadata": {
        "id": "MwgCezRzB0Lg",
        "outputId": "68f1b282-edda-469b-e1a3-9b30db1334fd"
      },
      "outputs": [
        {
          "data": {
            "text/plain": [
              "<pandas.core.groupby.generic.DataFrameGroupBy object at 0x000001A12EEC6208>"
            ]
          },
          "execution_count": 14,
          "metadata": {},
          "output_type": "execute_result"
        }
      ],
      "source": [
        "groups = volumes.groupby('Series')\n",
        "groups"
      ]
    },
    {
      "cell_type": "markdown",
      "metadata": {
        "id": "Lz59uLvHB0Lh"
      },
      "source": [
        "We will use `count` and `mean` to work out the number of books and the average rating, and use `min` to work out the first publication year."
      ]
    },
    {
      "cell_type": "markdown",
      "metadata": {
        "id": "3CVXDhGHB0Lh"
      },
      "source": [
        "Other operations available include `sum` and `max` (you can check others [here](https://pandas.pydata.org/pandas-docs/stable/reference/api/pandas.DataFrame.groupby.html))"
      ]
    },
    {
      "cell_type": "markdown",
      "metadata": {
        "id": "V8YONpQJB0Lj"
      },
      "source": [
        "Now we have our data summary by groups"
      ]
    },
    {
      "cell_type": "code",
      "execution_count": null,
      "metadata": {
        "id": "u8G4JosbB0Lj",
        "outputId": "c4590883-78c3-4de0-b317-d07119704a5d"
      },
      "outputs": [
        {
          "data": {
            "text/html": [
              "<div>\n",
              "<style scoped>\n",
              "    .dataframe tbody tr th:only-of-type {\n",
              "        vertical-align: middle;\n",
              "    }\n",
              "\n",
              "    .dataframe tbody tr th {\n",
              "        vertical-align: top;\n",
              "    }\n",
              "\n",
              "    .dataframe thead tr th {\n",
              "        text-align: left;\n",
              "    }\n",
              "\n",
              "    .dataframe thead tr:last-of-type th {\n",
              "        text-align: right;\n",
              "    }\n",
              "</style>\n",
              "<table border=\"1\" class=\"dataframe\">\n",
              "  <thead>\n",
              "    <tr>\n",
              "      <th></th>\n",
              "      <th colspan=\"3\" halign=\"left\">Rating</th>\n",
              "      <th colspan=\"3\" halign=\"left\">Year</th>\n",
              "    </tr>\n",
              "    <tr>\n",
              "      <th></th>\n",
              "      <th>min</th>\n",
              "      <th>count</th>\n",
              "      <th>mean</th>\n",
              "      <th>min</th>\n",
              "      <th>count</th>\n",
              "      <th>mean</th>\n",
              "    </tr>\n",
              "    <tr>\n",
              "      <th>Series</th>\n",
              "      <th></th>\n",
              "      <th></th>\n",
              "      <th></th>\n",
              "      <th></th>\n",
              "      <th></th>\n",
              "      <th></th>\n",
              "    </tr>\n",
              "  </thead>\n",
              "  <tbody>\n",
              "    <tr>\n",
              "      <th>Game of Thrones</th>\n",
              "      <td>4.13</td>\n",
              "      <td>5</td>\n",
              "      <td>4.372000</td>\n",
              "      <td>1996</td>\n",
              "      <td>5</td>\n",
              "      <td>2002.000000</td>\n",
              "    </tr>\n",
              "    <tr>\n",
              "      <th>Harry Potter</th>\n",
              "      <td>4.42</td>\n",
              "      <td>7</td>\n",
              "      <td>4.524286</td>\n",
              "      <td>1997</td>\n",
              "      <td>7</td>\n",
              "      <td>2001.285714</td>\n",
              "    </tr>\n",
              "    <tr>\n",
              "      <th>The Hunger Games</th>\n",
              "      <td>4.03</td>\n",
              "      <td>3</td>\n",
              "      <td>4.216667</td>\n",
              "      <td>2008</td>\n",
              "      <td>3</td>\n",
              "      <td>2009.000000</td>\n",
              "    </tr>\n",
              "    <tr>\n",
              "      <th>The Lord of the Rings</th>\n",
              "      <td>4.36</td>\n",
              "      <td>3</td>\n",
              "      <td>4.443333</td>\n",
              "      <td>1954</td>\n",
              "      <td>3</td>\n",
              "      <td>1954.333333</td>\n",
              "    </tr>\n",
              "  </tbody>\n",
              "</table>\n",
              "</div>"
            ],
            "text/plain": [
              "                      Rating                  Year                   \n",
              "                         min count      mean   min count         mean\n",
              "Series                                                               \n",
              "Game of Thrones         4.13     5  4.372000  1996     5  2002.000000\n",
              "Harry Potter            4.42     7  4.524286  1997     7  2001.285714\n",
              "The Hunger Games        4.03     3  4.216667  2008     3  2009.000000\n",
              "The Lord of the Rings   4.36     3  4.443333  1954     3  1954.333333"
            ]
          },
          "execution_count": 15,
          "metadata": {},
          "output_type": "execute_result"
        }
      ],
      "source": [
        "summary = groups.agg({'count', 'mean', 'min'})\n",
        "summary"
      ]
    },
    {
      "cell_type": "markdown",
      "metadata": {
        "id": "Lz8massLB0Lk"
      },
      "source": [
        "## Joining Aggregation Data"
      ]
    },
    {
      "cell_type": "markdown",
      "metadata": {
        "id": "aonefvTdB0Ll"
      },
      "source": [
        "We now have a dataframe with two sub-frames (one for `Rating` and one for `Year`) we can easily separate them"
      ]
    },
    {
      "cell_type": "code",
      "execution_count": null,
      "metadata": {
        "cell_style": "split",
        "id": "k0VUDxcHB0Ll",
        "outputId": "c7fd1088-588d-46c5-cf6b-5ae3f46e3b2a"
      },
      "outputs": [
        {
          "data": {
            "text/html": [
              "<div>\n",
              "<style scoped>\n",
              "    .dataframe tbody tr th:only-of-type {\n",
              "        vertical-align: middle;\n",
              "    }\n",
              "\n",
              "    .dataframe tbody tr th {\n",
              "        vertical-align: top;\n",
              "    }\n",
              "\n",
              "    .dataframe thead th {\n",
              "        text-align: right;\n",
              "    }\n",
              "</style>\n",
              "<table border=\"1\" class=\"dataframe\">\n",
              "  <thead>\n",
              "    <tr style=\"text-align: right;\">\n",
              "      <th></th>\n",
              "      <th>min</th>\n",
              "      <th>count</th>\n",
              "      <th>mean</th>\n",
              "    </tr>\n",
              "    <tr>\n",
              "      <th>Series</th>\n",
              "      <th></th>\n",
              "      <th></th>\n",
              "      <th></th>\n",
              "    </tr>\n",
              "  </thead>\n",
              "  <tbody>\n",
              "    <tr>\n",
              "      <th>Game of Thrones</th>\n",
              "      <td>4.13</td>\n",
              "      <td>5</td>\n",
              "      <td>4.372000</td>\n",
              "    </tr>\n",
              "    <tr>\n",
              "      <th>Harry Potter</th>\n",
              "      <td>4.42</td>\n",
              "      <td>7</td>\n",
              "      <td>4.524286</td>\n",
              "    </tr>\n",
              "    <tr>\n",
              "      <th>The Hunger Games</th>\n",
              "      <td>4.03</td>\n",
              "      <td>3</td>\n",
              "      <td>4.216667</td>\n",
              "    </tr>\n",
              "    <tr>\n",
              "      <th>The Lord of the Rings</th>\n",
              "      <td>4.36</td>\n",
              "      <td>3</td>\n",
              "      <td>4.443333</td>\n",
              "    </tr>\n",
              "  </tbody>\n",
              "</table>\n",
              "</div>"
            ],
            "text/plain": [
              "                        min  count      mean\n",
              "Series                                      \n",
              "Game of Thrones        4.13      5  4.372000\n",
              "Harry Potter           4.42      7  4.524286\n",
              "The Hunger Games       4.03      3  4.216667\n",
              "The Lord of the Rings  4.36      3  4.443333"
            ]
          },
          "execution_count": 16,
          "metadata": {},
          "output_type": "execute_result"
        }
      ],
      "source": [
        "rating_summary = summary['Rating']\n",
        "rating_summary"
      ]
    },
    {
      "cell_type": "code",
      "execution_count": null,
      "metadata": {
        "cell_style": "split",
        "id": "VH_WjTymB0Ln",
        "outputId": "fb7923a6-1257-43d5-d172-be38e699a246"
      },
      "outputs": [
        {
          "data": {
            "text/html": [
              "<div>\n",
              "<style scoped>\n",
              "    .dataframe tbody tr th:only-of-type {\n",
              "        vertical-align: middle;\n",
              "    }\n",
              "\n",
              "    .dataframe tbody tr th {\n",
              "        vertical-align: top;\n",
              "    }\n",
              "\n",
              "    .dataframe thead th {\n",
              "        text-align: right;\n",
              "    }\n",
              "</style>\n",
              "<table border=\"1\" class=\"dataframe\">\n",
              "  <thead>\n",
              "    <tr style=\"text-align: right;\">\n",
              "      <th></th>\n",
              "      <th>min</th>\n",
              "      <th>count</th>\n",
              "      <th>mean</th>\n",
              "    </tr>\n",
              "    <tr>\n",
              "      <th>Series</th>\n",
              "      <th></th>\n",
              "      <th></th>\n",
              "      <th></th>\n",
              "    </tr>\n",
              "  </thead>\n",
              "  <tbody>\n",
              "    <tr>\n",
              "      <th>Game of Thrones</th>\n",
              "      <td>1996</td>\n",
              "      <td>5</td>\n",
              "      <td>2002.000000</td>\n",
              "    </tr>\n",
              "    <tr>\n",
              "      <th>Harry Potter</th>\n",
              "      <td>1997</td>\n",
              "      <td>7</td>\n",
              "      <td>2001.285714</td>\n",
              "    </tr>\n",
              "    <tr>\n",
              "      <th>The Hunger Games</th>\n",
              "      <td>2008</td>\n",
              "      <td>3</td>\n",
              "      <td>2009.000000</td>\n",
              "    </tr>\n",
              "    <tr>\n",
              "      <th>The Lord of the Rings</th>\n",
              "      <td>1954</td>\n",
              "      <td>3</td>\n",
              "      <td>1954.333333</td>\n",
              "    </tr>\n",
              "  </tbody>\n",
              "</table>\n",
              "</div>"
            ],
            "text/plain": [
              "                        min  count         mean\n",
              "Series                                         \n",
              "Game of Thrones        1996      5  2002.000000\n",
              "Harry Potter           1997      7  2001.285714\n",
              "The Hunger Games       2008      3  2009.000000\n",
              "The Lord of the Rings  1954      3  1954.333333"
            ]
          },
          "execution_count": 17,
          "metadata": {},
          "output_type": "execute_result"
        }
      ],
      "source": [
        "year_summary = summary['Year']\n",
        "year_summary"
      ]
    },
    {
      "cell_type": "markdown",
      "metadata": {
        "id": "F3_H5gNvB0Ln"
      },
      "source": [
        "Let's rename the columns for the `Ratings` aggregation, and remove the unneeded `min` column"
      ]
    },
    {
      "cell_type": "code",
      "execution_count": null,
      "metadata": {
        "id": "RrGfOLnEB0Ln",
        "outputId": "1b9f6306-92d8-4436-9589-8c861f839c6f"
      },
      "outputs": [
        {
          "data": {
            "text/html": [
              "<div>\n",
              "<style scoped>\n",
              "    .dataframe tbody tr th:only-of-type {\n",
              "        vertical-align: middle;\n",
              "    }\n",
              "\n",
              "    .dataframe tbody tr th {\n",
              "        vertical-align: top;\n",
              "    }\n",
              "\n",
              "    .dataframe thead th {\n",
              "        text-align: right;\n",
              "    }\n",
              "</style>\n",
              "<table border=\"1\" class=\"dataframe\">\n",
              "  <thead>\n",
              "    <tr style=\"text-align: right;\">\n",
              "      <th></th>\n",
              "      <th>Number of Books</th>\n",
              "      <th>Average Rating</th>\n",
              "    </tr>\n",
              "    <tr>\n",
              "      <th>Series</th>\n",
              "      <th></th>\n",
              "      <th></th>\n",
              "    </tr>\n",
              "  </thead>\n",
              "  <tbody>\n",
              "    <tr>\n",
              "      <th>Game of Thrones</th>\n",
              "      <td>5</td>\n",
              "      <td>4.372000</td>\n",
              "    </tr>\n",
              "    <tr>\n",
              "      <th>Harry Potter</th>\n",
              "      <td>7</td>\n",
              "      <td>4.524286</td>\n",
              "    </tr>\n",
              "    <tr>\n",
              "      <th>The Hunger Games</th>\n",
              "      <td>3</td>\n",
              "      <td>4.216667</td>\n",
              "    </tr>\n",
              "    <tr>\n",
              "      <th>The Lord of the Rings</th>\n",
              "      <td>3</td>\n",
              "      <td>4.443333</td>\n",
              "    </tr>\n",
              "  </tbody>\n",
              "</table>\n",
              "</div>"
            ],
            "text/plain": [
              "                       Number of Books  Average Rating\n",
              "Series                                                \n",
              "Game of Thrones                      5        4.372000\n",
              "Harry Potter                         7        4.524286\n",
              "The Hunger Games                     3        4.216667\n",
              "The Lord of the Rings                3        4.443333"
            ]
          },
          "execution_count": 18,
          "metadata": {},
          "output_type": "execute_result"
        }
      ],
      "source": [
        "rating_summary = summary['Rating'].rename(\n",
        "    columns={'mean' : 'Average Rating',\n",
        "             'count' : 'Number of Books'})\n",
        "rating_summary = rating_summary.drop(columns={'min'})\n",
        "rating_summary"
      ]
    },
    {
      "cell_type": "markdown",
      "metadata": {
        "id": "3dybqofaB0Lo"
      },
      "source": [
        "We may also want to round off the average ratings"
      ]
    },
    {
      "cell_type": "code",
      "execution_count": null,
      "metadata": {
        "id": "Zk2bs5ePB0Lo",
        "outputId": "551487df-4838-489c-cb37-3e310f97c937"
      },
      "outputs": [
        {
          "data": {
            "text/html": [
              "<div>\n",
              "<style scoped>\n",
              "    .dataframe tbody tr th:only-of-type {\n",
              "        vertical-align: middle;\n",
              "    }\n",
              "\n",
              "    .dataframe tbody tr th {\n",
              "        vertical-align: top;\n",
              "    }\n",
              "\n",
              "    .dataframe thead th {\n",
              "        text-align: right;\n",
              "    }\n",
              "</style>\n",
              "<table border=\"1\" class=\"dataframe\">\n",
              "  <thead>\n",
              "    <tr style=\"text-align: right;\">\n",
              "      <th></th>\n",
              "      <th>Number of Books</th>\n",
              "      <th>Average Rating</th>\n",
              "    </tr>\n",
              "    <tr>\n",
              "      <th>Series</th>\n",
              "      <th></th>\n",
              "      <th></th>\n",
              "    </tr>\n",
              "  </thead>\n",
              "  <tbody>\n",
              "    <tr>\n",
              "      <th>Game of Thrones</th>\n",
              "      <td>5</td>\n",
              "      <td>4.37</td>\n",
              "    </tr>\n",
              "    <tr>\n",
              "      <th>Harry Potter</th>\n",
              "      <td>7</td>\n",
              "      <td>4.52</td>\n",
              "    </tr>\n",
              "    <tr>\n",
              "      <th>The Hunger Games</th>\n",
              "      <td>3</td>\n",
              "      <td>4.22</td>\n",
              "    </tr>\n",
              "    <tr>\n",
              "      <th>The Lord of the Rings</th>\n",
              "      <td>3</td>\n",
              "      <td>4.44</td>\n",
              "    </tr>\n",
              "  </tbody>\n",
              "</table>\n",
              "</div>"
            ],
            "text/plain": [
              "                       Number of Books  Average Rating\n",
              "Series                                                \n",
              "Game of Thrones                      5            4.37\n",
              "Harry Potter                         7            4.52\n",
              "The Hunger Games                     3            4.22\n",
              "The Lord of the Rings                3            4.44"
            ]
          },
          "execution_count": 19,
          "metadata": {},
          "output_type": "execute_result"
        }
      ],
      "source": [
        "rating_summary['Average Rating'] = rating_summary['Average Rating'].round(2)\n",
        "rating_summary"
      ]
    },
    {
      "cell_type": "markdown",
      "metadata": {
        "id": "v_uOZPfYB0Lo"
      },
      "source": [
        "Let's also rename the column from the `Year` aggregation and drop the other columns"
      ]
    },
    {
      "cell_type": "code",
      "execution_count": null,
      "metadata": {
        "id": "w70Q5vh5B0Lp",
        "outputId": "88b509b8-9502-43e5-e250-93369c72399c"
      },
      "outputs": [
        {
          "data": {
            "text/html": [
              "<div>\n",
              "<style scoped>\n",
              "    .dataframe tbody tr th:only-of-type {\n",
              "        vertical-align: middle;\n",
              "    }\n",
              "\n",
              "    .dataframe tbody tr th {\n",
              "        vertical-align: top;\n",
              "    }\n",
              "\n",
              "    .dataframe thead th {\n",
              "        text-align: right;\n",
              "    }\n",
              "</style>\n",
              "<table border=\"1\" class=\"dataframe\">\n",
              "  <thead>\n",
              "    <tr style=\"text-align: right;\">\n",
              "      <th></th>\n",
              "      <th>First Published</th>\n",
              "    </tr>\n",
              "    <tr>\n",
              "      <th>Series</th>\n",
              "      <th></th>\n",
              "    </tr>\n",
              "  </thead>\n",
              "  <tbody>\n",
              "    <tr>\n",
              "      <th>Game of Thrones</th>\n",
              "      <td>1996</td>\n",
              "    </tr>\n",
              "    <tr>\n",
              "      <th>Harry Potter</th>\n",
              "      <td>1997</td>\n",
              "    </tr>\n",
              "    <tr>\n",
              "      <th>The Hunger Games</th>\n",
              "      <td>2008</td>\n",
              "    </tr>\n",
              "    <tr>\n",
              "      <th>The Lord of the Rings</th>\n",
              "      <td>1954</td>\n",
              "    </tr>\n",
              "  </tbody>\n",
              "</table>\n",
              "</div>"
            ],
            "text/plain": [
              "                       First Published\n",
              "Series                                \n",
              "Game of Thrones                   1996\n",
              "Harry Potter                      1997\n",
              "The Hunger Games                  2008\n",
              "The Lord of the Rings             1954"
            ]
          },
          "execution_count": 20,
          "metadata": {},
          "output_type": "execute_result"
        }
      ],
      "source": [
        "year_summary = year_summary.rename(columns={'min' : 'First Published'})\n",
        "year_summary = year_summary.drop(columns={'mean', 'count'})\n",
        "year_summary"
      ]
    },
    {
      "cell_type": "markdown",
      "metadata": {
        "id": "oU_iTMRHB0Lp"
      },
      "source": [
        "Now we can join the `books`, `rating_summary` and `year_summary` dataframes"
      ]
    },
    {
      "cell_type": "markdown",
      "metadata": {
        "id": "gkQyk9rPB0Lp"
      },
      "source": [
        "Since all have the same keys we don't need to worry about join type, but this is a left join so will keep everything in the `books` data frame if it didn't match"
      ]
    },
    {
      "cell_type": "code",
      "execution_count": null,
      "metadata": {
        "id": "CFWxu3c5B0Lp"
      },
      "outputs": [],
      "source": [
        "books.join(rating_summary).join(year_summary)"
      ]
    },
    {
      "cell_type": "markdown",
      "metadata": {
        "id": "KyePRmcUB0Lp"
      },
      "source": [
        "## Concatenate"
      ]
    },
    {
      "cell_type": "markdown",
      "metadata": {
        "id": "fSBvDx1YB0Lp"
      },
      "source": [
        "There is another similar function called `concat` which is mostly used to *paste* two tables (although it also has inner/outer options)"
      ]
    },
    {
      "cell_type": "markdown",
      "metadata": {
        "id": "cqlxU2cBB0Lp"
      },
      "source": [
        "You can find more info [here](https://pandas.pydata.org/pandas-docs/stable/reference/api/pandas.concat.html)"
      ]
    },
    {
      "cell_type": "markdown",
      "metadata": {
        "id": "AftBOEM6B0Lq"
      },
      "source": [
        "# Lab"
      ]
    }
  ],
  "metadata": {
    "celltoolbar": "Slideshow",
    "hide_input": false,
    "kernelspec": {
      "display_name": "Python 3",
      "language": "python",
      "name": "python3"
    },
    "language_info": {
      "codemirror_mode": {
        "name": "ipython",
        "version": 3
      },
      "file_extension": ".py",
      "mimetype": "text/x-python",
      "name": "python",
      "nbconvert_exporter": "python",
      "pygments_lexer": "ipython3",
      "version": "3.7.3"
    },
    "rise": {
      "enable_chalkboard": true
    },
    "varInspector": {
      "cols": {
        "lenName": 16,
        "lenType": 16,
        "lenVar": 40
      },
      "kernels_config": {
        "python": {
          "delete_cmd_postfix": "",
          "delete_cmd_prefix": "del ",
          "library": "var_list.py",
          "varRefreshCmd": "print(var_dic_list())"
        },
        "r": {
          "delete_cmd_postfix": ") ",
          "delete_cmd_prefix": "rm(",
          "library": "var_list.r",
          "varRefreshCmd": "cat(var_dic_list()) "
        }
      },
      "types_to_exclude": [
        "module",
        "function",
        "builtin_function_or_method",
        "instance",
        "_Feature"
      ],
      "window_display": false
    },
    "colab": {
      "name": "CMM202_T4_Lec.ipynb",
      "provenance": [],
      "include_colab_link": true
    }
  },
  "nbformat": 4,
  "nbformat_minor": 0
}