{
  "cells": [
    {
      "cell_type": "markdown",
      "metadata": {
        "id": "view-in-github",
        "colab_type": "text"
      },
      "source": [
        "<a href=\"https://colab.research.google.com/github/carlosfmorenog/CMM202/blob/master/CMM202_Topic_8/CMM202_T8_Lab.ipynb\" target=\"_parent\"><img src=\"https://colab.research.google.com/assets/colab-badge.svg\" alt=\"Open In Colab\"/></a>"
      ]
    },
    {
      "cell_type": "markdown",
      "metadata": {
        "id": "WIZypPHBumYT"
      },
      "source": [
        "# CMM202 Topic 8 Lab"
      ]
    },
    {
      "cell_type": "code",
      "execution_count": null,
      "metadata": {
        "id": "bhUc5u_lumYV"
      },
      "outputs": [],
      "source": [
        "# Install required packages\n",
        "!pip install requests\n",
        "!pip install bs4"
      ]
    },
    {
      "cell_type": "code",
      "execution_count": null,
      "metadata": {
        "id": "J-P3QNpAumYY"
      },
      "outputs": [],
      "source": [
        "# Import required packages\n",
        "import pandas as pd\n",
        "import requests\n",
        "from bs4 import BeautifulSoup"
      ]
    },
    {
      "cell_type": "markdown",
      "metadata": {
        "id": "pfuB9b3SumYb"
      },
      "source": [
        "In this exercise, you will scrap data from Wikipedia. More specifically, you will design a code that lets you capture the population of the seven Scottish cities (i.e. the localities in Scotland which are considered \"cities\")"
      ]
    },
    {
      "cell_type": "markdown",
      "metadata": {
        "id": "--jXBwJsumYd"
      },
      "source": [
        "https://en.wikipedia.org/wiki/List_of_towns_and_cities_in_Scotland_by_population"
      ]
    },
    {
      "cell_type": "markdown",
      "metadata": {
        "id": "bc9E9KzAumYe"
      },
      "source": [
        "You will scrap the following Wiki entry, making sure that you only capture data from the cities (i.e. from the entries that have the work City in the `Status` column!)"
      ]
    },
    {
      "cell_type": "markdown",
      "metadata": {
        "id": "PjjTOe1EumYf"
      },
      "source": [
        "First, I recommend you to copy-paste the code from the lecture"
      ]
    },
    {
      "cell_type": "markdown",
      "metadata": {
        "id": "glZA1bnPumYh"
      },
      "source": [
        "When you want to find the table, keep in mind the class of the table! You can do so by specifying it as:\n",
        "\n",
        "    rows = soup.find(\"table\", {\"class\":\"class_of_the_table\"})"
      ]
    },
    {
      "cell_type": "code",
      "execution_count": null,
      "metadata": {
        "id": "8k1gvWEMumYh"
      },
      "outputs": [],
      "source": [
        "# create two lists to put names and populations\n",
        "cities = []\n",
        "population = []\n",
        "# define the url\n",
        "url = \"https://en.wikipedia.org/wiki/List_of_towns_and_cities_in_Scotland_by_population\"\n",
        "# request the url\n",
        "\n",
        "# soup it\n",
        "\n",
        "# get the rows of the table\n",
        "    # if city, then get name and pop\n",
        "\n",
        "print(cities,population)"
      ]
    },
    {
      "cell_type": "markdown",
      "metadata": {
        "id": "qhhnPSVTumYj"
      },
      "source": [
        "In the end, you should have a data frame that looks something like this:"
      ]
    },
    {
      "cell_type": "code",
      "execution_count": null,
      "metadata": {
        "hide_input": true,
        "id": "9uqzsF_VumYk",
        "outputId": "db36a733-53a0-4116-b8f7-30b1b27b2aba"
      },
      "outputs": [
        {
          "data": {
            "text/html": [
              "<div>\n",
              "<style scoped>\n",
              "    .dataframe tbody tr th:only-of-type {\n",
              "        vertical-align: middle;\n",
              "    }\n",
              "\n",
              "    .dataframe tbody tr th {\n",
              "        vertical-align: top;\n",
              "    }\n",
              "\n",
              "    .dataframe thead th {\n",
              "        text-align: right;\n",
              "    }\n",
              "</style>\n",
              "<table border=\"1\" class=\"dataframe\">\n",
              "  <thead>\n",
              "    <tr style=\"text-align: right;\">\n",
              "      <th></th>\n",
              "      <th>City</th>\n",
              "      <th>Population</th>\n",
              "    </tr>\n",
              "  </thead>\n",
              "  <tbody>\n",
              "    <tr>\n",
              "      <th>0</th>\n",
              "      <td>Glasgow</td>\n",
              "      <td>612040</td>\n",
              "    </tr>\n",
              "    <tr>\n",
              "      <th>1</th>\n",
              "      <td>Edinburgh</td>\n",
              "      <td>488050</td>\n",
              "    </tr>\n",
              "    <tr>\n",
              "      <th>2</th>\n",
              "      <td>Aberdeen</td>\n",
              "      <td>200680</td>\n",
              "    </tr>\n",
              "    <tr>\n",
              "      <th>3</th>\n",
              "      <td>Dundee</td>\n",
              "      <td>148280</td>\n",
              "    </tr>\n",
              "    <tr>\n",
              "      <th>4</th>\n",
              "      <td>Perth</td>\n",
              "      <td>47430</td>\n",
              "    </tr>\n",
              "    <tr>\n",
              "      <th>5</th>\n",
              "      <td>Inverness</td>\n",
              "      <td>47290</td>\n",
              "    </tr>\n",
              "    <tr>\n",
              "      <th>6</th>\n",
              "      <td>Stirling</td>\n",
              "      <td>37610</td>\n",
              "    </tr>\n",
              "  </tbody>\n",
              "</table>\n",
              "</div>"
            ],
            "text/plain": [
              "        City  Population\n",
              "0    Glasgow      612040\n",
              "1  Edinburgh      488050\n",
              "2   Aberdeen      200680\n",
              "3     Dundee      148280\n",
              "4      Perth       47430\n",
              "5  Inverness       47290\n",
              "6   Stirling       37610"
            ]
          },
          "execution_count": 2,
          "metadata": {},
          "output_type": "execute_result"
        }
      ],
      "source": [
        "# This cell is use dto create a dataframe to show how the final output should look like\n",
        "cities = ['Glasgow', 'Edinburgh', 'Aberdeen', 'Dundee', 'Perth', 'Inverness', 'Stirling']\n",
        "population = [612040, 488050, 200680, 148280, 47430, 47290, 37610]\n",
        "scotland = pd.DataFrame({'City':cities,'Population':population})\n",
        "scotland"
      ]
    },
    {
      "cell_type": "markdown",
      "metadata": {
        "id": "4bLcRH-AumYm"
      },
      "source": [
        "Another (more complicated option) is to scrap the data from each Wikipedia entry:\n",
        "     \n",
        "    https://en.wikipedia.org/wiki/Dundee\n",
        "    https://en.wikipedia.org/wiki/Edinburgh\n",
        "    https://en.wikipedia.org/wiki/Glasgow\n",
        "    https://en.wikipedia.org/wiki/Aberdeen\n",
        "    https://en.wikipedia.org/wiki/Perth,_Scotland\n",
        "    https://en.wikipedia.org/wiki/Inverness\n",
        "    https://en.wikipedia.org/wiki/Stirling"
      ]
    },
    {
      "cell_type": "code",
      "execution_count": null,
      "metadata": {
        "id": "4YyB_0K-umYn"
      },
      "outputs": [],
      "source": [
        "## Use this cell to show your answer"
      ]
    }
  ],
  "metadata": {
    "hide_input": false,
    "kernelspec": {
      "display_name": "Python 3",
      "language": "python",
      "name": "python3"
    },
    "language_info": {
      "codemirror_mode": {
        "name": "ipython",
        "version": 3
      },
      "file_extension": ".py",
      "mimetype": "text/x-python",
      "name": "python",
      "nbconvert_exporter": "python",
      "pygments_lexer": "ipython3",
      "version": "3.7.3"
    },
    "varInspector": {
      "cols": {
        "lenName": 16,
        "lenType": 16,
        "lenVar": 40
      },
      "kernels_config": {
        "python": {
          "delete_cmd_postfix": "",
          "delete_cmd_prefix": "del ",
          "library": "var_list.py",
          "varRefreshCmd": "print(var_dic_list())"
        },
        "r": {
          "delete_cmd_postfix": ") ",
          "delete_cmd_prefix": "rm(",
          "library": "var_list.r",
          "varRefreshCmd": "cat(var_dic_list()) "
        }
      },
      "position": {
        "height": "402.85px",
        "left": "1166px",
        "right": "20px",
        "top": "120px",
        "width": "350px"
      },
      "types_to_exclude": [
        "module",
        "function",
        "builtin_function_or_method",
        "instance",
        "_Feature"
      ],
      "window_display": false
    },
    "colab": {
      "name": "CMM202_T8_Lab.ipynb",
      "provenance": [],
      "include_colab_link": true
    }
  },
  "nbformat": 4,
  "nbformat_minor": 0
}