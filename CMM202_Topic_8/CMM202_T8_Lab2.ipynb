{
  "cells": [
    {
      "cell_type": "markdown",
      "metadata": {
        "id": "view-in-github",
        "colab_type": "text"
      },
      "source": [
        "<a href=\"https://colab.research.google.com/github/carlosfmorenog/CMM202/blob/master/CMM202_Topic_8/CMM202_T8_Lab2.ipynb\" target=\"_parent\"><img src=\"https://colab.research.google.com/assets/colab-badge.svg\" alt=\"Open In Colab\"/></a>"
      ]
    },
    {
      "cell_type": "markdown",
      "metadata": {
        "id": "y_Covhz0n3bP"
      },
      "source": [
        "# CMM202 Topic 8 Lab 2"
      ]
    },
    {
      "cell_type": "code",
      "execution_count": null,
      "metadata": {
        "id": "TwKYVG3Qn3bS"
      },
      "outputs": [],
      "source": [
        "# Install required packages\n",
        "!pip install requests\n",
        "!pip install bs4\n",
        "!pip install re"
      ]
    },
    {
      "cell_type": "code",
      "execution_count": null,
      "metadata": {
        "id": "GFbj1Kean3bW"
      },
      "outputs": [],
      "source": [
        "# Import necessary packages\n",
        "import requests # Get URLS\n",
        "from bs4 import BeautifulSoup # Web scrap\n",
        "import re # regular expressions"
      ]
    },
    {
      "cell_type": "markdown",
      "metadata": {
        "id": "S-qpzks8n3bY"
      },
      "source": [
        "For this challenge, you start with the example of how to scrape the list of Super Bowl Champions from Wikipedia"
      ]
    },
    {
      "cell_type": "code",
      "execution_count": null,
      "metadata": {
        "id": "aY_rDoU6n3bY"
      },
      "outputs": [],
      "source": [
        "url = 'https://en.wikipedia.org/wiki/List_of_Super_Bowl_champions'\n",
        "page = requests.get(url)\n",
        "print(page.text)"
      ]
    },
    {
      "cell_type": "code",
      "execution_count": null,
      "metadata": {
        "id": "lvBcDQ2tn3bZ"
      },
      "outputs": [],
      "source": [
        "# Use Beautiful Soup for html parsing and manipulation\n",
        "soup = BeautifulSoup(page.text, 'html.parser')\n",
        "print(soup.prettify())"
      ]
    },
    {
      "cell_type": "code",
      "execution_count": null,
      "metadata": {
        "id": "bfnjmPT0n3ba"
      },
      "outputs": [],
      "source": [
        "# Get all table contents\n",
        "# Browse through the tags using developer tools so you find the correct table\n",
        "# do not include in the name the jquery-sortable as that would need dynamic web scraping\n",
        "\n",
        "full_table = soup.find_all('table', class_='wikitable sortable')"
      ]
    },
    {
      "cell_type": "code",
      "execution_count": null,
      "metadata": {
        "id": "o7h_OXs5n3bb"
      },
      "outputs": [],
      "source": [
        "# Now get only the body of the table\n",
        "all_subtables =soup.find_all('tbody')\n",
        "data = all_subtables[1]\n",
        "data"
      ]
    },
    {
      "cell_type": "code",
      "execution_count": null,
      "metadata": {
        "id": "_IffVSwUn3bc"
      },
      "outputs": [],
      "source": [
        "# Now only get the winners\n",
        "# For every row we will find the <a> tags as the content we want is in such tags. \n",
        "# The result will be a list where each element list is a row. \n",
        "\n",
        "# Create placeholder for for loop results\n",
        "temporary = []\n",
        "\n",
        "for row in data.find_all('tr'):\n",
        "    cells = row.find_all('td') # Go to every cell of the row table, selected from tag <td>\n",
        "    contents = [text.find('a') for text in cells] #list comprehension syntax\n",
        "    temporary.append(contents)\n",
        "\n",
        "# Remove first element from list as it is empty\n",
        "del temporary[0]\n",
        "    \n",
        "# Print example\n",
        "temporary[3]\n",
        "\n",
        "# We want the third element of each list\n",
        "# Only the text which is enclosed between >*</a>"
      ]
    },
    {
      "cell_type": "code",
      "execution_count": null,
      "metadata": {
        "id": "HfQSMrbrn3bf"
      },
      "outputs": [],
      "source": [
        "# Now iterating and looping\n",
        "# We want the third element of each list, so in the second index we use 2 (remember python begins at 0)\n",
        "\n",
        "winners = []\n",
        "for i in range(len(temporary)-1): # Need to add -1 so Pyhton does not break with the indexes. \n",
        "    winner = temporary[i][2].get_text()\n",
        "    winners.append(winner)\n",
        "\n",
        "print(winners)\n",
        "    "
      ]
    },
    {
      "cell_type": "markdown",
      "metadata": {
        "id": "yCgW8NPCn3bh"
      },
      "source": [
        "Can you update the code to web scrap the capitals of India from the following table?\n",
        "\n",
        "https://en.wikipedia.org/wiki/List_of_state_and_union_territory_capitals_in_India"
      ]
    },
    {
      "cell_type": "code",
      "execution_count": null,
      "metadata": {
        "id": "_-fvhYc8n3bh"
      },
      "outputs": [],
      "source": [
        "## Your code here"
      ]
    }
  ],
  "metadata": {
    "hide_input": false,
    "kernelspec": {
      "display_name": "Python 3",
      "language": "python",
      "name": "python3"
    },
    "language_info": {
      "codemirror_mode": {
        "name": "ipython",
        "version": 3
      },
      "file_extension": ".py",
      "mimetype": "text/x-python",
      "name": "python",
      "nbconvert_exporter": "python",
      "pygments_lexer": "ipython3",
      "version": "3.7.3"
    },
    "varInspector": {
      "cols": {
        "lenName": 16,
        "lenType": 16,
        "lenVar": 40
      },
      "kernels_config": {
        "python": {
          "delete_cmd_postfix": "",
          "delete_cmd_prefix": "del ",
          "library": "var_list.py",
          "varRefreshCmd": "print(var_dic_list())"
        },
        "r": {
          "delete_cmd_postfix": ") ",
          "delete_cmd_prefix": "rm(",
          "library": "var_list.r",
          "varRefreshCmd": "cat(var_dic_list()) "
        }
      },
      "types_to_exclude": [
        "module",
        "function",
        "builtin_function_or_method",
        "instance",
        "_Feature"
      ],
      "window_display": false
    },
    "colab": {
      "name": "CMM202_T8_Lab2.ipynb",
      "provenance": [],
      "include_colab_link": true
    }
  },
  "nbformat": 4,
  "nbformat_minor": 0
}