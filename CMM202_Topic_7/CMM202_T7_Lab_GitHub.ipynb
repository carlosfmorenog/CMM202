{
  "cells": [
    {
      "cell_type": "markdown",
      "metadata": {
        "id": "view-in-github",
        "colab_type": "text"
      },
      "source": [
        "<a href=\"https://colab.research.google.com/github/carlosfmorenog/CMM202/blob/master/CMM202_Topic_7/CMM202_T7_Lab_GitHub.ipynb\" target=\"_parent\"><img src=\"https://colab.research.google.com/assets/colab-badge.svg\" alt=\"Open In Colab\"/></a>"
      ]
    },
    {
      "cell_type": "markdown",
      "metadata": {
        "id": "xBdZ-E2qC1R8"
      },
      "source": [
        "# CMM202 Topic 7: Running Maps"
      ]
    },
    {
      "cell_type": "markdown",
      "metadata": {
        "id": "Ah_w7lyXC1R-"
      },
      "source": [
        "## Mapbox"
      ]
    },
    {
      "cell_type": "markdown",
      "metadata": {
        "id": "fS_wV-0GC1SB"
      },
      "source": [
        "To use maps in Plotly and generate running maps, you need a **Mapbox** account!"
      ]
    },
    {
      "cell_type": "markdown",
      "metadata": {
        "id": "-DCWvNR3C1SB"
      },
      "source": [
        "You will need to:\n",
        "\n",
        "- Create a [mapbox.com](https://www.mapbox.com/) account\n",
        "- Copy your public token from [https://account.mapbox.com/](https://account.mapbox.com/) and paste the token into a new file called `mapbox.txt`\n",
        "- Upload the .txt file to the Google Colab notebook as we have done with other files"
      ]
    },
    {
      "cell_type": "markdown",
      "metadata": {
        "id": "HKt3Gu5mC1SD"
      },
      "source": [
        "By running the following cell (as seen in Topic 0), you will be able to upload the token to Google Colab:"
      ]
    },
    {
      "cell_type": "code",
      "source": [
        "## First run this cell to \"import\" image into the notebook's space\n",
        "from google.colab import files\n",
        "uploaded = files.upload()"
      ],
      "metadata": {
        "id": "RSl2V5KrDOJc"
      },
      "execution_count": null,
      "outputs": []
    },
    {
      "cell_type": "markdown",
      "source": [
        "Now you can import the necessary packages and the token"
      ],
      "metadata": {
        "id": "inmjqc5fDNuv"
      }
    },
    {
      "cell_type": "code",
      "execution_count": null,
      "metadata": {
        "id": "v71OK_J0C1SE"
      },
      "outputs": [],
      "source": [
        "# Importing the necessary modules\n",
        "import pandas as pd\n",
        "import plotly.express as px\n",
        "import plotly.graph_objects as go\n",
        "# Importing the token\n",
        "px.set_mapbox_access_token(open(\"/content/mapbox.txt\").read())"
      ]
    },
    {
      "cell_type": "markdown",
      "metadata": {
        "id": "0chZc38vC1SG"
      },
      "source": [
        "## Maps in Plotly Express"
      ]
    },
    {
      "cell_type": "markdown",
      "metadata": {
        "id": "VBGemCDWC1SG"
      },
      "source": [
        "We are going to start with a dataset of weather from stations in Canada"
      ]
    },
    {
      "cell_type": "markdown",
      "metadata": {
        "id": "4Xs5e2ZnC1SH"
      },
      "source": [
        "Compared to the one seen before, this one has latitude and longitude data!"
      ]
    },
    {
      "cell_type": "code",
      "execution_count": null,
      "metadata": {
        "scrolled": false,
        "id": "jrqmCxFWC1SJ"
      },
      "outputs": [],
      "source": [
        "canada = pd.read_csv('https://www.dropbox.com/s/edbw6j60vgcwr3c/canada-weather-2.csv?raw=1')\n",
        "canada"
      ]
    },
    {
      "cell_type": "markdown",
      "metadata": {
        "id": "JvkkyvD7C1SJ"
      },
      "source": [
        "Plotly express supports more than one type of map plot"
      ]
    },
    {
      "cell_type": "markdown",
      "metadata": {
        "id": "sC3eSuhsC1SK"
      },
      "source": [
        "In this lab we will cover `px.scatter_mapbox`, which creates running scatterplots in maps"
      ]
    },
    {
      "cell_type": "markdown",
      "metadata": {
        "id": "us6OZmHaC1SK"
      },
      "source": [
        "Here are some links to documentation for two more map types:\n",
        "\n",
        "- [px.choropleth](http://campusmoodle.rgu.ac.uk/mod/url/view.php?id=3529826)\n",
        "- [px.line_geo](http://campusmoodle.rgu.ac.uk/mod/url/view.php?id=3529827)"
      ]
    },
    {
      "cell_type": "markdown",
      "metadata": {
        "id": "9qknavVuC1SL"
      },
      "source": [
        "First, create a scatter map (the command works very similarly to scatter plots)"
      ]
    },
    {
      "cell_type": "code",
      "execution_count": null,
      "metadata": {
        "id": "FY1hx3PsC1SL"
      },
      "outputs": [],
      "source": [
        "# This should show a dot for every station in the dataset\n",
        "fig = px.scatter_mapbox(canada,\n",
        "                        lat=\"Latitude\",\n",
        "                        lon=\"Longitude\")\n",
        "fig.show()"
      ]
    },
    {
      "cell_type": "markdown",
      "metadata": {
        "id": "VDZx-6GeC1SL"
      },
      "source": [
        "Many of the sam arguments from scatter plots are enabled on a scatter map, such as `size`, `size_max`, and `title`"
      ]
    },
    {
      "cell_type": "code",
      "execution_count": null,
      "metadata": {
        "id": "vpAdoPIDC1SL"
      },
      "outputs": [],
      "source": [
        "# Now the size of each dot changes depending on the amount of precipitation in 2017\n",
        "fig = px.scatter_mapbox(canada[canada['Year'] == 2017],\n",
        "                        lat=\"Latitude\",\n",
        "                        lon=\"Longitude\",\n",
        "                        size='Total Precipitation (mm)',\n",
        "                        size_max=10,\n",
        "                        title='Rainfall Over Canada (2017)')\n",
        "fig.show()"
      ]
    },
    {
      "cell_type": "markdown",
      "metadata": {
        "id": "LarXqFuuC1SM"
      },
      "source": [
        "Maps also have a `zoom` options which allows us to set the zoom level in advance"
      ]
    },
    {
      "cell_type": "code",
      "execution_count": null,
      "metadata": {
        "id": "9pSb-MDDC1SN"
      },
      "outputs": [],
      "source": [
        "# A zoom value of 2 in theory allows you to see \"mainland\" Canada full\n",
        "# You may need to scroll up to see all stations\n",
        "fig = px.scatter_mapbox(canada[canada['Year'] == 2017],\n",
        "                        lat=\"Latitude\",\n",
        "                        lon=\"Longitude\",\n",
        "                        zoom=2,\n",
        "                        size='Total Precipitation (mm)',\n",
        "                        size_max=10,\n",
        "                        title='Rainfall Over Canada (2017)')\n",
        "fig.show()"
      ]
    },
    {
      "cell_type": "markdown",
      "metadata": {
        "id": "nx946k-PC1SN"
      },
      "source": [
        "We can add animations to maps in the same way as scatter plots"
      ]
    },
    {
      "cell_type": "code",
      "execution_count": null,
      "metadata": {
        "scrolled": false,
        "id": "nP8624nBC1SO"
      },
      "outputs": [],
      "source": [
        "fig = px.scatter_mapbox(canada,\n",
        "                        lat=\"Latitude\",\n",
        "                        lon=\"Longitude\",\n",
        "                        zoom=2,\n",
        "                        size='Total Precipitation (mm)',\n",
        "                        size_max=10,\n",
        "                        animation_frame='Year',\n",
        "                        animation_group='Station Name',\n",
        "                        title='Rainfall Over Canada')\n",
        "fig.show()"
      ]
    },
    {
      "cell_type": "markdown",
      "metadata": {
        "id": "PlkqIZLKC1SO"
      },
      "source": [
        "In the 70's, I see that two dots appear in Europe! \n",
        "\n",
        "- Can you figure out why by means of dataset manipulation?\n",
        "- Is there any easy way to filter these out or to warn the user about this issue?"
      ]
    }
  ],
  "metadata": {
    "hide_input": false,
    "kernelspec": {
      "display_name": "Python 3",
      "language": "python",
      "name": "python3"
    },
    "language_info": {
      "codemirror_mode": {
        "name": "ipython",
        "version": 3
      },
      "file_extension": ".py",
      "mimetype": "text/x-python",
      "name": "python",
      "nbconvert_exporter": "python",
      "pygments_lexer": "ipython3",
      "version": "3.7.3"
    },
    "varInspector": {
      "cols": {
        "lenName": 16,
        "lenType": 16,
        "lenVar": 40
      },
      "kernels_config": {
        "python": {
          "delete_cmd_postfix": "",
          "delete_cmd_prefix": "del ",
          "library": "var_list.py",
          "varRefreshCmd": "print(var_dic_list())"
        },
        "r": {
          "delete_cmd_postfix": ") ",
          "delete_cmd_prefix": "rm(",
          "library": "var_list.r",
          "varRefreshCmd": "cat(var_dic_list()) "
        }
      },
      "types_to_exclude": [
        "module",
        "function",
        "builtin_function_or_method",
        "instance",
        "_Feature"
      ],
      "window_display": false
    },
    "colab": {
      "name": "CMM202_T7_Lab.ipynb",
      "provenance": [],
      "collapsed_sections": [],
      "include_colab_link": true
    }
  },
  "nbformat": 4,
  "nbformat_minor": 0
}