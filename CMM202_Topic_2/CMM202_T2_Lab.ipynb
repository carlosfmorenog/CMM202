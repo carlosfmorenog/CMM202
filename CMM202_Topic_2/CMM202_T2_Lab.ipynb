{
  "cells": [
    {
      "cell_type": "markdown",
      "metadata": {
        "id": "view-in-github",
        "colab_type": "text"
      },
      "source": [
        "<a href=\"https://colab.research.google.com/github/carlosfmorenog/CMM202/blob/master/CMM202_Topic_2/CMM202_T2_Lab.ipynb\" target=\"_parent\"><img src=\"https://colab.research.google.com/assets/colab-badge.svg\" alt=\"Open In Colab\"/></a>"
      ]
    },
    {
      "cell_type": "markdown",
      "metadata": {
        "id": "sS7AgsmvizJR"
      },
      "source": [
        "# CMM202 Topic 2 Lab"
      ]
    },
    {
      "cell_type": "markdown",
      "metadata": {
        "id": "vlIGqZp9izJe"
      },
      "source": [
        "For this Lab, we will be importing the data set `films.csv` from a dropbox link:"
      ]
    },
    {
      "cell_type": "code",
      "execution_count": null,
      "metadata": {
        "id": "VgZKd90yizJk"
      },
      "outputs": [],
      "source": [
        "films = pd.read_csv('https://www.dropbox.com/s/dzejj5dws824cc2/films.csv?raw=1'\n",
        "                    ,index_col=0)"
      ]
    },
    {
      "cell_type": "markdown",
      "metadata": {
        "id": "VRGGEJWPizJ0"
      },
      "source": [
        "Use Pandas' `read_csv` function, specifying column $0$ as the index column. This column is the `imdb_id`, a unique identifier assigned by the Internet Movie Database (IMDB)"
      ]
    },
    {
      "cell_type": "markdown",
      "metadata": {
        "id": "xjL6XK_gizJ6"
      },
      "source": [
        "Store the dataframe into an appropriately named value, such as `films` or another name of your choice"
      ]
    },
    {
      "cell_type": "code",
      "execution_count": null,
      "metadata": {
        "id": "Zo7xgClcizKG"
      },
      "outputs": [],
      "source": [
        "# your code here"
      ]
    },
    {
      "cell_type": "markdown",
      "metadata": {
        "id": "aUaBttEXizKN"
      },
      "source": [
        "Use `head` to show the first $3$ rows"
      ]
    },
    {
      "cell_type": "code",
      "execution_count": null,
      "metadata": {
        "id": "TuS3wf19izKR"
      },
      "outputs": [],
      "source": [
        "# your code here"
      ]
    },
    {
      "cell_type": "markdown",
      "metadata": {
        "id": "pVvXO6P0izKU"
      },
      "source": [
        "You should see that the index of these rows is `tt0000417`, `tt0000439`, and `tt0006206`"
      ]
    },
    {
      "cell_type": "markdown",
      "metadata": {
        "id": "LeCmvtbgizKW"
      },
      "source": [
        "In this data set we will only be using a few columns:\n",
        "\n",
        "- `imdb_id` is the unique index of the film in the *Internet Movie DataBase*\n",
        "- `title` is the title of the film\n",
        "- `year` is the year the film was released\n",
        "- `imdb_votes` is the number of rating the film has received from users."
      ]
    },
    {
      "cell_type": "markdown",
      "metadata": {
        "id": "EYBmoD29izKY"
      },
      "source": [
        "Check that you get the same result by using `iloc` with a numerical range `0:3`"
      ]
    },
    {
      "cell_type": "code",
      "execution_count": null,
      "metadata": {
        "id": "HXsFL4h5izKa"
      },
      "outputs": [],
      "source": [
        "# your code here"
      ]
    },
    {
      "cell_type": "markdown",
      "metadata": {
        "id": "_FAIv3jPizKe"
      },
      "source": [
        "Use 'loc' with a range to retrieve the same three rows"
      ]
    },
    {
      "cell_type": "code",
      "execution_count": null,
      "metadata": {
        "id": "mD3_7a7mizKg"
      },
      "outputs": [],
      "source": [
        "# your code here"
      ]
    },
    {
      "cell_type": "markdown",
      "metadata": {
        "id": "f0r9MSeDizKi"
      },
      "source": [
        "Get a random sampling of $5$ films to display in the notebook"
      ]
    },
    {
      "cell_type": "code",
      "execution_count": null,
      "metadata": {
        "id": "Qt2L9Z51izKk"
      },
      "outputs": [],
      "source": [
        "# your code here"
      ]
    },
    {
      "cell_type": "markdown",
      "metadata": {
        "id": "kPttECDHizKl"
      },
      "source": [
        "Re-run the cell a few times to check that it is randomly choosing each time"
      ]
    },
    {
      "cell_type": "markdown",
      "metadata": {
        "id": "oHAyvVQcizKo"
      },
      "source": [
        "**Q. Which film has the index `tt0435761`?**"
      ]
    },
    {
      "cell_type": "code",
      "execution_count": null,
      "metadata": {
        "id": "w1dh3NjaizKq"
      },
      "outputs": [],
      "source": [
        "# your code here"
      ]
    },
    {
      "cell_type": "raw",
      "metadata": {
        "id": "8vbBeaUPizKr"
      },
      "source": [
        "Answer:"
      ]
    },
    {
      "cell_type": "markdown",
      "metadata": {
        "id": "TL9MUGzkizKr"
      },
      "source": [
        "Display a `DataFrame` containing only films `tt0015361` and `tt0059817`"
      ]
    },
    {
      "cell_type": "code",
      "execution_count": null,
      "metadata": {
        "id": "_w3KeHS6izKt"
      },
      "outputs": [],
      "source": [
        "# your code here"
      ]
    },
    {
      "cell_type": "markdown",
      "metadata": {
        "id": "-BwhIQf8izKu"
      },
      "source": [
        "**Q. Which two films are these?**"
      ]
    },
    {
      "cell_type": "raw",
      "metadata": {
        "id": "kPaxyJFIizKw"
      },
      "source": [
        "Answer:"
      ]
    },
    {
      "cell_type": "markdown",
      "metadata": {
        "id": "yX1hztbjizKy"
      },
      "source": [
        "Using `iloc`, display a dataframe containing only rows indexed `57`, `79`, and `190`"
      ]
    },
    {
      "cell_type": "code",
      "execution_count": null,
      "metadata": {
        "id": "X2XzTL98izKz"
      },
      "outputs": [],
      "source": [
        "# your code here"
      ]
    },
    {
      "cell_type": "markdown",
      "metadata": {
        "id": "whcWY9VeizK1"
      },
      "source": [
        "Using `loc`, display the same three films"
      ]
    },
    {
      "cell_type": "code",
      "execution_count": null,
      "metadata": {
        "id": "bh1LVU-IizK4"
      },
      "outputs": [],
      "source": [
        "# your code here"
      ]
    },
    {
      "cell_type": "markdown",
      "metadata": {
        "id": "nk-triM-izK6"
      },
      "source": [
        "Create a dataframe containing all films in the data set where the `year` is $2000$ or later"
      ]
    },
    {
      "cell_type": "markdown",
      "metadata": {
        "id": "5huIuLEmizK8"
      },
      "source": [
        "Store this new dataset in a new variable called `films2k`"
      ]
    },
    {
      "cell_type": "code",
      "execution_count": null,
      "metadata": {
        "id": "Nt2qH-obizK8"
      },
      "outputs": [],
      "source": [
        "# your code here"
      ]
    },
    {
      "cell_type": "markdown",
      "metadata": {
        "id": "q9QuqAWeizK-"
      },
      "source": [
        "**Q. How many films from this dataset are from $2000$ or later?**"
      ]
    },
    {
      "cell_type": "code",
      "execution_count": null,
      "metadata": {
        "id": "HeD2T-mRizK_"
      },
      "outputs": [],
      "source": [
        "# your code here"
      ]
    },
    {
      "cell_type": "raw",
      "metadata": {
        "id": "q_piH9knizLB"
      },
      "source": [
        "Answer:"
      ]
    },
    {
      "cell_type": "markdown",
      "metadata": {
        "id": "isuoLMUjizLC"
      },
      "source": [
        "**Q. What is the median $50\\%$ `runtime` of the films in the dataset from the year $2000$ onwards?**"
      ]
    },
    {
      "cell_type": "markdown",
      "metadata": {
        "id": "w1ZCVsKXizLD"
      },
      "source": [
        "Hint: you can use the `describe` function to see the statistics of a dataframe"
      ]
    },
    {
      "cell_type": "code",
      "execution_count": null,
      "metadata": {
        "id": "7Nidl45FizLE"
      },
      "outputs": [],
      "source": [
        "# your code here"
      ]
    },
    {
      "cell_type": "raw",
      "metadata": {
        "id": "qRtzUZkqizLG"
      },
      "source": [
        "Answer:"
      ]
    },
    {
      "cell_type": "markdown",
      "metadata": {
        "id": "2ND-073_izLH"
      },
      "source": [
        "**Q. What is the median `runtime` for films between the years $1990$ and $1999$ in the films dataset?**"
      ]
    },
    {
      "cell_type": "code",
      "execution_count": null,
      "metadata": {
        "id": "JsfhB_4QizLI"
      },
      "outputs": [],
      "source": [
        "# your code here"
      ]
    },
    {
      "cell_type": "raw",
      "metadata": {
        "id": "ZGPJUw2kizLL"
      },
      "source": [
        "Answer:"
      ]
    },
    {
      "cell_type": "markdown",
      "metadata": {
        "id": "1txy8bd5izLM"
      },
      "source": [
        "Create a dataframe of 90's films, sorted by `title`, in the variable `films90s_sorted`."
      ]
    },
    {
      "cell_type": "code",
      "execution_count": null,
      "metadata": {
        "id": "PfrHMHP8izLN"
      },
      "outputs": [],
      "source": [
        "# your code here"
      ]
    },
    {
      "cell_type": "markdown",
      "metadata": {
        "id": "IXtmOPoxizLP"
      },
      "source": [
        "Display the first $5$ items in `films90s_sorted`"
      ]
    },
    {
      "cell_type": "code",
      "execution_count": null,
      "metadata": {
        "id": "O1vteJx5izLP"
      },
      "outputs": [],
      "source": [
        "# your code here"
      ]
    },
    {
      "cell_type": "markdown",
      "metadata": {
        "id": "vodsm9R7izLR"
      },
      "source": [
        "Show the 90's films sorted in **descending** order by `imbd_votes`, displaying only the first $10$"
      ]
    },
    {
      "cell_type": "code",
      "execution_count": null,
      "metadata": {
        "id": "JM5szokXizLU"
      },
      "outputs": [],
      "source": [
        "# your code here"
      ]
    },
    {
      "cell_type": "markdown",
      "metadata": {
        "id": "iZhscBi0izLV"
      },
      "source": [
        "You should see that the most voted film (The Shawshank Redemption) has $1711064$ votes"
      ]
    },
    {
      "cell_type": "markdown",
      "metadata": {
        "id": "DsOsflxnizLW"
      },
      "source": [
        "**Q. Which 90's film received the second-most votes?**"
      ]
    },
    {
      "cell_type": "code",
      "execution_count": null,
      "metadata": {
        "id": "sm4vsUyvizLX"
      },
      "outputs": [],
      "source": [
        "# your code here"
      ]
    },
    {
      "cell_type": "raw",
      "metadata": {
        "id": "_2UPwemrizLZ"
      },
      "source": [
        "Answer:"
      ]
    },
    {
      "cell_type": "markdown",
      "metadata": {
        "id": "pXokquBhizLa"
      },
      "source": [
        "**Q. Which 90's film received the twentieth-most votes?**"
      ]
    },
    {
      "cell_type": "code",
      "execution_count": null,
      "metadata": {
        "id": "fT9zniFGizLa"
      },
      "outputs": [],
      "source": [
        "# your code here"
      ]
    },
    {
      "cell_type": "raw",
      "metadata": {
        "id": "C6pV5D3hizLc"
      },
      "source": [
        "Answer:"
      ]
    }
  ],
  "metadata": {
    "hide_input": false,
    "kernelspec": {
      "display_name": "Python 3",
      "language": "python",
      "name": "python3"
    },
    "language_info": {
      "codemirror_mode": {
        "name": "ipython",
        "version": 3
      },
      "file_extension": ".py",
      "mimetype": "text/x-python",
      "name": "python",
      "nbconvert_exporter": "python",
      "pygments_lexer": "ipython3",
      "version": "3.7.3"
    },
    "varInspector": {
      "cols": {
        "lenName": 16,
        "lenType": 16,
        "lenVar": 40
      },
      "kernels_config": {
        "python": {
          "delete_cmd_postfix": "",
          "delete_cmd_prefix": "del ",
          "library": "var_list.py",
          "varRefreshCmd": "print(var_dic_list())"
        },
        "r": {
          "delete_cmd_postfix": ") ",
          "delete_cmd_prefix": "rm(",
          "library": "var_list.r",
          "varRefreshCmd": "cat(var_dic_list()) "
        }
      },
      "position": {
        "height": "402.85px",
        "left": "1166px",
        "right": "20px",
        "top": "120px",
        "width": "350px"
      },
      "types_to_exclude": [
        "module",
        "function",
        "builtin_function_or_method",
        "instance",
        "_Feature"
      ],
      "window_display": false
    },
    "colab": {
      "name": "CMM202_T2_Lab.ipynb",
      "provenance": [],
      "include_colab_link": true
    }
  },
  "nbformat": 4,
  "nbformat_minor": 0
}