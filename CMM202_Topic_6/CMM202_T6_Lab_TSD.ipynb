{
  "cells": [
    {
      "cell_type": "markdown",
      "metadata": {
        "id": "view-in-github",
        "colab_type": "text"
      },
      "source": [
        "<a href=\"https://colab.research.google.com/github/carlosfmorenog/CMM202/blob/master/CMM202_Topic_6/CMM202_T6_Lab_TSD.ipynb\" target=\"_parent\"><img src=\"https://colab.research.google.com/assets/colab-badge.svg\" alt=\"Open In Colab\"/></a>"
      ]
    },
    {
      "cell_type": "markdown",
      "metadata": {
        "id": "FcXfQzVby0P3"
      },
      "source": [
        "# CMM202 Topic 6 Lab Part 1: TSD"
      ]
    },
    {
      "cell_type": "code",
      "execution_count": null,
      "metadata": {
        "id": "PPTRSsiFy0P8"
      },
      "outputs": [],
      "source": [
        "import pandas as pd\n",
        "import numpy as np"
      ]
    },
    {
      "cell_type": "markdown",
      "metadata": {
        "id": "ClzXr6uHy0QB"
      },
      "source": [
        "Load the `ether.csv` data set into the variable `ether`\n",
        "    \n",
        "- https://www.dropbox.com/s/n5r4ot7f3c73byz/ether.csv?raw=1"
      ]
    },
    {
      "cell_type": "markdown",
      "metadata": {
        "id": "58GwlLqNy0QE"
      },
      "source": [
        "Use column `0` (`'Date'`) as the index, and parse this column as a date"
      ]
    },
    {
      "cell_type": "code",
      "execution_count": null,
      "metadata": {
        "id": "OusMCyFdy0QH"
      },
      "outputs": [],
      "source": [
        "# Your code here"
      ]
    },
    {
      "cell_type": "markdown",
      "metadata": {
        "id": "KML7AFQry0QJ"
      },
      "source": [
        "Check that the index column is a data type (i.e. `Timestamp`), and not a string"
      ]
    },
    {
      "cell_type": "code",
      "execution_count": null,
      "metadata": {
        "id": "zeKOWOcAy0QL"
      },
      "outputs": [],
      "source": [
        "# Your code here"
      ]
    },
    {
      "cell_type": "markdown",
      "metadata": {
        "id": "C2QKcWnty0QN"
      },
      "source": [
        "The data in this dataset is sorted descending by date"
      ]
    },
    {
      "cell_type": "markdown",
      "metadata": {
        "id": "fqqaFbBKy0QP"
      },
      "source": [
        "Re-sort the data ascending by index"
      ]
    },
    {
      "cell_type": "markdown",
      "metadata": {
        "id": "Co3wVFvey0QR"
      },
      "source": [
        "**Q. When did this data set begin?**"
      ]
    },
    {
      "cell_type": "code",
      "execution_count": null,
      "metadata": {
        "id": "hQT4VfiPy0QS"
      },
      "outputs": [],
      "source": [
        "# Your code here"
      ]
    },
    {
      "cell_type": "markdown",
      "metadata": {
        "id": "bmQKzd0Zy0QU"
      },
      "source": [
        "Answer:"
      ]
    },
    {
      "cell_type": "markdown",
      "metadata": {
        "id": "bYFQGhory0QV"
      },
      "source": [
        "The data set contains the following columns:\n",
        "\n",
        "Price Data:\n",
        "\n",
        "- Open - The price of the commodity *(ether)* at the **start** of the time period *(minute)*\n",
        "- High - The **highest** value the price reached during the time period\n",
        "- Low - The **lowest** value the price reached during the time period\n",
        "- Close - The price at the **end** of the time period\n",
        "\n",
        "Trade Data:\n",
        "\n",
        "- Volume - The total amount of the commodity bought/sold in the time period"
      ]
    },
    {
      "cell_type": "markdown",
      "metadata": {
        "id": "3XkHEJsKy0QY"
      },
      "source": [
        "Re-sample the data on a *daily* basis (`'1D'`) into a variable called `daily_ether`"
      ]
    },
    {
      "cell_type": "markdown",
      "metadata": {
        "id": "v4MckTozy0QZ"
      },
      "source": [
        "Apply the following aggregation functions:"
      ]
    },
    {
      "cell_type": "markdown",
      "metadata": {
        "id": "n0nWu4wly0QZ"
      },
      "source": [
        "| Column | Aggregation Function |\n",
        "| :----- | :------------------- |\n",
        "| Open   | `lambda x: x[0]`     |\n",
        "| High   | `np.max`             |\n",
        "| Low    | `np.min.`            |\n",
        "| Close  | `lambda x: x[-1]`    |\n",
        "| Volume | `np.sum`             |"
      ]
    },
    {
      "cell_type": "code",
      "execution_count": null,
      "metadata": {
        "id": "9no6jknYy0Qb"
      },
      "outputs": [],
      "source": [
        "# Your code here"
      ]
    },
    {
      "cell_type": "markdown",
      "metadata": {
        "id": "7xfJoUo-y0Qc"
      },
      "source": [
        "Check that the `Close` price is the same as the `Open` price for the next week"
      ]
    },
    {
      "cell_type": "markdown",
      "metadata": {
        "id": "s9quXx5Ey0Qd"
      },
      "source": [
        "Calculate the price half way between the `Low` and `High` for each day and store the result in a column named `Ether (ETH)`"
      ]
    },
    {
      "cell_type": "code",
      "execution_count": null,
      "metadata": {
        "id": "-5eHGSxHy0Qe"
      },
      "outputs": [],
      "source": [
        "# Your code here"
      ]
    },
    {
      "cell_type": "markdown",
      "metadata": {
        "id": "Nde9SDWvy0Qf"
      },
      "source": [
        "Remove all columns other than `Ether (ETH)`"
      ]
    },
    {
      "cell_type": "markdown",
      "metadata": {
        "id": "HybI3jiXy0Qg"
      },
      "source": [
        "Filter the data to include only data from December of 2017"
      ]
    },
    {
      "cell_type": "markdown",
      "metadata": {
        "id": "psu4_xKOy0Qg"
      },
      "source": [
        "You should have **31 row $\\times$ 1 column** (plus the `Date` index)"
      ]
    },
    {
      "cell_type": "markdown",
      "metadata": {
        "id": "H30mOu-Yy0Qh"
      },
      "source": [
        "Round the `Ether (ETH)` column to 2 decimal places"
      ]
    },
    {
      "cell_type": "code",
      "execution_count": null,
      "metadata": {
        "id": "520Byv4zy0Qi"
      },
      "outputs": [],
      "source": [
        "# Your code here"
      ]
    },
    {
      "cell_type": "markdown",
      "metadata": {
        "id": "F1NRphRty0Qj"
      },
      "source": [
        "Load the data set `bitcoin_dec.csv` as `daily_bitcoin` (the first column is the index)\n",
        "\n",
        "- https://www.dropbox.com/s/efq5od9q7d4yg1l/bitcoin_dec.csv?raw=1"
      ]
    },
    {
      "cell_type": "code",
      "execution_count": null,
      "metadata": {
        "id": "dUWny9Uiy0Qj"
      },
      "outputs": [],
      "source": [
        "# Your code here"
      ]
    },
    {
      "cell_type": "markdown",
      "metadata": {
        "id": "yurxeJJ6y0Qk"
      },
      "source": [
        "Join the two data sets to get a comparison of Ether (ETH) and Bitcoin (BTC) prices in December of 2017"
      ]
    },
    {
      "cell_type": "markdown",
      "metadata": {
        "id": "vczs66P0y0Ql"
      },
      "source": [
        "Reset the index, so that the index become a named column"
      ]
    },
    {
      "cell_type": "markdown",
      "metadata": {
        "id": "Q4VzMAyKy0Qm"
      },
      "source": [
        "Store the result as the variable `december`"
      ]
    },
    {
      "cell_type": "markdown",
      "metadata": {
        "id": "jBNQQ28Xy0Qn"
      },
      "source": [
        "Here are the first few rows:\n",
        "\n",
        "|       |       Date | Bitcoin (BTC) | Ether (ETH) |\n",
        "| ----: | ---------: | ------------: | ----------: |\n",
        "| **0** | 2017-12-01 |      10165.01 |      445.00 |\n",
        "| **1** | 2017-12-02 |      10950.00 |      463.08 |\n",
        "| **2** | 2017-12-03 |      11185.08 |      466.75 |"
      ]
    },
    {
      "cell_type": "code",
      "execution_count": null,
      "metadata": {
        "id": "BgNMxeu5y0Qo"
      },
      "outputs": [],
      "source": [
        "# Your code here"
      ]
    },
    {
      "cell_type": "markdown",
      "metadata": {
        "id": "IfrXg8RTy0Qp"
      },
      "source": [
        "Melt the data set to long format"
      ]
    },
    {
      "cell_type": "markdown",
      "metadata": {
        "id": "g0Fb1Tlry0Qp"
      },
      "source": [
        "The entity IDs are in the `Date` column"
      ]
    },
    {
      "cell_type": "markdown",
      "metadata": {
        "id": "sd6DwcAWy0Qq"
      },
      "source": [
        "Set the var name to `'Commodity'` and value name to `'Price (USD)'`"
      ]
    },
    {
      "cell_type": "markdown",
      "metadata": {
        "id": "fGGrdv0Ky0Qr"
      },
      "source": [
        "You should have **62 rows $\\times$ 3 columns**"
      ]
    },
    {
      "cell_type": "code",
      "execution_count": null,
      "metadata": {
        "id": "0Ni85To3y0Qs"
      },
      "outputs": [],
      "source": [
        "# Your code here"
      ]
    },
    {
      "cell_type": "markdown",
      "metadata": {
        "id": "6dq9nGCTy0Qt"
      },
      "source": [
        "The code below will generate a semi-log plot of the price of Bitcoin and Ether in December 2017"
      ]
    },
    {
      "cell_type": "code",
      "execution_count": null,
      "metadata": {
        "id": "fkg15TSLy0Qt"
      },
      "outputs": [],
      "source": [
        "import plotly.express as px\n",
        "fig = px.line(december, x='Date', y='Price (USD)', color='Commodity', log_y=True)\n",
        "fig.show()"
      ]
    }
  ],
  "metadata": {
    "hide_input": false,
    "kernelspec": {
      "display_name": "Python 3",
      "language": "python",
      "name": "python3"
    },
    "language_info": {
      "codemirror_mode": {
        "name": "ipython",
        "version": 3
      },
      "file_extension": ".py",
      "mimetype": "text/x-python",
      "name": "python",
      "nbconvert_exporter": "python",
      "pygments_lexer": "ipython3",
      "version": "3.7.3"
    },
    "varInspector": {
      "cols": {
        "lenName": 16,
        "lenType": 16,
        "lenVar": 40
      },
      "kernels_config": {
        "python": {
          "delete_cmd_postfix": "",
          "delete_cmd_prefix": "del ",
          "library": "var_list.py",
          "varRefreshCmd": "print(var_dic_list())"
        },
        "r": {
          "delete_cmd_postfix": ") ",
          "delete_cmd_prefix": "rm(",
          "library": "var_list.r",
          "varRefreshCmd": "cat(var_dic_list()) "
        }
      },
      "types_to_exclude": [
        "module",
        "function",
        "builtin_function_or_method",
        "instance",
        "_Feature"
      ],
      "window_display": false
    },
    "colab": {
      "name": "CMM202_T6_Lab_TSD.ipynb",
      "provenance": [],
      "include_colab_link": true
    }
  },
  "nbformat": 4,
  "nbformat_minor": 0
}